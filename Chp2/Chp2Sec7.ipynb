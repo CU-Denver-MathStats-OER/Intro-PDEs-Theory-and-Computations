{
 "cells": [
  {
   "cell_type": "markdown",
   "id": "db48b8d5-ceec-46c2-8fcf-7ff82f3ca333",
   "metadata": {},
   "source": [
    "# Introduction to Partial Differential Equations\n",
    "---"
   ]
  },
  {
   "cell_type": "markdown",
   "id": "a980e00e-59a0-4d5f-8af0-e1cd5f3570c7",
   "metadata": {},
   "source": [
    "## Section 2.7: Exercises\n",
    "---"
   ]
  },
  {
   "cell_type": "code",
   "execution_count": null,
   "id": "12fbc9bb-f056-4c06-8bfc-e762e5160671",
   "metadata": {},
   "outputs": [],
   "source": [
    "# import libraries/useful content here"
   ]
  },
  {
   "cell_type": "markdown",
   "id": "262b222b-ebc2-4246-883c-b4464dc7f917",
   "metadata": {},
   "source": [
    "**Suggested homework assignments.**\n",
    "\n",
    "- First chapter 2 assignment: Sub-select from Exercises 2.5.1 through 2.5.4(A and B). Focus is on Section 2.1.\n",
    "\n",
    "- Second chapter 2 assignment: Sub-select from Exercises 2.5.5 through 2.5.7. Focus is on Sections 2.2 and 2.3.\n",
    "\n",
    "- Third chapter 2 assignment: Sub-select from Exercises 2.5.8 and 2.5.9. Focus is on Section 2.5.\n",
    "\n",
    "Still need to create exercises for Sections 2.4 and 2.6."
   ]
  },
  {
   "cell_type": "markdown",
   "id": "9edcf988-2857-408b-8ecb-dea24dd55412",
   "metadata": {},
   "source": [
    "---\n",
    "### Exercise 2.5.1\n",
    "---\n",
    "\n",
    "Consider the following two-point BVP with mixed BCs:\n",
    "\n",
    "$$\n",
    "    -u''(x) = f(x), \\ x\\in(a,b), \\ u(a)=0, \\ u'(b) = 0.\n",
    "$$\n",
    "\n",
    "1. Show that if $u_1$ and $u_2$ solve this 2-pt BVP and $e=u_1-u_2$, then $e\\equiv 0$ on $(a,b)$. Conclude that the solutions to this problem, if they exist, are unique. *This is easier than you may initially think. Consider what problem $e$ solves and what you know about what types of functions have zero as their derivative.*\n",
    "\n",
    "2. Create a Python class called `Solve2ptBVPDirchletNeumann` based on the `Solve2ptBVPDirichlet` class from [Section 2.1](Chp2Sec1.ipynb) that determines a Green's function for this problem. Use a Markdown cell to summarize the changes required to this class. *Very few lines of code need to change. The whole purpose of this problem is to get you to think about what the purpose is for each line of code in the original class. Once you identify the lines of code to change, it should only take a few minutes to do things correctly. But, it may take you a while to see which lines of code need to change. This is a common issue in scientific computing where we spend hours understanding code so that we can spend one minute updating it to do what we want.*\n",
    "\n",
    "3. Use a Markdown cell to manufacture solutions for various choices of $a$ and $b$ and $f$ and then demonstrate that instantiations of your class can produce these solutions."
   ]
  },
  {
   "cell_type": "code",
   "execution_count": null,
   "id": "ff6c0d46-4e71-4ee7-97ce-df5c51bade13",
   "metadata": {},
   "outputs": [],
   "source": []
  },
  {
   "cell_type": "code",
   "execution_count": null,
   "id": "f3873242-44d2-4cbe-a2d0-c1cc93ab842a",
   "metadata": {},
   "outputs": [],
   "source": []
  },
  {
   "cell_type": "code",
   "execution_count": null,
   "id": "e8230ba7-8629-41a5-984c-648075d87a8c",
   "metadata": {},
   "outputs": [],
   "source": []
  },
  {
   "cell_type": "markdown",
   "id": "f6056e82-00e4-4324-b36c-03628cdb2d96",
   "metadata": {},
   "source": [
    "---\n",
    "### Exercise 2.5.2 (Undergraduates do parts 1-3)\n",
    "---\n",
    "\n",
    "Consider the following *non-homogeneous* two-point BVP:\n",
    "\n",
    "$$\n",
    "    -u''(x) = f(x), \\ x\\in(a,b), \\ u(a)=\\alpha, \\ u(b)=\\beta,\n",
    "$$\n",
    "\n",
    "where $\\alpha$ and $\\beta$ are given real numbers.\n",
    "\n",
    "1. Show that the line connecting the points $(a, \\alpha)$ and $(b, \\beta)$ defined by $\\ell(x):=\\dfrac{b-x}{b-a}\\alpha + \\dfrac{x-a}{b-a}\\beta$ solves the BVP:\n",
    "\n",
    "$$\n",
    "    -\\ell''(x)=0, \\ x\\in(a,b), \\ \\ell(a)=\\alpha, \\ \\ell(b) = \\beta.\n",
    "$$\n",
    "\n",
    "2. Show that if $w$ solves the *homogeneous* BVP:\n",
    "<br><br>\n",
    "$$\n",
    "    -w''(x) = f(x), \\ x\\in (a,b), \\ w(a)=0, \\ w(b) = 0, \n",
    "$$\n",
    "<br><br>\n",
    "   then $u=w+\\ell$ solves the non-homogeneous two-point BVP considered in this problem.\n",
    "\n",
    "3. Show that if $u$ is a solution to the non-homogeneous two-point BVP considered in this problem, then it is the unique solution.\n",
    "   \n",
    "4. Use 1 and 2 to develop a Python `class` of solvers named `Solve2ptBVPDirichletNonHomogeneous` based on the `Solve2ptBVPDirichlet` class seen in [Section 2.1](Chp2Sec1.ipynb). There are a few ways to do this.\n",
    "\n",
    "5. Use a Markdown cell to manufacture solutions for various choices of $a$ and $b$, at least one choice of nonzero $\\alpha$ and $\\beta$, and at least one nonzero $f$ and then demonstrate that instantiations of your class can produce these solutions."
   ]
  },
  {
   "cell_type": "code",
   "execution_count": null,
   "id": "156ac91b-0d6c-4aa2-bb3b-ec80fefdcd62",
   "metadata": {},
   "outputs": [],
   "source": []
  },
  {
   "cell_type": "code",
   "execution_count": null,
   "id": "743342dd-53e3-4e9b-98eb-6419ccb9ddb4",
   "metadata": {},
   "outputs": [],
   "source": []
  },
  {
   "cell_type": "code",
   "execution_count": null,
   "id": "f511025c-1e75-4387-8e8b-d1169ea29400",
   "metadata": {},
   "outputs": [],
   "source": []
  },
  {
   "cell_type": "markdown",
   "id": "2a79b0b5-88d1-43fc-b712-eaefbc7f4a3a",
   "metadata": {},
   "source": [
    "---\n",
    "### Exercise 2.5.3\n",
    "---\n",
    "\n",
    "Re-do Section 2.1.4 with smooth periodic boundary conditions instead of Neumann boundary conditions, i.e., the new boundary conditions should be $u'(a)=u'(b)$ *and* $u(a)=u(b)$. "
   ]
  },
  {
   "cell_type": "code",
   "execution_count": null,
   "id": "b9b56588-b957-4b55-b61b-03dfd2ff63c5",
   "metadata": {},
   "outputs": [],
   "source": []
  },
  {
   "cell_type": "code",
   "execution_count": null,
   "id": "ac78a8be-0947-42ad-9004-e9a1cbc47ef3",
   "metadata": {},
   "outputs": [],
   "source": []
  },
  {
   "cell_type": "code",
   "execution_count": null,
   "id": "40301fbe-2d6b-4636-ad6c-a7faae549d27",
   "metadata": {},
   "outputs": [],
   "source": []
  },
  {
   "cell_type": "markdown",
   "id": "f4b8225c-9f45-4c29-a77a-d0af2db38ed6",
   "metadata": {},
   "source": [
    "---\n",
    "### Exercise 2.5.4A\n",
    "---\n",
    "\n",
    "In this first part of Exercise 2.5.4 (labeled 2.5.4A), we consider the two-point BVP \n",
    "\n",
    "$$\n",
    "\\large -u'' = f, \\ x\\in (a,b), \\ u(a)=0=u(b).\n",
    "$$\n",
    "\n",
    "- Suppose $f(x)=F(x)+\\epsilon(x)$ where $F$ is the *exact* data and $f$ is the *measured* data with noise described by $\\epsilon(x)$. \n",
    "\n",
    "- Let $u$ and $U$ be the solutions with respect to the data $f$ and $F$, respectively. \n",
    "\n",
    "- Let $v:=U-u$.\n",
    "\n",
    "1. Show that $v$ solves the BVP with the data given by $F-f$ and that \n",
    "<br><br>\n",
    "$$\n",
    "    \\|v\\|_\\infty =\\|U-u\\|_\\infty \\leq (1/8)\\|F-f\\|_\\infty.\n",
    "$$\n",
    "<br><br>\n",
    "   Conclude that solutions to the two-point BVP are *stable* with respect to perturbations in the data.\n",
    "\n",
    "2. Numerically demonstrate this stability result for various polynomial $F$ where $f(x)$ is approximated from noisy data of $F$ via regression. Generate the noisy data using [`numpy.random.normal`](https://numpy.org/doc/stable/reference/random/generated/numpy.random.normal.html#numpy.random.normal). Try this with different levels of noise (e.g., by adjusting the `scale` parameter) and with different amounts of data (e.g., using 10, 100, or 1000 noisy measurements). \n",
    "\n",
    "3. What happens if you adjust the polynomial order used for $f$ in relation to $F$ and what happens if you add a bias (i.e., adjust the `loc` parameter) in the noise? Demonstrate numerically and comment in Markdown cells.\n",
    "\n",
    "4. What would you do if $F$ were not a polynomial? In other words, how would you approximate an unknown *type* of function from noisy data in some flexible and robust manner? No need to actually do it, but try researching the question and comment on what you find or think is reasonable. Provide links to resources/ideas if possible along with your own commentary."
   ]
  },
  {
   "cell_type": "code",
   "execution_count": null,
   "id": "4ea6b585-6937-4c2c-a0a9-be8f019e37ae",
   "metadata": {},
   "outputs": [],
   "source": []
  },
  {
   "cell_type": "code",
   "execution_count": null,
   "id": "8635c121-1641-4a9d-bc65-820249982b0c",
   "metadata": {},
   "outputs": [],
   "source": []
  },
  {
   "cell_type": "code",
   "execution_count": null,
   "id": "b9c63ee9-8c39-4c83-a35d-85fa0249f558",
   "metadata": {},
   "outputs": [],
   "source": []
  },
  {
   "cell_type": "markdown",
   "id": "f24a2ab2-2c59-41e8-921a-d34747ea3281",
   "metadata": {},
   "source": [
    "---\n",
    "### Exercise 2.5.4B (Graduate students only)\n",
    "---\n",
    "\n",
    "In this second part of Exercise 2.5.4 (labeled 2.5.4B), we consider the same 2-point BVP as in 2.5.4A above. \n",
    "\n",
    "Recall that for this 2-point BVP that we have a Green's function as shown in [Section 2.1](Chp2Sec.ipynb). \n",
    "\n",
    "However, to use this to *exactly* solve the BVP fundamentally requires two things:\n",
    "\n",
    "i. We know $f$ *exactly*, and\n",
    "\n",
    "ii. The integrals involving $G(x,y)f(y)$ (from $a$ to $x$ and from $x$ to $b$ with respect to $y$) can be determined *exactly*.\n",
    "\n",
    "As we discuss above in 2.5.4A, this may not be possible. We may only know or be able to approximate $f$ at a finite number of points. Furthermore, even if we know $f$ exactly, this is no guarantee that integrals can be computed exactly since there are many functions for which we do not know the antiderivative. \n",
    "\n",
    "In these cases, we turn to numerical integration, which is the focus of this problem.\n",
    "\n",
    "The [trapezoidal rule](https://en.wikipedia.org/wiki/Trapezoidal_rule) approximates the *area under the curve of $F(x)$ from $x=a$ to $x=b$* by creating a linear approximation to $F(x)$ using interpolation of the endpoint values $F(b)$ and $F(a)$ and then integrating the linear function *exactly* as illustrated below.\n",
    "\n",
    "<span style=\"display:block;text-align:center\"> ![Trapezoidal Rule](https://upload.wikimedia.org/wikipedia/commons/7/7e/Trapezium2.gif \"Trapezoidal rule refinements\")</span>\n",
    "\n",
    "When $F>0$, then it is clear that this exact integral is simply describing the area of a trapezoid with \"height\" given by $b-a$ and \"bases\" of length $F(a)$ and $F(b)$. \n",
    "\n",
    "Suppose we partition $[a,b]$ into $n+1$ subintervals \n",
    "$$\n",
    "    \\Big\\{ [x_i,x_{i+1}] \\Big\\}_{i=0}^n\n",
    "$$\n",
    "where\n",
    "$$\n",
    "    a = x_0 < x_1 < \\cdots < x_n < x_{n+1}=b,\n",
    "$$\n",
    "and for each of the $i=0,\\ldots,n$ subintervals $x_{i+1}-x_i=h=(b-a)/(n+1)$. \n",
    "\n",
    "Then, applying the trapezoidal rule to each subinterval and summing the result gives\n",
    "\n",
    "$$\n",
    "    \\int_a^b F(x)\\, dx \\approx h\\left(\\frac{F(a)}{2} + \\sum_{i=1}^n F(x_i) + \\frac{F(b)}{2}\\right).\n",
    "$$\n",
    "\n",
    "We implement this below."
   ]
  },
  {
   "cell_type": "code",
   "execution_count": 1,
   "id": "f833dfce-4b50-4d52-83e3-78db9add77b4",
   "metadata": {},
   "outputs": [],
   "source": [
    "def trap_rule(a, b, F, n):\n",
    "    x = np.linspace(a,b,n+2)\n",
    "    h = x[1]-x[0]\n",
    "    z = h*(F(a)/2 + np.sum(F(x[1:-1])) + F(b)/2)\n",
    "    return z"
   ]
  },
  {
   "cell_type": "markdown",
   "id": "75ad12dd-535c-44a7-84c4-dd7f48aee136",
   "metadata": {},
   "source": [
    "While the [error analysis](https://en.wikipedia.org/wiki/Trapezoidal_rule#Error_analysis) for the trapezoidal rule (and really any numerical integration rule) relies on the smoothness of the function being integrated, we can of course apply the rule to any function we wish. \n",
    "\n",
    "It is easily verified that for any $k\\in\\mathbb{N}$ that $F_k(x)=x^k$ has the integral\n",
    "$$\n",
    "    \\int_0^1 F_k(x)\\, dx = \\int_0^1 x^k\\, dx = \\frac{1}{k+1},\n",
    "$$\n",
    "and for $G(x)=\\sqrt{|x-0.5|}$ that\n",
    "$$\n",
    "    \\int_0^1 G(x)\\, dx = \\int_0^1 \\sqrt{|x-0.5|}\\, dx = \\frac{\\sqrt{2}}{3}.\n",
    "$$\n",
    "\n",
    "1. For $F_1, F_2, \\ldots, F_6$ and $G$ given above, numerically estimate the rate of convergence of the trapezoidal rule for each of these functions. Use a Markdown cell to discuss your results in the context of the error analysis for the trapezoidal rule."
   ]
  },
  {
   "cell_type": "code",
   "execution_count": null,
   "id": "bdbefb27-f643-4840-81d6-54185218efb4",
   "metadata": {},
   "outputs": [],
   "source": []
  },
  {
   "cell_type": "code",
   "execution_count": null,
   "id": "af5d731c-ae51-44b0-9fd5-4c5a20be72a9",
   "metadata": {},
   "outputs": [],
   "source": []
  },
  {
   "cell_type": "code",
   "execution_count": null,
   "id": "30087d9b-6b38-4294-987e-57b2660ea396",
   "metadata": {},
   "outputs": [],
   "source": []
  },
  {
   "cell_type": "markdown",
   "id": "f258d2ac-d5bc-40b5-bfb5-82f787181703",
   "metadata": {},
   "source": [
    "Recall from [Section 2.1](Chp2Sec1.ipynb) that \n",
    "\n",
    "$$ \n",
    "    \\large u(x) = (b-x)\\underbrace{\\int_a^x (y-a)f(y)\\, dy}_{=:\\alpha(x)} + (x-a)\\underbrace{\\int_x^b (b-y)f(y)\\, dy}_{=:\\beta(x)}.   \n",
    "$$\n",
    "\n",
    "With the above definitions of $\\alpha(x)$ and $\\beta(x)$, we have \n",
    "\n",
    "$$\n",
    "    u(x) = (b-x)\\alpha(x) + (x-a)\\beta(x).\n",
    "$$\n",
    "\n",
    "- Discrete $[a,b]$ with $n+2$ regular uniformly spaced points that are denoted by $x_j=a+jh$ for $0\\leq j\\leq n+1$ with $h=\\frac{b-a}{n+1}$. \n",
    "\n",
    "- By $T_h$ denote the trapezoidal rule operator (i.e., $T_h$ applied to a definite integral on $[x_j, x_k]$ returns the trapezoidal rule approximation on this interval). \n",
    "\n",
    "- Define $\\alpha_h\\in D_h$ as \n",
    "\n",
    "$$\n",
    "    \\alpha_h(x_j) := \\begin{cases}\n",
    "                        0, & j=0, \\\\\n",
    "                        T_h(\\alpha(x_j)), & 1\\leq j\\leq n+1.\n",
    "                      \\end{cases}\n",
    "$$\n",
    "<br>\n",
    "\n",
    "- Define $\\beta_h\\in D_h$ as follows. For each $0\\leq j\\leq n$, \n",
    "\n",
    "$$\n",
    "    \\beta_h(x_j) := \\begin{cases}\n",
    "                        T_h(\\beta(x_j)), & 0\\leq j\\leq n \\\\\n",
    "                        0, & j=n+1.\n",
    "                     \\end{cases}\n",
    "$$\n",
    "<br>\n",
    "\n",
    "2. Construct Python functions `alpha_h` and `beta_h` that return the array of $\\alpha_h(x_j)$ and $\\beta_h(x_j)$ values for $0\\leq j\\leq n+1$. Demonstrate that your functions produce good approximations to $\\alpha$ and $\\beta$ on $[a,b]$ by manufacturing a few simple solutions for these functions."
   ]
  },
  {
   "cell_type": "code",
   "execution_count": null,
   "id": "cb64222f-6bd8-438b-a5de-7f8993588d3c",
   "metadata": {},
   "outputs": [],
   "source": []
  },
  {
   "cell_type": "code",
   "execution_count": null,
   "id": "d40f45df-4ed1-428a-bab1-e4e42b0ff371",
   "metadata": {},
   "outputs": [],
   "source": []
  },
  {
   "cell_type": "code",
   "execution_count": null,
   "id": "04952257-b387-4d5b-b46d-d6f0ef2c9d60",
   "metadata": {},
   "outputs": [],
   "source": []
  },
  {
   "cell_type": "markdown",
   "id": "2b839bca-2a84-478f-a236-3a5fb8e9307a",
   "metadata": {},
   "source": [
    "Define $u_h\\in D_{h,0}$ as\n",
    "\n",
    "$$\n",
    "    u_h(x) := (b-x)\\alpha_h(x) + (x-a)\\beta_h(x). \n",
    "$$\n",
    "\n",
    "3. Construct a Python function `u_h` that utilizes the functions from the previous part to construct $u_h$ returning the array of $u_h(x_j)$ values for $0\\leq j\\leq n+1$. Demonstrate that this approximates the exact $u(x)$ by manufacturing solutions or utilizing a few solutions seen in other notebooks for comparison. Estimate the rate of convergence for each approximate solution."
   ]
  },
  {
   "cell_type": "code",
   "execution_count": null,
   "id": "f89497e0-f5d4-46a7-8b59-803f06a420a5",
   "metadata": {},
   "outputs": [],
   "source": []
  },
  {
   "cell_type": "code",
   "execution_count": null,
   "id": "3b203d8d-04b0-4ab7-8772-2cc980697749",
   "metadata": {},
   "outputs": [],
   "source": []
  },
  {
   "cell_type": "code",
   "execution_count": null,
   "id": "fc369dc1-3256-44f8-a11a-a534d79b3ac2",
   "metadata": {},
   "outputs": [],
   "source": []
  },
  {
   "cell_type": "markdown",
   "id": "486c9639-180c-4525-bb78-6fedd44f93f9",
   "metadata": {},
   "source": [
    "4. Suppose that the exact data $F$ is unknown but it is reasonable to assume that it is continuous and that at each point $x_j=a+jh$, $0\\leq j\\leq n+1$ there are multiple sensors (say $m$ of them at each point) recording noisy values of $F$. How would you use this along with the above results to generate $u_h(x)$? No need to implement. Just discuss/explain your approach."
   ]
  },
  {
   "cell_type": "code",
   "execution_count": null,
   "id": "62c0aef1-f73f-47f2-841b-f5b1d36b7639",
   "metadata": {},
   "outputs": [],
   "source": []
  },
  {
   "cell_type": "code",
   "execution_count": null,
   "id": "bcee8167-50c2-4363-975f-48127f76c39b",
   "metadata": {},
   "outputs": [],
   "source": []
  },
  {
   "cell_type": "code",
   "execution_count": null,
   "id": "7eb8c3ea-f330-4035-8deb-7e2cf98dfd77",
   "metadata": {},
   "outputs": [],
   "source": []
  },
  {
   "cell_type": "markdown",
   "id": "8b150e3b-7a52-445c-ba3d-03c7df4910d4",
   "metadata": {},
   "source": [
    "---\n",
    "### Exercise 2.5.5 (Undergraduates do parts 1-3)\n",
    "---\n",
    "\n",
    "Consider the following two-point BVP with mixed BCs:\n",
    "\n",
    "$$\n",
    "    -u''(x) = f(x), \\ x\\in(a,b), \\ u(a)=\\alpha, \\ u'(b) = \\beta.\n",
    "$$\n",
    "\n",
    "Let $v\\in D_h$ denote the numerical solution we wish to construct to approximate $u$ at the usual $n+2$ grid points denoted by $x_j=a + jh$ for $0\\leq j\\leq n+1$ with $h=(b-a)/(n+1)$. \n",
    "\n",
    "- Note that $v_0=\\alpha$ is known but $v_{n+1}$ is unknown since the right BC is of Neumann type.\n",
    "<br><br>  \n",
    "- Any matrix-vector equation we derive to determine $v$ should therefore be equivalent to a system of $n+1$ equations with $n+1$ unknowns.\n",
    "<br><br>\n",
    "- The first $n$ equations are obtained as usual via the centered finite difference scheme for the differential operator. This problem addresses how we obtain the final $(n+1)$th equation to determine $v_{n+1}$. \n",
    "<br><br>\n",
    "- We consider two different schemes for approximating $u'(b)=\\beta$.\n",
    "<br><br>\n",
    "\n",
    "1. The first scheme utilizes $v_{n+1}$ and $v_n$ to construct a first-order difference approximation to $u'(b)$:\n",
    "<br><br>\n",
    "$$\n",
    "    \\frac{v_{n+1}-v_n}{h} = \\beta \\Longrightarrow v_{n+1}-v_n = \\beta h.\n",
    "$$\n",
    "<br><br>\n",
    "   i. Use a Markdown cell to summarize the derivation of the resultant matrix-vector equation denoted by $A_1v=b_1$ associated with this scheme.\n",
    "   <br><br>\n",
    "   \n",
    "   ii. Create Python functions `make_A1` and `make_b1` that construct and return the $A_1$ and $b_1$, respectively, associated with this scheme. Note that only the `make_b1` requires any parameters associated with $a$, $b$, and data $f$, $\\alpha$, and $\\beta$.\n",
    "   <br><br>\n",
    "   \n",
    "   iii. Print the results of `make_A1` and `make_b1` for $n=5$ and $f(x)=-e^{x-1}$, $a=0$, $b=1$, $\\alpha=0$, and $\\beta=1$."
   ]
  },
  {
   "cell_type": "code",
   "execution_count": null,
   "id": "95d10673-2516-43f5-bac8-d12365327322",
   "metadata": {},
   "outputs": [],
   "source": []
  },
  {
   "cell_type": "code",
   "execution_count": null,
   "id": "4b9a0f59-45b9-4162-b793-5e53aeebc5fd",
   "metadata": {},
   "outputs": [],
   "source": []
  },
  {
   "cell_type": "code",
   "execution_count": null,
   "id": "08ba37cb-2d09-49e7-9187-d3238c17958d",
   "metadata": {},
   "outputs": [],
   "source": []
  },
  {
   "cell_type": "markdown",
   "id": "ab752d1a-b1f9-4f5b-917d-566582a150dd",
   "metadata": {},
   "source": [
    "2. The second scheme introduces a new unknown, denoted by $v_{n+2}$, which can be thought of as being associated with the point $x_{n+2} = x_{n+1}+h = b+h$,  to construct a centered second-order difference approximation to $u'(b)$:\n",
    "<br><br>\n",
    "$$\n",
    "    \\frac{v_{n+2}-v_n}{2h}=\\beta \\Longrightarrow v_{n+2} = 2h\\beta + v_n.\n",
    "$$\n",
    "<br><br>\n",
    "  Note that $v_{n+1}$ does not appear directly in the above equation despite this being the equation describing the approximation to $u'(b)=u'(x_{n+1})$.\n",
    "  <br><br>\n",
    "The centered finite difference scheme for the second derivative allows us to obtain another equation at $x_{n+1}=b$ given by\n",
    "<br><br>\n",
    "$$\n",
    "    \\frac{-v_n + 2v_{n+1} - v_{n+2}}{h^2} = f(x_{n+1}).\n",
    "$$\n",
    "<br><br>  \n",
    "  i. Use a Markdown cell that shows how to utilize the above two equations to eliminate $v_{n+2}$ and obtain the $(n+1)$th equation for $v_{n+1}$ only in terms of other components of $v\\in D_h$. Summarize the resultant matrix-vector equation denoted by $A_2v=b_2$ associated with this scheme.\n",
    "  <br><br>\n",
    "   ii. Create Python functions `make_A2` and `make_b2` that construct and return the $A_2$ and $b_2$, respectively, associated with this scheme. Note that only the `make_b2` requires any parameters associated with $a$, $b$, and data $f$, $\\alpha$, and $\\beta$.\n",
    "   <br><br>\n",
    "   \n",
    "   iii. Print the results of `make_A2` and `make_b2` for $n=5$ and $f(x)=-e^{x-1}$, $a=0$, $b=1$, $\\alpha=0$, and $\\beta=1$.\n",
    "   \n",
    "  "
   ]
  },
  {
   "cell_type": "code",
   "execution_count": null,
   "id": "6c865744-f351-47c9-bad5-1696627ce2c8",
   "metadata": {},
   "outputs": [],
   "source": []
  },
  {
   "cell_type": "code",
   "execution_count": null,
   "id": "49e25031-1a88-4f5c-89a4-62ceb4264c76",
   "metadata": {},
   "outputs": [],
   "source": []
  },
  {
   "cell_type": "code",
   "execution_count": null,
   "id": "af73da45-a3d0-407c-bc66-4b0464dc994e",
   "metadata": {},
   "outputs": [],
   "source": []
  },
  {
   "cell_type": "markdown",
   "id": "1402cb09-739b-4f74-8a0b-a2979cf7a949",
   "metadata": {},
   "source": [
    "3. For $f(x)=-e^{x-1}$, $a=0$, $b=1$, $\\alpha=0$, and $\\beta=1$, verify that $u(x)=e^{-1}(e^x-1)$ solves the BVP and numerically compare the rates of convergence of the two schemes for approximating $u$ described in this problem."
   ]
  },
  {
   "cell_type": "code",
   "execution_count": null,
   "id": "e22e86d3-b5e1-405e-9451-0e0ed68ea6af",
   "metadata": {},
   "outputs": [],
   "source": []
  },
  {
   "cell_type": "code",
   "execution_count": null,
   "id": "5a6d12a3-660c-46cc-b117-245e5aa1c53c",
   "metadata": {},
   "outputs": [],
   "source": []
  },
  {
   "cell_type": "code",
   "execution_count": null,
   "id": "191b008b-2914-4a7e-a47b-25a987f00564",
   "metadata": {},
   "outputs": [],
   "source": []
  },
  {
   "cell_type": "markdown",
   "id": "d66b95e8-f294-4c1d-a2e7-b93737911708",
   "metadata": {},
   "source": [
    "4. Manufacture a solution for some $a>0$, $b>1+a$, and non-zero $\\alpha$ and $\\beta$. Then, repeat the numerical investigation of rates of convergence for these schemes with this manufactured solution."
   ]
  },
  {
   "cell_type": "code",
   "execution_count": null,
   "id": "70feaf70-5d97-4e4a-be84-11f567993365",
   "metadata": {},
   "outputs": [],
   "source": []
  },
  {
   "cell_type": "code",
   "execution_count": null,
   "id": "104932d9-df35-45ee-972f-571974b851db",
   "metadata": {},
   "outputs": [],
   "source": []
  },
  {
   "cell_type": "code",
   "execution_count": null,
   "id": "d3c01f1c-0b8e-4df9-8d19-f1b4c0dff046",
   "metadata": {},
   "outputs": [],
   "source": []
  },
  {
   "cell_type": "markdown",
   "id": "22178326-3b65-42a4-9eba-82739ecc8943",
   "metadata": {},
   "source": [
    "---\n",
    "### Exercise 2.5.6 (Undergraduates do parts 1-3)\n",
    "---\n",
    "\n",
    "Consider the following *non-homogeneous* two-point BVP:\n",
    "\n",
    "$$\n",
    "    -u''(x) = f(x), \\ x\\in(a,b), \\ u(a)=\\alpha, \\ u(b)=\\beta,\n",
    "$$\n",
    "\n",
    "where $\\alpha$ and $\\beta$ are given real numbers.\n",
    "\n",
    "Suppose $v\\in D_h$ is the numerical approximation to $u$ obtained through the usual application of the centered-finite difference scheme associated with the differential operator on a regular grid of $n+2$ points $x_j=a+jh$ with $h=(b-a)/(h+1)$.\n",
    "\n",
    "1. Use a Markdown cell to derive the matrix-vector equation $Ax=b$.\n",
    "\n",
    "2. Implement Python functions to construct and solve this matrix-vector equation.\n",
    "\n",
    "3. Numerically demonstrate for at least two different linear functions $f$ that $v(x_j)=u(x_j)$ for $0\\leq j\\leq n+1$.\n",
    "\n",
    "4. Prove that for any linear function $f$ that $v(x_j)=u(x_j)$ for $0\\leq j\\leq n+1$. *Hint: Exercise 2.5.2 and an \"obvious\" generalization of Theorem 2.3.3.*"
   ]
  },
  {
   "cell_type": "code",
   "execution_count": null,
   "id": "82fb6065-341e-434c-af32-d0f4212c2a48",
   "metadata": {},
   "outputs": [],
   "source": []
  },
  {
   "cell_type": "code",
   "execution_count": null,
   "id": "dfe0fbb6-d6c4-467e-b6ed-4188b2d3ce69",
   "metadata": {},
   "outputs": [],
   "source": []
  },
  {
   "cell_type": "code",
   "execution_count": null,
   "id": "9b1b85eb-66ed-42cd-857f-5be07c29e5ff",
   "metadata": {},
   "outputs": [],
   "source": []
  },
  {
   "cell_type": "markdown",
   "id": "c3f45ff2-b8de-463e-980b-8e25a3d98384",
   "metadata": {},
   "source": [
    "---\n",
    "### Exercise 2.5.7 (Graduate students only)\n",
    "---\n",
    "\n",
    "Consider the following *non-homogeneous* two-point BVP:\n",
    "\n",
    "$$\n",
    "    -u''(x) = f(x), \\ x\\in(a,b), \\ u(a)=\\alpha, \\ u(b)=\\beta,\n",
    "$$\n",
    "\n",
    "where $\\alpha$ and $\\beta$ are given real numbers.\n",
    "\n",
    "Suppose $v\\in D_h$ is the numerical solution obtained via the method of Exercise 2.5.7. \n",
    "\n",
    "Let $v_I\\in D_h$ denote the piecewise linear interpolant of $v$ on $[a,b]$. In other words,\n",
    "\n",
    "$$\n",
    "    v_I(x) = v(x_j) + \\frac{x-x_j}{h}(v(x_j+1)-v_j), \\ \\text{ for } \\ x\\in [x_j, x_{j+1}].\n",
    "$$\n",
    "\n",
    "Prove that \n",
    "\n",
    "$$\n",
    "    \\|u - v_I\\|_\\infty = \\mathcal{O}(h^2).\n",
    "$$\n",
    "\n",
    "*Hint: Use $u_I$, a triangle inequality, standard results you can find and quote about approximation properties of linear interpolants, and an implication of the \"obvious\" generalization of Theorem 2.3.3. Put it all together for a relatively short proof.*"
   ]
  },
  {
   "cell_type": "code",
   "execution_count": null,
   "id": "c20e502c-518c-4271-9c5b-ef2255666c77",
   "metadata": {},
   "outputs": [],
   "source": []
  },
  {
   "cell_type": "code",
   "execution_count": null,
   "id": "8e2201c0-cafa-46e5-b4da-08593161c58f",
   "metadata": {},
   "outputs": [],
   "source": []
  },
  {
   "cell_type": "code",
   "execution_count": null,
   "id": "72706f1c-a765-45ca-8eef-17914e16fea2",
   "metadata": {},
   "outputs": [],
   "source": []
  },
  {
   "cell_type": "markdown",
   "id": "2abbdca2-9358-4f66-a13f-995b3644a2ed",
   "metadata": {},
   "source": [
    "--- \n",
    "### Exercise 2.5.8 (Undergraduates do parts 1 and 2)\n",
    "---\n",
    "\n",
    "While the differential operator $L=-\\frac{d^2}{dx^2}$ is used to model a process of pure diffusion, the differential operator $L=-\\frac{d^2}{dx^2}+\\alpha I$ (where $I$ is the identity operator and $\\alpha\\in\\mathbb{R}$) models a reaction-diffusion process. As this exercise explores, there is only a superficial difference between their spectra.\n",
    "\n",
    "1. Use an \"obvious\" generalization of the analysis in [Seciton 2.5](Chp2Sec5.ipynb) to determine the eigenvalues and eigenfunctions associated with $L=-\\frac{d^2}{dx^2}$ when the domain is $x\\in(a,b)$ with BCs $u(a)=u(b)=0$.\n",
    "\n",
    "2. Redo 1 with $L=-\\frac{d^2}{dx^2}+\\alpha I$.\n",
    "\n",
    "3. Use Python functions and widgets to create an interactive plot as a function of $k$ that shows the $k$th eigenfunction for both of these operators that also allows the user to specify $\\alpha$ and $a<b$ values. Either use a legend or title of the plot to display the associated eigenvalues for the chosen $k$ value. "
   ]
  },
  {
   "cell_type": "code",
   "execution_count": null,
   "id": "569c8c35-247e-45ce-8911-8df912d76ca2",
   "metadata": {},
   "outputs": [],
   "source": []
  },
  {
   "cell_type": "code",
   "execution_count": null,
   "id": "2e9d71d6-207f-4873-8a40-1aa159a0c25a",
   "metadata": {},
   "outputs": [],
   "source": []
  },
  {
   "cell_type": "code",
   "execution_count": null,
   "id": "c5979017-ccd8-44c8-ad66-768e05ab9f4c",
   "metadata": {},
   "outputs": [],
   "source": []
  },
  {
   "cell_type": "markdown",
   "id": "73a9391c-d37a-4a91-b46b-a13eec75c402",
   "metadata": {
    "tags": []
   },
   "source": [
    "---\n",
    "### Exercise 2.5.9 (Undergraduates do parts 1 and 2)\n",
    "---\n",
    "\n",
    "For a function $g\\in\\mathcal{C}_0^2((0,1))$, consider a finite Fourier series of the form\n",
    "\n",
    "$$\n",
    "    g_h(x) := \\sum_{k=1}^n c_k \\sin(k\\pi x),\n",
    "$$\n",
    "\n",
    "where $c_k=2\\langle g, \\sin(k\\pi x)\\rangle_h$ for $1\\leq k\\leq n$. \n",
    "\n",
    "\n",
    "1. Show that $g_h(x_j) = g(x_j)$. In other words, show that $g_h$ *interpolates* the function $g$.\n",
    "\n",
    "   *Hint 1: By the definition of the discrete inner product, we have that $c_k$ can be rewritten as*\n",
    "<br><br>\n",
    "$$\n",
    "    c_k = 2h\\sum_{j=1}^n g(x_j) \\sin(k\\pi x_j).\n",
    "$$\n",
    "\n",
    "   *Hint 2: Use Lemma 2.5.7.*\n",
    "\n",
    "2. From 1, we have the system of equations\n",
    "<br><br>\n",
    "$$\n",
    "    g_h(x_j) = g(x_j), \\ 1\\leq j\\leq n.\n",
    "$$\n",
    "<br><br>\n",
    "(a) Show that this gives the matrix-vector equation $Tc=b$ for $c, b\\in\\mathbb{R}^n$ and $T\\in\\mathbb{R}^{n\\times n}$ where $T_{j,k}=\\sin(k\\pi x_j)$ (is clearly symmetric), $c_j$ are as defined above, and $b_j = g(x_j)$. \n",
    "<br><br>\n",
    "(b) Show that $T^2=\\frac{1}{2h}I$ where $I\\in\\mathbb{R}^{n\\times n}$ is the identity matrix and conclude that $T$ is nonsingular. \n",
    "\n",
    "3. Write a Python `class` that is initialized with two parameters: (i) a `lambda` function associated with a $g\\in\\mathcal{C}_0^2((0,1))$, and (ii) an `n` defining the number of interior grid points for $(0,1)$. \n",
    "\n",
    "   This class should contain methods that construct and solve $Tc=b$ (storing $c$ as a data attribute in the process) and another function evaluates the associated $g_h$ at any value of $x$. \n",
    "   \n",
    "   Demonstrate your class works by instantiating it for at least two different $g$ and two different choices of `n` and making plots of your results that show $g_h$ interpolates $g$ (use a scatter plot to plot the $g(x_j)$ values as red square markers to demonstrate the interpolation).\n",
    "\n",
    "\n",
    "---"
   ]
  },
  {
   "cell_type": "code",
   "execution_count": null,
   "id": "9c0552cb-f46d-40f9-80fc-2f5dbd468521",
   "metadata": {},
   "outputs": [],
   "source": []
  },
  {
   "cell_type": "code",
   "execution_count": null,
   "id": "400e9317-5bbb-4e88-8363-4442bc31feb6",
   "metadata": {},
   "outputs": [],
   "source": []
  },
  {
   "cell_type": "code",
   "execution_count": null,
   "id": "04163e66-355a-40a6-bddd-8c7f8824c292",
   "metadata": {},
   "outputs": [],
   "source": []
  },
  {
   "cell_type": "markdown",
   "id": "2da21b2c-91c7-43fe-9a26-1fee562cc4dc",
   "metadata": {},
   "source": [
    "---\n",
    "## Navigation:\n",
    "\n",
    "- [Previous](Chp2Sec6.ipynb)\n",
    "\n",
    "- [Next](../Chp3/Chp3Sec0.ipynb)\n",
    "---"
   ]
  }
 ],
 "metadata": {
  "kernelspec": {
   "display_name": "Python 3",
   "language": "python",
   "name": "python3"
  },
  "language_info": {
   "codemirror_mode": {
    "name": "ipython",
    "version": 3
   },
   "file_extension": ".py",
   "mimetype": "text/x-python",
   "name": "python",
   "nbconvert_exporter": "python",
   "pygments_lexer": "ipython3",
   "version": "3.8.8"
  }
 },
 "nbformat": 4,
 "nbformat_minor": 5
}

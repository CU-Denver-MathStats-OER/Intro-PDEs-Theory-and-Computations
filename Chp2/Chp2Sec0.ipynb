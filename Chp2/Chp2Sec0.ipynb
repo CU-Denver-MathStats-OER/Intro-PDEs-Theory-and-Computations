{
 "cells": [
  {
   "cell_type": "markdown",
   "id": "8848cc4e-7f4c-4555-8d22-7d0b4c66d273",
   "metadata": {},
   "source": [
    "# Introduction to Partial Differential Equations\n",
    "---"
   ]
  },
  {
   "cell_type": "markdown",
   "id": "a620eff6-1c47-400f-afa5-d8744e92d907",
   "metadata": {},
   "source": [
    "## Chapter 2: Elliptic PDEs, Poisson’s Equation, and a Two-Point Boundary Value Problem \n",
    "---"
   ]
  },
  {
   "cell_type": "markdown",
   "id": "107b85d5-9377-4648-b05d-40c1c99847f1",
   "metadata": {
    "jp-MarkdownHeadingCollapsed": true,
    "tags": []
   },
   "source": [
    "## Creative Commons License Information\n",
    "<a rel=\"license\" href=\"http://creativecommons.org/licenses/by-nc/4.0/\"><img alt=\"Creative Commons License\" style=\"border-width:0\" src=\"https://i.creativecommons.org/l/by-nc/4.0/80x15.png\" /></a><br /><span xmlns:dct=\"http://purl.org/dc/terms/\" property=\"dct:title\">Introduction to Partial Differential Equations: Theory and Computations</span> by <a xmlns:cc=\"http://creativecommons.org/ns#\" href=\"https://github.com/CU-Denver-MathStats-OER/Intro-PDEs-Theory-and-Computations\" property=\"cc:attributionName\" rel=\"cc:attributionURL\">Troy Butler</a> is licensed under a <a rel=\"license\" href=\"http://creativecommons.org/licenses/by-nc/4.0/\">Creative Commons Attribution-NonCommercial 4.0 International License</a>.<br />Based on a work at <a xmlns:dct=\"http://purl.org/dc/terms/\" href=\"https://github.com/CU-Denver-MathStats-OER/Intro-PDEs-Theory-and-Computations\" rel=\"dct:source\">https://github.com/CU-Denver-MathStats-OER/Intro-PDEs-Theory-and-Computations</a>."
   ]
  },
  {
   "cell_type": "markdown",
   "id": "5b2591d7-5148-42e0-a69e-c00d4a39c61c",
   "metadata": {
    "jp-MarkdownHeadingCollapsed": true,
    "tags": []
   },
   "source": [
    "---\n",
    "## Section 2.0: Overview/Table of Contents for Chapter\n",
    "---\n",
    "\n",
    "The [Laplacian (also called the Laplace operator)](https://en.wikipedia.org/wiki/Laplace_operator), denoted by $\\Delta$ or $\\nabla^2$ (or sometimes represented in divergence form $\\nabla\\cdot\\nabla$), is applied to a function of $n$ spatial variables $x_1, \\ldots, x_n$ to give the sum of the (non-mixed) second-order derivatives.\n",
    "This operator plays a fundamental role in many PDEs and typically is used to represent [**diffusion**](https://en.wikipedia.org/wiki/Diffusion). \n",
    "\n",
    "PDEs of models for which diffusion is a dominant characteristic describing the evolution of the state variable often (but not always) have very smooth solutions (or at least they are generally significantly smoother than the data). \n",
    "A spatial-temporal PDE where diffusion dominates is the heat equation (studied in Chapter 3).\n",
    "When studying the heat equation, we will see how a discontinuous initial condition (IC) given by the Heaviside function is instantaneously transformed into an infinitely smooth function as soon as any $t>0$ is considered.\n",
    "\n",
    "In the interest of clarity and simplicity, we remove any consideration of temporal variability in this chapter. \n",
    "It is useful to think of the PDEs of interest in this chapter as models of steady-state behavior of a spatial-temporal PDE such as the heat equation (assuming that the spatial-temporal PDE was setup in such a way to achieve a steady-state solution).\n",
    "However, it is important to keep in mind that there is a loss of information in studying PDEs in this chapter since the IC is not specified as part of the problem.\n",
    "An IC is much like a boundary condition (BC) that is applied in *time* (usually at time $t=0$) *across the entire spatial domain* so it is not surprising that we may encounter certain difficulties in specifying solutions to steady-state models without this information present. \n",
    "We begin with studying problems with \"nice\" spatial BCs where unique solutions exist. \n",
    "We then move onto problems with spatial BCs that are perhaps more natural to consider for spatial-temporal PDEs but lead to certain difficulties in specifying a unique solution when studying the steady-state model without an IC to guide us. \n",
    "\n",
    "Before we dive too deep into this chapter, we first note that [Poisson's equation](https://en.wikipedia.org/wiki/Poisson%27s_equation),\n",
    "\n",
    "$$\n",
    " \\Delta u = f, \\ x\\in\\Omega\\subset\\mathbb{R}^n,\n",
    "$$\n",
    "\n",
    "which we may also write as\n",
    "\n",
    "$$\n",
    "    -\\sum_{j=1}^n \\frac{\\partial^2 u}{\\partial x_j^2} = f, \\ x\\in\\Omega\\subset\\mathbb{R}^n,\n",
    "$$\n",
    "\n",
    "is probably the easiest PDE for us to initially study in depth that involves the Laplacian. \n",
    "This is a ***stationary PDE*** (i.e., it does not depend on time), and is usually used to model the equilibrium behavior of some state in a system that is subjected to a constant forcing $f$ throughout time (e.g., the final \"heat\" distribution we expect from the heat equation model).\n",
    "\n",
    "The Poisson's equation is in fact the simplest [elliptic PDE](https://en.wikipedia.org/wiki/Elliptic_operator) to study.\n",
    "While we do not dive deeply into the general topic of elliptic PDEs in this introductory course, it is worth knowing that elliptic operators are simply generalizations of the Laplacian. \n",
    "Elliptic PDEs are generally used to model the steady-state behavior of hyperbolic and parabolic PDEs.\n",
    "A [hyperbolic PDE](https://en.wikipedia.org/wiki/Hyperbolic_partial_differential_equation) is a generalization of the wave equation (the topic of Chapter 4) and a [parabolic PDE](https://en.wikipedia.org/wiki/Parabolic_partial_differential_equation) is a generalization of the heat equation (the topic of Chapter 3).\n",
    "Thus, while it may seem that we limit ourselves to \"toy\" models/problems in this course, we are in fact laying a firm foundation on which more general PDEs and models are built.\n",
    "While the theoretical tools required to prove existence and uniqueness of solutions to these more general forms of PDEs are well beyond the scope of this course, it is often the case that solutions to these more general forms of PDEs share many features with the simpler prototypical PDEs studied in this course. \n",
    "\n",
    "\n",
    "**Some useful points:**\n",
    "\n",
    "- When $\\Omega\\subset\\mathbb{R}$, then Poisson's equation reduces to an ODE.\n",
    "\n",
    "- Moreover, if $\\Omega = (0,1)\\subset\\mathbb{R}$, then specifying values of $u$ at the boundary, $\\partial\\Omega = \\{\\{0\\}, \\{1\\}\\}$, defines what is called a two-point boundary value problem (BVP). We often refer to this even more briefly as a 2-pt BVP. \n",
    "\n",
    "These two points greatly simplify our initial studies while also providing some crucial insight into more general cases, so this 2-pt BVP serves as our focus in this chapter.\n",
    "\n",
    "As we work through this chapter, we will see that several of the concepts explored in [Section 1.2](./Chp1/Chp1Sec2.ipynb), [Section 1.3](./Chp1/Chp1Sec3.ipynb) and [Section 1.5](./Chp1/Chp1Sec5.ipynb) are particularly useful. \n",
    "Students may want to review and refer to these notebooks as we make our way through this chapter. "
   ]
  },
  {
   "cell_type": "markdown",
   "id": "c4693f68-7e6a-4e8f-bd1e-08604a0b2223",
   "metadata": {},
   "source": [
    "### Chapter Contents\n",
    "---\n",
    "\n",
    "- [Section 2.1: Poisson's Equation in One Dimension](Chp2Sec1.ipynb)\n",
    "\n",
    "- [Section 2.2: A Finite Difference Approximation](Chp2Sec2.ipynb)\n",
    "\n",
    "- [Section 2.3: Continuous and Discrete Solutions](Chp2Sec3.ipynb)\n",
    "\n",
    "- [Section 2.4: Eigenvalue Problems](Chp2Sec4.ipynb)\n",
    "\n",
    "- [Section 2.5: Exercises](Chp2Sec5.ipynb)"
   ]
  },
  {
   "cell_type": "markdown",
   "id": "ba6fbe64-3445-475d-b45c-09172b091b93",
   "metadata": {},
   "source": [
    "**About this material:**\n",
    "\n",
    "The purpose of these notebooks is multifaceted.\n",
    "\n",
    "- First, these notebooks provide a narrative of each chapter that guides students through their initial studies of partial differential equations.\n",
    "\n",
    "- Second, it is often very easy when reading mathematical texts to get lost in the details. These notebooks are intended to keep you centered on the take home messages and the big picture while you work through the details.\n",
    "\n",
    "- Third, these notebooks will help guide our in-class discussions. We use these to provide structure and guidance on which ideas, techniques, and problems we will explore in more detail in a class.\n",
    "\n",
    "- Fourth, these notebooks are also intended to help solidify the connections between chapters, ideas, techniques, and problems that may be easily overlooked.\n",
    "\n",
    "- Fifth, and finally, these notebooks are intended to bridge the divide between the theoretical concepts and the practical implementation/numerical approximations by interweaving live code within the narrative text. \n",
    "\n",
    "I make no claim of originality in these notes. The field of partial differential equations is vast and there are many texts and other resources on the subject matter. These simply represent my attempt at presenting a coherent narrative that students find useful, informative, and, perhaps above all else, practical."
   ]
  },
  {
   "cell_type": "markdown",
   "id": "fdeae902-cc5a-43ff-873f-05107174d43a",
   "metadata": {},
   "source": [
    "---\n",
    "## Navigation:\n",
    "\n",
    "- [Next](Chp2Sec1.ipynb)\n",
    "---"
   ]
  }
 ],
 "metadata": {
  "kernelspec": {
   "display_name": "Python 3 (ipykernel)",
   "language": "python",
   "name": "python3"
  },
  "language_info": {
   "codemirror_mode": {
    "name": "ipython",
    "version": 3
   },
   "file_extension": ".py",
   "mimetype": "text/x-python",
   "name": "python",
   "nbconvert_exporter": "python",
   "pygments_lexer": "ipython3",
   "version": "3.9.7"
  }
 },
 "nbformat": 4,
 "nbformat_minor": 5
}

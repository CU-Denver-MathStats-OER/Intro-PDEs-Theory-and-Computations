{
 "cells": [
  {
   "cell_type": "markdown",
   "id": "c0f052e7-a6fc-4b33-b30a-14836c1acb30",
   "metadata": {
    "tags": []
   },
   "source": [
    "# Introduction to Partial Differential Equations\n",
    "---"
   ]
  },
  {
   "cell_type": "markdown",
   "id": "a63b8a52-330e-4dfb-8649-4cc92223a469",
   "metadata": {},
   "source": [
    "## Chapter 2: Elliptic PDEs, Poisson’s Equation, and a Two-Point Boundary Value Problem \n",
    "---"
   ]
  },
  {
   "cell_type": "markdown",
   "id": "65758151-aa47-4dbe-9423-92ba5f006b5e",
   "metadata": {
    "jp-MarkdownHeadingCollapsed": true,
    "tags": []
   },
   "source": [
    "## Creative Commons License Information\n",
    "<a rel=\"license\" href=\"http://creativecommons.org/licenses/by-nc/4.0/\"><img alt=\"Creative Commons License\" style=\"border-width:0\" src=\"https://i.creativecommons.org/l/by-nc/4.0/80x15.png\" /></a><br /><span xmlns:dct=\"http://purl.org/dc/terms/\" property=\"dct:title\">Introduction to Partial Differential Equations: Theory and Computations</span> by <a xmlns:cc=\"http://creativecommons.org/ns#\" href=\"https://github.com/CU-Denver-MathStats-OER/Intro-PDEs-Theory-and-Computations\" property=\"cc:attributionName\" rel=\"cc:attributionURL\">Troy Butler</a> is licensed under a <a rel=\"license\" href=\"http://creativecommons.org/licenses/by-nc/4.0/\">Creative Commons Attribution-NonCommercial 4.0 International License</a>.<br />Based on a work at <a xmlns:dct=\"http://purl.org/dc/terms/\" href=\"https://github.com/CU-Denver-MathStats-OER/Intro-PDEs-Theory-and-Computations\" rel=\"dct:source\">https://github.com/CU-Denver-MathStats-OER/Intro-PDEs-Theory-and-Computations</a>."
   ]
  },
  {
   "cell_type": "markdown",
   "id": "5faa6b88-1675-411d-85cb-24c8c6a41169",
   "metadata": {},
   "source": [
    "## Section 2.1:  Poisson’s Equation and a 2-point BVP\n",
    "---\n",
    "\n",
    "This section utilizes some basic calculus concepts. In particular, the [Fundamental Theorem of Calculus](https://en.wikipedia.org/wiki/Fundamental_theorem_of_calculus) and [integration by parts](https://en.wikipedia.org/wiki/Integration_by_parts) play crucial roles. You may want to review these prior to reading through this notebook.\n",
    "\n",
    "**Key takeaways from this section:**\n",
    "\n",
    "- Under mild assumptions, a unique solution exists to the 2-pt BVP.\n",
    "\n",
    "- A Green's function is a useful tool that can be used to describe the solution, but it can be somewhat painful/annoying to derive in practice. We demonstrate how to implement an algorithmic approach to deriving Green's functions for two-point BVPs that utilizes a symbolic library in Python and some basic linear algebra.\n",
    "\n",
    "- Properties of the source term $f$ impact the solution $u$. In particular, we see how nonnegativity and regularity of $f$ impact $u$. \n",
    "\n",
    "  A topic that is often studied in great detail in more advanced PDEs courses is the ***regularity of a solution.*** Regularity simply means smoothness. The main point we get at with regards to regularity is that a solution $u$ has at least two more derivatives than the source term $f$, so it is *smoother* than $f$. Of course, regularly can be impacted by complexities in geometry of the spatial domain as well as the regularity of any parameters that appear in the PDE as coefficients in the differential operator (but these are topics left for a more advanced PDEs course).\n",
    "\n",
    "- The boundary conditions (BCs) can take on various forms (Dirichlet, Neumann, Robin, and mixed), which represent different types of physical conditions and can have significant impacts on the solution (e.g., whether a solution is unique or not)."
   ]
  },
  {
   "cell_type": "markdown",
   "id": "d01c484d-0122-4668-8ba9-1e441c79bb2e",
   "metadata": {},
   "source": [
    "---\n",
    "### Section 2.1.1: Solutions and the Green's function for the two-point BVP</a>\n",
    "---\n",
    "\n",
    "Consider the two-point BVP \n",
    "\n",
    "$$\n",
    "\\large -u'' = f, \\ x\\in (a,b), \\ u(a)=0=u(b).\n",
    "$$\n",
    "\n",
    "We seek a [Green's function $G=G(x,y)$](https://en.wikipedia.org/wiki/Green%27s_function) such that the solution to the BVP can be written compactly as\n",
    "\n",
    "$$\n",
    "\\large u(x) = \\int_a^b G(x,y)f(y)\\, dy.\n",
    "$$"
   ]
  },
  {
   "cell_type": "markdown",
   "id": "3867fe9e-ac8c-4624-99f4-b0a6909a65da",
   "metadata": {},
   "source": [
    "---\n",
    "#### So what is a Green's functions exactly?\n",
    "---\n",
    "\n",
    "The Wiki article https://en.wikipedia.org/wiki/Green's_function contains some useful information, but perhaps the most useful part of the article comes in the motivation where it states (edits and emphasis are my own):\n",
    "\n",
    "> Thus, one may obtain the function $u(x)$ through knowledge of the Green's function ... and the [data]. This process relies upon the linearity of the [differential] operator ...\n",
    "<br><br>\n",
    "In other words, the solution ..., $u(x)$, can be determined by ... integration ... Although $f(x)$ is known, this integration cannot be performed unless $G$ is also known. The problem now lies in finding the Green's function $G$ ... For this reason, the Green's function is also sometimes called the ***fundamental solution*** ...\n",
    "<br><br>\n",
    "***Not every [differential] operator*** ... ***admits a Green's function***. A Green's function can also be thought of as a ***right inverse of [the differential operator]***. Aside from the difficulties of finding a Green's function for a particular operator, the integral [for computing $u(x)$] may be quite difficult to evaluate. However the method gives a theoretically exact result.\n",
    "\n",
    "The integral used to compute $u(x)=\\int_a^b G(x,y)f(y)\\, dy$ in fact reveals something else about the Green's function $G(x,y)$. \n",
    "Specifically, the value of the solution $u$ at the point $x$ is determined by a type of ***weighted sum*** of the data $f$ over the interval $[a,b]$.\n",
    "In a sense, *$G(x,y)$ is indicating how the value of the data $f$ at the point $y$ is influencing the solution $u$ at the point $x$.*\n",
    "\n",
    "This can be described in more plain terms using a specific application for which this particular BVP above is a model.\n",
    "Consider an elastic bar of length $b-a$ and uniform stiffness $1$ that is positioned horizontally with both ends clamped so that they cannot move to an external force applied to the bar.\n",
    "Application of a force in the vertical direction causes a bending of the bar with vertical displacement modeled by the above BVP.\n",
    "Suppose the force $f$ is given by\n",
    "\n",
    "$$\n",
    "\\large d_{y,\\Delta x}(x) = \\begin{cases}\n",
    "                                    \\frac{x-y+\\Delta x}{(\\Delta x)^2}, & -\\Delta x + y < x < y, \\\\\n",
    "                                    -\\frac{x-y-\\Delta x}{(\\Delta x)^2}, & y \\leq x < y+\\Delta x, \\\\\n",
    "                                    0, & \\text{else}.\n",
    "                           \\end{cases}\n",
    "$$\n",
    "\n",
    "- The $y$ in $d_{y, \\Delta x}(x)$ denotes the location where the force is centered.\n",
    "\n",
    "- The $\\Delta x$ in $d_{y, \\Delta x}(x)$ is used to denote the distance from $y$ for which the force is nonzero, i.e., the force is contained in $[y-\\Delta x, y+\\Delta x]$.\n",
    "\n",
    "- Note that the peak value of the force is obtained when $x=y$ and is a value of $1/\\Delta x$. \n",
    "\n",
    "- As $\\Delta x\\downarrow 0$, we see that the value of the force at $x=y$ increases to positive infinity. \n",
    "\n",
    "We show some plots of $d_{y,\\Delta x}(x)$ below for $a=0$, $b=1$, $\\Delta x = 0.1$ and $y=0.2, 0.5,$ and $0.7$. Students are encouraged to try different values here and also to create a function for the plotting and use an interactive widget to allow more seamless exploration of this $d_{y, \\Delta x}(x)$ function."
   ]
  },
  {
   "cell_type": "code",
   "execution_count": null,
   "id": "f24b0a91-2497-4709-a374-726bd2d8f224",
   "metadata": {},
   "outputs": [],
   "source": [
    "import numpy as np\n",
    "%matplotlib widget  \n",
    "import matplotlib.pyplot as plt"
   ]
  },
  {
   "cell_type": "code",
   "execution_count": null,
   "id": "2accab0f-d2cd-4b34-b6da-24d2bb15e64b",
   "metadata": {
    "collapsed": false,
    "jupyter": {
     "outputs_hidden": false
    }
   },
   "outputs": [],
   "source": [
    "def d_y(x, y, delta_x):\n",
    "    if (-delta_x + y) < x < y:\n",
    "        z = (x-y+delta_x)/(delta_x**2)\n",
    "    elif (y <= x < y + delta_x):\n",
    "        z = -(x-y-delta_x)/(delta_x**2)\n",
    "    else:\n",
    "        z = 0\n",
    "    return z"
   ]
  },
  {
   "cell_type": "code",
   "execution_count": null,
   "id": "dfc84081-2c05-4352-bdb1-cc36d6390172",
   "metadata": {
    "collapsed": false,
    "jupyter": {
     "outputs_hidden": false
    }
   },
   "outputs": [],
   "source": [
    "%matplotlib widget\n",
    "plt.figure(0)\n",
    "\n",
    "Delta_x = 0.1\n",
    "ys = [0.2,0.5,0.7]\n",
    "num_pts = 49  # number of interior points\n",
    "x_mesh = np.linspace(0,1,num_pts+2)\n",
    "f = np.zeros(num_pts+2)\n",
    "\n",
    "for y in ys:\n",
    "    for i in range(0,num_pts+2):\n",
    "        f[i] = d_y(x_mesh[i], y, Delta_x)\n",
    "    plt.plot(x_mesh, f, label=str(y))\n",
    "plt.legend();"
   ]
  },
  {
   "cell_type": "markdown",
   "id": "9ba287eb-6e9b-4bc6-beaa-98a62f4ef848",
   "metadata": {},
   "source": [
    "Using equations for the area of a triangle, we clearly see that \n",
    "\n",
    "$$\n",
    "   \\int_a^b d_{y,\\Delta x}(x) \\, dx = \\int_{y-\\Delta x}^{y+\\Delta x} d_{y,\\Delta x}\\, dx = 1\n",
    "$$ \n",
    "\n",
    "(assuming we did not choose $y$ too close to the boundary of $[a,b]$ which might truncate the support of this function).\n",
    "\n",
    "Now, with such a forcing function (based on choosing an appropriate $y$ and $\\Delta x$), we have that\n",
    "\n",
    "$$\n",
    "    \\begin{eqnarray}\n",
    "        u(x) &=& \\int_a^b G(x,y) d_{y,\\Delta x}(x)\\, dy \\\\\n",
    "             &=& \\int_{y-\\Delta x}^{y+\\Delta x} G(x,y) d_{y,\\Delta x}(x) \\, dy.\n",
    "    \\end{eqnarray}\n",
    "$$\n",
    "\n",
    "Assuming that $G$ is also continuous, the integral mean value theorem implies there exists some $c\\in(y-\\Delta x, y+\\Delta x)$ such that \n",
    "\n",
    "$$\n",
    "    u(x) = G(x,c)d_{y,\\Delta x}(c)(2\\Delta x).\n",
    "$$\n",
    "\n",
    "Since $\\int_a^b d_{y,\\Delta x}(x)\\, dx =  \\int_{y-\\Delta x}^{y+\\Delta x} d_{y,\\Delta x}\\, dx = 1$, we expect that for sufficiently small $\\Delta x$ that $d_{y,\\Delta x}(c)(2\\Delta x)\\approx 1$ (again by the integral mean value theorem). \n",
    "Moreover, for small $\\Delta x$, $c\\approx y$.\n",
    "Thus, for sufficiently small $\\Delta x$, we expect that\n",
    "\n",
    "$$\n",
    "    u(x) \\approx G(x,y).\n",
    "$$\n",
    "\n",
    "In other words, the Green's function describes how the bar bends at point $x$ due to a very localized unit force applied to the bar at point $y$. \n",
    "\n",
    "This suggests taking the limit as $\\Delta x\\downarrow 0$ of $d_{y,\\Delta x}(x)$ and defining the limit function as $\\delta_y(x)$, or simply as $\\delta(x-y)$, which by pointwise limits appears to have the properties that\n",
    "\n",
    "$$\n",
    "    \\delta(x-y)=0, \\ \\text{ if } x\\neq y \\Rightarrow \\delta(x) = 0, \\ \\text{ if } x\\neq 0,\n",
    "$$\n",
    "\n",
    "and\n",
    "\n",
    "$$\n",
    "    \\delta(x-y) = \\infty, \\ \\text{ if } x= y \\Rightarrow \\delta(x) = \\infty, \\ \\text{ if } x\\neq 0,\n",
    "$$\n",
    "\n",
    "and by the above integral approximations should also possess the properties that\n",
    "\n",
    "$$\n",
    "    \\int_a^b \\delta(x-y)\\, dx = \\left\\{\\begin{array}{rr}\n",
    "                                        1, & \\text{if } y\\in[a,b],\\\\\n",
    "                                        0, & \\text{if } y\\notin[a,b],\n",
    "                                        \\end{array}\n",
    "                                 \\right.\n",
    "$$\n",
    "\n",
    "and, for continuous functions $g$ on $[a,b]$, \n",
    "\n",
    "$$\n",
    "    \\int_a^b g(x)\\delta(x-y)\\, dx = \\left\\{\\begin{array}{rr}\n",
    "                                        g(y), & \\text{if } y\\in[a,b],\\\\\n",
    "                                        0, & \\text{if } y\\notin[a,b].\n",
    "                                        \\end{array}\n",
    "                                 \\right.\n",
    "$$\n",
    "\n",
    "Of course, *no such function can have these properties.* \n",
    "Nonetheless, we refer to this $\\delta$ as the Dirac delta function (see https://en.wikipedia.org/wiki/Dirac_delta_function), which is a type of *generalized* function where all the formal properties above are made quite rigorous using the theory of ***distributions*** (see https://en.wikipedia.org/wiki/Distribution_(mathematics)).\n",
    "However, this topic is beyond the scope of this course (it is best studied in a more advanced PDEs or special topics course after taking functional analysis).\n",
    "Therefore, we will simply use this Dirac delta function and all of its properties to derive formal solutions, Green's functions, etc. with the comforting knowledge that everything is somehow justified (similar to how we will use Fourier series later in the course)."
   ]
  },
  {
   "cell_type": "markdown",
   "id": "6f0ff556-5f93-4f57-ba5f-c7c9c278671d",
   "metadata": {},
   "source": [
    "---\n",
    "## Section 2.1.2: An Algorithmic Approach to Determining the Green's Function\n",
    "---\n",
    "\n",
    "We use the [Theorem from the Wiki page](https://en.wikipedia.org/wiki/Green's_function#Theorem) to determine an algorithm for solving  \n",
    "\n",
    "$$\n",
    "\\large -u'' = \\delta(x-y), \\ x\\in(a,b), \\ u(a)=0=u(b)\n",
    "$$\n",
    "\n",
    "where $y\\in(a,b)$ and $\\delta$ denotes the Dirac delta function. \n",
    "This solution determines the Green's function $G(x,y)$.\n",
    "\n",
    "From conditions 1 and 2 in the Theorem, we get the following\n",
    "> <span style='background:rgba(255,255,0, 0.5)'>Step 1: Determine continuous solutions to the homogeneous differential equation.</span>\n",
    "<br><br>\n",
    "The fundamental set of solutions is useful here, and the solution is broken up into two parts: where $x<y$ and where $y<x$.\n",
    "\n",
    "When $x\\neq y$, $\\delta(x-y)=0$. The fundamental set of solutions to the homogeneous ODE $-u''=0$ is given by\n",
    "\n",
    "$$\n",
    " \\large   \\{1, x\\}. \n",
    "$$\n",
    "\n",
    "Let $u^-(x)$ denote the part of the solution for $x<y$ and $u^+(x)$ denote the part of the solution for $x>y$. \n",
    "\n",
    "Then, we have that\n",
    "\n",
    "$$\n",
    " \\large u^-(x) = c_1 + c_2x,\n",
    "$$\n",
    "\n",
    "and\n",
    "\n",
    "$$\n",
    "\\large u^+(x) = c_3 + c_4x,\n",
    "$$\n",
    "\n",
    "where $c_1,c_2,c_3, $ and $c_4$ are constants. \n",
    "\n",
    "From conditions 3 and 4 in the Theorem, we get the following\n",
    "> <span style='background:rgba(255,255,0, 0.5)'>Step 2: Setup and solve a linear system to determine the constants.</span>\n",
    "<br><br>\n",
    "The boundary conditions and the fact that the derivative has to \"jump\" are the key things to use here to setup four conditions for the four unknown constants.\n",
    "\n",
    "We use the following four conditions to setup a linear system of equations to determine the constants:\n",
    "\n",
    "(1) $u^-(a) = 0$ *(This is the left BC, which applies to the $u^-$ function.)*\n",
    "\n",
    "(2) $u^+(b) = 0$ *(This is the right BC, which applies to the $u^+$ function.)*\n",
    "\n",
    "(3) $u^-(y) = u^+(y)$ *(This is the continuity criterion for the Green's function at the point $x=y$ in the interior of the domain.)*\n",
    "\n",
    "(4) $(u^+)'(y) - (u^-)'(y) = -1$ *(This is the \"jump\" criterion for the derivative of the Green's function at the point $x=y$ in the interior of the domain.)*\n",
    "\n",
    "It is conceptually convenient (but not necessary) to write these in the following order: (1), (3), (4), and (2). This represents a flow of information in the equations from left-to-right where the first equation represents the informatoin at $x=a$, the middle two equations represent the information at the interior point $x=y$, and the final equation represents the information at $x=b$. This gives the following system of equations.\n",
    "\n",
    "$$\n",
    "    \\left\\{\n",
    "        \\begin{array}{rrrrrrrrrr}\n",
    "            c_1 &+& ac_2 & &  & &   &=& 0, \\\\\n",
    "            -c_1 &-& yc_2 &+& c_3 &+& yc_4 &=& 0,\\\\\n",
    "                & & -c_2  & &     &+& c_4  &=& -1, \\\\\n",
    "                & &      & & c_3 &+& bc_4 &=& 0,\n",
    "        \\end{array}\n",
    "    \\right.\n",
    "$$\n",
    "\n",
    "which we solve below using the `sympy` library."
   ]
  },
  {
   "cell_type": "code",
   "execution_count": null,
   "id": "945ea228-1c30-48d6-af21-c9450159ac7c",
   "metadata": {
    "collapsed": false,
    "jupyter": {
     "outputs_hidden": false
    }
   },
   "outputs": [],
   "source": [
    "import sympy as sp \n",
    "\n",
    "a, b, x, y = sp.symbols('a, b, x, y')\n",
    "\n",
    "A = sp.Matrix(([1, a, 0, 0],\n",
    "               [-1, -y, 1, y],\n",
    "               [0, -1, 0, 1],\n",
    "               [0, 0, 1, b]))\n",
    "\n",
    "data = sp.Matrix([0,0,-1,0])\n",
    "\n",
    "cs = sp.linsolve((A, data))  # sympy as a linsolve function to solve matrix-vector problems\n",
    "print(cs)"
   ]
  },
  {
   "cell_type": "code",
   "execution_count": null,
   "id": "3d535b8e-20ba-4350-80aa-6ad346f8b035",
   "metadata": {},
   "outputs": [],
   "source": [
    "print(type(cs)) "
   ]
  },
  {
   "cell_type": "code",
   "execution_count": null,
   "id": "a7d29800-7e51-48ec-89ea-b16bd079d6f7",
   "metadata": {},
   "outputs": [],
   "source": [
    "cs  # Observe that this is a set, { }, containing a tuple, ( )"
   ]
  },
  {
   "cell_type": "code",
   "execution_count": null,
   "id": "38429bde-3bdc-49cc-b3da-f7a6aed4640c",
   "metadata": {},
   "outputs": [],
   "source": [
    "cs.args[0]  # We access the components of the set using the args command to get the tuple"
   ]
  },
  {
   "cell_type": "code",
   "execution_count": null,
   "id": "2ac6ebc0-f8f6-468c-a06e-b5f9d31dac3d",
   "metadata": {},
   "outputs": [],
   "source": [
    "# So maybe a better way to define the cs is to do the following\n",
    "cs_pretty = sp.linsolve((A, data))\n",
    "cs = cs_pretty.args[0]"
   ]
  },
  {
   "cell_type": "code",
   "execution_count": null,
   "id": "d47cd072-95cd-4272-a012-6fc3dd79215b",
   "metadata": {},
   "outputs": [],
   "source": [
    "cs"
   ]
  },
  {
   "cell_type": "code",
   "execution_count": null,
   "id": "1bf86292-38e6-49c6-ab8f-bca63b54cb66",
   "metadata": {
    "collapsed": false,
    "jupyter": {
     "outputs_hidden": false
    }
   },
   "outputs": [],
   "source": [
    "# The Green's function for x<y\n",
    "sp.factor(sp.simplify(cs[0] +  cs[1]*x))"
   ]
  },
  {
   "cell_type": "code",
   "execution_count": null,
   "id": "383a28be-cfb3-4395-a541-fbf7917779c2",
   "metadata": {
    "collapsed": false,
    "jupyter": {
     "outputs_hidden": false
    }
   },
   "outputs": [],
   "source": [
    "# The Green's function for y\\leq x\n",
    "sp.factor(sp.simplify(cs[2] + cs[3]*x))"
   ]
  },
  {
   "cell_type": "markdown",
   "id": "0b52f8f3-e9b7-4472-b86c-f17d969008f3",
   "metadata": {},
   "source": [
    "---\n",
    "#### The Green's function for the 2-pt BVP\n",
    "---\n",
    "\n",
    "From the above computation, we see that\n",
    "\n",
    "$$\n",
    "    \\large G(x,y) = \\left\\{ \\begin{array}{rr}\n",
    "                                \\frac{1}{a-b}(a-x)(b-y), & x<y, \\\\\n",
    "                                \\frac{1}{a-b}(a-y)(b-x), & y\\leq x.\n",
    "                            \\end{array}\n",
    "                    \\right.\n",
    "$$\n",
    "\n",
    "We often rewrite this as\n",
    "\n",
    "$$\n",
    "    \\large G(x,y) = \\left\\{ \\begin{array}{rr}\n",
    "                                \\frac{1}{b-a}(x-a)(b-y), & x<y, \\\\\n",
    "                                \\frac{1}{b-a}(y-a)(b-x), & y\\leq x.\n",
    "                            \\end{array}\n",
    "                    \\right.\n",
    "$$\n",
    "\n",
    "We define this using the `Piecewise` function available in `sympy`. "
   ]
  },
  {
   "cell_type": "code",
   "execution_count": null,
   "id": "238f06e2-aa37-4953-a26c-462b895141bb",
   "metadata": {
    "collapsed": false,
    "jupyter": {
     "outputs_hidden": false
    }
   },
   "outputs": [],
   "source": [
    "# Defining the Green's function in the manner in which sympy defined it\n",
    "G = sp.Piecewise(((a - x)*(b - y)/(a - b), x<y),\n",
    "                 ((a - y)*(b - x)/(a - b), y<=x))"
   ]
  },
  {
   "cell_type": "code",
   "execution_count": null,
   "id": "fef12cfe-29b6-425c-8cb2-8b0c67f07668",
   "metadata": {},
   "outputs": [],
   "source": [
    "print(G)"
   ]
  },
  {
   "cell_type": "code",
   "execution_count": null,
   "id": "22032ef3-c8d6-4619-9be9-7c7fd585bd38",
   "metadata": {},
   "outputs": [],
   "source": [
    "G  # A visual check"
   ]
  },
  {
   "cell_type": "markdown",
   "id": "531ebaff-648f-4195-8196-93fabb11625d",
   "metadata": {},
   "source": [
    "We ``lambdify`` this function so that we can easily evaluate it and make plots to check that everything is working for a more familiar case when $a=0$ and $b=1$."
   ]
  },
  {
   "cell_type": "code",
   "execution_count": null,
   "id": "fbd65792-998d-4259-bf31-78019e38603a",
   "metadata": {
    "collapsed": false,
    "jupyter": {
     "outputs_hidden": false
    }
   },
   "outputs": [],
   "source": [
    "from sympy.utilities.lambdify import lambdify\n",
    "\n",
    "G_eval = lambdify((a,b,x,y), G)"
   ]
  },
  {
   "cell_type": "code",
   "execution_count": null,
   "id": "d357a414-c7d7-4cc5-aede-0d6c8723234d",
   "metadata": {
    "collapsed": false,
    "jupyter": {
     "outputs_hidden": false
    }
   },
   "outputs": [],
   "source": [
    "# Students are encouraged to try different values of a_example and b_example here\n",
    "a_example = 0\n",
    "b_example = 1\n",
    "\n",
    "x_mesh = np.linspace(a_example, b_example, 201)\n",
    "\n",
    "y_pt1 = 0.2*(b_example-a_example)+a_example  # y_pt1 is 20% of the way from a to b\n",
    "y_pt2 = 0.5*(b_example-a_example)+a_example  # y_pt2 is 50% of the way from a to b\n",
    "y_pt3 = 0.9*(b_example-a_example)+a_example  # y_pt3 is 90% of the way from a to b\n",
    "\n",
    "%matplotlib widget\n",
    "plt.figure(1)\n",
    "plt.plot(x_mesh, G_eval(a_example,b_example,x_mesh,y_pt1), label='y_pt1')\n",
    "plt.plot(x_mesh, G_eval(a_example,b_example,x_mesh,y_pt2), label='y_pt2')\n",
    "plt.plot(x_mesh, G_eval(a_example,b_example,x_mesh,y_pt3), label='y_pt3')\n",
    "plt.legend()"
   ]
  },
  {
   "cell_type": "markdown",
   "id": "06b1c221-0e0a-4150-bb65-ae3da6a61197",
   "metadata": {},
   "source": [
    "---\n",
    "#### Student Activity\n",
    "---\n",
    "\n",
    "Use the Green's function derived above to determine solutions to the BVP when\n",
    "\n",
    "(a) $f(x)=1$\n",
    "\n",
    "(b) $f(x)=x$\n",
    "\n",
    "(c) $f(x)=x^2$\n",
    "\n",
    "Verify the functions $u(x)$ are indeed solutions to the BVP by direct substitution into the BVP. It may be simpler to first choose $a=0$ and $b=1$ to verify.\n",
    "\n",
    "*I get you started by showing how to do this for $f(x)=1$ in Python and also \"by hand\" and leave the rest for students.*"
   ]
  },
  {
   "cell_type": "code",
   "execution_count": null,
   "id": "5f75fa3c-72bc-478d-97c1-1fcd6131fe7b",
   "metadata": {
    "collapsed": false,
    "jupyter": {
     "outputs_hidden": false
    }
   },
   "outputs": [],
   "source": [
    "u1_indef = sp.integrate(G, y)\n",
    "u1_indef"
   ]
  },
  {
   "cell_type": "markdown",
   "id": "4afbafbb-ded5-4149-95dc-cff5e20fb184",
   "metadata": {},
   "source": [
    "No surprise here in that the antiderivative is itself a piecewise function on $[a,b]$.\n",
    "\n",
    "For $y\\in [a, x]$, the antiderivative is given by the top function shown above and for $y\\in[x,b]$ it is the bottom function shown above. \n",
    "\n",
    "Note that in integral form, solution $u(x)$ can be written as \n",
    "\n",
    "$$\n",
    "    u(x) = \\int_a^x G(x,y)f(y)\\, dy + \\int_x^b G(x,y)f(y)\\, dy.\n",
    "$$\n",
    "\n",
    "The first integral involves $y\\in [a,x]$ and the second integral involves $y\\in[x,b]$. We use this knowledge below."
   ]
  },
  {
   "cell_type": "code",
   "execution_count": null,
   "id": "68bbd85b-60b1-4fe7-b688-80b2466530af",
   "metadata": {},
   "outputs": [],
   "source": [
    "u1_indef.args[0]  # The top part (funciton and condition as a tuple)"
   ]
  },
  {
   "cell_type": "code",
   "execution_count": null,
   "id": "47f805c0-8d7d-45a5-8e91-6bef906c7fcd",
   "metadata": {},
   "outputs": [],
   "source": [
    "u1_indef.args[0][0]  # The first condition function"
   ]
  },
  {
   "cell_type": "code",
   "execution_count": null,
   "id": "077afcae-b7e6-4425-a3e2-f102b7825296",
   "metadata": {
    "collapsed": false,
    "jupyter": {
     "outputs_hidden": false
    }
   },
   "outputs": [],
   "source": [
    "int_a_to_x = sp.simplify(u1_indef.args[0][0].subs(y,x) - u1_indef.args[0][0].subs(y,a))\n",
    "int_a_to_x"
   ]
  },
  {
   "cell_type": "code",
   "execution_count": null,
   "id": "cfcf8615-7b81-423e-8d1a-445532179c43",
   "metadata": {},
   "outputs": [],
   "source": [
    "int_x_to_b = sp.simplify(u1_indef.args[1][0].subs(y,b) - u1_indef.args[1][0].subs(y,x))\n",
    "int_x_to_b"
   ]
  },
  {
   "cell_type": "code",
   "execution_count": null,
   "id": "ee4fe737-8230-4119-9489-d82a12ec0749",
   "metadata": {},
   "outputs": [],
   "source": [
    "u1 = sp.simplify(int_a_to_x + int_x_to_b)\n",
    "u1"
   ]
  },
  {
   "cell_type": "code",
   "execution_count": null,
   "id": "d8fef05d-08fc-4920-a47d-48480ac2fcbb",
   "metadata": {
    "collapsed": false,
    "jupyter": {
     "outputs_hidden": false
    }
   },
   "outputs": [],
   "source": [
    "u1 = sp.factor(int_a_to_x + int_x_to_b)\n",
    "print(\"Solution to part (a): u(x) = \")\n",
    "u1"
   ]
  },
  {
   "cell_type": "code",
   "execution_count": null,
   "id": "f3463d31-36ce-4c9e-bfc9-fafeeea35267",
   "metadata": {
    "collapsed": false,
    "jupyter": {
     "outputs_hidden": false
    }
   },
   "outputs": [],
   "source": [
    "# This is one way to substitute in values for a and b\n",
    "u1_fcn = lambdify((a, b), u1) \n",
    "print(\"Check with a=0, b=1: u(x) = \")\n",
    "u1_fcn(0,1)"
   ]
  },
  {
   "cell_type": "markdown",
   "id": "1905fffa-d2c1-43c2-aa98-33088a10990e",
   "metadata": {},
   "source": [
    "*Students should be able to directly verify that $u(x)=\\frac{1}{2}x(1-x)$ is indeed a solution to the BVP on $(0,1)$ and that the more general $u(x)$ given above is a solution to the BVP on $(a,b)$.*\n",
    "\n",
    "<mark>Now the \"by hand\" solution to (a).</mark>\n",
    "\n",
    "Before we do this, we notice that by definition of $G(x,y)$ we can expand and \"simplify\" (in a sense) the integral defining $u(x)$ as\n",
    "\n",
    "$$\n",
    "\\begin{align}\n",
    "    (b-a)u(x) &= (b-a)\\int_a^b G(x,y)  f(y)\\, dy \\\\ \\\\\n",
    "         &= \\underbrace{\\int_a^x (y-a)(b-x)f(y)\\, dy}_{\\text{factor out $(b-x)$ since indep. of $y$.}} + \\underbrace{\\int_x^b (x-a)(b-y)f(y)\\, dy}_{\\text{factor out $(x-a)$ since indep. of $y$.}} \\\\ \\\\\n",
    "         &= (b-x)\\int_a^x (y-a)f(y)\\, dy + (x-a)\\int_x^b (b-y)f(y)\\, dy \\\\ \\\\\n",
    "\\end{align}\n",
    "$$\n",
    "\n",
    "Now, with $f(x)=1$ (so $f(y)=1$), we substitute this into the above form and get\n",
    "\n",
    "$$\n",
    "\\begin{align}\n",
    "    (b-a)u(x) &= (b-x)\\int_a^x (y-a)\\, dy + (x-a)\\int_x^b (b-y)\\, dy \\\\ \\\\\n",
    "              &= (b-x)\\left[\\frac{y^2}{2} - ay\\right]_a^x + (x-a)\\left[by - \\frac{y^2}{2}\\right]_x^b \\\\ \\\\\n",
    "              &= (b-x)\\left[\\frac{x^2}{2} - ax - \\frac{a^2}{2} + a^2\\right] + (x-a)\\left[b^2 - \\frac{b^2}{2} - bx + \\frac{x^2}{2}\\right]\n",
    "\\end{align}.\n",
    "$$\n",
    "\n",
    "Ugh, now for algebraic mathemagic via `sympy` (don't forget to divide through by $(b-a)$ at the end)."
   ]
  },
  {
   "cell_type": "code",
   "execution_count": null,
   "id": "4eb00409-ff6d-40f3-ab22-4c43019fa3fa",
   "metadata": {},
   "outputs": [],
   "source": [
    "u_hand = ( (b-x) * (x**2/2-a*x-a**2/2+a**2) + (x-a) * (b**2-b**2/2-b*x+x**2/2) ) / (b-a)\n",
    "u_hand"
   ]
  },
  {
   "cell_type": "code",
   "execution_count": null,
   "id": "6412c97a-67b2-45cf-b6fb-d23f0fc16012",
   "metadata": {},
   "outputs": [],
   "source": [
    "sp.factor(sp.simplify(u_hand))"
   ]
  },
  {
   "cell_type": "code",
   "execution_count": null,
   "id": "48e97892-a12a-4886-8d02-94da1505a22e",
   "metadata": {},
   "outputs": [],
   "source": [
    "u_hand.subs({a:0, b:1}).simplify()"
   ]
  },
  {
   "cell_type": "code",
   "execution_count": null,
   "id": "7b63222d-6320-49a8-811b-2418abb5d620",
   "metadata": {},
   "outputs": [],
   "source": [
    "# Use this and new code cells to compute the solution to (b)"
   ]
  },
  {
   "cell_type": "code",
   "execution_count": null,
   "id": "15312b76-1881-4b70-9bd0-467b795104e5",
   "metadata": {},
   "outputs": [],
   "source": [
    "# Use this and new code cells to compute the solution to (c)"
   ]
  },
  {
   "cell_type": "code",
   "execution_count": null,
   "id": "35d83115-2501-4eb0-bcb1-daaf032272ef",
   "metadata": {},
   "outputs": [],
   "source": []
  },
  {
   "cell_type": "markdown",
   "id": "c841ed6d-737b-48f6-b6a3-2e69cc212f43",
   "metadata": {},
   "source": [
    "---\n",
    "### Section 2.1.3: Finding Green's Functions for Related 2-pt BVPs\n",
    "---\n",
    "\n",
    "What would the Green's function be if the PDE changed to $-u''+u = f(x)$?\n",
    "\n",
    "For simplicity below, assume $a=0$ and $b=1$ and that homogeneous Dirichlet conditions are used. In that case, the fundamental set of solutions for $-u''+u=0$ is given by $\\{e^{-x}, e^x\\}$. Below, we present the code for obtaining the Green's function based on this fundamental set of solutions. "
   ]
  },
  {
   "cell_type": "code",
   "execution_count": null,
   "id": "494f2833-f38a-410f-93f3-79b772457d16",
   "metadata": {
    "collapsed": false,
    "jupyter": {
     "outputs_hidden": false
    }
   },
   "outputs": [],
   "source": [
    "x, y = sp.symbols('x, y')\n",
    "\n",
    "A = sp.Matrix(([1, 1, 0, 0],\n",
    "               [-sp.exp(-y), -sp.exp(y), sp.exp(-y), sp.exp(y)],\n",
    "               [sp.exp(-y), -sp.exp(y), -sp.exp(-y), sp.exp(y)],\n",
    "               [0,0,sp.exp(-1),sp.exp(1)]))\n",
    "\n",
    "data = sp.Matrix([0,0,-1,0])\n",
    "\n",
    "cs_pretty = sp.linsolve((A, data))\n",
    "cs_pretty"
   ]
  },
  {
   "cell_type": "code",
   "execution_count": null,
   "id": "d6226429-366f-47bd-b899-b2fea9e162f7",
   "metadata": {},
   "outputs": [],
   "source": [
    "cs = cs_pretty.args[0]\n",
    "cs"
   ]
  },
  {
   "cell_type": "code",
   "execution_count": null,
   "id": "022f33e1-13c0-49ad-9838-7d152e7e7e08",
   "metadata": {
    "collapsed": false,
    "jupyter": {
     "outputs_hidden": false
    }
   },
   "outputs": [],
   "source": [
    "G = sp.Piecewise((cs[0]*sp.exp(-x)+cs[1]*sp.exp(x), x<y),\n",
    "                 (cs[2]*sp.exp(-x)+cs[3]*sp.exp(x), y<=x))"
   ]
  },
  {
   "cell_type": "code",
   "execution_count": null,
   "id": "a77d68f3-0592-48ec-9597-7aa7b8f3db13",
   "metadata": {},
   "outputs": [],
   "source": [
    "G.simplify()"
   ]
  },
  {
   "cell_type": "code",
   "execution_count": null,
   "id": "58b115bf-769a-4125-9d99-155e369d7e7c",
   "metadata": {
    "collapsed": false,
    "jupyter": {
     "outputs_hidden": false
    }
   },
   "outputs": [],
   "source": [
    "G_eval = lambdify((x,y), G)"
   ]
  },
  {
   "cell_type": "code",
   "execution_count": null,
   "id": "d64b6e82-d0db-4173-a03c-becd531aaa10",
   "metadata": {
    "collapsed": false,
    "jupyter": {
     "outputs_hidden": false
    }
   },
   "outputs": [],
   "source": [
    "num_pts = 49\n",
    "x_mesh = np.linspace(0, 1, num_pts + 2)\n",
    "\n",
    "y_pt1 = 0.2\n",
    "y_pt2 = 0.5\n",
    "y_pt3 = 0.9\n",
    "\n",
    "G_plot = 0*x_mesh\n",
    "\n",
    "%matplotlib widget\n",
    "plt.figure(2)\n",
    "\n",
    "for i in range(num_pts+2):\n",
    "    G_plot[i] = G_eval(x_mesh[i], y_pt1)   \n",
    "plt.plot(x_mesh, G_plot, label='y_pt1')\n",
    "\n",
    "for i in range(num_pts+2):\n",
    "    G_plot[i] = G_eval(x_mesh[i], y_pt2)   \n",
    "plt.plot(x_mesh, G_plot, label='y_pt2')\n",
    "\n",
    "for i in range(num_pts+2):\n",
    "    G_plot[i] = G_eval(x_mesh[i],y_pt3)   \n",
    "plt.plot(x_mesh, G_plot, label='y_pt3')\n",
    "\n",
    "plt.legend()"
   ]
  },
  {
   "cell_type": "markdown",
   "id": "c42b84ed-c97a-4c46-9773-b3f9130e31e1",
   "metadata": {},
   "source": [
    "The plots above *look* similar to the previous plots associated with the Green's function for $-u''=f(x)$, but if you look closely enough, you will see there is a slight curvature to the \"line\" segments plotted above.\n",
    "\n",
    "We explore this below in more detail."
   ]
  },
  {
   "cell_type": "code",
   "execution_count": null,
   "id": "4508d9b8-30a2-484e-ad8d-b029eabdfbed",
   "metadata": {},
   "outputs": [],
   "source": [
    "# The original Green's function for -u''=f\n",
    "G1 = sp.Piecewise(((a - x)*(b - y)/(a - b), x<y),\n",
    "                  ((a - y)*(b - x)/(a - b), y<=x))"
   ]
  },
  {
   "cell_type": "code",
   "execution_count": null,
   "id": "7b5b3e74-ae92-4191-be4a-b9f2a5050a51",
   "metadata": {},
   "outputs": [],
   "source": [
    "G_diff = sp.Piecewise((G.args[0][0] - G1.args[0][0].subs({a:0, b:1}), x<y),\n",
    "                      (G.args[1][0] - G1.args[1][0].subs({a:0, b:1}), y<=x))\n",
    "G_eval = lambdify((x,y), G_diff)"
   ]
  },
  {
   "cell_type": "code",
   "execution_count": null,
   "id": "ab6a86c3-3bc1-4305-8427-c4fbc8e7aaf6",
   "metadata": {},
   "outputs": [],
   "source": [
    "num_pts = 49\n",
    "x_mesh = np.linspace(0, 1, num_pts + 2)\n",
    "\n",
    "y_pt1 = 0.2\n",
    "y_pt2 = 0.5\n",
    "y_pt3 = 0.9\n",
    "\n",
    "G_plot = 0*x_mesh\n",
    "\n",
    "%matplotlib widget\n",
    "plt.figure(3)\n",
    "\n",
    "for i in range(num_pts+2):\n",
    "    G_plot[i] = G_eval(x_mesh[i], y_pt1)   \n",
    "plt.plot(x_mesh, G_plot, label='y_pt1')\n",
    "\n",
    "for i in range(num_pts+2):\n",
    "    G_plot[i] = G_eval(x_mesh[i], y_pt2)   \n",
    "plt.plot(x_mesh, G_plot, label='y_pt2')\n",
    "\n",
    "for i in range(num_pts+2):\n",
    "    G_plot[i] = G_eval(x_mesh[i],y_pt3)   \n",
    "plt.plot(x_mesh, G_plot, label='y_pt3')\n",
    "\n",
    "plt.legend()"
   ]
  },
  {
   "cell_type": "markdown",
   "id": "423790fd-025f-4139-8407-3bbc756d7563",
   "metadata": {},
   "source": [
    "What if the PDE was changed to $-u'' - u = f$?\n",
    "\n",
    "In this case, the FSS is $\\{\\cos(x), \\sin(x)\\}$, so $u^-(x) = c_1\\cos(x)+c_2\\sin(x)$ and $u^+(x)=c_3\\cos(x)+c_4\\sin(x)$."
   ]
  },
  {
   "cell_type": "code",
   "execution_count": null,
   "id": "92463287-b2c8-4699-973e-06815b085faf",
   "metadata": {
    "collapsed": false,
    "jupyter": {
     "outputs_hidden": false
    }
   },
   "outputs": [],
   "source": [
    "x, y = sp.symbols('x, y')\n",
    "\n",
    "A = sp.Matrix(([1, 0, 0, 0],\n",
    "               [-sp.cos(y), -sp.sin(y), sp.cos(y), sp.sin(y)],\n",
    "               [sp.sin(y), -sp.cos(y), -sp.sin(y), sp.cos(y)],\n",
    "               [0, 0, sp.cos(1), sp.sin(1)]))\n",
    "\n",
    "data = sp.Matrix([0,0,-1,0])\n",
    "\n",
    "cs_pretty = sp.linsolve((A, data))\n",
    "cs_pretty"
   ]
  },
  {
   "cell_type": "code",
   "execution_count": null,
   "id": "1b6d09e9-c8f0-4736-a035-7da8345c7a58",
   "metadata": {},
   "outputs": [],
   "source": [
    "cs = cs_pretty.args[0]\n",
    "cs"
   ]
  },
  {
   "cell_type": "code",
   "execution_count": null,
   "id": "f5283e0e-18bb-4053-865a-42aa0f500971",
   "metadata": {
    "collapsed": false,
    "jupyter": {
     "outputs_hidden": false
    }
   },
   "outputs": [],
   "source": [
    "G = sp.Piecewise((cs[0]*sp.cos(x)+cs[1]*sp.sin(x), x<y),\n",
    "                 (cs[2]*sp.cos(x)+cs[3]*sp.sin(x), y<=x))"
   ]
  },
  {
   "cell_type": "code",
   "execution_count": null,
   "id": "3cd588a3-3c98-41ba-afe6-48eba53c33c2",
   "metadata": {},
   "outputs": [],
   "source": [
    "G.simplify()"
   ]
  },
  {
   "cell_type": "code",
   "execution_count": null,
   "id": "0f8ff2e6-4e27-4286-9945-313b28d2f453",
   "metadata": {
    "collapsed": false,
    "jupyter": {
     "outputs_hidden": false
    }
   },
   "outputs": [],
   "source": [
    "G_eval = lambdify((x,y), G)"
   ]
  },
  {
   "cell_type": "code",
   "execution_count": null,
   "id": "30ff241e-da36-4a47-9018-4b556ae36e52",
   "metadata": {
    "collapsed": false,
    "jupyter": {
     "outputs_hidden": false
    }
   },
   "outputs": [],
   "source": [
    "num_pts = 49\n",
    "x_mesh = np.linspace(0, 1, num_pts + 2)\n",
    "\n",
    "y_pt1 = 0.2\n",
    "y_pt2 = 0.5\n",
    "y_pt3 = 0.9\n",
    "\n",
    "G_plot = 0*x_mesh\n",
    "\n",
    "%matplotlib widget\n",
    "plt.figure(3)\n",
    "\n",
    "for i in range(num_pts+2):\n",
    "    G_plot[i] = G_eval(x_mesh[i], y_pt1)   \n",
    "plt.plot(x_mesh, G_plot, label='y_pt1')\n",
    "\n",
    "for i in range(num_pts+2):\n",
    "    G_plot[i] = G_eval(x_mesh[i], y_pt2)   \n",
    "plt.plot(x_mesh, G_plot, label='y_pt2')\n",
    "\n",
    "for i in range(num_pts+2):\n",
    "    G_plot[i] = G_eval(x_mesh[i],y_pt3)   \n",
    "plt.plot(x_mesh, G_plot, label='y_pt3')\n",
    "\n",
    "plt.legend()"
   ]
  },
  {
   "cell_type": "markdown",
   "id": "be09caed-40ea-447b-b9b2-86ce077f7608",
   "metadata": {},
   "source": [
    "---\n",
    "### Section 2.1.4: Defining a `class` for Solving 2-pt BVPs\n",
    "---\n",
    "\n",
    "The process used above involved a lot of copy/paste and editing for the specific details that we kept changing between different PDEs. \n",
    "\n",
    "This process, quite frankly, is stupid. It is very likely that we are going to make errors by doing this. Instead, it is better to encode the process in a class. A user-defined function also does the trick, but considering that we are solving a *class of problems* with the Green's function, it makes sense to define a `class` of solvers.\n",
    "\n",
    "If you need a quick tutorial (or a refresher) on the basics of Object Oriented Programming (OOP), then I suggest you check out this [notebook](https://github.com/CU-Denver-UQ/Math1376/blob/master/Lectures-and-Assignments/04-Computational-Applications/04-Computational-applications-lecture-prologue.ipynb)."
   ]
  },
  {
   "cell_type": "code",
   "execution_count": null,
   "id": "cac88c1a-bfce-4d98-84f1-6288c7046e93",
   "metadata": {},
   "outputs": [],
   "source": [
    "class solve_2pt_BVP_Dirichlet(object):\n",
    "    def __init__(self, a, b, f1, f2):\n",
    "        '''\n",
    "        Initialize object for solving a 2pt BVP with homogeneous Dirichlet conditions.\n",
    "        \n",
    "        Parameters\n",
    "        ----------\n",
    "        a : float, int, or sympy.core.symbol.Symbol\n",
    "            position of left-endpoint\n",
    "        b : float, int, or sympy.core.symbol.Symbol\n",
    "            position of right-endpoint\n",
    "        f1 : A symbolic function of symbolic variable x\n",
    "            first fundamental solution to homogeneous ODE\n",
    "        f2 : A symbolic function of symbolic variable x\n",
    "            second fundamental solution\n",
    "        '''\n",
    "        self.a = a\n",
    "        self.b = b\n",
    "        self.f1 = f1\n",
    "        self.f2 = f2\n",
    "        self.make_G()\n",
    "        \n",
    "    def make_G(self):\n",
    "        '''\n",
    "        Construct the Green's function.\n",
    "        \n",
    "        Note that we use the subs command to substitute in a, b, and y for x\n",
    "        in the functions f1 and f2, as appropriate, for the various constraints \n",
    "        associated with constructing the Green's function.\n",
    "        '''\n",
    "        x, y = sp.symbols('x, y')\n",
    "\n",
    "        A = sp.Matrix(([self.f1.subs({x:self.a}), self.f2.subs({x:self.a}), 0, 0],\n",
    "                       [-self.f1.subs({x:y}), -self.f2.subs({x:y}), self.f1.subs({x:y}), self.f2.subs({x:y})],\n",
    "                       [-sp.diff(self.f1).subs({x:y}), -sp.diff(self.f2).subs({x:y}), sp.diff(self.f1).subs({x:y}), sp.diff(self.f2).subs({x:y})],\n",
    "                       [0, 0, self.f1.subs({x:self.b}), self.f2.subs({x:self.b})]))\n",
    "\n",
    "        data = sp.Matrix([0,0,-1,0])\n",
    "\n",
    "        cs = sp.linsolve((A, data)).args[0]\n",
    "        \n",
    "        self.G = sp.simplify( sp.Piecewise( (sp.factor(cs[0]*self.f1+cs[1]*self.f2), x<y),\n",
    "                                            (sp.factor(cs[2]*self.f1+cs[3]*self.f2), y<=x) ) )\n",
    "        \n",
    "        self.G_eval = lambdify((x,y), self.G)\n",
    "        \n",
    "    def set_data_and_solve(self, f):\n",
    "        '''\n",
    "        Give a source term, f, and solve the problem. \n",
    "        Assume f is given as symbolic function of x. \n",
    "        Store this f as a new data attribute self.f. \n",
    "        \n",
    "        We use the subs command to substitute y for x \n",
    "        to turn f into a symbolic function of y when\n",
    "        integrating G(x,y)f(y) with respect to y.\n",
    "        '''\n",
    "        # Store f as a new data attribute\n",
    "        self.f = f\n",
    "        \n",
    "        # Create symbolic variables x and y for the integration problems\n",
    "        x, y = sp.symbols('x, y')\n",
    "        \n",
    "        # Now obtain the indefinite integral of G*f with respect to y\n",
    "        # Note that the use of sp.factor can help break up the integrand \n",
    "        # into smaller, more manageable components, for the symbolic integrator\n",
    "        u_form = sp.integrate(sp.factor(self.G*self.f), y)  \n",
    "        \n",
    "        # Now compute the definite integrals from a to x and from x to b.\n",
    "        int_a_x = sp.simplify(u_form.args[0][0].subs(y, x) - u_form.args[0][0].subs(y, self.a))\n",
    "        int_x_b = sp.simplify(u_form.args[1][0].subs(y, self.b) - u_form.args[1][0].subs(y, x))\n",
    "        \n",
    "        # Now add the definite integrals together to get u(x) and store as data attribute\n",
    "        self.u = sp.factor(int_a_x+int_x_b)"
   ]
  },
  {
   "cell_type": "markdown",
   "id": "3605c4bf-40a6-4cd2-93ee-31884c9d5613",
   "metadata": {},
   "source": [
    "----\n",
    "#### Insantiate and use the class\n",
    "---\n",
    "\n",
    "Below, we check our class against results from the previous Student Activity."
   ]
  },
  {
   "cell_type": "code",
   "execution_count": null,
   "id": "7cc5dc20-21ca-43a8-a4a2-91a548b1237a",
   "metadata": {},
   "outputs": [],
   "source": [
    "a, b, x, y = sp.symbols('a, b, x, y')  # Just in case these were overwritten above"
   ]
  },
  {
   "cell_type": "code",
   "execution_count": null,
   "id": "a516b034-2329-4b71-8bfa-2b0a30021c6a",
   "metadata": {},
   "outputs": [],
   "source": [
    "# One way to initialize solution object for the previos Student Activity\n",
    "# which involves the 1st PDE, -u''=f, where we keep (a,b) arbitrary\n",
    "\n",
    "solve_1st_pde = solve_2pt_BVP_Dirichlet(a, b, 1+0*x, x)  # Used 1+0*x to create symbolic constant 1 function "
   ]
  },
  {
   "cell_type": "code",
   "execution_count": null,
   "id": "a7060279-f2b9-47b6-8b09-4e95f10b657d",
   "metadata": {},
   "outputs": [],
   "source": [
    "solve_1st_pde.G"
   ]
  },
  {
   "cell_type": "code",
   "execution_count": null,
   "id": "5fbd4d1f-92c5-4cfd-b71c-fa87dface414",
   "metadata": {},
   "outputs": [],
   "source": [
    "# One way to initialize solution object for the 2nd PDE, -u''+u=f with a=0 and b=1\n",
    "\n",
    "solve_2nd_pde = solve_2pt_BVP_Dirichlet(0, 1, sp.exp(-x), sp.exp(x))"
   ]
  },
  {
   "cell_type": "code",
   "execution_count": null,
   "id": "9bc579f4-88f9-4dcb-80dc-d5e3737c5d27",
   "metadata": {},
   "outputs": [],
   "source": [
    "solve_2nd_pde.G"
   ]
  },
  {
   "cell_type": "code",
   "execution_count": null,
   "id": "ecd487c6-229b-4259-94c6-dff50313acf3",
   "metadata": {},
   "outputs": [],
   "source": [
    "# One way to initialize solution object for the 3rd PDE, -u''-u=f with a=0 and b=1\n",
    "\n",
    "solve_3rd_pde = solve_2pt_BVP_Dirichlet(0, 1, sp.cos(x), sp.sin(x))"
   ]
  },
  {
   "cell_type": "code",
   "execution_count": null,
   "id": "26131105-038d-40ac-b31e-8b02adacc378",
   "metadata": {},
   "outputs": [],
   "source": [
    "solve_3rd_pde.G"
   ]
  },
  {
   "cell_type": "code",
   "execution_count": null,
   "id": "c8896f51-3f88-4410-9477-1e8a9afb44e8",
   "metadata": {},
   "outputs": [],
   "source": [
    "solve_1st_pde.set_data_and_solve(1+0*y)  # The constant 1 function as a function of y"
   ]
  },
  {
   "cell_type": "code",
   "execution_count": null,
   "id": "2a046dad-0bad-48e8-bd26-13994430a539",
   "metadata": {},
   "outputs": [],
   "source": [
    "solve_1st_pde.u"
   ]
  },
  {
   "cell_type": "code",
   "execution_count": null,
   "id": "3300fbf2-531f-4bd5-8e1e-60ff3b93a314",
   "metadata": {},
   "outputs": [],
   "source": [
    "sp.simplify(solve_1st_pde.u.subs({a: 0, b: 1}))  # Should be 0.5*x(1-x)"
   ]
  },
  {
   "cell_type": "code",
   "execution_count": null,
   "id": "6745160b-66e3-4ae3-bd6a-9fb89896c88f",
   "metadata": {},
   "outputs": [],
   "source": [
    "# How to solve for some hard data\n",
    "solve_1st_pde.set_data_and_solve(sp.exp(-y**2))"
   ]
  },
  {
   "cell_type": "code",
   "execution_count": null,
   "id": "6ef6b411-01c6-4616-ab01-8648f8f1820c",
   "metadata": {},
   "outputs": [],
   "source": [
    "sp.simplify(solve_1st_pde.u.subs({a: 0, b: 1}))  # Should be ??? Something nuts."
   ]
  },
  {
   "cell_type": "code",
   "execution_count": null,
   "id": "eebc0600-04b1-4169-b593-6cbf6a590668",
   "metadata": {},
   "outputs": [],
   "source": [
    "solve_2nd_pde.set_data_and_solve(1+0*y)\n",
    "sp.simplify(solve_2nd_pde.u)  # This is also going to be nuts!"
   ]
  },
  {
   "cell_type": "code",
   "execution_count": null,
   "id": "d488dabd-63b9-4efb-94d2-bc31b662cf6b",
   "metadata": {},
   "outputs": [],
   "source": [
    "solve_3rd_pde.set_data_and_solve(1+0*y)\n",
    "solve_3rd_pde.u  # Relatively speaking, this doesn't look too bad"
   ]
  },
  {
   "cell_type": "code",
   "execution_count": null,
   "id": "f7caec68-3d64-4c2f-bbcd-dd4a79e62efc",
   "metadata": {},
   "outputs": [],
   "source": [
    "sp.simplify(solve_1st_pde.u.subs({a: 2, b: 3}))  # Can you imagine doing this by hand?"
   ]
  },
  {
   "cell_type": "code",
   "execution_count": null,
   "id": "df688281-cff6-4995-9559-b909b92ce4d5",
   "metadata": {},
   "outputs": [],
   "source": [
    "# For a given a and b, this is how you turn u into an evaluatable function of x\n",
    "u_eval = lambdify(x, solve_1st_pde.u.subs({a: 0, b: 10}))  "
   ]
  },
  {
   "cell_type": "code",
   "execution_count": null,
   "id": "bf2b1369-5f6b-49b0-8333-07fbf12e5880",
   "metadata": {},
   "outputs": [],
   "source": [
    "u_eval(3)"
   ]
  },
  {
   "cell_type": "markdown",
   "id": "cbb7e395-2263-4f2b-8a18-830835a54744",
   "metadata": {
    "tags": []
   },
   "source": [
    "---\n",
    "#### Student Activity\n",
    "---\n",
    "\n",
    "If you really want to test your understanding of the theory and ability to code correctly, then here are two things to try. \n",
    "\n",
    "First, students are encouraged to generalize the class above to a `solve_2pt_BVP` superclass (also known as a base or parent class), and then sub-class a few solvers from this superclass based on different types of homogeneous boundary conditions (e.g., Robin, mixed-type, etc. although I would make sure that at least one of the boundary conditions was either Robin or Dirichlet to ensure the existence of a unique Green's function). \n",
    "\n",
    "Second, students are also encouraged to code a general `solve_2pt_BVP` that handles all types of boundary conditions based on the general algorthmic approach to constructing Green's functions as discussed at the top of this notebook when referencing the [Theorem from the Wiki page](https://en.wikipedia.org/wiki/Green's_function#Theorem). In other words, there are no sub-classes from this class. It is just a one-stop solver for all 2-point BVPs with homogeneous boundary conditions. *Hint: In this case, the `A` and `data` matrices constructed in the `make_G` method should probably involve some logic (i.e., conditionals) that handle how to construct these matrices based on the boundary types.*\n",
    "\n",
    "Which approach to you prefer? Why?\n",
    "\n",
    "*We will discuss the ideas of this activity in class, but the actual implementation is left as a non-required homework for the truly inspired student.*"
   ]
  },
  {
   "cell_type": "code",
   "execution_count": null,
   "id": "ef444ffb-7592-49b6-acbd-8676e8d27af0",
   "metadata": {},
   "outputs": [],
   "source": []
  },
  {
   "cell_type": "code",
   "execution_count": null,
   "id": "053a186e-dd58-4dec-bcd4-e436d72dc25e",
   "metadata": {},
   "outputs": [],
   "source": []
  },
  {
   "cell_type": "code",
   "execution_count": null,
   "id": "bab376a4-e4fa-4968-b236-5a5ca47e129a",
   "metadata": {},
   "outputs": [],
   "source": []
  },
  {
   "cell_type": "markdown",
   "id": "b24bc761-cfe4-4731-bf56-c645b8c36fba",
   "metadata": {},
   "source": [
    "---\n",
    "### Section 2.1.5: Existence, Uniqueness, and Smoothness of Solutions</a>\n",
    "---\n",
    "<br>\n",
    "\n",
    "We summarize the main result as Theorem 2.1.1 below. \n",
    "\n",
    "---\n",
    "#### Theorem 2.1.1: Existence, Uniqueness and Smoothness (EUS). \n",
    "\n",
    "For every $f\\in \\mathcal{C}^k((a,b))$, there exists a unique solution $u\\in\\mathcal{C}^{k+2}((a,b))$ of the BVP \n",
    "\n",
    "$$\n",
    "\\begin{cases}\n",
    "    -u'' &= f, \\ x\\in(a,b), \\\\\n",
    "    u(a)=u(b) &= 0.\n",
    "\\end{cases}\n",
    "$$\n",
    "\n",
    "Furthermore, the solution $u$ admits the representation given by\n",
    "\n",
    "$$\n",
    "    u(x) = \\int_a^b G(x,y)f(y)\\, dy\n",
    "$$\n",
    "\n",
    "where $G(x,y)$ is given by\n",
    "\n",
    "$$\n",
    "    G(x,y) = \\left\\{ \\begin{array}{rr}\n",
    "                                \\frac{1}{a-b}(a-x)(b-y), & x<y, \\\\\n",
    "                                \\frac{1}{a-b}(a-y)(b-x), & y\\leq x.\n",
    "                            \\end{array}\n",
    "                    \\right.\n",
    "$$\n",
    "\n",
    "---\n",
    "\n",
    "<br>\n",
    "\n",
    "The proof is relatively straightforward. If we prove that $u(x)$ given in the form above is twice differentiable and satisfies the BVP, then we have that a solution exists in $\\mathcal{C}^{k+2}((a,b))$. To prove uniqueness, we use the standard technique of assuming two solutions exist and showing that their difference must be zero.\n",
    "<br><br>\n",
    "\n",
    "---\n",
    "#### Proof of Theorem 2.1.1:\n",
    "\n",
    "Let \n",
    "\n",
    "$$\n",
    "    u(x) = \\int_a^b G(x,y)f(y)\\, dy.\n",
    "$$\n",
    "\n",
    "We show that $u''$ exists and that this satisfies the BVP.\n",
    "\n",
    "First, we differentiate $u$ with respect to $x$ and formally write $G_x$ which can be determined on the intervals $(a,x)$ and $(x,b)$ for which $y<x$ and $x<y$, respectively, to give\n",
    "\n",
    "$$\n",
    "\\begin{align}\n",
    "    u'(x) &= \\int_a^b G_x(x,y)f(y)\\, dy \\\\ \\\\\n",
    "          &= -\\frac{1}{a-b}\\int_a^x  (a-y)f(y)\\, dy - \\frac{1}{a-b}\\int_x^b (b-y)f(y)\\, dy.\n",
    "\\end{align}\n",
    "$$\n",
    "\n",
    "Then, differentiating again with the Fundamental Theorem of Calculus gives\n",
    "\n",
    "$$\n",
    "\\begin{align}\n",
    "    u''(x) &= -\\frac{1}{a-b}(a-x)f(x) + \\frac{1}{a-b} (b-x)f(x) \\\\ \\\\\n",
    "           &= \\frac{f(x)}{a-b}\\left[(b-x) - (a-x)\\right] \\\\ \\\\ \n",
    "           &= -f(x).\n",
    "\\end{align}\n",
    "$$\n",
    "\n",
    "Thus, the given $u$ satisfies the PDE. Since $u''=-f(x)$ and $f\\in\\mathcal{C}^k((a,b))$, it follows that $u\\in\\mathcal{C}^{k+2}$, i.e., $u$ is twice as smooth as $f$.\n",
    "\n",
    "To verify the BCs, we observe that if $x=0$, then $G(0,y) = 0$, so $u(0)=0$. Similarly, $G(1,y)=0$, so $u(1)=0$. Thus, $u$ satisfies both the PDE and the BCs so its a solution to the two-point BVP.\n",
    "\n",
    "If $w$ is another solution to the two-point BVP and we let $v = u-w$, then it is straightforward to show that $v$ satisfies the two-point BVP\n",
    "\n",
    "$$\n",
    "    v''=0, \\ x\\in(a,b), \\ v(a)=0=v(b).\n",
    "$$\n",
    "\n",
    "Solutions to $v''=0$ have the form $v(x)=c_1x+c_2$ for some constants $c_1$ and $c_2$. Using the BVs to determine these constants, we see that $c_1=c_2=0$, so $v(x)\\equiv 0$, which implies that $u=w$. In other words, $u$ is the unique solution to the two-point BVP. \n",
    "$\\Box$\n",
    "---"
   ]
  },
  {
   "cell_type": "markdown",
   "id": "33e346f0-f66a-45f4-ab67-9112ca2dc143",
   "metadata": {},
   "source": [
    "---\n",
    "### Section 2.1.6: Important Properties of Solutions $u$\n",
    "---\n",
    "\n",
    "The solution to \n",
    "\n",
    "$$\n",
    "\\begin{cases}\n",
    "    -u'' &= f, \\ x\\in(a,b), \\\\\n",
    "    u(a)=u(b) &= 0.\n",
    "\\end{cases}\n",
    "$$\n",
    "\n",
    "has two more important properties we discuss here.\n",
    "\n",
    "<br>\n",
    "\n",
    "---\n",
    "#### Theorem 2.1.2: Monotonicity\n",
    "\n",
    "Assume that $f\\in\\mathcal{C}((a,b))$ is a nonnegative function, then the solution $u\\in\\mathcal{C}^2((a,b))$ is also nonnegative.\n",
    "\n",
    "---\n",
    "\n",
    "<br>\n",
    "\n",
    "---\n",
    "#### Proof of Theorem 2.1.2:\n",
    "\n",
    "Observe that $G(x,y)\\geq 0$ for all $x,y\\in[a,b]$, so this follows from the form of the solution $u$ given in Theorem 2.1.1 since the integral from $a$ to $b$ with $a<b$ of a nonnegative function is nonnegative. \n",
    "$\\Box$\n",
    "---\n",
    "\n",
    "<br>\n",
    "\n",
    "---\n",
    "#### Theorem 2.1.3: Maximum principle\n",
    "\n",
    "Assume that $f\\in\\mathcal{C}((a,b))$ and let $u$ be the unique solution of the BVP given in Theorem 2.1.1, then\n",
    "\n",
    "$$\n",
    "    \\| u \\|_\\infty \\leq \\frac{(b-a)^2}{8}\\|f\\|_\\infty.\n",
    "$$\n",
    "\n",
    "---\n",
    "\n",
    "<br>\n",
    "\n",
    "---\n",
    "#### Proof of Theorem 2.1.3:\n",
    "\n",
    "Let $x\\in[a,b]$. Since $G(x,y)$ is nonnegative,\n",
    "\n",
    "$$\n",
    "    |u(x)| \\leq \\|f\\|_\\infty \\int_a^b G(x,y)\\, dy.\n",
    "$$\n",
    "\n",
    "Since\n",
    "\n",
    "$$\n",
    "    \\int_a^b G(x,y)\\, dy\n",
    "$$\n",
    "\n",
    "defines a parabola that opens downward for $x\\in[a,b]$ that is equal to zero at $x=a$ and $x=b$, it has its maximum at $x=(b+a)/2$. Calculating this parabola at $x=(b+a)/2$ reveals that\n",
    "\n",
    "$$\n",
    "    \\left\\| \\int_a^b G(x,y)\\, dy \\right\\|_\\infty = \\frac{(b-a)^2}{8}.\n",
    "$$\n",
    "\n",
    "The conclusion follows. $\\Box$\n",
    "\n",
    "---\n",
    "\n",
    "In the proof above, I used the Python code below to figure out the maximum value rather than do it by hand."
   ]
  },
  {
   "cell_type": "code",
   "execution_count": null,
   "id": "621a3b0e-ca1a-4d46-ac38-f5a9ceb9e4ba",
   "metadata": {},
   "outputs": [],
   "source": [
    "solve_1st_pde.set_data_and_solve(1)"
   ]
  },
  {
   "cell_type": "code",
   "execution_count": null,
   "id": "2b2e6ccd-bd95-45cf-9e8d-981312a7f9bd",
   "metadata": {},
   "outputs": [],
   "source": [
    "sp.simplify(solve_1st_pde.u.subs({x: (b+a)/2}))"
   ]
  },
  {
   "cell_type": "markdown",
   "id": "b48218c4-aec4-4f55-8aaf-204ac7587e00",
   "metadata": {},
   "source": [
    "---\n",
    "### Section 2.1.7: Pure Neumann BVP\n",
    "---\n",
    "\n",
    "Before we finish this notebook, we consider an alternative BVP with pure Neumann BCs given by\n",
    "\n",
    "$$\n",
    "    -u''(x) = f(x), \\ x\\in (a,b), \\ u'(a)=u'(b)=0.\n",
    "$$"
   ]
  },
  {
   "cell_type": "markdown",
   "id": "73375a75-32e8-42ce-ae0d-aee94da53e97",
   "metadata": {},
   "source": [
    "---\n",
    "#### Solvability\n",
    "---\n",
    "\n",
    "Suppose $u$ is a solution to this Neumann BVP, then $u''=-f$. The fundamental theorem of calculus implies that\n",
    "\n",
    "$$\n",
    "    u'(b)-u'(a) = \\int_a^b -f(x)\\, dx \\Rightarrow \\int_a^b f(x)\\, dx = 0 \\Rightarrow \\frac{1}{b-a}\\int_a^b f(x)\\, dx.\n",
    "$$\n",
    "\n",
    "- In other words, if $u$ is a solution to this Neumann BVP, then necessarily the *average value of $f(x)$ is zero on $(a,b)$*. This is not saying that a solution exists if this condition holds, but rather it is saying that if the average value of $f(x)$ is *not* zero on $(a,b)$, then there is *no* solution to this problem.\n",
    "\n",
    "- Consider the linear algebra analogy of $Ax=b$ being solvable if and only if $b$ is in the column space of $A$. Remember, we do not always expect solutions to problems to exist. There are usually certain solvability criteria that the data must satisfy. These are often referred to as \"compatability criteria\" to indicate that some data are simply incompatible with certain problems.\n",
    "\n",
    "In what follows, we assume for the pure Neumann BVP that the average value of $f(x)$ is zero and determine if there is indeed a solution to this problem.\n",
    "\n",
    "Before we do this, we address the uniqueness of solutions if they were to exist.\n",
    "\n",
    "Observe that if $u$ is a solution, then so is $v(x)=u(x)+c$ for any $c\\in\\mathbb{R}$ (this can be verified by direct substitution). This implies that if a solution exists, then it is not unique.\n",
    "\n",
    "- Consider the linear algebra analogy of $Ax=b$ for a square system where the matrix $A\\in\\mathbb{R}^{n\\times n}$ is singular, i.e., the rank of $A$ is less than $n$ meaning it has a non-trivial nullspace. If $b\\in\\mathbb{R}^n$ satisfies the property that it is in the column space of $A$, solutions exist but they are non-unique because adding any vector in the nullspace of $A$ to the solution still produces a vector that $A$ maps to $b$. \n",
    "\n",
    "- Neumann BCs are used to model perfect insulation of the boundary in the heat equation, so this type of 2-pt BVP arises in modeling the steady-state solution to a heat equation where perfect insulation of the boundary occurs. Of course, we do not have the IC to serve as a Dirichlet BC in the space-time domain, and this loss of information makes the steady-state problem much like the $Ax=b$ problem discussed above where $A$ has a non-trivial nullspace. \n",
    "\n",
    "Returning to the idea that we can add a nonzero constant to a solution and still have a solution, note that the addition of a nonzero constant to any function fundamentally changes its average value on the interval $(a,b)$. This means that if we seek, for instance, a solution $u$ that has a specified average value on $(a,b)$, then the inclusion of this condition on the statement of the problem will lead to any solution being unique.\n",
    "\n",
    "- For underdetermined problems $Ax=b$, we may seek a solution $x$ that, for instance, has the minimum norm. This is a way of \"regularizing\" the problem so that the solutions become unique under this additional criterion.\n",
    "\n",
    "Let us suppose that we seek a solution $u$ such that $\\int_a^b u(x)\\, dx = 0$. Does such a solution exist?\n",
    "\n",
    "We try to find a Green's function."
   ]
  },
  {
   "cell_type": "markdown",
   "id": "481fa568-7ce3-4a54-a268-3919d5a5079d",
   "metadata": {},
   "source": [
    "---\n",
    "#### Attempt at finding a Green's function\n",
    "---\n",
    "\n",
    "The difference in constructing the Green's function for this pure Neumann problem as compared to the pure Dirichlet problem is initially only evident in the first two conditions below\n",
    "\n",
    "(1) $(u^-)'(a) = 0$\n",
    "\n",
    "(2) $(u^+)'(b) = 0$\n",
    "\n",
    "(3) $u^-(y) = u^+(y)$\n",
    "\n",
    "(4) $(u^+)'(y) - (u^-)'(y) = -1$\n",
    "\n",
    "As before, we write these in the following order: (1), (3), (4), and (2) to represent a flow of information in the equations from left-to-right where the middle two equations represent the information at the interior point $y$. This gives the following system of equations.\n",
    "\n",
    "\n",
    "$$\n",
    "    \\left\\{\n",
    "        \\begin{array}{rrrrrrrrrr}\n",
    "            0 &+& c_2 & &  & &   &=& 0, \\\\\n",
    "            -c_1 &-& yc_2 &+& c_3 &+& yc_4 &=& 0,\\\\\n",
    "                & & -c_2  & &     &+& c_4  &=& -1, \\\\\n",
    "                & &      & & 0 &+& c_4 &=& 0,\n",
    "        \\end{array}\n",
    "    \\right.\n",
    "$$\n",
    "\n",
    "Looking at the first and fourth equations, we see $c_2=c_4=0$, yet $-c_2+c_4=-1$ according to the third equation. A contradiction! Well, I guess we are not going to be looking for a Green's function! Considering the extra conditions we needed on $f(x)$ for there to even exist the possibility of a solution, it is perhaps not surprising that a Green's function was not likely to exist."
   ]
  },
  {
   "cell_type": "markdown",
   "id": "7d077a2a-ee90-4178-9b30-7bb1a7d1c478",
   "metadata": {},
   "source": [
    "---\n",
    "#### Not giving up yet\n",
    "---\n",
    "\n",
    "Is there anything else we can try to solve this problem?\n",
    "\n",
    "Well, suppose $u\\in\\mathcal{C}^2((a,b))$ solves the pure Neumann problem. Let's try to integrate the differential equation directly (two times) to get a function of $x$. We first integrate from $a$ to $y$ and then integrate from $a$ to $x$ to end up with a function of $x$. \n",
    "\n",
    "The first integration gives\n",
    "\n",
    "$$\n",
    "    u'(y)-\\underbrace{u'(a)}_{=0} = \\int_a^y -f(z)\\, dz \\ \\Longrightarrow \\ u'(y) = \\int_a^y -f(z)\\, dz = F(y).\n",
    "$$\n",
    "\n",
    "Here, we have rewritten $\\int_a^y -f(z)\\, dz = F(y)$ to emphasize that this definite integral defines a function of $y$. Integrating again with respect to $y$ from $a$ to $x$ gives\n",
    "\n",
    "$$\n",
    "    u(x)-u(a) = \\int_a^x F(y)\\, dy.\n",
    "$$\n",
    "\n",
    "How do we make sense of this integral on the right hand side? Let us try to apply integration by parts. This gives\n",
    "\n",
    "$$\n",
    "    \\int_a^x F(y) \\, dy = \\left[yF(y)\\right]_a^x - \\int_a^x yF'(y)\\, dy\n",
    "$$\n",
    "\n",
    "Substituting $F'(y) = -f(y)$ yields\n",
    "\n",
    "$$\n",
    "\\begin{align}\n",
    "    \\int_0^x F(y) \\, dy &= \\left[-xF(x) + a(\\underbrace{F(a)}_{=0})\\right] + \\int_a^x yf(y)\\, dy \\\\\n",
    "                        \\\\\n",
    "                        &= -xF(x) + \\int_a^x yf(y)\\, dy \\\\ \n",
    "                        \\\\\n",
    "                        &= -x\\underbrace{\\int_a^x f(z)\\, dz}_{\\text{Now change $z$ to $y$}} + \\int_a^x yf(y)\\, dy \\\\\n",
    "                        \\\\\n",
    "                        &= \\int_a^x -xf(y)\\, dy + \\int_a^x yf(y)\\, dy \\\\\n",
    "                        \\\\\n",
    "                        &= \\int_a^x (y-x)f(y)\\, dy.\n",
    "\\end{align}\n",
    "$$\n",
    "\n",
    "Therefore,\n",
    "\n",
    "$$\n",
    "    u(x) = u(a) + \\int_a^x (y-x)f(y)\\, dy.\n",
    "$$\n",
    "\n",
    "*Students should be able to verify that this form satisfies the pure Neumann BVP.*\n",
    "\n",
    "Observe that $u(a)$ is just a constant, but it is involving $u(x)$ evaluated at $x=a$, which is quite unsatisfying. What should this constant be?\n",
    "\n",
    "If we want $\\int_a^b u(x)\\, dx = 0$, then\n",
    "\n",
    "$$\n",
    "    0 = u(a)(b-a) + \\int_a^b \\int_a^x (y-x)f(y)\\, dy\\, dx \\ \\Longrightarrow \\ u(a) = - \\frac{1}{b-a} \\int_a^b \\int_a^x (y-x)f(y)\\, dy\\, dx,\n",
    "$$\n",
    "\n",
    "which means that this constant is uniquely determined by the average value of an integral involving the integral of the source term $f(x)$."
   ]
  },
  {
   "cell_type": "markdown",
   "id": "a25e1be9-a1ed-4419-9f83-aeb53861085d",
   "metadata": {},
   "source": [
    "---\n",
    "#### Student Activity\n",
    "---\n",
    "\n",
    "Use `sympy` to determine the solutions with zero average value to the 2-pt BVP $-u''=f$ on $(a, b)$ with pure Neumann BCs where \n",
    "\n",
    "(a) $f(x)=1$\n",
    "\n",
    "(b) $f(x)=x$\n",
    "\n",
    "(c) $f(x)=x^2$"
   ]
  },
  {
   "cell_type": "code",
   "execution_count": null,
   "id": "464ca265-be47-4939-9b9d-eee7c597dff4",
   "metadata": {},
   "outputs": [],
   "source": []
  },
  {
   "cell_type": "code",
   "execution_count": null,
   "id": "afb201bf-9a55-40f2-a349-8fb7a425e81f",
   "metadata": {},
   "outputs": [],
   "source": []
  },
  {
   "cell_type": "code",
   "execution_count": null,
   "id": "d8a2ad06-1298-4312-841d-d9388b73e3c9",
   "metadata": {},
   "outputs": [],
   "source": []
  },
  {
   "cell_type": "code",
   "execution_count": null,
   "id": "14f9c46a-8417-4e46-be49-29da5db77090",
   "metadata": {},
   "outputs": [],
   "source": []
  },
  {
   "cell_type": "markdown",
   "id": "d0d0f1a3-c774-4ddb-b427-aaf595d55f48",
   "metadata": {},
   "source": [
    "---\n",
    "#### Student Activity\n",
    "---\n",
    "\n",
    "Students are encouraged to reconsider the entire analysis of Section 2.1.7 onwards if $-u''=f$ is changed to $-u''-u = f$ or $-u''+u=f$. What steps change? What conclusions change? What analogies to linear systems of the form $Ax=b$ can we make? "
   ]
  },
  {
   "cell_type": "code",
   "execution_count": null,
   "id": "ff638f8b-1515-4b68-920b-c44dd064dd95",
   "metadata": {},
   "outputs": [],
   "source": []
  },
  {
   "cell_type": "code",
   "execution_count": null,
   "id": "e43bf478-8caf-4262-8936-b3a591f1c0a5",
   "metadata": {},
   "outputs": [],
   "source": []
  },
  {
   "cell_type": "code",
   "execution_count": null,
   "id": "7ee22849-3033-484f-87f0-fff942d4bbc9",
   "metadata": {},
   "outputs": [],
   "source": []
  },
  {
   "cell_type": "markdown",
   "id": "a777ccbf-9009-44bb-82f5-9105ba43d091",
   "metadata": {},
   "source": [
    "---\n",
    "## Navigation:\n",
    "\n",
    "- [Previous](Chp2Overview.ipynb)\n",
    "\n",
    "- [Next](Chp2Sec2.ipynb)\n",
    "---"
   ]
  }
 ],
 "metadata": {
  "kernelspec": {
   "display_name": "Python 3 (ipykernel)",
   "language": "python",
   "name": "python3"
  },
  "language_info": {
   "codemirror_mode": {
    "name": "ipython",
    "version": 3
   },
   "file_extension": ".py",
   "mimetype": "text/x-python",
   "name": "python",
   "nbconvert_exporter": "python",
   "pygments_lexer": "ipython3",
   "version": "3.9.7"
  }
 },
 "nbformat": 4,
 "nbformat_minor": 5
}

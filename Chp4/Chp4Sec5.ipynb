{
 "cells": [
  {
   "cell_type": "markdown",
   "id": "43184486-f63f-4be2-be6e-833f325af3ae",
   "metadata": {},
   "source": [
    "# Introduction to Partial Differential Equations\n",
    "---"
   ]
  },
  {
   "cell_type": "markdown",
   "id": "06862c32-9b66-4933-aea3-0f3e2e9c52f0",
   "metadata": {},
   "source": [
    "## Section 4.5: Exercises\n",
    "---"
   ]
  },
  {
   "cell_type": "markdown",
   "id": "1e5e2ceb-ce5a-4b47-8e1f-be59f191b24e",
   "metadata": {},
   "source": [
    "## Want to use Colab? [![Open in Colab](https://colab.research.google.com/assets/colab-badge.svg)](https://githubtocolab.com/CU-Denver-MathStats-OER/Intro-PDEs-Theory-and-Computations/blob/main/Chp4/Chp4Sec5.ipynb)\n",
    "\n",
    "---"
   ]
  },
  {
   "cell_type": "markdown",
   "id": "27f1022a-0b33-425a-9ee0-87cb60d5ff85",
   "metadata": {},
   "source": [
    "## Prepping the environment for interactive plots in Colab\n",
    "---"
   ]
  },
  {
   "cell_type": "code",
   "execution_count": null,
   "id": "67be13a9-8752-49a9-817d-3f7350ddbf39",
   "metadata": {},
   "outputs": [],
   "source": [
    "if 'google.colab' in str(get_ipython()):\n",
    "    print('Running on CoLab - installing missing packages')\n",
    "    !pip install ipympl\n",
    "    from IPython.display import clear_output\n",
    "    clear_output()\n",
    "    exit()\n",
    "else:\n",
    "    print('Not running on CoLab - assuming environment has necessary packages')"
   ]
  },
  {
   "cell_type": "code",
   "execution_count": null,
   "id": "50411984-e48c-408c-86c9-3ea648589aec",
   "metadata": {},
   "outputs": [],
   "source": [
    "%matplotlib widget\n",
    "if 'google.colab' in str(get_ipython()):\n",
    "    from google.colab import output\n",
    "    output.enable_custom_widget_manager()"
   ]
  },
  {
   "cell_type": "markdown",
   "id": "026ced46-dd68-4691-b0cf-ac2e491ff1ac",
   "metadata": {
    "tags": []
   },
   "source": [
    "## Creative Commons License Information\n",
    "<a rel=\"license\" href=\"http://creativecommons.org/licenses/by-nc/4.0/\"><img alt=\"Creative Commons License\" style=\"border-width:0\" src=\"https://i.creativecommons.org/l/by-nc/4.0/80x15.png\" /></a><br /><span xmlns:dct=\"http://purl.org/dc/terms/\" property=\"dct:title\">Introduction to Partial Differential Equations: Theory and Computations</span> by <a xmlns:cc=\"http://creativecommons.org/ns#\" href=\"https://github.com/CU-Denver-MathStats-OER/Intro-PDEs-Theory-and-Computations\" property=\"cc:attributionName\" rel=\"cc:attributionURL\">Troy Butler</a> is licensed under a <a rel=\"license\" href=\"http://creativecommons.org/licenses/by-nc/4.0/\">Creative Commons Attribution-NonCommercial 4.0 International License</a>.<br />Based on a work at <a xmlns:dct=\"http://purl.org/dc/terms/\" href=\"https://github.com/CU-Denver-MathStats-OER/Intro-PDEs-Theory-and-Computations\" rel=\"dct:source\">https://github.com/CU-Denver-MathStats-OER/Intro-PDEs-Theory-and-Computations</a>."
   ]
  },
  {
   "cell_type": "code",
   "execution_count": 1,
   "id": "28bd9f87-750c-4abf-9a59-3b8a1629dd19",
   "metadata": {},
   "outputs": [],
   "source": [
    "# import libraries/useful content here"
   ]
  },
  {
   "cell_type": "markdown",
   "id": "6234ed98-5f6b-4a2a-ad5e-972146c3fcb5",
   "metadata": {},
   "source": [
    "---\n",
    "### Exercises for Section 4.1\n",
    "---"
   ]
  },
  {
   "cell_type": "markdown",
   "id": "0878099e-b2e1-4eca-9b9f-cfe4623f836f",
   "metadata": {},
   "source": [
    "---\n",
    "### Exercise 4.1.1\n",
    "---\n",
    "\n",
    "Consider Cauchy problems of the form\n",
    "\n",
    "$$\n",
    "\\begin{cases}\n",
    "    u_t + b(x,t)u_x &= c(x,t), \\ x\\in\\mathbb{R}, \\ t>0, \\\\ \n",
    "    u(x,0) &= f(x).\n",
    "\\end{cases}\n",
    "$$\n",
    "\n",
    "For each particular $b(x,t)$, $c(x,t)$, and $f(x)$ given below, do the following:\n",
    "\n",
    "(a) Find the exact solution using the method of characteristics ***and*** verify the solution is correct (i.e., check that the solution satisfies the Cauchy problem by verifying that it satisfies the PDE and IC).\n",
    "\n",
    "(b) Generate an animation of the traveling wave.\n",
    "\n",
    "1. $b(x,t)=2x$, $c(x,t) = 0$, $f(x)=e^{-x^2}$.\n",
    "\n",
    "2. $b(x,t)=-x$, $c(x,t) = t$, $f(x)=\\sin(5\\pi x)$.\n",
    "\n",
    "3. $b(x,t)=-x$, $c(x,t) = x$, $f(x)=\\cos(6\\pi x)$.\n",
    "\n",
    "4. $b(x,t)=x$, $c(x,t)=xt$, $f(x)=\\sin(5\\pi x)\\cos(6\\pi x)$.\n",
    "\n",
    "*Part 1 was done in-class but the rest are left for students to do as homework here.*"
   ]
  },
  {
   "cell_type": "code",
   "execution_count": null,
   "id": "fd396eeb-46ab-49aa-8df9-90042a23a284",
   "metadata": {},
   "outputs": [],
   "source": []
  },
  {
   "cell_type": "code",
   "execution_count": null,
   "id": "a9e7b654-f7ee-4e49-a29e-3af79bc1c4b2",
   "metadata": {},
   "outputs": [],
   "source": []
  },
  {
   "cell_type": "code",
   "execution_count": null,
   "id": "1875337c-62d0-401f-8c9a-621f5e85a236",
   "metadata": {},
   "outputs": [],
   "source": []
  },
  {
   "cell_type": "code",
   "execution_count": null,
   "id": "925be29d-a65c-41ae-a947-bd67e6f436fc",
   "metadata": {},
   "outputs": [],
   "source": []
  },
  {
   "cell_type": "code",
   "execution_count": null,
   "id": "20255604-f3f5-4c27-be4c-99076270c92d",
   "metadata": {},
   "outputs": [],
   "source": []
  },
  {
   "cell_type": "markdown",
   "id": "9b7bcbd9-5894-461b-a60c-60fa3f1736d2",
   "metadata": {},
   "source": [
    "---\n",
    "### Exercises for Section 4.3\n",
    "---"
   ]
  },
  {
   "cell_type": "markdown",
   "id": "08faeceb-4467-4794-9d56-a4ba270a96ed",
   "metadata": {},
   "source": [
    "---\n",
    "### Exercise 4.3.1 (non-homogeneous Dirichlet BCs)\n",
    "---\n",
    "\n",
    "Find a formal solution to the wave equation with non-homogeneous Dirichlet boundary conditions\n",
    "\n",
    "$$\n",
    "\\begin{eqnarray*}\n",
    "    u_{tt} &=& u_{xx}, \\ \\ \\ \\ \\ \\ \\ x\\in(0,1), \\ t>0, \\\\\n",
    "    u(0,t) =a, & & u(1,t) = b, \\ \\ \\ \\ \\ \\ \\ \\ \\ \\ \\ \\ \\ t>0, \\\\\n",
    "    u(x,0) &=& f(x), \\ \\ \\ \\ \\ x\\in(0,1) \\\\\n",
    "    u_t(x,0) &=& g(x), \\ \\ \\ \\ \\ x\\in(0,1).\n",
    "\\end{eqnarray*}\n",
    "$$"
   ]
  },
  {
   "cell_type": "markdown",
   "id": "bfee26dd-4799-481e-95f2-5bd397201be2",
   "metadata": {},
   "source": []
  },
  {
   "cell_type": "markdown",
   "id": "5430ed5c-5e89-4293-be25-8f39439d29bf",
   "metadata": {},
   "source": [
    "---\n",
    "### Exercise 4.3.2 (Wave Equation with Neumann BCs)\n",
    "---\n",
    "\n",
    "Consider the wave equation with Neumann boundary conditions given by\n",
    "\n",
    "$$\n",
    "\\begin{eqnarray*}\n",
    "    u_{tt} &=& u_{xx}, \\ \\ \\ \\ \\ \\ \\ x\\in(0,1), \\ t>0, \\\\\n",
    "    u_x(0,t) &=& u_x(1,t) = 0, \\ \\ \\ \\ \\ \\ \\ \\ \\ \\ \\ \\ \\ t>0, \\\\\n",
    "    u(x,0) &=& f(x), \\ \\ \\ \\ \\ x\\in(0,1) \\\\\n",
    "    u_t(x,0) &=& g(x), \\ \\ \\ \\ \\ x\\in(0,1).\n",
    "\\end{eqnarray*}\n",
    "$$\n",
    "\n",
    "1. Assuming $f(x) = \\sum_{k=0}^\\infty a_k\\cos(k\\pi x)$ and $g(x) = \\sum_{k=0}^\\infty b_k\\cos(k\\pi x)$, derive formal solutions to the above wave equation problem.\n",
    "\n",
    "2. Assuming smoothness of a solution, show that the energy defined as in Section 4.3 for the Dirichlet case is also constant in time for the Neumann case. *This requires filling in all the steps skipped in Section 4.3 for the Dirichlet case.*\n",
    "\n",
    "3. Use 2 to prove stability and uniqueness of solutions to this Neumann case."
   ]
  },
  {
   "cell_type": "code",
   "execution_count": null,
   "id": "22015f29-b786-4614-bdb4-6fc1c754479a",
   "metadata": {},
   "outputs": [],
   "source": []
  },
  {
   "cell_type": "code",
   "execution_count": null,
   "id": "85037738-8134-482b-9267-71275cb24fdd",
   "metadata": {},
   "outputs": [],
   "source": []
  },
  {
   "cell_type": "code",
   "execution_count": null,
   "id": "d1b64c51-843d-4bf6-a456-7c635e654db8",
   "metadata": {},
   "outputs": [],
   "source": []
  },
  {
   "cell_type": "code",
   "execution_count": null,
   "id": "fc8e282a-2bda-4355-9bef-488d9603b1be",
   "metadata": {},
   "outputs": [],
   "source": []
  },
  {
   "cell_type": "markdown",
   "id": "dd3fa4a7-1acb-4568-8035-530383c768ac",
   "metadata": {},
   "source": [
    "---\n",
    "### Exercise 4.3.3 (Damped Wave Equation)\n",
    "---\n",
    "\n",
    "Consider a damped wave equation given by\n",
    "\n",
    "$$\n",
    "\\begin{eqnarray*}\n",
    "    u_{tt} + u_t &=& u_{xx}, \\ \\ \\ \\ \\ \\ \\ x\\in(0,1), \\ t>0, \\\\\n",
    "    u(0,t) &=& u(1,t) = 0, \\ \\ \\ \\ \\ \\ \\ \\ \\ \\ \\ \\ \\ t>0, \\\\\n",
    "    u(x,0) &=& f(x), \\ \\ \\ \\ \\ x\\in(0,1) \\\\\n",
    "    u_t(x,0) &=& g(x), \\ \\ \\ \\ \\ x\\in(0,1).\n",
    "\\end{eqnarray*}\n",
    "$$\n",
    "\n",
    "1. Find a formal solution of the problem.\n",
    "\n",
    "2. Assuming smoothness of a solution, show that the energy defined as in Section 4.3 for the Dirichlet case is a decreasing function, i.e., $E(t)\\leq E(0)$ for $t\\geq 0$. \n",
    "\n",
    "3. Use 2 to prove stability and uniqueness of solutions to this problem."
   ]
  },
  {
   "cell_type": "markdown",
   "id": "f4f80a35-0e59-47d9-8e6b-3f4d5ee7c47a",
   "metadata": {},
   "source": [
    "---\n",
    "### Exercises for Section 4.4\n",
    "---"
   ]
  },
  {
   "cell_type": "code",
   "execution_count": null,
   "id": "a9448e1c-7db1-461f-895f-24c61df02985",
   "metadata": {},
   "outputs": [],
   "source": []
  }
 ],
 "metadata": {
  "kernelspec": {
   "display_name": "Python 3",
   "language": "python",
   "name": "python3"
  },
  "language_info": {
   "codemirror_mode": {
    "name": "ipython",
    "version": 3
   },
   "file_extension": ".py",
   "mimetype": "text/x-python",
   "name": "python",
   "nbconvert_exporter": "python",
   "pygments_lexer": "ipython3",
   "version": "3.8.8"
  }
 },
 "nbformat": 4,
 "nbformat_minor": 5
}

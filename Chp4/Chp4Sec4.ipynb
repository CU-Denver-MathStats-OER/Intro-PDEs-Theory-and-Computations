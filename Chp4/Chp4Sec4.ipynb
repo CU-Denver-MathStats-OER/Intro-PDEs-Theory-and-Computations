{
 "cells": [
  {
   "cell_type": "markdown",
   "id": "2f6e5ee1-c18a-43d2-94cd-86b2839f8ddd",
   "metadata": {
    "tags": []
   },
   "source": [
    "# Introduction to Partial Differential Equations\n",
    "---"
   ]
  },
  {
   "cell_type": "markdown",
   "id": "13e84e1c-1e5e-4bd5-aabb-89f6193c480a",
   "metadata": {
    "tags": []
   },
   "source": [
    "## Chapter 4: Hyperbolic PDEs and the Wave Equation\n",
    "---\n"
   ]
  },
  {
   "cell_type": "markdown",
   "id": "0ee09875-0735-43dd-be99-77ec0f2d52db",
   "metadata": {
    "tags": []
   },
   "source": [
    "## Creative Commons License Information\n",
    "<a rel=\"license\" href=\"http://creativecommons.org/licenses/by-nc/4.0/\"><img alt=\"Creative Commons License\" style=\"border-width:0\" src=\"https://i.creativecommons.org/l/by-nc/4.0/80x15.png\" /></a><br /><span xmlns:dct=\"http://purl.org/dc/terms/\" property=\"dct:title\">Introduction to Partial Differential Equations: Theory and Computations</span> by <a xmlns:cc=\"http://creativecommons.org/ns#\" href=\"https://github.com/CU-Denver-MathStats-OER/Intro-PDEs-Theory-and-Computations\" property=\"cc:attributionName\" rel=\"cc:attributionURL\">Troy Butler</a> is licensed under a <a rel=\"license\" href=\"http://creativecommons.org/licenses/by-nc/4.0/\">Creative Commons Attribution-NonCommercial 4.0 International License</a>.<br />Based on a work at <a xmlns:dct=\"http://purl.org/dc/terms/\" href=\"https://github.com/CU-Denver-MathStats-OER/Intro-PDEs-Theory-and-Computations\" rel=\"dct:source\">https://github.com/CU-Denver-MathStats-OER/Intro-PDEs-Theory-and-Computations</a>."
   ]
  },
  {
   "cell_type": "markdown",
   "id": "a813a724-5cbd-4dde-83d6-44afe0bbfa33",
   "metadata": {},
   "source": [
    "---\n",
    "## Section 4.4: A Finite Difference Approximation\n",
    "---\n",
    "\n",
    "We approach this similarl to how we approached the discretization of the heat equation.\n",
    "\n",
    "Specifically, we first perform a semidiscrete discretization (i.e., a method of lines discretization as seen in [Section 3.4](https://github.com/CU-Denver-MathStats-OER/Intro-PDEs-Theory-and-Computations/blob/main/Chp3/Chp3Sec4.ipynb), where we first apply the usual discretization in space to $-u_{xx}$ to arrive at\n",
    "<br><br>\n",
    "$$\n",
    "    v_{tt} = -Av,\n",
    "$$\n",
    "\n",
    "where \n",
    "\n",
    "$$\n",
    "A = \\begin{pmatrix}\n",
    "        2 & -1 & 0 & \\cdots & 0 \\\\\n",
    "        -1 & 2 & -1 & \\ddots & \\vdots \\\\\n",
    "        0 & \\ddots & \\ddots & \\ddots & 0 \\\\\n",
    "        \\vdots & \\ddots & -1 & 2 & -1 \\\\\n",
    "        0 & \\cdots & 0 & -1 & 2\n",
    "    \\end{pmatrix},\n",
    "$$\n",
    "\n",
    "and the negative sign in front of $A$ in the semidiscrete approximation is due to the fact that our wave equation is based on $u_{xx}$ instead of $-u_{xx}$. As with the heat equation, $v$ is the $n$-dimensional vector that approximates the continuous solution $u$ at the interior grid points (interior because of the Dirichlet boundary conditions). Unlike our previous studies of the heat equation, we now have $v_{tt}$ instead of $v_t$. "
   ]
  },
  {
   "cell_type": "markdown",
   "id": "9f5fc91d-d22f-491e-8865-678bcacbc76c",
   "metadata": {},
   "source": [
    "---\n",
    "### Section 4.4.1 We use a centered finite difference approximation in time to approximate $v_{tt}$ at a grid point $x_j$ as\n",
    "---\n",
    "\n",
    "$$\n",
    "    v_{tt}(x_j) \\approx \\frac{v_j^{m-1} - 2v_{j}^m + v_j^{m+1}}{(\\Delta t)^2}.\n",
    "$$\n",
    "\n",
    "The ultimate question then becomes whether or not we define the fully discrete problem by setting this equal to the $j$th row of $-Av^{m}$ (for an explicit method) or the $j$th row of $-Av^{m+1}$ (for an implicit method).\n",
    "Alternatively, we can write everything in matrix-vector format. \n",
    "\n",
    "For the explicit method, we have\n",
    "<br><br>\n",
    "$$\n",
    "   \\frac{v^{m-1} - 2v^m + v^{m+1}}{(\\Delta t)^2} = -Av^m \n",
    "$$\n",
    "<br><br>\n",
    "and we solve for $v^{m+1}$ to get\n",
    "<br><br>\n",
    "$$\n",
    "    v^{m+1} = (2I-(\\Delta t)^2A)v^m - v^{m-1}. \n",
    "$$\n",
    "\n",
    "A detail we have neglected is that applying this equation requires us to use both $v^m$ and $v^{m-1}$.\n",
    "Thus, we cannot apply this at $m=0$ (which would imply we are solving for $v^1$). \n",
    "Somehow, we must specify $v^1$. \n",
    "This is done using a Taylor expansion in time.\n",
    "Specifically, \n",
    "<br><br>\n",
    "$$\n",
    "    u(x,\\Delta t) = u(x,0) + \\Delta t u_t(x,0) + \\frac{(\\Delta t)^2}{2} u_{tt}(x,0) + O((\\Delta t)^3), \n",
    "$$\n",
    "<br><br>\n",
    "and we make the substitutions $u(x,0)=f(x)$, $u_t(x,0) = g(x)$, and $u_{tt}(x,0) = u_{xx}(x,0)$ to get\n",
    "<br><br>\n",
    "$$\n",
    "    u(x,\\Delta t) = f(x) + \\Delta t g(x) + \\frac{(\\Delta t)^2}{2} u_{xx}(x,0) + O((\\Delta t)^3). \n",
    "$$\n",
    "\n",
    "We therefore specify $v^1 \\approx u(x,\\Delta t)$ using the initial data as\n",
    "<br><br>\n",
    "$$\n",
    "    v^1 = v^0 + \\Delta t \\left[\\begin{array}{l} g(x_1) \\\\ g(x_2) \\\\ \\vdots \\\\ g(x_n) \\end{array}\\right] - \\frac{(\\Delta t)^2}{2}Av^0.\n",
    "$$"
   ]
  },
  {
   "cell_type": "code",
   "execution_count": null,
   "id": "740d3518-31c3-41f4-b45f-c9346413cc35",
   "metadata": {
    "tags": []
   },
   "outputs": [],
   "source": [
    "def f(x):\n",
    "    return x*(1-x)\n",
    "\n",
    "def g(x):\n",
    "    return 0*x"
   ]
  },
  {
   "cell_type": "code",
   "execution_count": null,
   "id": "2190528f-2dbc-408c-b09d-81bf20f18614",
   "metadata": {},
   "outputs": [],
   "source": [
    "def make_A(n):\n",
    "    A = np.zeros((n,n))\n",
    "    np.fill_diagonal(A,2)\n",
    "    A += np.diag(-np.ones(n-1),k=1)\n",
    "    A += np.diag(-np.ones(n-1),k=-1)    \n",
    "    A *= 1/dx**2\n",
    "    return A"
   ]
  },
  {
   "cell_type": "code",
   "execution_count": null,
   "id": "5fd95c3e-8afb-42a1-832b-69a21845b75a",
   "metadata": {},
   "outputs": [],
   "source": [
    "# Define and plot results for an explicit method\n",
    "\n",
    "%matplotlib widget\n",
    "\n",
    "n_s = [19, 39, 99, 199]\n",
    "errors = np.zeros(4)\n",
    "dt_s = np.zeros(4)\n",
    "dx_s = np.zeros(4)\n",
    "count = 0\n",
    "\n",
    "for n in n_s:\n",
    "    \n",
    "    plt.figure(count)\n",
    "    \n",
    "    x = np.linspace(0,1,n+2)\n",
    "    dx = x[1]-x[0]\n",
    "    dx_s[count] = dx\n",
    "    \n",
    "    A = make_A(n)\n",
    "\n",
    "    r = 1.0  # If this is greater than 1, then numerical solutions become unstable\n",
    "    dt = r*dx\n",
    "    dt_s[count] = dt\n",
    "    \n",
    "    v_old = f(x)\n",
    "    v_current = 0*x\n",
    "    v_current[1:-1] = v_old[1:-1] + dt*g(x[1:-1]) - dt**2/2.*np.dot(A,v_old[1:-1])\n",
    "    \n",
    "    v_new = 0*x\n",
    "    \n",
    "    t = 1*dt  # <----- start at 1*dt\n",
    "\n",
    "    # bdry_force = np.zeros(n)\n",
    "\n",
    "    B = 2*np.eye(n)-dt**2*A\n",
    "    \n",
    "    time_iter = 0\n",
    "    while t<=10:\n",
    "        v_new[1:-1] = np.dot(B,v_current[1:-1]) - v_old[1:-1]  # <--------- v_{m+1} is now computed\n",
    "        v_old = np.copy(v_current)\n",
    "        v_current = np.copy(v_new)\n",
    "        t += dt  # <-------------- now go to t_{m+1}\n",
    "        time_iter += 1\n",
    "        \n",
    "        if time_iter%5 == 0:\n",
    "            plt.plot(x, v_new)\n",
    "    \n",
    "    plt.plot(x, v_new)\n",
    "    plt.show()\n",
    "            \n",
    "    count += 1"
   ]
  },
  {
   "cell_type": "markdown",
   "id": "c60bf14b-f858-496a-8c52-1bd438e38759",
   "metadata": {},
   "source": [
    "<mark> **Making movies by exploiting pass-by-reference and in-place operators** <mark>"
   ]
  },
  {
   "cell_type": "code",
   "execution_count": null,
   "id": "9aafcf67-4aeb-4854-94b2-680f400e7e63",
   "metadata": {},
   "outputs": [],
   "source": [
    "def f(x):  # It is kind of fun to change this\n",
    "    # Try x*(1-x)\n",
    "    # Try x*(1-x)*(0.2-x)\n",
    "    # Try np.sin(k * np.pi * x) for different k\n",
    "    # Try x*np.sin(1/x)*(1-x)\n",
    "    # Can also try some that don't satisfy the BCs like np.sin(1/x)\n",
    "    # return x*np.sin(1/x)*(1-x)\n",
    "    return x*(1-x)*(0.2-x)\n",
    "    "
   ]
  },
  {
   "cell_type": "code",
   "execution_count": null,
   "id": "8cb3fb15-e968-4886-9f3d-1b1358f29801",
   "metadata": {},
   "outputs": [],
   "source": [
    "# Choose an n for discretizing space (and subsequently time)\n",
    "n = 99  \n",
    "\n",
    "# Now setup the spatial-temporal discretization\n",
    "x = np.linspace(0,1,n+2)\n",
    "dx = x[1]-x[0]\n",
    "A = make_A(n)\n",
    "\n",
    "r = 1.0  # If this is greater than 1, then numerical solutions become unstable\n",
    "dt = r*dx\n",
    "\n",
    "B = 2*np.eye(n)-dt**2*A"
   ]
  },
  {
   "cell_type": "code",
   "execution_count": null,
   "id": "40542a94-b4ec-4d30-a838-aa9c6bcadae7",
   "metadata": {},
   "outputs": [],
   "source": [
    "# Now setup the numpy arrays that we utilize for visualization purposes\n",
    "v_old = f(x)\n",
    "v_current = 0*x\n",
    "v_current[1:-1] = v_old[1:-1] + dt*g(x[1:-1]) - dt**2/2.*np.dot(A,v_old[1:-1])\n",
    "\n",
    "def v_at_frame(v_current, v_old):\n",
    "    # Create the solution to plot in a given frame of the movie\n",
    "    v_new = np.dot(B,v_current[1:-1]) - v_old[1:-1] \n",
    "    \n",
    "    # Update state of wave in-place\n",
    "    v_old *= 0\n",
    "    v_old += v_current\n",
    "    v_current *= 0\n",
    "    v_current[1:-1] += v_new\n",
    "    return"
   ]
  },
  {
   "cell_type": "code",
   "execution_count": null,
   "id": "6b5151c3-663a-48a0-b29a-d9d27504a4be",
   "metadata": {},
   "outputs": [],
   "source": [
    "from matplotlib.animation import FuncAnimation\n",
    "\n",
    "from IPython.display import HTML"
   ]
  },
  {
   "cell_type": "code",
   "execution_count": null,
   "id": "c6193e7d-6ac1-4b9f-a017-f952cc428ac1",
   "metadata": {},
   "outputs": [],
   "source": [
    "fig, ax = plt.subplots()\n",
    "line1 = ax.plot([], [], 'b')[0]  # Using b-. or b: for line-style will create a weird visual\n",
    "line2 = ax.plot([], [], 'r:')[0]\n",
    "line3 = ax.plot([], [], markersize=10, marker='s', mfc='k')[0]\n",
    "\n",
    "ax.set_xlim(0, 1)\n",
    "ax.set_ylim(-1.1*np.max(np.abs(f(x[1:-1]))), 1.1*np.max(np.abs(f(x[1:-1]))))\n",
    "\n",
    "plt.title('The Wave')\n",
    "time_text = ax.text(0.1, 0.9*np.max(np.abs(f(x[1:-1]))), \"\", \n",
    "                    fontsize=15, color='red',\n",
    "                    bbox=dict(facecolor='blue', alpha=0.1))\n",
    "plt.close()\n",
    "\n",
    "def animate_v(frame, v_current, v_old):\n",
    "    v_at_frame(v_current, v_old)\n",
    "    line1.set_data((x, v_current))\n",
    "    t = frame*dt\n",
    "    time_text.set_text(\"Time: {:5.2f}\".format(t))\n",
    "    line2.set_data([0.5, 0.5], [-1, 1])\n",
    "    marker_idx = np.argmax(np.abs(v_current))\n",
    "    #line3.set_data(x[marker_idx],v_current[marker_idx])\n",
    "    return line1, line2, line3\n",
    "\n",
    "anim = FuncAnimation(fig, animate_v, frames=int((4/dt)), fargs=(v_current, v_old,), interval=1000*dt)"
   ]
  },
  {
   "cell_type": "code",
   "execution_count": null,
   "id": "0284b9f8-48e3-427d-b465-15c49ea1f7e9",
   "metadata": {
    "tags": []
   },
   "outputs": [],
   "source": [
    "HTML(anim.to_jshtml())"
   ]
  },
  {
   "cell_type": "markdown",
   "id": "324e58fd-0fb3-40ac-b0c4-3c23dd0e8442",
   "metadata": {},
   "source": [
    "---\n",
    "### Section 4.4.2: Stability Analysis\n",
    "---\n",
    "\n",
    "In the code cells above, notice the comment about the `r` value used:\n",
    "\n",
    "```# If this is greater than 1, then numerical solutions become unstable```\n",
    "\n",
    "We now explore what is meant by that comment.\n",
    "\n",
    "First, we observe that\n",
    "\n",
    "$$\n",
    "    u_k(x,t) = \\sin(k\\pi x)e^{\\pm ik\\pi t}\n",
    "$$\n",
    "\n",
    "satisfies the wave equation where we have used Euler's identity to represent the $T_k(t)$ functions. \n",
    "\n",
    "<mark>We now study the relationship between $\\sin(k\\pi x)$ and solutions to the discrete problem with a little help from [Lemma 2.5.6 in Section 2.5.](https://github.com/CU-Denver-MathStats-OER/Intro-PDEs-Theory-and-Computations/blob/main/Chp2/Chp2Sec5.ipynb)</mark>\n",
    "\n",
    "For each $1\\leq k\\leq n$, we have that\n",
    "\n",
    "- The vector $X_k\\in\\mathbb{R}^n$ defined by $X_{k,j}=\\sin(k\\pi x_j)$ (i.e., the $j$th component is given by evaluating $\\sin(k\\pi x)$ at the grid point $x_j$) is an eigenvector of the matrix $A$ that we are familiar with from our usual spatial finite difference approximation. \n",
    "\n",
    "- The associated eigenvalues are given by $\\mu_k = \\frac{4}{(\\Delta x)^2}\\sin^2(k\\pi \\Delta x/2)$. \n",
    "\n",
    "With this in mind, we make an ansatz that for each $1\\leq k\\leq n$ there exists some nonzero $a\\in\\mathbb{C}$ such that \n",
    "\n",
    "$$v^m = X_ka^m$$\n",
    "\n",
    "is a solution to the finite difference equation for the wave equation:\n",
    "\n",
    "$$\n",
    "    v^{m+1} = (2I-(\\Delta t)^2A)v^m - v^{m-1}. \n",
    "$$\n",
    "\n",
    "Inserting the ansatz into this finite difference equation and using some algebra, we find that $a$ must satisfy the following equation\n",
    "\n",
    "$$\n",
    "    a^2 -(2-s)a +1 = 0, \n",
    "$$\n",
    "\n",
    "where, \n",
    "\n",
    "$$\n",
    "    s=(\\Delta t)^2 \\mu_k = 4\\left(\\frac{\\Delta t}{\\Delta x}\\right)^2 \\sin(k\\pi \\Delta x/2).\n",
    "$$\n",
    "\n",
    "Since the exact particular solutions have the property that $\\vert u_k(x,t)\\vert\\leq 1$ for all $k\\in\\mathbb{Z}$, $0\\leq x\\leq 1$ and $t\\geq 0$, we need to ensure that $\\vert a \\vert\\leq 1$.\n",
    "\n",
    "By the quadratic formula, the roots of $a^2-(2-s)a+1$ are given by\n",
    "\n",
    "$$\n",
    "    \\frac{1}{2}\\left[(2-s)\\pm \\sqrt{(2-s)^2-4}\\right]\n",
    "$$\n",
    "\n",
    "<mark>**Summary to this point:**</mark>\n",
    "\n",
    "- We need $\\vert a\\vert\\leq 1$. \n",
    "\n",
    "- $a$ depends on $s$.\n",
    "\n",
    "- $s$ depends upon the ratio $r=\\frac{\\Delta t}{\\Delta x}$. \n",
    "\n",
    "<mark>**Strategy:**</mark>\n",
    "\n",
    "- We examine the (complex-valued) roots of $a$ function of $s$ in the code cell below.\n",
    "\n",
    "- This provide us insight into what values of $s$ are ***permissible*** in the sense that they produce ***stable*** solutions. \n",
    "\n",
    "- This in turn produces restrictions on the values of $r$.\n",
    "\n",
    "- We use restrictions on $r$ to determine appropriate values of $\\Delta t$ given a particular choice of spatial discretization, and now the code comments make sense."
   ]
  },
  {
   "cell_type": "code",
   "execution_count": null,
   "id": "c2696597-6d40-462b-b2ab-2ee1e085b5d2",
   "metadata": {},
   "outputs": [],
   "source": [
    "%matplotlib widget\n",
    "\n",
    "s = np.linspace(-3, 7, 101).astype('complex')  # Necessary for the square root operation below\n",
    "\n",
    "plt.figure(4)\n",
    "plt.plot(s, np.abs(0.5*(2-s-np.sqrt((2-s)**2-4))))\n",
    "plt.plot(s, np.abs(0.5*(2-s+np.sqrt((2-s)**2-4))))\n",
    "plt.show()"
   ]
  },
  {
   "cell_type": "markdown",
   "id": "0670396f-4e20-4ef5-b20b-c181ad458740",
   "metadata": {},
   "source": [
    "<mark>**Observations from above plot:**</mark>\n",
    "\n",
    "- For $s<0$ or $s>4$, $a$ has two real roots with one having a magnitude greater than $1$, so we better avoid these roots.\n",
    "\n",
    "- At $s=0$, there is a double real root of $a=1$. This also implies $\\Delta t=0$, which is just silly. The numerical solutions would also just be $v^m = X_k$ for all $m$, and a constant vector is hardly going to produce any type of \"wave behavior\" that we want. We are left with considering $s>0$ in practice.\n",
    "\n",
    "- At $s=4$, there is a double real root of $a=-1$. This implies $\\Delta t=\\Delta x$ and it results in numerical solutions $v^m = X_k (-1)^m$ for all $m$ that will oscillate. So, these seem okay, and we can let $s\\leq 4$.\n",
    "\n",
    "In conclusion, we need $s\\in (0,4]$, and by examining what this implies about $r$, we need $r\\leq 1$ to achieve this."
   ]
  },
  {
   "cell_type": "markdown",
   "id": "5fad32d9-bb34-4860-92df-538bfe7c2883",
   "metadata": {},
   "source": [
    "---\n",
    "## Navigation:\n",
    "\n",
    "- [Previous](https://github.com/CU-Denver-MathStats-OER/Intro-PDEs-Theory-and-Computations/blob/main/Chp4/Chp4Sec3.ipynb)\n",
    "\n",
    "- [Next](https://github.com/CU-Denver-MathStats-OER/Intro-PDEs-Theory-and-Computations/blob/main/Chp4/Chp4Sec5.ipynb)\n",
    "---"
   ]
  }
 ],
 "metadata": {
  "kernelspec": {
   "display_name": "Python 3",
   "language": "python",
   "name": "python3"
  },
  "language_info": {
   "codemirror_mode": {
    "name": "ipython",
    "version": 3
   },
   "file_extension": ".py",
   "mimetype": "text/x-python",
   "name": "python",
   "nbconvert_exporter": "python",
   "pygments_lexer": "ipython3",
   "version": "3.8.8"
  }
 },
 "nbformat": 4,
 "nbformat_minor": 5
}

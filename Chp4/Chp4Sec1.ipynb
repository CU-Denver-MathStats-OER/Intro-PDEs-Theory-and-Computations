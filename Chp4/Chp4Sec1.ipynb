{
 "cells": [
  {
   "cell_type": "markdown",
   "id": "d415f821-08e2-468f-a01b-865392be28e1",
   "metadata": {
    "tags": []
   },
   "source": [
    "# Introduction to Partial Differential Equations\n",
    "---"
   ]
  },
  {
   "cell_type": "markdown",
   "id": "0c60dce6-0412-424d-870e-50ae6bd07c4c",
   "metadata": {
    "tags": []
   },
   "source": [
    "## Chapter 4: Hyperbolic PDEs and the Wave Equation\n",
    "---\n"
   ]
  },
  {
   "cell_type": "markdown",
   "id": "a64792e1-368d-45df-90bd-df01b6567282",
   "metadata": {},
   "source": [
    "## Want to use Colab? [![Open in Colab](https://colab.research.google.com/assets/colab-badge.svg)](https://githubtocolab.com/CU-Denver-MathStats-OER/Intro-PDEs-Theory-and-Computations/blob/main/Chp4/Chp4Sec1.ipynb)\n",
    "\n",
    "---"
   ]
  },
  {
   "cell_type": "markdown",
   "id": "3eab3b2a-1924-47fc-9cfa-68990520a5b7",
   "metadata": {},
   "source": [
    "## Prepping the environment for interactive plots in Colab\n",
    "---"
   ]
  },
  {
   "cell_type": "code",
   "execution_count": null,
   "id": "79b2a24c-e713-421d-8f5f-d95fc7377374",
   "metadata": {},
   "outputs": [],
   "source": [
    "if 'google.colab' in str(get_ipython()):\n",
    "    print('Running on CoLab - installing missing packages')\n",
    "    !pip install ipympl\n",
    "    from IPython.display import clear_output\n",
    "    clear_output()\n",
    "    exit()\n",
    "else:\n",
    "    print('Not running on CoLab - assuming environment has necessary packages')"
   ]
  },
  {
   "cell_type": "code",
   "execution_count": null,
   "id": "ef89977b-d054-46ad-b39c-0fd076a00138",
   "metadata": {},
   "outputs": [],
   "source": [
    "%matplotlib widget\n",
    "if 'google.colab' in str(get_ipython()):\n",
    "    from google.colab import output\n",
    "    output.enable_custom_widget_manager()"
   ]
  },
  {
   "cell_type": "markdown",
   "id": "ad4dc86a-98e8-4ba0-9685-b3c7372fe30d",
   "metadata": {
    "tags": []
   },
   "source": [
    "## Creative Commons License Information\n",
    "<a rel=\"license\" href=\"http://creativecommons.org/licenses/by-nc/4.0/\"><img alt=\"Creative Commons License\" style=\"border-width:0\" src=\"https://i.creativecommons.org/l/by-nc/4.0/80x15.png\" /></a><br /><span xmlns:dct=\"http://purl.org/dc/terms/\" property=\"dct:title\">Introduction to Partial Differential Equations: Theory and Computations</span> by <a xmlns:cc=\"http://creativecommons.org/ns#\" href=\"https://github.com/CU-Denver-MathStats-OER/Intro-PDEs-Theory-and-Computations\" property=\"cc:attributionName\" rel=\"cc:attributionURL\">Troy Butler</a> is licensed under a <a rel=\"license\" href=\"http://creativecommons.org/licenses/by-nc/4.0/\">Creative Commons Attribution-NonCommercial 4.0 International License</a>.<br />Based on a work at <a xmlns:dct=\"http://purl.org/dc/terms/\" href=\"https://github.com/CU-Denver-MathStats-OER/Intro-PDEs-Theory-and-Computations\" rel=\"dct:source\">https://github.com/CU-Denver-MathStats-OER/Intro-PDEs-Theory-and-Computations</a>.\n",
    "\n",
    "***This particular notebook is motivated in large part by the Chapter 2 presentation in the OER textbook [Partial Differential Equations by Victor Ivrii](http://www.math.toronto.edu/ivrii/PDE-textbook/PDE-textbook.pdf) released under a Creative Commons Attribution-ShareAlike 4.0 International License.***"
   ]
  },
  {
   "cell_type": "markdown",
   "id": "32379864-5253-4a7a-a2aa-b847ec1e73b4",
   "metadata": {},
   "source": [
    "---\n",
    "## Section 4.1: First-Order Equations and the Method of Characteristics\n",
    "---\n",
    "\n",
    "We begin with first-order homogeneous PDEs of the form\n",
    "\n",
    "$$\n",
    "    au_t + bu_x = 0, \\ x\\in\\mathbb{R}, t>0, \n",
    "$$\n",
    "\n",
    "with IC $u(x,0)=f(x)$.\n",
    "\n",
    "Note that the left-hand expression is a [derivative of $u$ *along* vector field $\\ell=(b,a)$](https://en.wikipedia.org/wiki/Directional_derivative) defined by\n",
    "\n",
    "$$\n",
    "    \\nabla u \\cdot \\ell = a u_t + bu_x.\n",
    "$$\n",
    "\n",
    "Although we should note that usually directional derivatives like this are computed with respect to a normalized vector and $\\ell$ need not be normalized.\n",
    "\n",
    "**Remarks:**\n",
    "\n",
    "- This is a simple example of a [transport equation](https://en.wikipedia.org/wiki/Continuity_equation) (which is sometimes called a continuity equation) as it models the transport of a quantity.\n",
    "\n",
    "- We use this problem as a way to introduce the basic idea of the [method of characteristics](https://en.wikipedia.org/wiki/Method_of_characteristics) that are useful in solving the problem and also describing key properties about the solution.\n",
    "\n",
    "   The main idea is to identify curves in the $(x,t)$-plane, written in the form $(x(t),t)$, that make it possible to write the solution to the PDE in terms of the initial data and these curves. \n",
    "\n",
    "  The way this is done is by exploiting certain structure in the PDE to determine an ODE whose solution gives the desirable curve (i.e., characteristic). It is best observed by example.\n",
    "\n",
    "We consider two cases: \n",
    "\n",
    "i. $a$ and $b$ are non-zero constants.\n",
    "\n",
    "ii. At least one of $a$ or $b$ is variable (i.e., at least one is a function of time and/or space)."
   ]
  },
  {
   "cell_type": "markdown",
   "id": "5359342d-1212-4b38-8655-28bd8eb31be4",
   "metadata": {
    "tags": []
   },
   "source": [
    "---\n",
    "### Section 4.1.1: Assuming $a$ and $b$ are non-zero constants\n",
    "---\n",
    "\n",
    "If $a$ and $b$ are non-zero constants, and we set $u(x,t)=\\phi\\left(\\frac{t}{a} - \\frac{x}{b}\\right)$ for some differentiable $\\phi$, then by the chain rule\n",
    "\n",
    "$$\n",
    "    u_t = \\frac{1}{a}\\phi'\\left(\\frac{t}{a} - \\frac{x}{b}\\right)\n",
    "$$\n",
    "\n",
    "and\n",
    "\n",
    "$$\n",
    "    u_x = -\\frac{1}{b}\\phi'\\left(\\frac{t}{a} - \\frac{x}{b}\\right).\n",
    "$$\n",
    "\n",
    "Plugging this into the PDE, we get\n",
    "\n",
    "$$\n",
    "    \\phi'\\left(\\frac{t}{a} - \\frac{x}{b}\\right) - \\phi'\\left(\\frac{t}{a} - \\frac{x}{b}\\right) = 0.\n",
    "$$\n",
    "\n",
    "Which immediately tells us any differentiable function $\\phi$ can be used to define a function that satisfies this PDE. But, what about the initial condition? Well, the initial condition was $u(x,0) = f(x)$ for a *specific* $f$. Thus, we have a condition that for a function $\\phi\\left(\\frac{t}{a} - \\frac{x}{b}\\right)$ to satisfy the Cauchy problem defined by the PDE and the IC, we must have\n",
    "\n",
    "$$\n",
    "    \\phi\\left(-\\frac{x}{b}\\right) = f(x) \\Longrightarrow \\phi(x) = f(-bx).\n",
    "$$\n",
    "\n",
    "In other words, the IC determines which $\\phi$ will solve the problem. With this choice of $\\phi(x)=f(-bx)$, we have that\n",
    "\n",
    "$$\n",
    "    u(x,t) = f(x-ct), \\ \\text{ with } c=b/a.\n",
    "$$\n",
    "\n",
    "**Remarks:**\n",
    "\n",
    "- This solution is *constant* along the lines $t/a-x/b=C$ in the space-time plane. We call these lines **characteristic curves** and we can plot them by solving for either $x$ or $t$ in terms of the other variable for given values of $C$. \n",
    "\n",
    "- We refer to $c=b/a$ as the *propagation speed* as it describes how a value of $u(\\alpha,0)=f(\\alpha)$ at some $x=\\alpha$ is propagated to the point $(\\alpha+c, 1)$. In other words, $c$ describes how, in one unit of time, the initial value at $(\\alpha, 0)$ moves to $(\\alpha+c, 1)$.\n",
    "\n",
    "- The solution given by $f(x-ct)$ is sometimes called a *running wave*.\n",
    "\n",
    "We illustrate these concepts below."
   ]
  },
  {
   "cell_type": "code",
   "execution_count": null,
   "id": "ebbd8c7c-7eda-4962-8fd2-6c885d274ce2",
   "metadata": {},
   "outputs": [],
   "source": [
    "import numpy as np\n",
    "import matplotlib.pyplot as plt\n",
    "from mpl_toolkits.mplot3d import Axes3D\n",
    "from matplotlib import cm"
   ]
  },
  {
   "cell_type": "code",
   "execution_count": null,
   "id": "76634719-fa97-4329-843c-145b706e1757",
   "metadata": {},
   "outputs": [],
   "source": [
    "a = 2\n",
    "b = 3\n",
    "\n",
    "c = b/a\n",
    "\n",
    "f = lambda x: np.sin(np.pi*x)\n",
    "\n",
    "u = lambda x, t: f(x-c*t)"
   ]
  },
  {
   "cell_type": "code",
   "execution_count": null,
   "id": "69bf48da-f4d1-48a3-9b8e-a73692801300",
   "metadata": {},
   "outputs": [],
   "source": [
    "%reset -f out \n",
    "\n",
    "# Below, we make a plot of $u(x,t)$ over the space-time (i.e., $(x,t)$-)plane\n",
    "# along with some characteristic curves in the $(x,t)$-plane for which $u(x,t)$\n",
    "# stays constant to demonstrate how initial values propagate at speed $c$ along\n",
    "# these curves\n",
    "\n",
    "%matplotlib widget\n",
    "fig = plt.figure(0)\n",
    "ax = fig.add_subplot(projection='3d')\n",
    "\n",
    "x = np.linspace(-2, 2, 50)\n",
    "t = np.linspace(0, 1, 20)\n",
    "\n",
    "x, t = np.meshgrid(x, t)\n",
    "\n",
    "ax.plot_surface(x, t, u(x,t), cmap=cm.coolwarm,\n",
    "                       linewidth=0, antialiased=False, alpha=0.5)\n",
    "\n",
    "# Now make plots of some characteristic curves\n",
    "ts = np.linspace(0, 1, 20)\n",
    "ax.plot(0.5 + c*ts, ts, f(0.5)*np.ones(20), 'k', lw=2)\n",
    "ax.plot(0 + c*ts, ts, f(0)*np.ones(20), 'k', lw=2)\n",
    "ax.plot(-0.5 + c*ts, ts, f(-0.5)*np.ones(20), 'k', lw=2)\n",
    "ax.plot(-1 + c*ts, ts, f(-1)*np.ones(20), 'k', lw=2)\n",
    "ax.plot(-1.5 + c*ts, ts, f(-1.5)*np.ones(20), 'k', lw=2)\n",
    "ax.plot(-2 + c*ts, ts, f(-2)*np.ones(20), 'k', lw=2)\n",
    "\n",
    "plt.show()"
   ]
  },
  {
   "cell_type": "markdown",
   "id": "5157fd0a-50ed-438d-b711-c68a9745c1cc",
   "metadata": {},
   "source": [
    "**Now we animate the spatial solution and track an initial value as it moves along a characteristic curve.**"
   ]
  },
  {
   "cell_type": "code",
   "execution_count": null,
   "id": "275e2d62-9f54-4ad9-a60e-6501f5820456",
   "metadata": {},
   "outputs": [],
   "source": [
    "from matplotlib.animation import FuncAnimation\n",
    "from IPython.display import HTML"
   ]
  },
  {
   "cell_type": "code",
   "execution_count": null,
   "id": "a1bfdff1-66a2-4956-bfe1-993ec7e89725",
   "metadata": {},
   "outputs": [],
   "source": [
    "fig, ax = plt.subplots(num=1)\n",
    "line1 = ax.plot([], [], 'b-')[0]\n",
    "line2 = ax.plot([], [], 'r:')[0]\n",
    "\n",
    "x_min = -1\n",
    "x_max = 5\n",
    "\n",
    "ax.set_xlim(x_min, x_max)\n",
    "ax.set_ylim(-1.2, 1.2)\n",
    "\n",
    "ax.axhline(y=0, c='k', ls='-.')\n",
    "\n",
    "time_text = ax.text(0.25, 0.5, \"\", \n",
    "                    fontsize=15, color='red',\n",
    "                    bbox=dict(facecolor='blue', alpha=0.1))\n",
    "\n",
    "plt.close()\n",
    "\n",
    "x = np.linspace(x_min, x_max, 1000)\n",
    "\n",
    "def animate_u(frame_num):\n",
    "    t = frame_num/20\n",
    "    line1.set_data((x, u(x,t)))\n",
    "    # Now we plot line2 to track the characteristic curve that starts at (0.5,0).\n",
    "    # Notice that the y-values never change in line2\n",
    "    line2.set_data(([0.5+c*t, 0.5+c*t], [0, f(0.5)]))\n",
    "    \n",
    "    time_text.set_text(\"Time: {:5.2f}\".format(t))\n",
    "    return line1, line2\n",
    "\n",
    "anim = FuncAnimation(fig, animate_u, frames=100, interval=50)"
   ]
  },
  {
   "cell_type": "code",
   "execution_count": null,
   "id": "26640401-b634-4606-9aba-d4cfe509687e",
   "metadata": {},
   "outputs": [],
   "source": [
    "HTML(anim.to_jshtml())"
   ]
  },
  {
   "cell_type": "code",
   "execution_count": null,
   "id": "618849d1-3789-4e55-a176-71d3f63352d1",
   "metadata": {},
   "outputs": [],
   "source": [
    "# New example with non-periodic solution\n",
    "\n",
    "a = 2\n",
    "b = 3\n",
    "\n",
    "c = b/a\n",
    "\n",
    "f = lambda x: np.sinc(x)\n",
    "\n",
    "u = lambda x, t: f(x-c*t)"
   ]
  },
  {
   "cell_type": "code",
   "execution_count": null,
   "id": "fafc74d2-249d-49e0-ad97-6a850f294a85",
   "metadata": {},
   "outputs": [],
   "source": [
    "fig, ax = plt.subplots(num=2)\n",
    "line1 = ax.plot([], [], 'b-')[0]\n",
    "line2 = ax.plot([], [], 'r:')[0]\n",
    "\n",
    "x_min = -1\n",
    "x_max = 7\n",
    "\n",
    "ax.set_xlim(x_min, x_max)\n",
    "ax.set_ylim(-0.5, 1.2)\n",
    "\n",
    "ax.axhline(y=0, c='k', ls='-.')\n",
    "\n",
    "time_text = ax.text(0.25, 0.75, \"\", \n",
    "                    fontsize=15, color='red',\n",
    "                    bbox=dict(facecolor='blue', alpha=0.1))\n",
    "\n",
    "plt.close()\n",
    "\n",
    "x = np.linspace(x_min, x_max, 1000)\n",
    "\n",
    "def animate_u(frame_num):\n",
    "    t = frame_num/20\n",
    "    line1.set_data((x, u(x,t)))\n",
    "    # Now we plot line2 to track the characteristic curve that starts at (0.5,0).\n",
    "    # Notice that the y-values never change in line2\n",
    "    line2.set_data(([0.5+c*t, 0.5+c*t], [0, f(0.5)]))\n",
    "    \n",
    "    time_text.set_text(\"Time: {:5.2f}\".format(t))\n",
    "    return line1, line2\n",
    "\n",
    "anim = FuncAnimation(fig, animate_u, frames=100, interval=50)"
   ]
  },
  {
   "cell_type": "code",
   "execution_count": null,
   "id": "c6be4a60-88bf-49b8-a512-8f16004740a4",
   "metadata": {},
   "outputs": [],
   "source": [
    "HTML(anim.to_jshtml())"
   ]
  },
  {
   "cell_type": "markdown",
   "id": "037ad1a0-f48f-460c-842b-a7a2516d65b9",
   "metadata": {
    "tags": []
   },
   "source": [
    "---\n",
    "### Section 4.1.2: At least one of $a$ or $b$ is variable \n",
    "---\n",
    "\n",
    "In Sectoin 4.1.1, we essentially solved the problem by inspection where we identified that taking any smooth univariate function and evaluating it along a characteristic curve would define a function that satisfied the PDE. Then, the IC was used to constrain the solution space from every smooth univariate function to the function defining the IC.\n",
    "\n",
    "Things are a bit more complicated in this case, and we need to dive a bit more into the method of characteristics technique and the concept of [integral curves](https://en.wikipedia.org/wiki/Integral_curve). \n",
    "\n",
    "It basically boils down to this:\n",
    "\n",
    "- Suppose $u(x,t)$ satisfies the PDE and consider its surface graph $\\{(x,t,u(x,t))\\}$ in $\\mathbb{R}^3$. A normal vector to this surface is given by\n",
    "\n",
    "$$\n",
    "    \\left(\\partial_x u, \\partial_t u, -1\\right).\n",
    "$$\n",
    "\n",
    "- The PDE is then equivalent to the geometrical statement that the vector field \n",
    "<br><br>\n",
    "$$\n",
    "    (b(x,t), a(x,t), 0)\n",
    "$$\n",
    "<br>\n",
    "is tangent to the surface at every point, i.e., that the dot product between the vector field and the normal vector given above is zero (observe how the PDE is given exactly by taking the dot product between these and setting it equal to zero).\n",
    "\n",
    "\n",
    "- The graph of the solution must then be a union of integral curves of this vector field. \n",
    "\n",
    "- The integral curves are called the characteristic curves of the PDE. Let $s$ denote the parameterization of such a curve in the $(x,t)$-plane, then by the definition of an [integral curve](https://en.wikipedia.org/wiki/Integral_curve), we have that\n",
    "\n",
    "$$\n",
    "\\begin{align}\n",
    "    \\frac{dt}{ds} &= a(x,t) \\\\\n",
    "    \\frac{dx}{ds} &= b(x,t)\n",
    "\\end{align}\n",
    "$$\n",
    "\n",
    "The above autonomous system of ODEs is oftentimes rewritten in the parameterization invariant form using differentials as\n",
    "\n",
    "$$\n",
    "    \\frac{dt}{a(x,t)} = \\frac{dx}{b(x,t)}.\n",
    "$$\n",
    "\n",
    "> Author's note: I prefer the expression as a system of ODEs. We can approximate such curves using a vector-valued form of the Forward Euler method. But, in the cases we consider, we have the ability to derive closed form solutions to this system of ODEs to determine the characteristic curves.\n",
    "\n",
    "Once we have the solution, then we solve the problem as in the constant variable case by evaluating the IC on the expression for characteristic curves. \n",
    "\n",
    "The basic steps look like this (but it makes more sense seeing an example):\n",
    "\n",
    "- Solve the autonomous sytem of ODEs given above for some arbitrary $x(0)=x_0$ and $t(0)=0$ (we are using $s$ to denote the parameterization of the curve in the $(x,t)$-plane and assuming $s=0$ corresponds to $t(0)=0$ and $x(0)=x_0$.) \n",
    "\n",
    "- Use algebra to solve for $x_0$ as a function of $x$ and $t$ to give a formula for the characteristic curves as $g(x,t)=x_0$.\n",
    "\n",
    "- The solution is then given by $u(x,t) = f(g(x,t))$."
   ]
  },
  {
   "cell_type": "markdown",
   "id": "bc81ec49-3af9-49bf-98dc-a38bb81acf75",
   "metadata": {},
   "source": [
    "---\n",
    "#### A simple example\n",
    "---\n",
    "\n",
    "Suppose $a(x,t)=1$ and $b(x,t)=t$ giving the IVP\n",
    "\n",
    "$$\n",
    "    u_t + tu_x = 0, \\ \\text{ and } \\ u(x,0)=f(x).\n",
    "$$\n",
    "\n",
    "The ODE system for the characteristic curves is then given by\n",
    "\n",
    "$$\n",
    "\\begin{align}\n",
    "    \\frac{dt}{ds} &= 1, \\\\\n",
    "    \\frac{dx}{ds} &= t.\n",
    "\\end{align}\n",
    "$$\n",
    "\n",
    "Clearly the solution to the first equation for $t(0)=0$ is given by $t(s)=s$, and the solution to the second equation is given by\n",
    "\n",
    "$$\n",
    "\\begin{align}\n",
    "    x(s) &= \\int_{0}^s t(s)\\, ds + x_0 \\\\\n",
    "         \\\\\n",
    "         &= \\int_0^s s\\, ds + x_0 \\\\\n",
    "         \\\\\n",
    "         &= \\frac{1}{2}s^2 + x_0\n",
    "\\end{align}\n",
    "$$\n",
    "\n",
    "and since $t=s$ from the first equation, we rewrite this as $x(t)=\\frac{1}{2}t^2 + x_0$, or more simply as $x=\\frac{1}{2}t^2+x_0$, which we rewrite as\n",
    "\n",
    "$$\n",
    "    x-\\frac{1}{2}t^2 = x_0.\n",
    "$$\n",
    "\n",
    "In other words, curves in the $(x,t)$-plane defined by the above algebraic equation pass through $(x_0,0)$ and the solution $u(x,t)$ is *constant* along these curves meaning that $f(x_0)$ is the value that *travels* along these curves. Thus, \n",
    "\n",
    "$$\n",
    "    u(x,t) = f\\left(x-\\frac{1}{2}t^2\\right).\n",
    "$$\n",
    "\n",
    "One can simply plug this form of $u(x,t)$ back into the IVP to verify it satisfies both the PDE and the IC.\n",
    "\n",
    "We make some plots below to illustrate how the running wave *picks up speed* as time increases. "
   ]
  },
  {
   "cell_type": "code",
   "execution_count": null,
   "id": "e403bffb-2d54-4419-afac-4baa2ad331ff",
   "metadata": {},
   "outputs": [],
   "source": [
    "f = lambda x: np.sin(np.pi*x)\n",
    "\n",
    "u = lambda x, t: f(x-0.5*t**2)"
   ]
  },
  {
   "cell_type": "code",
   "execution_count": null,
   "id": "3ea8744d-385c-4857-9113-bc3c338b6f01",
   "metadata": {
    "tags": []
   },
   "outputs": [],
   "source": [
    "%reset -f out \n",
    "\n",
    "# Below, we make a plot of $u(x,t)$ over the space-time (i.e., $(x,t)$-)plane\n",
    "# along with some characteristic curves in the $(x,t)$-plane for which $u(x,t)$\n",
    "# stays constant on these curves\n",
    "\n",
    "%matplotlib widget\n",
    "fig = plt.figure(3)\n",
    "ax = fig.add_subplot(projection='3d')\n",
    "\n",
    "x = np.linspace(-2, 2, 50)\n",
    "t = np.linspace(0, 1, 20)\n",
    "\n",
    "x, t = np.meshgrid(x, t)\n",
    "\n",
    "ax.plot_surface(x, t, u(x,t), cmap=cm.coolwarm,\n",
    "                       linewidth=0, antialiased=False, alpha=0.5)\n",
    "\n",
    "# Now make plots of some characteristic curves\n",
    "ts = np.linspace(0, 1, 20)\n",
    "ax.plot(0.5 + 0.5*ts**2, ts, f(0.5)*np.ones(20), 'k', lw=2)\n",
    "ax.plot(0 + 0.5*ts**2, ts, f(0)*np.ones(20), 'k', lw=2)\n",
    "ax.plot(-0.5 + 0.5*ts**2, ts, f(-0.5)*np.ones(20), 'k', lw=2)\n",
    "ax.plot(-1 + 0.5*ts**2, ts, f(-1)*np.ones(20), 'k', lw=2)\n",
    "ax.plot(-1.5 + 0.5*ts**2, ts, f(-1.5)*np.ones(20), 'k', lw=2)\n",
    "ax.plot(-2 + 0.5*ts**2, ts, f(-2)*np.ones(20), 'k', lw=2)"
   ]
  },
  {
   "cell_type": "code",
   "execution_count": null,
   "id": "88906712-9a53-4c71-8ed3-7d15b290046c",
   "metadata": {},
   "outputs": [],
   "source": [
    "fig, ax = plt.subplots(num=4)\n",
    "line1 = ax.plot([], [], 'b-')[0]\n",
    "line2 = ax.plot([], [], 'r:')[0]\n",
    "\n",
    "x_min = -1\n",
    "x_max = 12\n",
    "\n",
    "ax.set_xlim(x_min, x_max)\n",
    "ax.set_ylim(-1.2, 1.2)\n",
    "\n",
    "ax.axhline(y=0, c='k', ls='-.')\n",
    "\n",
    "time_text = ax.text(0.25, 0.5, \"\", \n",
    "                    fontsize=15, color='red',\n",
    "                    bbox=dict(facecolor='blue', alpha=0.1))\n",
    "\n",
    "plt.close()\n",
    "\n",
    "x = np.linspace(x_min, x_max, 1000)\n",
    "\n",
    "def animate_u(frame_num):\n",
    "    t = frame_num/20\n",
    "    line1.set_data((x, u(x,t)))\n",
    "    # Now we plot line2 to track the characteristic curve that starts at (0.5,0).\n",
    "    # Notice that the y-values never change in line2\n",
    "    line2.set_data(([0.5+0.5*t**2, 0.5+0.5*t**2], [0, f(0.5)]))\n",
    "    \n",
    "    time_text.set_text(\"Time: {:5.2f}\".format(t))\n",
    "    return line1, line2\n",
    "\n",
    "anim = FuncAnimation(fig, animate_u, frames=200, interval=50)"
   ]
  },
  {
   "cell_type": "code",
   "execution_count": null,
   "id": "242f9ab9-4a9c-4bd8-89c4-13e2ac8babc8",
   "metadata": {},
   "outputs": [],
   "source": [
    "HTML(anim.to_jshtml())"
   ]
  },
  {
   "cell_type": "markdown",
   "id": "8def2fef-82e4-4142-afcd-50f89714faa6",
   "metadata": {
    "tags": []
   },
   "source": [
    "**Some final remarks on this example.**\n",
    "\n",
    "- Suppose instead of $u(x,0)=f(x)$ we define the IVP with respect to $x=0$ (after all, what is the difference between time and space?). In other words, suppose $u(0,t)=g(t)$. This is **not** a good problem for two reasons.\n",
    "\n",
    "  - First, some integral curves intersect the line $x=0$ more than once and if different points of intersection of the same curve have different initial values (e.g., due to the IC not being an even function of $t$), then the problem is unsolvable.\n",
    "  \n",
    "  - Second, suppose we do have an even function of $t$ for the IC, we can at least solve the problem for some $x>0$ but not all $x$. Specifically, $u$ is not defined on characteristic curves that do not intersect $x=0$, so we cannot determine what $u$ is for any $(x,t)$ such that $x>0.5t^2$. Lame.\n",
    "  \n",
    "- The first issue above is a joint issue of both solvability and uniqueness being broken whereas the second issue is one of only uniqueness being broken. When we stick with an IC based on $t=0$, then in the $(x,t)$-plane we see that each characteristic curve intersects the $x$-axis (i.e., where $t=0$) exactly once and the IVP is said to be *well-posed* because solutions exist and are unique."
   ]
  },
  {
   "cell_type": "markdown",
   "id": "7d78f01e-f5b9-41f9-a21b-82cb9b98dbe2",
   "metadata": {
    "tags": []
   },
   "source": [
    "---\n",
    "### Section 4.1.3: First-Order Nonhomogeneous Equations\n",
    "---\n",
    "\n",
    "Now consider the IVP given by\n",
    "\n",
    "$$\n",
    "    \\begin{cases}\n",
    "        a(x,t)u_t + b(x,t)u_x &= c(x,t), \\ x\\in\\mathbb{R}, \\ t>0, \\\\\n",
    "        u(x,0) &= f(x).\n",
    "    \\end{cases}\n",
    "$$\n",
    "\n",
    "Following the same geometric argument as before, the consequence of this is that the autonomous sytem of ODEs we construct to determine the characteristics is now extended by one additional variable to give\n",
    "\n",
    "$$\n",
    "\\begin{align}\n",
    "    \\frac{dt}{ds} &= a(x,t) \\\\\n",
    "    \\frac{dx}{ds} &= b(x,t) \\\\\n",
    "    \\frac{du}{ds} &= c(x,t).\n",
    "\\end{align}\n",
    "$$\n",
    "\n",
    "Unlike before where we only needed to consider initial conditions $t(0)=0$ and $x(0)=x_0$, we now need to consider $u(x(0), t(0))=u(x(0), 0) = u(x_0,0) = f(x_0)$. \n",
    "\n",
    "This means that \n",
    "\n",
    "$$\n",
    "    u(x(s), t(s)) = f(x_0) + \\int_0^s c(x(\\tau), t(\\tau))\\, d\\tau.\n",
    "$$\n",
    "\n",
    "What does it mean to have $f(x_0)$? This looks odd. Well, as before, we would use some algebra to solve for $x_0$ in terms of $x(s)$ and $t(s)$ to get $x_0=g(x(s), t(s))$. Then, we use $f(g(x,t))$ in the form for $u(x,t)$ above (where we now supress the parameter $s$).\n",
    "\n",
    "This points at the typical solution strategy for the IVP in the form above which is to determine $t(s)$ and $x(s)$ first since they do not depend on $u$, and then hopefully figure out what the intergral is in the form for $u(x(s), t(s))$ above.\n",
    "\n",
    "**Remarks:**\n",
    "\n",
    "- It sure is nice when $a(x,t)=1$ because then $t(s)=s$ and we can simply use $t$ instead of $s$ in all the subsequent parts of the problem. \n",
    "\n",
    "- Also, when $a(x,t)=1$, and $b(x,t)=b(t)$ (i.e., it depends only on $t$), then this sure is nice because $x(t)=x_0+\\int_0^t b(\\tau)\\, d\\tau$ is \"easy\" (assuming we know how to integrate the form of $b(\\tau)$).\n",
    "\n",
    "- Note that even if $f(x)=0$ (i.e., the IC is homogeneous), the solution to the IVP will still \"evolve\" over space-time for $t>0$ if the forcing term $c(x,t)$ is non-trivial. "
   ]
  },
  {
   "cell_type": "markdown",
   "id": "81e59114-b037-4de2-9989-73536ef72a27",
   "metadata": {},
   "source": [
    "---\n",
    "#### This example sure is nice\n",
    "---\n",
    "\n",
    "Suppose $a(x,t)=b(x,t)=1$ and $c(x,t)=x$, then\n",
    "\n",
    "$$\n",
    "    t = t, \\ \\text{ and } \\ x=x_0 + t, \n",
    "$$\n",
    "\n",
    "so\n",
    "\n",
    "$$\n",
    "    u(x,t) = f(x-t) + \\int_0^t (x_0+\\tau) \\, d\\tau.\n",
    "$$\n",
    "\n",
    "It follows that\n",
    "\n",
    "$$\n",
    "    u(x,t) = f(x_0) + x_0t + \\frac{1}{2}t^2.\n",
    "$$\n",
    "\n",
    "At this point, we rewrite $x=x_0+t$ to give $x_0=x-t$ and substitute this into $u(x,t)$ above to give\n",
    "\n",
    "$$\n",
    "    u(x,t) = f(x-t) + xt - \\frac{1}{2}t^2.\n",
    "$$\n",
    "\n",
    "Note the sign change on the $t^2$ term."
   ]
  },
  {
   "cell_type": "code",
   "execution_count": null,
   "id": "01d9c5a3-4c55-46e0-89bf-0c88f33abbe4",
   "metadata": {},
   "outputs": [],
   "source": [
    "f = lambda x: np.sin(np.pi*x)\n",
    "\n",
    "u = lambda x, t: f(x-t) + x*t - 0.5*t**2"
   ]
  },
  {
   "cell_type": "code",
   "execution_count": null,
   "id": "0265ad83-cb31-476e-8231-acf82f9640d5",
   "metadata": {},
   "outputs": [],
   "source": [
    "fig, ax = plt.subplots(num=5)\n",
    "line1 = ax.plot([], [], 'b-')[0]\n",
    "line2 = ax.plot([], [], 'r:')[0]\n",
    "line3 = ax.plot([], [], 'g-.')[0]\n",
    "\n",
    "x_min = -1\n",
    "x_max = 5\n",
    "\n",
    "ax.set_xlim(x_min, x_max)\n",
    "ax.set_ylim(-1.2, 10)\n",
    "\n",
    "ax.axhline(y=0, c='k', ls='-.')\n",
    "\n",
    "time_text = ax.text(0.25, 5, \"\", \n",
    "                    fontsize=15, color='red',\n",
    "                    bbox=dict(facecolor='blue', alpha=0.1))\n",
    "\n",
    "plt.close()\n",
    "\n",
    "x = np.linspace(x_min, x_max, 1000)\n",
    "\n",
    "def animate_u(frame_num):\n",
    "    t = frame_num/50\n",
    "    line1.set_data((x, u(x,t)))\n",
    "    # Now we plot line2 to track the characteristic curve that starts at (0.5,0).\n",
    "    # Notice that the y-values NOW change but we track this in line3\n",
    "    line2.set_data(([0.5+t, 0.5+t], [0, f(0.5)]))\n",
    "    # line3 is tracking the \"amount\" of $u(x,t)$ due to the forcing\n",
    "    line3.set_data(([0.5+t, 0.5+t], [f(0.5), f(0.5)+(0.5+t)*t - 0.5*t**2]))\n",
    "    \n",
    "    time_text.set_text(\"Time: {:5.2f}\".format(t))\n",
    "    return line1, line2, line3\n",
    "\n",
    "anim = FuncAnimation(fig, animate_u, frames=200, interval=50)"
   ]
  },
  {
   "cell_type": "code",
   "execution_count": null,
   "id": "90e944b5-a069-43d2-a67c-a2518e75b0e7",
   "metadata": {},
   "outputs": [],
   "source": [
    "HTML(anim.to_jshtml())"
   ]
  },
  {
   "cell_type": "markdown",
   "id": "bf1be462-e329-4531-9a20-8ca34e52bd38",
   "metadata": {},
   "source": [
    "---\n",
    "#### This example is almost nice\n",
    "---\n",
    "\n",
    "Now suppose $a(x,t)=1$, $b(x,t)=x$, and $c(x,t)=xt$. Then, $t(s)=s$ so we just use $t$ in the system of ODEs and then solve\n",
    "\n",
    "$$\n",
    "    \\frac{dx}{dt} = x,\n",
    "$$\n",
    "\n",
    "which gives\n",
    "\n",
    "$$\n",
    "    x(t) = x_0e^t.\n",
    "$$\n",
    "\n",
    "Now, \n",
    "\n",
    "$$\n",
    "    u(x,t) = f(x_0) + \\int_0^t x_0e^\\tau \\, d\\tau,\n",
    "$$\n",
    "\n",
    "which gives\n",
    "\n",
    "$$\n",
    "    u(x,t) = f(x_0) + x_0e^t - x_0.\n",
    "$$\n",
    "\n",
    "As usual, we use $x(t)$ to solve for $x_0$ in terms of $x$ and $t$. In this example, this gives $x_0=xe^{-t}$, and we have\n",
    "\n",
    "$$\n",
    "    u(x,t) = f(xe^{-t}) + x - xe^{-t}.\n",
    "$$"
   ]
  },
  {
   "cell_type": "code",
   "execution_count": null,
   "id": "67dfba3b-26a3-4498-ab54-25fd8e681d74",
   "metadata": {},
   "outputs": [],
   "source": [
    "f = lambda x: np.sin(np.pi*x)\n",
    "\n",
    "u = lambda x, t: f(x*np.exp(-t)) + x - x*np.exp(-t)"
   ]
  },
  {
   "cell_type": "code",
   "execution_count": null,
   "id": "7d827fc9-d1d0-4904-b8bb-e51729759e2b",
   "metadata": {},
   "outputs": [],
   "source": [
    "fig, ax = plt.subplots(num=6)\n",
    "line1 = ax.plot([], [], 'b-')[0]\n",
    "line2 = ax.plot([], [], 'r:')[0]\n",
    "line3 = ax.plot([], [], 'g-.')[0]\n",
    "\n",
    "x_min = -1\n",
    "x_max = 6\n",
    "\n",
    "ax.set_xlim(x_min, x_max)\n",
    "ax.set_ylim(-1.2, 6.5)\n",
    "\n",
    "ax.axhline(y=0, c='k', ls='-.')\n",
    "\n",
    "time_text = ax.text(0.25, 5, \"\", \n",
    "                    fontsize=15, color='red',\n",
    "                    bbox=dict(facecolor='blue', alpha=0.1))\n",
    "\n",
    "plt.close()\n",
    "\n",
    "x = np.linspace(x_min, x_max, 1000)\n",
    "\n",
    "def animate_u(frame_num):\n",
    "    t = frame_num/100\n",
    "    line1.set_data((x, u(x,t)))\n",
    "    # Now we plot line2 to track the characteristic curve that starts at (.5,0).\n",
    "    # Notice that the y-values now change but we track this in line3\n",
    "    line2.set_data(([.5*np.exp(t), .5*np.exp(t)], [0, f(.5)]))\n",
    "    # line3 is tracking the \"amount\" of $u(x,t)$ due to the forcing\n",
    "    line3.set_data(([.5*np.exp(t), .5*np.exp(t)], [f(.5), f(.5) + .5*np.exp(t) - .5]))\n",
    "    \n",
    "    time_text.set_text(\"Time: {:5.2f}\".format(t))\n",
    "    return line1, line2, line3\n",
    "\n",
    "anim = FuncAnimation(fig, animate_u, frames=200, interval=50)"
   ]
  },
  {
   "cell_type": "code",
   "execution_count": null,
   "id": "ef0aec62-8020-4945-a95f-a206ab484a8a",
   "metadata": {},
   "outputs": [],
   "source": [
    "HTML(anim.to_jshtml())"
   ]
  },
  {
   "cell_type": "markdown",
   "id": "1f16b0f6-d5d6-4d0f-ac3a-274dadb109fd",
   "metadata": {
    "tags": []
   },
   "source": [
    "---\n",
    "#### A linear and nonlinear model of traffic\n",
    "---\n",
    "\n",
    "***This portion of the notebook borrows and modifies content found in the OER textbook [Partial Differential Equations by Victor Ivrii](http://www.math.toronto.edu/ivrii/PDE-textbook/PDE-textbook.pdf) released under a Creative Commons Attribution-ShareAlike 4.0 International License.***\n",
    "\n",
    "Consider the [*delightful*](https://en.wikipedia.org/wiki/Eye-rolling) [experience](https://www.merriam-webster.com/dictionary/dumpster%20fire) of driving on an interstate through a major metropolitan complex (e.g., I25 through Denver, CO). Below, we model the traffic in a single direction (say headed north) to try and understand I25 traffic.\n",
    "\n",
    "**Some notation:**\n",
    "\n",
    "- Let $u(x,t)$ denote the *traffic density* defined by the number of cars per mile at time $t$ and at mile $x$. So, $u$ has units of cars/mile.\n",
    "\n",
    "- Let $v(x,t)$ denote the *traffic flow* defined by the number of cars per hour passing a fixed mile $x$ at time $t$. So, $v$ has units of cars/hour.\n",
    "\n",
    "- Let $N(t, a, b)$ denote the number of cars between mile $x=a$ and $x=b$ at time $t$. So, $N$ has units of cars.\n",
    "\n",
    "**The strategy of the derivation:**\n",
    "\n",
    "- Use dimensional analysis and some physical reasoning to relate $u$ and $v$ to $N$, which allows us to relate $u$ and $v$ to each other.\n",
    "\n",
    "- Then, consider models for $v$ in terms of $u$.\n",
    "\n",
    "By the definition of $u(x,t)$, \n",
    "\n",
    "$$\n",
    "    N(t, a, b) = \\int_a^b u(t, x)\\, dx.\n",
    "$$\n",
    "\n",
    "Note that integrating $u$, which has units of cars/mile against $x$ (which has units of miles), gives units of cars, which is the units of $N$.\n",
    "\n",
    "The [traffic flux](https://en.wikipedia.org/wiki/Flux) between points $x=a$ and $x=b$ (where we assume $a<b$) is defined by the rate of change of cars per hour in the interval between miles $a$ and $b$, i.e., \n",
    "\n",
    "$$\n",
    "    \\text{traffic flux} = \\frac{\\partial_t N}{b-a}.\n",
    "$$\n",
    "\n",
    "Now, $v$ also defines the traffic flow, and if we assume that at a fixed time $t$ that no cars are being destroyed or created (i.e., we have a conservation of cars assumption much like a conservation of mass assumption), then $v(t,a)$ denotes the net number of cars flowing into the interval $[a,b]$ and $v(t,b)$ denotes the number of cars flowing out of the interval $[a,b]$, so $v(t,a)-v(t,b)$ denotes the rate of change of cars per hour, i.e.,\n",
    "\n",
    "$$\n",
    "    \\text{traffic flux} = \\frac{v(t,a)-v(t,b)}{b-a}, \n",
    "$$\n",
    "\n",
    "so we identify $\\partial_t N = v(t,a)-v(t,b)$.\n",
    "\n",
    "Assuming that $u$ has continuous partial derivatives, then \n",
    "\n",
    "$$\n",
    "    \\partial_t N(t,a,b) = \\int_a^b u_t(t,x)\\, dx.\n",
    "$$\n",
    "\n",
    "Putting things together, we see\n",
    "\n",
    "$$\n",
    "    \\int_a^b u_t(t,x)\\, dx = v(t,a)-v(t,b).\n",
    "$$\n",
    "\n",
    "Now, by dividing both sides by $b-a$ and taking the limit as $b\\downarrow a$, we have that\n",
    "\n",
    "$$\n",
    "    u_t(t,x) = -v_x(t,x), \n",
    "$$\n",
    "\n",
    "which gives a conservation of cars equation\n",
    "\n",
    "$$\n",
    "    u_t + v_x = 0.\n",
    "$$\n",
    "\n",
    "Suppose all cars are moving with the same speed $b$, then $v=bu$, and this equation becomes\n",
    "\n",
    "$$\n",
    "    u_t + bu_x = 0.\n",
    "$$\n",
    "\n",
    "We have seen how to solve this problem above. We have also seen that this results in a nice \"traveling wave\" that we interpret here as the initial density of cars simply traveling along the highway at a fixed propagation speed $b$. What a nice drive that would be if only it ever happened!\n",
    "\n",
    "A more realistic model for the traffic flow is that $v=g(u)u$ where $g(u)$ is a monotone decreasing function of $u$ with $g(0)=g_0$ (a value related to the speed limit when the highway is essentially empty...and perhaps no cops are around) and $g(\\hat{u}) = 0$ where $\\hat{u}$ is the maximum density of cars that can fill the highway and make movement impossible (after all, cars take up physical space and there can only be so many on the highway). \n",
    "\n",
    "In this case, the product and chain rule give\n",
    "\n",
    "$$\n",
    "    v_x = g'(u)u_xu + g(u)u_x,\n",
    "$$\n",
    "\n",
    "where $g'$ denotes the derivative of $g$ with respect to $u$. If we factor the above and define\n",
    "\n",
    "$$\n",
    "    b(u) = g'(u)u + g(u),\n",
    "$$\n",
    "\n",
    "then the PDE becomes\n",
    "\n",
    "$$\n",
    "    u_t + b(u) u_x = 0. \n",
    "$$\n",
    "\n",
    "The $b(u)$ represents the *phase velocity*. Note that $b(u)$ makes this a nonlinear equation, which means it is generally difficult to solve. It is easier to solve numerically (although we are not ready to do that yet). For now, we settle for some useful remarks.\n",
    "\n",
    "**Remarks:**\n",
    "\n",
    "- Since $u\\geq 0$ and $g$ is assumed to be monotonic decreasing, $g'(u)\\leq 0$ which implies $b(u)\\leq g(u)$ for all $u\\geq 0$, which means that the phase velocity is always less than the *group velocity* defined by $g(u)$. \n",
    "\n",
    "  - Physically what this means is that cars may join congestion only from behind and leave it from its front. Picture in your mind how you slow up to a \"pile of cars\" on the highway and then, seemingly miraculously, you arrive at some magical point at the end of the congestion where you can speed up again even though you still see a mess of cars in your rear view mirror. What happened? Mathematics happened!\n",
    "\n",
    "\n",
    "- We can verify that characteristic curves are defined by $x-b(u)t=x_0$ and that along these curves $u$ remains constant (the density of cars does not change along these curves).\n",
    "\n",
    "\n",
    "- It is reasonable to assume that $v(u)=g(u)u$ has a single maximum at some $u^*$ (i.e., there is a density where the group velocity associated with this density defines the largest flux). Do a thought experiment to reason this. If there is a single car traveling on the highway, then no matter how fast it is traveling, there is still a small flux. If there are too many cars on the highway so that traffic is \"crawling\", then there is a small flux. But, if there is a \"goldilocks\" number of cars on the road where a reasonably fast speed can be maintained with a reasonable number of cars, then the flux is probably \"optimally maximized.\" \n",
    "\n",
    "  - Notice that $b(u)>0$ as $u<u^*$, which means that the phase velocity is positive so $x = x_0 + b(u)t$ is an increasing function, i.e., as time increases, the density of cars is moving forward in terms of transporting the density of cars in positive miles traveled.\n",
    "  \n",
    "  - On the other hand, $b(u)<0$ if $u>u^*$, in which case $x=x_0 + b(u)t$ is *decreasing*, i.e., as time increases, the density of cars is failing to \"move forward\" and the congestion is increasing by backing up the density of cars. This is what happens with a growing traffic jam.\n",
    "  \n",
    "- Going back to the integral lines, they may intersect because of this change of direction of $b(u)$. This means that \"loose and faster\" moving congestion catches up with \"dense and slower\" congestion. When that happens, $u$ becomes discontinuous and the theory becomes complicated. \n",
    "\n",
    "- We can put a source term $c(x,t)$ to model how many cars enter or leave the highway using on-/off-ramps at various points in space and at various times (perhaps according to rush hour)."
   ]
  },
  {
   "cell_type": "markdown",
   "id": "3b2406d5-af3a-461c-93a6-71d470f92458",
   "metadata": {},
   "source": [
    "---\n",
    "#### Student Activity\n",
    "---\n",
    "\n",
    "In this activity, we consider Cauchy problems of the form\n",
    "\n",
    "$$\n",
    "\\begin{cases}\n",
    "    u_t + b(x,t)u_x &= c(x,t), \\ x\\in\\mathbb{R}, \\ t>0, \\\\ \n",
    "    u(x,0) &= f(x).\n",
    "\\end{cases}\n",
    "$$\n",
    "\n",
    "For each particular $b(x,t)$, $c(x,t)$, and $f(x)$ given below, do the following:\n",
    "\n",
    "(a) Find the exact solution using the method of characteristics ***and*** verify the solution is correct (i.e., check that the solution satisfies the Cauchy problem by verifying that it satisfies the PDE and IC).\n",
    "\n",
    "(b) Generate an animation of the traveling wave.\n",
    "\n",
    "1. $b(x,t)=2x$, $c(x,t) = 0$, $f(x)=e^{-x^2}$.\n",
    "\n",
    "2. $b(x,t)=-x$, $c(x,t) = t$, $f(x)=\\sin(5\\pi x)$.\n",
    "\n",
    "3. $b(x,t)=-x$, $c(x,t) = x$, $f(x)=\\cos(6\\pi x)$.\n",
    "\n",
    "4. $b(x,t)=x$, $c(x,t)=xt$, $f(x)=\\sin(5\\pi x)\\cos(6\\pi x)$.\n",
    "\n",
    "*We will do 1 in-class but the rest are left for students to do as homework.*"
   ]
  },
  {
   "cell_type": "markdown",
   "id": "88d8951d-e767-498d-b689-4cabf29b857d",
   "metadata": {},
   "source": [
    "<mark>1(a)</mark>"
   ]
  },
  {
   "cell_type": "markdown",
   "id": "b813e424-d1c4-4921-b030-9c1e8c51b72f",
   "metadata": {
    "jupyter": {
     "source_hidden": true
    },
    "tags": []
   },
   "source": [
    "Because $a(x,t)=1$ here, we use $t$ to parameterize the characteristic curves."
   ]
  },
  {
   "cell_type": "markdown",
   "id": "84e403c8-f89a-405a-aaae-ac2ca365fdcd",
   "metadata": {
    "jupyter": {
     "source_hidden": true
    },
    "tags": []
   },
   "source": [
    "We then solve \n",
    "\n",
    "$$\n",
    "    \\frac{dx}{dt} = b(x,t) = 2x\n",
    "$$\n",
    "\n",
    "to get\n",
    "\n",
    "$$\n",
    "    x(t) = x_0e^{2t}.\n",
    "$$"
   ]
  },
  {
   "cell_type": "markdown",
   "id": "f5d4af67-853a-4272-aec3-260c6366e274",
   "metadata": {
    "jupyter": {
     "source_hidden": true
    },
    "tags": []
   },
   "source": [
    "Note that \n",
    "\n",
    "$$\n",
    "    x_0 = xe^{-2t}.\n",
    "$$"
   ]
  },
  {
   "cell_type": "markdown",
   "id": "74783f3a-bf12-4deb-81d0-43ba40edb069",
   "metadata": {
    "jupyter": {
     "source_hidden": true
    },
    "tags": []
   },
   "source": [
    "We then have\n",
    "\n",
    "$$\n",
    "\\begin{align}\n",
    "    u(x,t) &= f(xe^{-2t}) \\\\ \\\\\n",
    "           &= \\exp(-(xe^{-2t})^2) \\\\ \\\\\n",
    "           &= \\exp(-x^2e^{-4t}).\n",
    "\\end{align}\n",
    "$$"
   ]
  },
  {
   "cell_type": "markdown",
   "id": "14d5aff0-ea61-4f97-8fa7-670960eabc47",
   "metadata": {
    "jupyter": {
     "source_hidden": true
    },
    "tags": []
   },
   "source": [
    "We now check the solution.\n",
    "\n",
    "First, we check the IC is satisfied.\n",
    "\n",
    "$$\n",
    "    u(x,0) = f(xe^{0}) = f(x) \\ {\\large \\checkmark}\n",
    "$$"
   ]
  },
  {
   "cell_type": "markdown",
   "id": "c6cdd53b-3fa3-4d52-9727-7295263adfe9",
   "metadata": {
    "jupyter": {
     "source_hidden": true
    },
    "tags": []
   },
   "source": [
    "Next, we check the PDE is satisfied.\n",
    "\n",
    "Compute partial derivatives first.\n",
    "$$\n",
    "    u_t = 4x^2e^{-4t} \\exp(-x^2e^{-4t}).\n",
    "$$\n",
    "\n",
    "$$\n",
    "    u_x = -2xe^{-4t} \\exp(-x^2e^{-4t}).\n",
    "$$\n",
    "\n",
    "Plug them into the PDE next.\n",
    "$$\n",
    "\\begin{align}\n",
    "    u_t + b(x,t) u_x &= 4x^2e^{-4t} \\exp(-x^2e^{-4t}) + 2x(-2xe^{-4t})\\exp(-x^2e^{-4t}) \\\\ \\\\\n",
    "                     &= \\underbrace{\\left(4x^2e^{-4t} - 4x^2e^{-4t}\\right)}_{=0} \\exp(-x^2e^{-4t}) \\\\ \\\\\n",
    "                     &= 0. \\ {\\large\\checkmark}\n",
    "\\end{align}\n",
    "$$"
   ]
  },
  {
   "cell_type": "code",
   "execution_count": null,
   "id": "591ea0f8-ac9a-4ef3-b22e-f876848b4b13",
   "metadata": {},
   "outputs": [],
   "source": [
    "#1(b): Define the IC and solution\n",
    "\n",
    "f = lambda x: np.exp(-x**2)\n",
    "\n",
    "u = lambda x, t: f(x*np.exp(-2*t))"
   ]
  },
  {
   "cell_type": "code",
   "execution_count": null,
   "id": "24960b00-dfdd-4c4d-b6aa-33909a9d9b47",
   "metadata": {},
   "outputs": [],
   "source": [
    "#1(b): The animation\n",
    "\n",
    "fig, ax = plt.subplots(num=6)\n",
    "line1 = ax.plot([], [], 'b-')[0]\n",
    "line2 = ax.plot([], [], 'r:')[0]\n",
    "\n",
    "x_min = -1\n",
    "x_max = 16\n",
    "\n",
    "ax.set_xlim(x_min, x_max)\n",
    "ax.set_ylim(0, 1.5)\n",
    "\n",
    "ax.axhline(y=0, c='k', ls='-.')\n",
    "\n",
    "time_text = ax.text(0.25, 1.25, \"\", \n",
    "                    fontsize=15, color='red',\n",
    "                    bbox=dict(facecolor='blue', alpha=0.1))\n",
    "\n",
    "plt.close()\n",
    "\n",
    "x = np.linspace(x_min, x_max, 1000)\n",
    "\n",
    "def animate_u(frame_num):\n",
    "    t = frame_num/100\n",
    "    line1.set_data((x, u(x,t)))\n",
    "    # Now we plot line2 to track the characteristic curve that starts at (.5,0).\n",
    "    # Notice that the y-values never change\n",
    "    line2.set_data(([.5*np.exp(2*t), .5*np.exp(2*t)], [0, f(.5)]))\n",
    "\n",
    "    time_text.set_text(\"Time: {:5.2f}\".format(t))\n",
    "    return line1, line2, line3\n",
    "\n",
    "anim = FuncAnimation(fig, animate_u, frames=200, interval=50)"
   ]
  },
  {
   "cell_type": "code",
   "execution_count": null,
   "id": "d688efed-8812-4af7-9d09-932f776bf061",
   "metadata": {},
   "outputs": [],
   "source": [
    "# Play the animation\n",
    "\n",
    "HTML(anim.to_jshtml())"
   ]
  },
  {
   "cell_type": "markdown",
   "id": "dc7ad9e4-669f-4bd9-a0dc-a9b41ad963aa",
   "metadata": {},
   "source": [
    "<mark>2(a)</mark>"
   ]
  },
  {
   "cell_type": "code",
   "execution_count": null,
   "id": "4ac6851f-b5d0-4921-a784-380b3bb72c0d",
   "metadata": {},
   "outputs": [],
   "source": [
    "#2(b)"
   ]
  },
  {
   "cell_type": "markdown",
   "id": "b2cb3b8f-ece9-45ac-bfdb-ea96499588f5",
   "metadata": {},
   "source": [
    "<mark>3(a)</mark>"
   ]
  },
  {
   "cell_type": "code",
   "execution_count": null,
   "id": "939022ae-4233-459b-bc5c-283969363326",
   "metadata": {},
   "outputs": [],
   "source": [
    "#3(b)"
   ]
  },
  {
   "cell_type": "markdown",
   "id": "4375ece4-6963-4c72-a332-5a02f1e5a16e",
   "metadata": {},
   "source": [
    "<mark>4(a)</mark>"
   ]
  },
  {
   "cell_type": "code",
   "execution_count": null,
   "id": "e9f22f55-45b7-4e98-923d-37ae82025763",
   "metadata": {},
   "outputs": [],
   "source": [
    "#4(b)"
   ]
  },
  {
   "cell_type": "markdown",
   "id": "8e2070af-4631-4789-adff-bec61f424aff",
   "metadata": {},
   "source": [
    "---\n",
    "#### Student Activity\n",
    "---\n",
    "\n",
    "Consider the linear nonhomogeneous Cauchy problem given by\n",
    "\n",
    "$$\n",
    "    \\begin{cases}\n",
    "        a(x,t)u_t + b(x,t)u_x &= c(x,t), \\ x\\in\\mathbb{R}, \\ t>0, \\\\\n",
    "        u(x,0) &= f(x).\n",
    "    \\end{cases}\n",
    "$$\n",
    "\n",
    "1. Define what stability with respect to perturbations in the initial data means for this problem using the [$\\sup$-norm metric](https://en.wikipedia.org/wiki/Uniform_norm) to define the size of perturbations in the IC."
   ]
  },
  {
   "cell_type": "markdown",
   "id": "7fb3e5c0-a15e-42b4-a6b7-406cb674d4ae",
   "metadata": {},
   "source": [
    "*Hint for 1: If $g(x)$ is a perturbation to $f(x)$, then we are trying to control*\n",
    "$$\n",
    "    \\sup_{x\\in\\mathbb{R}} | g(x)-f(x) |\n",
    "$$\n",
    "\n",
    "*so that we can control the distance between $u(x,t)$ and $v(x,t)$ for all $t\\geq T$ given by*\n",
    "\n",
    "$$\n",
    "    \\sup_{x\\in\\mathbb{R}, t\\geq T} | u(x,t) - v(x,t) |.\n",
    "$$\n",
    "\n",
    "*The goal is to write this up more precisely in a definition of stability as was seen in [Section 1.4](https://github.com/CU-Denver-MathStats-OER/Intro-PDEs-Theory-and-Computations/blob/main/Chp1/Chp1Sec4.ipynb).*"
   ]
  },
  {
   "cell_type": "markdown",
   "id": "96b6641a-9dce-40cd-a68d-640d20664ec3",
   "metadata": {},
   "source": [
    "2. Prove that the problem above is stable with respect to perturbations in the initial data.\n",
    "\n",
    "3. Generate some plots and/or animations illustrating the idea of stability.\n",
    "\n",
    "4. What, if anything, would change if we defined stability using a different norm-induced metric to define the size of perturbations in the IC? For example, what if we had used an $L^p$-norm for some $p\\geq 1$? "
   ]
  },
  {
   "cell_type": "markdown",
   "id": "c50f6ee4-8a6b-4bf4-84f6-ea50e8fcf4bb",
   "metadata": {},
   "source": [
    "*Hint for 4: Some perturbations that are small in the $\\sup$-norm metric are infinitely large in an $L^p$ norm for any $p\\geq 1$.*\n",
    "\n",
    "$$\n",
    "    \\| f \\|_{L^p} = \\left( \\int_\\mathbb{R} |f(x)|^p\\, dx \\right)^{1/p}\n",
    "$$\n",
    "\n",
    "$$\n",
    "    \\| f-g \\|_{L^p} = \\left( \\int_\\mathbb{R} |f(x)-g(x)|^p\\, dx \\right)^{1/p}\n",
    "$$\n",
    "\n",
    "*We will discuss this activity in class, but a formal write-up and coding will be left for homework.*"
   ]
  },
  {
   "cell_type": "code",
   "execution_count": null,
   "id": "5212257c-ab55-4e64-8b3b-5aefa845f245",
   "metadata": {},
   "outputs": [],
   "source": []
  },
  {
   "cell_type": "code",
   "execution_count": null,
   "id": "9a11deb7-658d-449d-bedc-b33404398ab3",
   "metadata": {},
   "outputs": [],
   "source": []
  },
  {
   "cell_type": "code",
   "execution_count": null,
   "id": "be7b0f51-4dc5-4051-beec-92054c209d73",
   "metadata": {},
   "outputs": [],
   "source": []
  },
  {
   "cell_type": "markdown",
   "id": "858c7b57-a914-476a-a713-a6e9b95f5366",
   "metadata": {},
   "source": [
    "---\n",
    "## Navigation:\n",
    "\n",
    "- [Previous](https://github.com/CU-Denver-MathStats-OER/Intro-PDEs-Theory-and-Computations/blob/main/Chp4/Chp4Sec0.ipynb)\n",
    "\n",
    "- [Next](https://github.com/CU-Denver-MathStats-OER/Intro-PDEs-Theory-and-Computations/blob/main/Chp4/Chp4Sec2.ipynb)\n",
    "---"
   ]
  }
 ],
 "metadata": {
  "kernelspec": {
   "display_name": "Python 3 (ipykernel)",
   "language": "python",
   "name": "python3"
  },
  "language_info": {
   "codemirror_mode": {
    "name": "ipython",
    "version": 3
   },
   "file_extension": ".py",
   "mimetype": "text/x-python",
   "name": "python",
   "nbconvert_exporter": "python",
   "pygments_lexer": "ipython3",
   "version": "3.9.13"
  }
 },
 "nbformat": 4,
 "nbformat_minor": 5
}

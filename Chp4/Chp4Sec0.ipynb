{
 "cells": [
  {
   "cell_type": "markdown",
   "id": "c0dd680a-f512-403a-88d7-d3fc2216422b",
   "metadata": {
    "tags": []
   },
   "source": [
    "# Introduction to Partial Differential Equations\n",
    "---"
   ]
  },
  {
   "cell_type": "markdown",
   "id": "ba772b3e-e10b-470c-a622-218dad0e9474",
   "metadata": {
    "tags": []
   },
   "source": [
    "## Chapter 4: Hyperbolic PDEs and the Wave Equation\n",
    "---\n"
   ]
  },
  {
   "cell_type": "markdown",
   "id": "b3daa0a4-4902-462b-98ec-bcf12fa95a45",
   "metadata": {
    "tags": []
   },
   "source": [
    "## Creative Commons License Information\n",
    "<a rel=\"license\" href=\"http://creativecommons.org/licenses/by-nc/4.0/\"><img alt=\"Creative Commons License\" style=\"border-width:0\" src=\"https://i.creativecommons.org/l/by-nc/4.0/80x15.png\" /></a><br /><span xmlns:dct=\"http://purl.org/dc/terms/\" property=\"dct:title\">Introduction to Partial Differential Equations: Theory and Computations</span> by <a xmlns:cc=\"http://creativecommons.org/ns#\" href=\"https://github.com/CU-Denver-MathStats-OER/Intro-PDEs-Theory-and-Computations\" property=\"cc:attributionName\" rel=\"cc:attributionURL\">Troy Butler</a> is licensed under a <a rel=\"license\" href=\"http://creativecommons.org/licenses/by-nc/4.0/\">Creative Commons Attribution-NonCommercial 4.0 International License</a>.<br />Based on a work at <a xmlns:dct=\"http://purl.org/dc/terms/\" href=\"https://github.com/CU-Denver-MathStats-OER/Intro-PDEs-Theory-and-Computations\" rel=\"dct:source\">https://github.com/CU-Denver-MathStats-OER/Intro-PDEs-Theory-and-Computations</a>."
   ]
  },
  {
   "cell_type": "markdown",
   "id": "f1d14456-0182-4bef-bc2b-9194c657eadc",
   "metadata": {
    "tags": []
   },
   "source": [
    "---\n",
    "## Section 4.0: Overview/Table of Contents for Chapter\n",
    "---\n",
    "\n",
    "A [hyperbolic PDE](https://en.wikipedia.org/wiki/Hyperbolic_partial_differential_equation) is a type of PDE used to describe spatial-temporal varying phenomena that is \"wave-like.\" From Wikipedia:\n",
    "\n",
    "> If a disturbance is made in the initial data of a hyperbolic differential equation, then not every point of space feels the disturbance at once. Relative to a fixed time coordinate, disturbances have a finite propagation speed. They travel along the characteristics of the equation. This feature qualitatively distinguishes hyperbolic equations from elliptic partial differential equations and parabolic partial differential equations. A perturbation of the initial (or boundary) data of an elliptic or parabolic equation is felt at once by essentially all points in the domain.\n",
    "\n",
    "Perhaps the simplest example of a hyerbplic PDE is the \"1-D wave equation\" given by\n",
    "\n",
    "$$\n",
    "    u_{tt} = c^2 u_{xx}.\n",
    "$$\n",
    "\n",
    "The parameter $c$ is called the ***wave speed***, and we will typically just set it to be $1$ for simplicity. \n",
    "\n",
    "As before, we will specify boundary conditions on the spatial domain whenever it is finite.\n",
    "However, unlike before, the wave equation involves two derivatives in time, so initial conditions are typically specified for both $u(x,0)$ and $u_t(x,0)$, i.e., we usually specify an initial configuration for the wave $u(x,0)$ as well as the waves initial velocity $u_t(x,0)$.\n",
    "\n",
    "Therefore, a typical IBVP for the wave equation, using homogeneous Dirichlet conditions on the boundary, is written as\n",
    "\n",
    "$$\n",
    "\\begin{eqnarray*}\n",
    "    u_{tt} &=& u_{xx}, \\ \\ \\ \\ \\ \\ \\ x\\in(0,1), \\ t>0, \\\\\n",
    "    u(0,t) &=& u(1,t) = 0, \\ \\ \\ \\ \\ \\ \\ \\ \\ \\ \\ \\ \\ t>0, \\\\\n",
    "    u(x,0) &=& f(x), \\ \\ \\ \\ \\ x\\in(0,1) \\\\\n",
    "    u_t(x,0) &=& g(x), \\ \\ \\ \\ \\ x\\in(0,1).\n",
    "\\end{eqnarray*}\n",
    "$$\n",
    "\n",
    "Much like the 1-D heat equation, this is very much an extension of the 2-pt BVP studied in Chapter 2. In fact, the solution methodology we pursue for the above problem in [Section 4.3](https://github.com/CU-Denver-MathStats-OER/Intro-PDEs-Theory-and-Computations/blob/main/Chp4/Chp4Sec3.ipynb) shares many features with the formal Fourier series approach taken in [Section 2.6](https://github.com/CU-Denver-MathStats-OER/Intro-PDEs-Theory-and-Computations/blob/main/Chp2/Chp2Sec6.ipynb) that generalized the 2-pt BVP to Poisson's equation in 2-D as well as the approach taken in [Section 3.2](https://github.com/CU-Denver-MathStats-OER/Intro-PDEs-Theory-and-Computations/blob/main/Chp3/Chp3Sec2.ipynb) for solving the 1-D heat equation. However, to first build intuition about the wave equation and its solution, we begin in [Section 4.1](https://github.com/CU-Denver-MathStats-OER/Intro-PDEs-Theory-and-Computations/blob/main/Chp4/Chp4Sec1.ipynb) with a discussion of first-order equations and the [method of characteristics](https://en.wikipedia.org/wiki/Method_of_characteristics), which we then use in [Section 4.2](https://github.com/CU-Denver-MathStats-OER/Intro-PDEs-Theory-and-Computations/blob/main/Chp4/Chp4Sec2.ipynb) to solve the wave equation on the \"real line\" which defines our second Cauchy problem and allows us to explore the approach for solving certain PDEs such as the wave equation."
   ]
  },
  {
   "cell_type": "markdown",
   "id": "b60a13b1-76e6-43d3-9571-e33eaa0ba286",
   "metadata": {},
   "source": [
    "### Chapter Contents\n",
    "---\n",
    "\n",
    "- [Section 4.1: First-Order Equations and the Method of Characteristics](https://github.com/CU-Denver-MathStats-OER/Intro-PDEs-Theory-and-Computations/blob/main/Chp4/Chp4Sec1.ipynb)\n",
    "\n",
    "- [Section 4.2: The Wave Equation on the Real Line (A Cauchy Problem)](https://github.com/CU-Denver-MathStats-OER/Intro-PDEs-Theory-and-Computations/blob/main/Chp4/Chp4Sec2.ipynb)\n",
    "\n",
    "- [Section 4.3: The Wave Equation on a Bounded Interval](https://github.com/CU-Denver-MathStats-OER/Intro-PDEs-Theory-and-Computations/blob/main/Chp4/Chp4Sec3.ipynb)\n",
    "\n",
    "- [Section 4.4: Finite Difference Approximations](https://github.com/CU-Denver-MathStats-OER/Intro-PDEs-Theory-and-Computations/blob/main/Chp4/Chp4Sec4.ipynb)\n",
    "\n",
    "- [Section 4.5: Exercises](https://github.com/CU-Denver-MathStats-OER/Intro-PDEs-Theory-and-Computations/blob/main/Chp4/Chp4Sec5.ipynb)"
   ]
  },
  {
   "cell_type": "markdown",
   "id": "b64e0855-6885-4bc4-81cb-4c8e3ce3e865",
   "metadata": {},
   "source": [
    "**About this material:**\n",
    "\n",
    "The purpose of these notebooks is multifaceted.\n",
    "\n",
    "- First, these notebooks provide a narrative of each chapter that guides students through their initial studies of partial differential equations.\n",
    "\n",
    "- Second, it is often very easy when reading mathematical texts to get lost in the details. These notebooks are intended to keep you centered on the take home messages and the big picture while you work through the details.\n",
    "\n",
    "- Third, these notebooks will help guide our in-class discussions. We use these to provide structure and guidance on which ideas, techniques, and problems we will explore in more detail in a class.\n",
    "\n",
    "- Fourth, these notebooks are also intended to help solidify the connections between chapters, ideas, techniques, and problems that may be easily overlooked.\n",
    "\n",
    "- Fifth, and finally, these notebooks are intended to bridge the divide between the theoretical concepts and the practical implementation/numerical approximations by interweaving live code within the narrative text. \n",
    "\n",
    "I make no claim of originality in these notes. The field of partial differential equations is vast and there are many texts and other resources on the subject matter. These simply represent my attempt at presenting a coherent narrative that students find useful, informative, and, perhaps above all else, practical."
   ]
  },
  {
   "cell_type": "markdown",
   "id": "c23bc3a2-04ec-4e87-88a9-189d57c40d02",
   "metadata": {
    "jp-MarkdownHeadingCollapsed": true,
    "tags": []
   },
   "source": [
    "---\n",
    "## Navigation:\n",
    "\n",
    "- [Next](https://github.com/CU-Denver-MathStats-OER/Intro-PDEs-Theory-and-Computations/blob/main/Chp4/Chp4Sec1.ipynb)\n",
    "---"
   ]
  }
 ],
 "metadata": {
  "kernelspec": {
   "display_name": "Python 3",
   "language": "python",
   "name": "python3"
  },
  "language_info": {
   "codemirror_mode": {
    "name": "ipython",
    "version": 3
   },
   "file_extension": ".py",
   "mimetype": "text/x-python",
   "name": "python",
   "nbconvert_exporter": "python",
   "pygments_lexer": "ipython3",
   "version": "3.8.8"
  }
 },
 "nbformat": 4,
 "nbformat_minor": 5
}

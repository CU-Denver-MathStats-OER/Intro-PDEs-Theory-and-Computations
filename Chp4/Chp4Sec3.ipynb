{
 "cells": [
  {
   "cell_type": "markdown",
   "metadata": {
    "tags": []
   },
   "source": [
    "# Introduction to Partial Differential Equations\n",
    "---"
   ]
  },
  {
   "cell_type": "markdown",
   "metadata": {
    "tags": []
   },
   "source": [
    "## Chapter 4: Hyperbolic PDEs and the Wave Equation\n",
    "---\n"
   ]
  },
  {
   "cell_type": "markdown",
   "metadata": {},
   "source": [
    "## Want to use Colab? [![Open in Colab](https://colab.research.google.com/assets/colab-badge.svg)](https://githubtocolab.com/CU-Denver-MathStats-OER/Intro-PDEs-Theory-and-Computations/blob/main/Chp4/Chp4Sec3.ipynb)\n",
    "\n",
    "---"
   ]
  },
  {
   "cell_type": "markdown",
   "metadata": {},
   "source": [
    "## Prepping the environment for interactive plots in Colab\n",
    "---"
   ]
  },
  {
   "cell_type": "code",
   "execution_count": null,
   "metadata": {},
   "outputs": [],
   "source": [
    "if 'google.colab' in str(get_ipython()):\n",
    "    print('Running on CoLab - installing missing packages')\n",
    "    !pip install ipympl\n",
    "    from IPython.display import clear_output\n",
    "    clear_output()\n",
    "    exit()\n",
    "else:\n",
    "    print('Not running on CoLab - assuming environment has necessary packages')"
   ]
  },
  {
   "cell_type": "code",
   "execution_count": null,
   "metadata": {},
   "outputs": [],
   "source": [
    "%matplotlib widget\n",
    "if 'google.colab' in str(get_ipython()):\n",
    "    from google.colab import output\n",
    "    output.enable_custom_widget_manager()"
   ]
  },
  {
   "cell_type": "markdown",
   "metadata": {
    "tags": []
   },
   "source": [
    "## Creative Commons License Information\n",
    "<a rel=\"license\" href=\"http://creativecommons.org/licenses/by-nc/4.0/\"><img alt=\"Creative Commons License\" style=\"border-width:0\" src=\"https://i.creativecommons.org/l/by-nc/4.0/80x15.png\" /></a><br /><span xmlns:dct=\"http://purl.org/dc/terms/\" property=\"dct:title\">Introduction to Partial Differential Equations: Theory and Computations</span> by <a xmlns:cc=\"http://creativecommons.org/ns#\" href=\"https://github.com/CU-Denver-MathStats-OER/Intro-PDEs-Theory-and-Computations\" property=\"cc:attributionName\" rel=\"cc:attributionURL\">Troy Butler</a> is licensed under a <a rel=\"license\" href=\"http://creativecommons.org/licenses/by-nc/4.0/\">Creative Commons Attribution-NonCommercial 4.0 International License</a>.<br />Based on a work at <a xmlns:dct=\"http://purl.org/dc/terms/\" href=\"https://github.com/CU-Denver-MathStats-OER/Intro-PDEs-Theory-and-Computations\" rel=\"dct:source\">https://github.com/CU-Denver-MathStats-OER/Intro-PDEs-Theory-and-Computations</a>."
   ]
  },
  {
   "cell_type": "markdown",
   "metadata": {},
   "source": [
    "---\n",
    "## Section 4.3: The Wave Equation on a Bounded Interval\n",
    "---\n",
    "\n",
    "As mentioned at the start of this chapter, the wave equation is a type of hyperbolic PDE (by comparison, the heat equation was a type of parabolic PDE), and the general form in a single spatial dimension is\n",
    "\n",
    "$$\n",
    "    u_{tt} = c^2 u_{xx}.\n",
    "$$\n",
    "\n",
    "The parameter $c$ is called the ***wave speed***, and we will typically just set it to be $1$ for simplicity. \n",
    "\n",
    "As with the heat equation in [Section 3.2](https://github.com/CU-Denver-MathStats-OER/Intro-PDEs-Theory-and-Computations/blob/main/Chp3/Chp3Sec2.ipynb), we now specify boundary conditions on the spatial domain.\n",
    "However, unlike before, the wave equation involves two derivatives in time, so initial conditions are typically specified for both $u(x,0)$ and $u_t(x,0)$, i.e., we usually specify an initial configuration for the wave $u(x,0)$ as well as the waves initial velocity $u_t(x,0)$.\n",
    "\n",
    "Therefore, a typical IBVP for the wave equation, using homogeneous Dirichlet conditions on the boundary, is written as\n",
    "\n",
    "$$\n",
    "\\begin{eqnarray*}\n",
    "    u_{tt} &=& u_{xx}, \\ \\ \\ \\ \\ \\ \\ x\\in(0,1), \\ t>0, \\\\\n",
    "    u(0,t) &=& u(1,t) = 0, \\ \\ \\ \\ \\ \\ \\ \\ \\ \\ \\ \\ \\ t>0, \\\\\n",
    "    u(x,0) &=& f(x), \\ \\ \\ \\ \\ x\\in(0,1) \\\\\n",
    "    u_t(x,0) &=& g(x), \\ \\ \\ \\ \\ x\\in(0,1).\n",
    "\\end{eqnarray*}\n",
    "$$"
   ]
  },
  {
   "cell_type": "markdown",
   "metadata": {},
   "source": [
    "---\n",
    "### Section 4.3.1: Separation of Variables (a.k.a. If it worked before...)\n",
    "---\n",
    "\n",
    "We play the same game as we did with the heat equation.\n",
    "   \n",
    "- Assume that $u(x,t) = X(x)T(t)$.\n",
    "\n",
    "- Insert $X(x)T(t)$ into the wave equation and separate variables.\n",
    "\n",
    "- Solve the same two-point BVP we did before for to get that\n",
    "<br>\n",
    "  $$\n",
    "    X_k(x)=\\sin(k\\pi x)\n",
    "  $$ \n",
    "<br>\n",
    "for each eigenvalue $\\lambda_k = (k\\pi)^2$ for $k\\in\\mathbb{N}$.\n",
    "<br><br>\n",
    "- The IVP for the ODE defined by $T(t)$ is now different with general solutions given by\n",
    "<br>\n",
    "  $$\n",
    "    T_k(t) = a_k \\cos(k\\pi t) + b_k\\sin(k\\pi t)\n",
    "  $$ \n",
    "<br><br>\n",
    "for given eigenvalue $\\lambda_k$.\n",
    "<br><br>\n",
    "- Conclude that a family of particular solutions is of the form \n",
    "<br><br>\n",
    "  $$\n",
    "    u_k(x,t) = \\sin(k\\pi x)\\left(a_k\\cos(k\\pi t) + b_k\\sin(k\\pi t)\\right)\n",
    "  $$\n",
    "<br>   \n",
    "and that these have initial conditions given by\n",
    "<br><br>\n",
    "  $$\n",
    "   u_k(x,0) = a_k\\sin(k\\pi x), \\ \\text{ and } \\ (u_k)_t(x,0) = k\\pi b_k \\sin(k\\pi x).\n",
    "  $$"
   ]
  },
  {
   "cell_type": "markdown",
   "metadata": {},
   "source": [
    "---\n",
    "#### Take home message 1\n",
    "---\n",
    "\n",
    "Any linear combination of particular solutions solves the PDE, boundary conditions, and has an initial condition given by the linear combination of the initial conditions for the particular solutions."
   ]
  },
  {
   "cell_type": "markdown",
   "metadata": {},
   "source": [
    "---\n",
    "#### Take home message 2\n",
    "---\n",
    "\n",
    "If initial conditions $f(x)$ and $g(x)$ can be written as Fourier sine series, e.g., as\n",
    "<br><br>\n",
    "$$\n",
    "    f(x) = \\sum_{k=1}^\\infty a_k\\sin(k\\pi x) \\ \\text{ and } \\ g(x) = \\sum_{k=1}^\\infty b_k\\sin(k\\pi x), \n",
    "$$\n",
    "<br><br>\n",
    "then the formal solution of the IBVP is given by\n",
    "<br><br>\n",
    "$$\n",
    "    u(x,t) = \\sum_{k=1}^\\infty \\sin(k\\pi x)\\left(a_k\\cos(k\\pi t) + \\frac{b_k}{k\\pi}\\sin(k\\pi t)\\right).\n",
    "$$\n",
    "\n",
    "Below, we suppose $f(x)=a_1\\sin(\\pi x)$ and $g(x)= b_2\\sin(2\\pi x)$ and we animate the wave $u(x,t)$ that results."
   ]
  },
  {
   "cell_type": "code",
   "execution_count": null,
   "metadata": {
    "tags": []
   },
   "outputs": [],
   "source": [
    "import numpy as np\n",
    "%matplotlib widget\n",
    "import matplotlib.pyplot as plt\n",
    "from matplotlib.animation import FuncAnimation\n",
    "from IPython.display import HTML"
   ]
  },
  {
   "cell_type": "code",
   "execution_count": null,
   "metadata": {},
   "outputs": [],
   "source": [
    "a_1 = 2\n",
    "b_2 = -1/2\n",
    "\n",
    "def u_part_1(x,t):\n",
    "    return a_1*np.sin(np.pi*x)*np.cos(np.pi*t)\n",
    "\n",
    "def u_part_2(x,t):\n",
    "    return -b_2 *np.sin(2*np.pi*x)*np.sin(2*np.pi*t)\n",
    "\n",
    "def u(x,t):\n",
    "    return u_part_1(x,t) + u_part_2(x,t)"
   ]
  },
  {
   "cell_type": "code",
   "execution_count": null,
   "metadata": {},
   "outputs": [],
   "source": [
    "fig, ax = plt.subplots(num=0)\n",
    "line1 = ax.plot([], [], 'r-.', label=\"part 1\")[0]\n",
    "line2 = ax.plot([], [], 'b-.', label=\"part 2\")[0]\n",
    "line3 = ax.plot([], [], 'k-', label='$u(x,t)$')[0]\n",
    "\n",
    "x_min = 0\n",
    "x_max = 1\n",
    "\n",
    "ax.set_xlim(x_min, x_max)\n",
    "ax.set_ylim(-2.5, 2.5)\n",
    "\n",
    "ax.legend([line1, line2, line3], \n",
    "          [line1.get_label(), line2.get_label(), line3.get_label()], \n",
    "          loc='upper right')\n",
    "\n",
    "time_text = ax.text(0.1, 1.5, \"\", \n",
    "                    fontsize=15, color='red',\n",
    "                    bbox=dict(facecolor='blue', alpha=0.1))\n",
    "plt.close()\n",
    "\n",
    "x = np.linspace(x_min, x_max, 100)\n",
    "\n",
    "def animate_u(frame_num):\n",
    "    line1.set_data((x, u_part_1(x,t=frame_num/50)))\n",
    "    line2.set_data((x, u_part_2(x,t=frame_num/50)))\n",
    "    line3.set_data((x, u(x,t=frame_num/50)))\n",
    "    time_text.set_text(\"Time: {:5.2f}\".format(frame_num/50))\n",
    "    return\n",
    "\n",
    "anim = FuncAnimation(fig, animate_u, frames=200, interval=50)"
   ]
  },
  {
   "cell_type": "code",
   "execution_count": null,
   "metadata": {},
   "outputs": [],
   "source": [
    "HTML(anim.to_jshtml())"
   ]
  },
  {
   "cell_type": "markdown",
   "metadata": {},
   "source": [
    "---\n",
    "#### Are solutions still formal?\n",
    "---\n",
    "\n",
    "Nah...well, kinda...\n",
    "\n",
    "We technically need to carry out a similar analysis as was done at the end of [Section 3.3](https://github.com/CU-Denver-MathStats-OER/Intro-PDEs-Theory-and-Computations/blob/main/Chp3/Chp3Sec3.ipynb) to justify the Fourier sine series solutions to the heat equation. \n",
    "\n",
    "We leave the details to the interested student. For the rest of us, we will take satisfaction in knowing that such an analysis is possible and the above expansion is indeed a solution to the wave equation."
   ]
  },
  {
   "cell_type": "markdown",
   "metadata": {},
   "source": [
    "---\n",
    "### Section 4.3.2: Uniqueness and Energy Arguments\n",
    "---\n",
    "\n",
    "A big difference from the heat equation is that we now define the \"energy\" of the system $E(t)$ as\n",
    "<br><br>\n",
    "$$\n",
    "    E(t) = \\int_0^1 (u_x^2(x,t) + u_t^2(x,t))\\, dx.\n",
    "$$\n",
    "<br><br>\n",
    "We observe that \n",
    "<br><br>\n",
    "$$\n",
    "    E(0) = \\int_0^1 ((f')^2(x,t) + g^2(x,t))\\, dx. \n",
    "$$\n",
    "<br><br>\n",
    "Through some assumptions and calculus, we get that\n",
    "<br><br>\n",
    "$$\n",
    "    E'(t) = 0 \\ \\forall t \\Rightarrow E(t) = E(0),  \\ t\\geq 0.\n",
    "$$\n",
    "<br><br>\n",
    "From this, a stability estimate and uniqueness of solutions follows (details left for homework). "
   ]
  },
  {
   "cell_type": "markdown",
   "metadata": {},
   "source": [
    "---\n",
    "## Navigation:\n",
    "\n",
    "- [Previous](https://github.com/CU-Denver-MathStats-OER/Intro-PDEs-Theory-and-Computations/blob/main/Chp4/Chp4Sec2.ipynb)\n",
    "\n",
    "- [Next](https://github.com/CU-Denver-MathStats-OER/Intro-PDEs-Theory-and-Computations/blob/main/Chp4/Chp4Sec4.ipynb)\n",
    "---"
   ]
  }
 ],
 "metadata": {
  "anaconda-cloud": {},
  "kernelspec": {
   "display_name": "Python 3",
   "language": "python",
   "name": "python3"
  },
  "language_info": {
   "codemirror_mode": {
    "name": "ipython",
    "version": 3
   },
   "file_extension": ".py",
   "mimetype": "text/x-python",
   "name": "python",
   "nbconvert_exporter": "python",
   "pygments_lexer": "ipython3",
   "version": "3.8.8"
  }
 },
 "nbformat": 4,
 "nbformat_minor": 4
}

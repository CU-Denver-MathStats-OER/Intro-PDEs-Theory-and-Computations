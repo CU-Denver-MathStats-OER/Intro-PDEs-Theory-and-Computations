{
 "cells": [
  {
   "cell_type": "markdown",
   "id": "46523f87-3fa7-4b03-af20-019aeaf8d13a",
   "metadata": {
    "tags": []
   },
   "source": [
    "# Introduction to Partial Differential Equations\n",
    "---"
   ]
  },
  {
   "cell_type": "markdown",
   "id": "397e22aa-1207-4f94-a214-a4e63beaf4c2",
   "metadata": {
    "tags": []
   },
   "source": [
    "## Chapter 4: Hyperbolic PDEs and the Wave Equation\n",
    "---\n"
   ]
  },
  {
   "cell_type": "markdown",
   "id": "bb8586b8-69ec-4a7d-a779-676f21089e1c",
   "metadata": {},
   "source": [
    "## Want to use Colab? [![Open in Colab](https://colab.research.google.com/assets/colab-badge.svg)](https://githubtocolab.com/CU-Denver-MathStats-OER/Intro-PDEs-Theory-and-Computations/blob/main/Chp4/Chp4Sec2.ipynb)\n",
    "\n",
    "---"
   ]
  },
  {
   "cell_type": "markdown",
   "id": "e3b2dea0-7e38-497b-97bc-bd5ef4385ba7",
   "metadata": {},
   "source": [
    "## Prepping the environment for interactive plots in Colab\n",
    "---"
   ]
  },
  {
   "cell_type": "code",
   "execution_count": null,
   "id": "ff6c5380-9c5b-4bd2-b887-c60a57b755a5",
   "metadata": {},
   "outputs": [],
   "source": [
    "if 'google.colab' in str(get_ipython()):\n",
    "    print('Running on CoLab - installing missing packages')\n",
    "    !pip install ipympl\n",
    "    from IPython.display import clear_output\n",
    "    clear_output()\n",
    "    exit()\n",
    "else:\n",
    "    print('Not running on CoLab - assuming environment has necessary packages')"
   ]
  },
  {
   "cell_type": "code",
   "execution_count": null,
   "id": "19ff7766-6193-4136-a49b-087fce999070",
   "metadata": {},
   "outputs": [],
   "source": [
    "%matplotlib widget\n",
    "if 'google.colab' in str(get_ipython()):\n",
    "    from google.colab import output\n",
    "    output.enable_custom_widget_manager()"
   ]
  },
  {
   "cell_type": "markdown",
   "id": "c05cc75d-34e2-4898-bae9-5b6ecb3e3458",
   "metadata": {
    "tags": []
   },
   "source": [
    "## Creative Commons License Information\n",
    "<a rel=\"license\" href=\"http://creativecommons.org/licenses/by-nc/4.0/\"><img alt=\"Creative Commons License\" style=\"border-width:0\" src=\"https://i.creativecommons.org/l/by-nc/4.0/80x15.png\" /></a><br /><span xmlns:dct=\"http://purl.org/dc/terms/\" property=\"dct:title\">Introduction to Partial Differential Equations: Theory and Computations</span> by <a xmlns:cc=\"http://creativecommons.org/ns#\" href=\"https://github.com/CU-Denver-MathStats-OER/Intro-PDEs-Theory-and-Computations\" property=\"cc:attributionName\" rel=\"cc:attributionURL\">Troy Butler</a> is licensed under a <a rel=\"license\" href=\"http://creativecommons.org/licenses/by-nc/4.0/\">Creative Commons Attribution-NonCommercial 4.0 International License</a>.<br />Based on a work at <a xmlns:dct=\"http://purl.org/dc/terms/\" href=\"https://github.com/CU-Denver-MathStats-OER/Intro-PDEs-Theory-and-Computations\" rel=\"dct:source\">https://github.com/CU-Denver-MathStats-OER/Intro-PDEs-Theory-and-Computations</a>.\n",
    "\n",
    "***This particular notebook is motivated in large part by the Chapter 2 presentation in the OER textbook [Partial Differential Equations by Victor Ivrii](http://www.math.toronto.edu/ivrii/PDE-textbook/PDE-textbook.pdf) released under a Creative Commons Attribution-ShareAlike 4.0 International License.***"
   ]
  },
  {
   "cell_type": "markdown",
   "id": "ab29aab1-d100-41d6-9283-de517298e805",
   "metadata": {},
   "source": [
    "---\n",
    "## Section 4.2: The Wave Equation on the Real Line (A Cauchy Problem)\n",
    "---\n",
    "\n",
    "Here, we consider the [wave equation](https://en.wikipedia.org/wiki/Wave_equation) in one spatial dimension given by\n",
    "\n",
    "$$\n",
    "    u_{tt} - c^2u_{xx} = 0\n",
    "$$\n",
    "\n",
    "with some initial data given by\n",
    "\n",
    "$$\n",
    "    u(x,0) = \\phi(x), \\ \\text{ and } \\ u_t(x,0) = \\psi(x).\n",
    "$$\n",
    "\n",
    "**Remarks:**\n",
    "\n",
    "- There are two ICs because the PDE involves two time derivatives.\n",
    "\n",
    "- This is a model for waves appearing in an \"infinite\" (or in practice a \"really long\") string or other flexible thin rod-like object that exhibits oscillations. In [Section 4.3](https://github.com/CU-Denver-MathStats-OER/Intro-PDEs-Theory-and-Computations/blob/main/Chp4/Chp4Sec3.ipynb), we apply boundary conditions at $x=a$ and $x=b$ (for some real numbers $a<b$ although we typically choose $a=0$ and $b=1$ for simplicity), we are modeling waves on an object of finite length where boundary effects cannot be ignored. \n",
    "\n",
    "- The constant $c$ represents the speed of the wave."
   ]
  },
  {
   "cell_type": "markdown",
   "id": "6a58fdca-df52-45ea-b7fe-6abe0ff77ac9",
   "metadata": {},
   "source": [
    "---\n",
    "### Section 4.2.1: Solving the wave equation with the method of characteristics\n",
    "---\n",
    "\n",
    "First, we rewrite the equation as\n",
    "\n",
    "$$\n",
    "    (\\partial_t^2 - c^2\\partial_x^2)u = 0.\n",
    "$$\n",
    "\n",
    "In this form, it is apparent that we can \"factor\" the derivative operator to give a new form of the wave equation as\n",
    "\n",
    "$$\n",
    "    (\\partial_t - c\\partial_x)(\\partial_t + c\\partial_x)u = 0.\n",
    "$$"
   ]
  },
  {
   "cell_type": "markdown",
   "id": "b16a6ed4-60cd-4fc0-96ca-502a1be82e7e",
   "metadata": {},
   "source": [
    "---\n",
    "#### A convenient choice of variables (a.k.a. reaching into our old bag o' tricks)\n",
    "---\n",
    "\n",
    "Now, we define some new variables using the factored parts of the derivative operator that allows us to define equations in the forms studied in [Section 4.1](https://github.com/CU-Denver-MathStats-OER/Intro-PDEs-Theory-and-Computations/blob/main/Chp4/Chp4Sec1.ipynb).\n",
    "\n",
    "Let\n",
    "\n",
    "$$\n",
    "    v := (\\partial_t + c\\partial_x)u = u_t + cu_x,\n",
    "$$\n",
    "\n",
    "and\n",
    "\n",
    "$$\n",
    "    w := (\\partial_t -c\\partial_x)u = u_t - cu_x.\n",
    "$$\n",
    "\n",
    "By applying $(\\partial_t - c\\partial_x)$ to $v$ and $(\\partial_t + c\\partial_x)$ to $w$, we get that\n",
    "\n",
    "$$\n",
    "    \\begin{align}\n",
    "        & v_t - cv_x = 0, \\\\\n",
    "        & w_t + cw_x = 0.\n",
    "    \\end{align}\n",
    "$$\n",
    "\n",
    "If we let $f$ and $g$ denote the ICs for $v$ and $w$, respectively, then we know from [Section 4.1](https://github.com/CU-Denver-MathStats-OER/Intro-PDEs-Theory-and-Computations/blob/main/Chp4/Chp4Sec1.ipynb) that the solutions are given by\n",
    "\n",
    "$$\n",
    "    v(t) = f(x+ct), \\ \\text{ and } \\ w(t) = g(x-tc).\n",
    "$$\n",
    "\n",
    "Using how $v$ and $w$ were defined above, we then have\n",
    "\n",
    "$$\n",
    "\\begin{align}\n",
    "    u_t + cu_x &= f(x+ct), \\\\\n",
    "    u_t - cu_x &= g(x-ct).\n",
    "\\end{align}\n",
    "$$\n",
    "\n",
    "From [Section 4.1](Chp4Sec1.ipynb), we know that for each $x_0\\in\\mathbb{R}$ the solution to the first equation satisfies\n",
    "\n",
    "$$\n",
    "    u(x_0,t) = \\phi(x_0) + \\int_0^t f(x_0+2c\\tau)\\, d\\tau.\n",
    "$$"
   ]
  },
  {
   "cell_type": "markdown",
   "id": "061177dd-fe45-4cf0-a3d1-8057ee8ebd61",
   "metadata": {},
   "source": [
    "---\n",
    "#### What is $f$? \n",
    "---\n",
    "\n",
    "From the fundamental theorem of calculus, we have\n",
    "\n",
    "$$\n",
    "    u_t(x_0,t) = f(x_0+2ct),\n",
    "$$\n",
    "\n",
    "and the IC, $u_{t}(x_0,0)=\\psi(x_0)$ implies \n",
    "\n",
    "$$\n",
    "    \\psi(x_0) = f(x_0) \n",
    "$$\n",
    "\n",
    "This implies that\n",
    "\n",
    "$$\n",
    "    u(x_0,t) = \\phi(x_0) + \\int_0^t \\psi(x_0+2c\\tau)\\, d\\tau.\n",
    "$$\n",
    "\n",
    "Now is a good time to write this as $u(x,t)$ where $x_0 = x-ct$ on the right-hand side to give\n",
    "\n",
    "$$\n",
    "    u(x,t) = \\phi(x-ct) + \\int_0^t \\psi(x+c\\tau)\\, d\\tau.\n",
    "$$"
   ]
  },
  {
   "cell_type": "markdown",
   "id": "7293e31a-f3d1-42c7-980e-f3cefcd874c6",
   "metadata": {},
   "source": [
    "---\n",
    "#### Don't forget about the second equation involving $g$\n",
    "---\n",
    "\n",
    "A similar argument applied to the second equation gives\n",
    "\n",
    "$$\n",
    "    u(x,t) = \\phi(x+ct) - \\int_0^t \\psi(x-c\\tau)\\, d\\tau.\n",
    "$$\n",
    "\n",
    "Adding these two equations for $u(x,t)$ together and dividing through by $2$ gives\n",
    "\n",
    "$$\n",
    "    u(x,t) = \\frac{1}{2}\\left(\\phi(x-ct)+\\phi(x+ct)\\right) + \\frac{1}{2} \\left(\\int_0^t \\psi(x+c\\tau)\\ d\\tau - \\int_0^t \\psi(x-c\\tau)\\ d\\tau\\right).\n",
    "$$\n",
    "\n",
    "Using a change of variables of $\\xi = x+c\\tau$ in the first integral and $\\xi=x-c\\tau$ in the second integral and simplifying gives\n",
    "\n",
    "$$\n",
    "   \\boxed{ u(x,t) = \\underbrace{\\frac{1}{2}\\left(\\phi(x-ct)+\\phi(x+ct)\\right) + \\frac{1}{2c}\\int_{x-ct}^{x+ct} \\psi(\\xi)\\, d\\xi.}_\\text{d'Alembert formula}}\n",
    "$$"
   ]
  },
  {
   "cell_type": "markdown",
   "id": "60f03f29-9fbe-4de8-b29c-127ffa99efd6",
   "metadata": {},
   "source": [
    "---\n",
    "#### Remarks\n",
    "---\n",
    "\n",
    "- The solution to this problem is known as a [standing wave](https://en.wikipedia.org/wiki/Standing_wave), which (from Wikipedia) means that the solution \n",
    ">  is a wave which oscillates in time but whose peak amplitude profile does not move in space. The peak amplitude of the wave oscillations at any point in space is constant with time, and the oscillations at different points throughout the wave are in phase. The locations at which the absolute value of the amplitude is minimum are called nodes, and the locations where the absolute value of the amplitude is maximum are called antinodes.\n",
    "\n",
    "- We can view this solution as the superposition of two waves traveling in opposite directions.\n",
    "\n",
    "- It is common for the $\\phi(x+ct)$ and $\\phi(x-ct)$ to be written in reverse order as shown above in the d'Alembert formula. This, of course, changes nothing. \n",
    "\n",
    "\n",
    "- By either writing the integral as the sum of two integrals (from $0$ to $x+ct$ and from $x-ct$ to $0$, respectively) or by working out the integral exactly, the solution can be written more explicitly as the sum of two functions where one function involves $x-ct$ and the other involves $x+ct$. Physically, these represent the way that a wave would propagate in both directions. Imagine a long thin bathtub that is filled with water that is *still* until you smack the water in the middle of the bathtub. You would observe waves propagating away from this initial perturbation in both directions. Similarly, if you pluck a guitar string in the middle, then a wave propagates in both directions of the string. \n",
    "\n",
    "- An alternative derivation of d'Alembert's formula uses a clever change of variables that results in a separation of variables technique, e.g., [click here for details](https://en.wikipedia.org/wiki/D%27Alembert%27s_formula). I prefer the above approach that directly exploits the previous results from [Section 4.1](https://github.com/CU-Denver-MathStats-OER/Intro-PDEs-Theory-and-Computations/blob/main/Chp4/Chp4Sec1.ipynb)."
   ]
  },
  {
   "cell_type": "markdown",
   "id": "62566175-191b-4422-8893-ea09ac3c2544",
   "metadata": {},
   "source": [
    "---\n",
    "#### An illustrative standing wave example.\n",
    "---\n",
    "\n",
    "Let $c=4$, $\\phi=6\\sin^2x$, and $\\psi=\\cos(6x)$, then by the d'Alembert formula, we have \n",
    "\n",
    "$$\n",
    "\\large\n",
    "\\begin{align}\n",
    "    u(x,t) &= \\frac{1}{2} \\left(6\\sin^2(x+4t) + 6\\sin^2(x-4t)\\right) + \\frac{1}{8} \\int_{x-4t}^{x+4t} \\cos(6\\theta)\\, d\\theta \\\\\n",
    "           &= \\boxed{3\\left(\\sin^2(x+4t) + \\sin^2(x-4t)\\right) + \\frac{1}{48} \\left(\\sin(6x+24t)-\\sin(6x-24t)\\right)}\n",
    "\\end{align}\n",
    "$$"
   ]
  },
  {
   "cell_type": "code",
   "execution_count": null,
   "id": "d55e02d6-190d-4930-a653-f82f88808d60",
   "metadata": {
    "tags": []
   },
   "outputs": [],
   "source": [
    "import numpy as np\n",
    "%matplotlib widget\n",
    "import matplotlib.pyplot as plt\n",
    "from matplotlib.animation import FuncAnimation\n",
    "from IPython.display import HTML"
   ]
  },
  {
   "cell_type": "code",
   "execution_count": null,
   "id": "20d99e56-f1d9-4e2a-a57c-e50a54bb3c83",
   "metadata": {},
   "outputs": [],
   "source": [
    "def wave1(x,t):\n",
    "    return 3 * (np.sin(x+4*t))**2 + 1/48 * np.sin(6*x+24*t)\n",
    "\n",
    "def wave2(x,t): \n",
    "    return 3 * (np.sin(x-4*t))**2 - 1/48 * np.sin(6*x-24*t)\n",
    "\n",
    "def u(x,t):\n",
    "    return wave1(x,t) + wave2(x,t)"
   ]
  },
  {
   "cell_type": "code",
   "execution_count": null,
   "id": "5e88ecea-388f-4c57-b385-27cbf1c1bc54",
   "metadata": {},
   "outputs": [],
   "source": [
    "fig, ax = plt.subplots(num=0)\n",
    "line1 = ax.plot([], [], 'r-.', label=\"Wave 1\")[0]\n",
    "line2 = ax.plot([], [], 'b-.', label=\"Wave 2\")[0]\n",
    "line3 = ax.plot([], [], 'k-', label='$u(x,t)$')[0]\n",
    "\n",
    "x_min = 0\n",
    "x_max = 3*np.pi\n",
    "\n",
    "ax.set_xlim(x_min, x_max)\n",
    "ax.set_ylim(-1, 7)\n",
    "ax.legend([line1, line2, line3], \n",
    "          [line1.get_label(), line2.get_label(), line3.get_label()], \n",
    "          loc='upper right')\n",
    "\n",
    "plt.title('Traveling and Standing Waves')\n",
    "time_text = ax.text(1, 6.5, \"\", \n",
    "                    fontsize=15, color='red',\n",
    "                    bbox=dict(facecolor='blue', alpha=0.1))\n",
    "\n",
    "plt.close()\n",
    "\n",
    "x = np.linspace(x_min, x_max, 1000)\n",
    "\n",
    "def animate_u(frame_num):\n",
    "    line1.set_data((x, wave1(x,t=frame_num/50)))\n",
    "    line2.set_data((x, wave2(x,t=frame_num/50)))\n",
    "    line3.set_data((x, u(x,t=frame_num/50)))\n",
    "    time_text.set_text(\"Time: {:5.2f}\".format(frame_num/50))\n",
    "    return line1, line2, line3\n",
    "\n",
    "anim = FuncAnimation(fig, animate_u, frames=100, interval=50)"
   ]
  },
  {
   "cell_type": "code",
   "execution_count": null,
   "id": "dafd183a-49cb-4abe-9b6b-e41cf0ad5e61",
   "metadata": {},
   "outputs": [],
   "source": [
    "HTML(anim.to_jshtml())"
   ]
  },
  {
   "cell_type": "markdown",
   "id": "a55fd0ed-ac17-4912-98db-e1e3eca3f550",
   "metadata": {},
   "source": [
    "---\n",
    "#### Student Activity\n",
    "---\n",
    "\n",
    "Redo the illustrative example with $\\phi(x) = H(x+1) - H(x-1)$ where $H(x)$ denotes the [Heaviside function](https://en.wikipedia.org/wiki/Heaviside_step_function) and $\\psi = 8\\text{sinc}(x)$ where [$\\text{sinc}(x)=\\sin(x)/x$](https://en.wikipedia.org/wiki/Sinc_function). \n",
    "\n",
    "To get you started, I have shown the numerical implementation below, but students should actually write out what the solution is using d'Alembert's formula.\n",
    "\n",
    "What do you think happens if $\\psi=0$? What happens if $\\psi$ is equal to a positive or negative constant? What if $\\psi$ is equal to a function where the [Cauchy principal value](https://en.wikipedia.org/wiki/Cauchy_principal_value) of $\\lim_{a\\to\\infty} \\int_{-a}^a \\psi(x)\\, dx$ is finite? If it is not finite? What are the physical interepretations of such initial velocities? Which seem reasonable? Students should explore and comment on their findings below."
   ]
  },
  {
   "cell_type": "code",
   "execution_count": null,
   "id": "8ec3741e-e883-4190-ab8a-f9151789ede4",
   "metadata": {},
   "outputs": [],
   "source": [
    "from scipy.special import sici as Sici\n",
    "\n",
    "def phi(x):\n",
    "    return np.heaviside(x+1,1)-np.heaviside(x-1,1)\n",
    "\n",
    "def wave1(x,t):\n",
    "    return 1/2 * phi(x+4*t) + Sici(x+4*t)[0]\n",
    "\n",
    "def wave2(x,t): \n",
    "    return 1/2 * phi(x-4*t) - Sici(x-4*t)[0]\n",
    "\n",
    "def u(x,t):\n",
    "    return wave1(x,t) + wave2(x,t)"
   ]
  },
  {
   "cell_type": "code",
   "execution_count": null,
   "id": "058e0ee4-1ff6-496b-86bb-6030931d970d",
   "metadata": {},
   "outputs": [],
   "source": [
    "fig, ax = plt.subplots(num=0)\n",
    "line1 = ax.plot([], [], 'r-.', label=\"Wave 1\")[0]\n",
    "line2 = ax.plot([], [], 'b-.', label=\"Wave 2\")[0]\n",
    "line3 = ax.plot([], [], 'k-', label='$u(x,t)$')[0]\n",
    "\n",
    "x_min = -20\n",
    "x_max = 20\n",
    "\n",
    "ax.set_xlim(x_min, x_max)\n",
    "ax.set_ylim(-1, 4)\n",
    "ax.legend([line1, line2, line3], \n",
    "          [line1.get_label(), line2.get_label(), line3.get_label()], \n",
    "          loc='upper right')\n",
    "\n",
    "plt.title('Traveling and Standing Waves')\n",
    "time_text = ax.text(1, 6.5, \"\", \n",
    "                    fontsize=15, color='red',\n",
    "                    bbox=dict(facecolor='blue', alpha=0.1))\n",
    "\n",
    "plt.close()\n",
    "\n",
    "x = np.linspace(x_min, x_max, 1000)\n",
    "\n",
    "def animate_u(frame_num):\n",
    "    line1.set_data((x, wave1(x,t=frame_num/50)))\n",
    "    line2.set_data((x, wave2(x,t=frame_num/50)))\n",
    "    line3.set_data((x, u(x,t=frame_num/50)))\n",
    "    time_text.set_text(\"Time: {:5.2f}\".format(frame_num/50))\n",
    "    return line1, line2, line3\n",
    "\n",
    "anim = FuncAnimation(fig, animate_u, frames=200, interval=50)"
   ]
  },
  {
   "cell_type": "code",
   "execution_count": null,
   "id": "67bbfd3d-2185-470b-b7b5-9caee8ea9573",
   "metadata": {},
   "outputs": [],
   "source": [
    "HTML(anim.to_jshtml())"
   ]
  },
  {
   "cell_type": "markdown",
   "id": "fb7e21c5-8154-4cc6-80ec-55d8e1af64b0",
   "metadata": {},
   "source": [
    "---\n",
    "## Navigation:\n",
    "\n",
    "- [Previous](https://github.com/CU-Denver-MathStats-OER/Intro-PDEs-Theory-and-Computations/blob/main/Chp4/Chp4Sec1.ipynb)\n",
    "\n",
    "- [Next](https://github.com/CU-Denver-MathStats-OER/Intro-PDEs-Theory-and-Computations/blob/main/Chp4/Chp4Sec3.ipynb)\n",
    "---"
   ]
  }
 ],
 "metadata": {
  "kernelspec": {
   "display_name": "Python 3",
   "language": "python",
   "name": "python3"
  },
  "language_info": {
   "codemirror_mode": {
    "name": "ipython",
    "version": 3
   },
   "file_extension": ".py",
   "mimetype": "text/x-python",
   "name": "python",
   "nbconvert_exporter": "python",
   "pygments_lexer": "ipython3",
   "version": "3.8.8"
  }
 },
 "nbformat": 4,
 "nbformat_minor": 5
}

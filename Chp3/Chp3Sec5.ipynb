{
 "cells": [
  {
   "cell_type": "markdown",
   "id": "43184486-f63f-4be2-be6e-833f325af3ae",
   "metadata": {},
   "source": [
    "# Introduction to Partial Differential Equations\n",
    "---"
   ]
  },
  {
   "cell_type": "markdown",
   "id": "06862c32-9b66-4933-aea3-0f3e2e9c52f0",
   "metadata": {},
   "source": [
    "## Section 3.5: Exercises\n",
    "---"
   ]
  },
  {
   "cell_type": "markdown",
   "id": "a8f86912-f53b-40ce-af3d-e666be18becc",
   "metadata": {},
   "source": [
    "<mark>**[Troy's note to Troy] Create a problem that walks students through a semidiscrete approximation. Create more problems. Need problems for Sections 3.1 and also 3.4. Maybe a few deeper problems related to Section 3.3 for honors students/graduate students/extra credit.**</mark>"
   ]
  },
  {
   "cell_type": "markdown",
   "id": "026ced46-dd68-4691-b0cf-ac2e491ff1ac",
   "metadata": {
    "tags": []
   },
   "source": [
    "## Creative Commons License Information\n",
    "<a rel=\"license\" href=\"http://creativecommons.org/licenses/by-nc/4.0/\"><img alt=\"Creative Commons License\" style=\"border-width:0\" src=\"https://i.creativecommons.org/l/by-nc/4.0/80x15.png\" /></a><br /><span xmlns:dct=\"http://purl.org/dc/terms/\" property=\"dct:title\">Introduction to Partial Differential Equations: Theory and Computations</span> by <a xmlns:cc=\"http://creativecommons.org/ns#\" href=\"https://github.com/CU-Denver-MathStats-OER/Intro-PDEs-Theory-and-Computations\" property=\"cc:attributionName\" rel=\"cc:attributionURL\">Troy Butler</a> is licensed under a <a rel=\"license\" href=\"http://creativecommons.org/licenses/by-nc/4.0/\">Creative Commons Attribution-NonCommercial 4.0 International License</a>.<br />Based on a work at <a xmlns:dct=\"http://purl.org/dc/terms/\" href=\"https://github.com/CU-Denver-MathStats-OER/Intro-PDEs-Theory-and-Computations\" rel=\"dct:source\">https://github.com/CU-Denver-MathStats-OER/Intro-PDEs-Theory-and-Computations</a>."
   ]
  },
  {
   "cell_type": "code",
   "execution_count": 1,
   "id": "28bd9f87-750c-4abf-9a59-3b8a1629dd19",
   "metadata": {},
   "outputs": [],
   "source": [
    "# import libraries/useful content here"
   ]
  },
  {
   "cell_type": "markdown",
   "id": "0878099e-b2e1-4eca-9b9f-cfe4623f836f",
   "metadata": {},
   "source": [
    "---\n",
    "### Exercise 3.3.1 (Computing Fourier Series)\n",
    "---\n",
    "\n",
    "Recall the following two facts from [Activities in Section 3.2](Chp3Sec2.ipynb).\n",
    "\n",
    "First, if $f(x)=1$ and $\\ell=1$, then the coefficients in the Fourier sine series expansion of $f(x)$ are given by\n",
    "\n",
    "$$\n",
    "    c_k = \\begin{cases}\n",
    "            \\frac{4}{k\\pi}, & k=1, 3, 5,\\ldots, \\\\\n",
    "            0, & k=2, 4, 6, \\ldots. \n",
    "          \\end{cases}\n",
    "$$\n",
    "\n",
    "Second, if $f(x)=x$ and $\\ell=1$, then\n",
    "\n",
    "$$\n",
    "    c_k = \\frac{2}{k\\pi}(-1)^{k+1}. \n",
    "$$\n",
    "\n",
    "We also have the mapping $\\mathcal{F}_k(f)=c_k$ (here $\\mathcal{F}_k$ denotes the process by which a function $f$ is turned into either a cosine or sine Fourier coefficient $c_k$) is linear for each $k\\in\\mathbb{N}$.\n",
    "\n",
    "1. Use the above results to derive what the Fourier sine series expansion is for $f(x)=1+x$.\n",
    "\n",
    "2. Plot some partial Fourier sine sums for this function by truncating the series at $N=10, 50$ and $100$.\n",
    "\n",
    "3. What is the Fourier cosine series expansion for $f(x)=1+x$? Comment on the similarities/differences of this from the Fourier sine series expansion for this function.\n",
    "\n",
    "4. Plot some partial Fourier cosine sums for this function by truncating the series at $N=10, 50$ and $100$.\n",
    "\n",
    "5. What is the full Fourier series expansion for $f(x)=1+x$? Comment on the similarities differences of this from the individual Fourier sine and Fourier cosine series expansions for this function.\n",
    "\n",
    "6. Use Theorem 3.3.2 to summarize the pointwise convergence of the full Fourier series expansion of $f(x)=1+x$ on $[0,1]$.\n",
    "\n",
    "7. Plot some partial Fourier sums for this function by truncating the full Fourier series at $N=10, 50$ and $100$."
   ]
  },
  {
   "cell_type": "code",
   "execution_count": null,
   "id": "fd396eeb-46ab-49aa-8df9-90042a23a284",
   "metadata": {},
   "outputs": [],
   "source": []
  },
  {
   "cell_type": "code",
   "execution_count": null,
   "id": "a9e7b654-f7ee-4e49-a29e-3af79bc1c4b2",
   "metadata": {},
   "outputs": [],
   "source": []
  },
  {
   "cell_type": "code",
   "execution_count": null,
   "id": "1875337c-62d0-401f-8c9a-621f5e85a236",
   "metadata": {},
   "outputs": [],
   "source": []
  },
  {
   "cell_type": "code",
   "execution_count": null,
   "id": "925be29d-a65c-41ae-a947-bd67e6f436fc",
   "metadata": {},
   "outputs": [],
   "source": []
  },
  {
   "cell_type": "code",
   "execution_count": null,
   "id": "20255604-f3f5-4c27-be4c-99076270c92d",
   "metadata": {},
   "outputs": [],
   "source": []
  },
  {
   "cell_type": "markdown",
   "id": "5430ed5c-5e89-4293-be25-8f39439d29bf",
   "metadata": {},
   "source": [
    "---\n",
    "### Exercise 3.3.2 (Computing More Fourier Series)\n",
    "---\n",
    "\n",
    "Let $\\ell=1$.\n",
    "\n",
    "1. What is the Fourier sine series expansion for $f(x)=x^2$.\n",
    "\n",
    "2. Plot some partial Fourier sine sums for this function by truncating the series at $N=10, 50$ and $100$.\n",
    "\n",
    "3. What is the Fourier cosine series expansion for $f(x)=x^2$? Comment on the similarities/differences of this from the Fourier sine series expansion for this function.\n",
    "\n",
    "4. Plot some partial Fourier cosine sums for this function by truncating the series at $N=10, 50$ and $100$.\n",
    "\n",
    "5. What is the full Fourier series expansion for $f(x)=x^2$? Comment on the similarities differences of this from the individual Fourier sine and Fourier cosine series expansions for this function.\n",
    "\n",
    "6. Use Theorem 3.3.2 to summarize the pointwise convergence of the full Fourier series expansion of $f(x)=x^2$ on $[0,1]$.\n",
    "\n",
    "7. Plot some partial Fourier sums for this function by truncating the full Fourier series at $N=10, 50$ and $100$."
   ]
  },
  {
   "cell_type": "code",
   "execution_count": null,
   "id": "22015f29-b786-4614-bdb4-6fc1c754479a",
   "metadata": {},
   "outputs": [],
   "source": []
  },
  {
   "cell_type": "code",
   "execution_count": null,
   "id": "85037738-8134-482b-9267-71275cb24fdd",
   "metadata": {},
   "outputs": [],
   "source": []
  },
  {
   "cell_type": "code",
   "execution_count": null,
   "id": "d1b64c51-843d-4bf6-a456-7c635e654db8",
   "metadata": {},
   "outputs": [],
   "source": []
  },
  {
   "cell_type": "code",
   "execution_count": null,
   "id": "fc8e282a-2bda-4355-9bef-488d9603b1be",
   "metadata": {},
   "outputs": [],
   "source": []
  },
  {
   "cell_type": "code",
   "execution_count": null,
   "id": "cf7da844-f751-4fdb-baa6-81be8ac11423",
   "metadata": {},
   "outputs": [],
   "source": []
  },
  {
   "cell_type": "markdown",
   "id": "08ec0429-0b34-4ce6-9388-baa279916aeb",
   "metadata": {},
   "source": [
    "---\n",
    "### Exercise 3.3.3 (More Fourier Series)\n",
    "---\n",
    "\n",
    "**Note:** This is a good exercise to do after completing Exercises 3.3.1 and 3.3.2. \n",
    "\n",
    "Let $\\ell=1$.\n",
    "\n",
    "1. What is the Fourier sine series expansion for $f(x)=x(1-x)$.\n",
    "\n",
    "2. Plot some partial Fourier sine sums for this function by truncating the series at $N=10, 50$ and $100$.\n",
    "\n",
    "3. What is the Fourier cosine series expansion for $f(x)=x(1-x)$? Comment on the similarities/differences of this from the Fourier sine series expansion for this function.\n",
    "\n",
    "4. Plot some partial Fourier cosine sums for this function by truncating the series at $N=10, 50$ and $100$.\n",
    "\n",
    "5. What is the full Fourier series expansion for $f(x)=x(1-x)$? Comment on the similarities differences of this from the individual Fourier sine and Fourier cosine series expansions for this function.\n",
    "\n",
    "6. Use Theorem 3.3.2 to summarize the pointwise convergence of the full Fourier series expansion of $f(x)=x(1-x)$ on $[0,1]$.\n",
    "\n",
    "7. Plot some partial Fourier sums for this function by truncating the full Fourier series at $N=10, 50$ and $100$."
   ]
  },
  {
   "cell_type": "code",
   "execution_count": null,
   "id": "601070ef-3462-4c95-8b6a-4bebfc66928e",
   "metadata": {},
   "outputs": [],
   "source": []
  },
  {
   "cell_type": "code",
   "execution_count": null,
   "id": "1dadb6fc-5704-408c-946a-35db3498093f",
   "metadata": {},
   "outputs": [],
   "source": []
  },
  {
   "cell_type": "code",
   "execution_count": null,
   "id": "b711a38f-5af7-4c1d-978b-55e1ccbf7df6",
   "metadata": {},
   "outputs": [],
   "source": []
  },
  {
   "cell_type": "code",
   "execution_count": null,
   "id": "db1679cb-ca9a-46af-92fa-fa0dcae6c90c",
   "metadata": {},
   "outputs": [],
   "source": []
  },
  {
   "cell_type": "markdown",
   "id": "b5872d75-fef8-45a0-b542-7a01ca72c7d8",
   "metadata": {},
   "source": [
    "---\n",
    "### Exercise 3.3.4 (Solving an IBVP with Dirichlet Conditions)\n",
    "---\n",
    "\n",
    "Consider the IBVP\n",
    "\n",
    "$$\n",
    "\\left\\{\\begin{array}{rcl}\n",
    "    u_t &=& c u_{xx}, \\ 0<x<\\ell, t>0, \\\\\n",
    "    u(0,t)=u(\\ell,t) &=& 0,  \\ t>0, \\\\\n",
    "    u(x,0) &=& f(x), \\ 0<x<\\ell.\n",
    "\\end{array}\\right.\n",
    "$$\n",
    "\n",
    "Let $c=\\ell=1$.\n",
    "\n",
    "1. Find a solution when $f(x)=\\sin(8\\pi x) + x(1-x)$.\n",
    "\n",
    "2. Plot the solution for various $t\\in(0,2]$. \n",
    "\n",
    "3. Plot the energy defined by $E(t)=\\int_0^1 u^2(x,t)\\, dx$ for $0\\leq t\\leq 2$."
   ]
  },
  {
   "cell_type": "code",
   "execution_count": null,
   "id": "b2942d4c-e193-42b6-9333-0b944ef4a2a5",
   "metadata": {},
   "outputs": [],
   "source": []
  },
  {
   "cell_type": "code",
   "execution_count": null,
   "id": "217c21b9-f45d-428a-b2dc-8fe4d4bdbba2",
   "metadata": {},
   "outputs": [],
   "source": []
  },
  {
   "cell_type": "code",
   "execution_count": null,
   "id": "1bcd8aa8-dcf1-4f13-952e-325adf8a1cfd",
   "metadata": {},
   "outputs": [],
   "source": []
  },
  {
   "cell_type": "markdown",
   "id": "e7eddfb4-9bcf-464f-a51d-1f28add795af",
   "metadata": {},
   "source": [
    "---\n",
    "### Exercise 3.3.5 (Solving an IBVP with Neumann Conditions)\n",
    "---\n",
    "\n",
    "Consider the IBVP\n",
    "\n",
    "$$\n",
    "\\left\\{\\begin{array}{rcl}\n",
    "    u_t &=& c u_{xx}, \\ 0<x<\\ell, t>0, \\\\\n",
    "    u_x(0,t)=u_x(\\ell,t) &=& 0,  \\ t>0, \\\\\n",
    "    u(x,0) &=& f(x), \\ 0<x<\\ell.\n",
    "\\end{array}\\right.\n",
    "$$\n",
    "\n",
    "Let $c=\\ell=1$.\n",
    "\n",
    "1. Find a solution when $f(x)=\\cos(8\\pi x) + x(1-x)$.\n",
    "\n",
    "2. Plot the solution for various $t\\in(0,2]$. \n",
    "\n",
    "3. Plot the energy defined by $E(t)=\\int_0^1 u^2(x,t)\\, dx$ for $0\\leq t\\leq 2$."
   ]
  },
  {
   "cell_type": "code",
   "execution_count": null,
   "id": "5d90ba0e-41a3-4d21-bf61-c432ecdaa3f0",
   "metadata": {},
   "outputs": [],
   "source": []
  },
  {
   "cell_type": "code",
   "execution_count": null,
   "id": "2b998bab-58d2-4fd1-bc04-fd08b833b326",
   "metadata": {},
   "outputs": [],
   "source": []
  },
  {
   "cell_type": "code",
   "execution_count": null,
   "id": "dd95bbd5-fcd4-47f0-9d63-c1051df1a655",
   "metadata": {},
   "outputs": [],
   "source": []
  },
  {
   "cell_type": "markdown",
   "id": "f9887946-c332-4cf8-a9ff-e92fdc7f90c9",
   "metadata": {},
   "source": [
    "---\n",
    "### Exercise 3.3.6(a) (Particular Solutions for a Variant of the Original IBVP)\n",
    "---\n",
    "\n",
    "Use the separation of variables technique to show that the family of particular solutions to the problem\n",
    "\n",
    "$$\n",
    "\\left\\{\\begin{array}{rcl}\n",
    "    u_t &=& u_{xx}+u_x, \\ 0<x<1, t>0, \\\\\n",
    "    u(0,t)=u(1,t) &=& 0,  \\ t>0.\n",
    "\\end{array}\\right.\n",
    "$$\n",
    "\n",
    "are given by\n",
    "\n",
    "$$\n",
    "    \\boxed{u_0(x,t) = e^{-\\lambda_k t}e^{-x/2}, \\text{ and } u_k(x,t) = e^{-\\lambda_k t}e^{-x/2}\\sin(k\\pi x) \\text{ for } k=1,2,\\ldots, }\n",
    "$$\n",
    "\n",
    "*(While not required, it is also a good idea to plot these functions and verify they are solutions by plugging them directly into the problem.)*"
   ]
  },
  {
   "cell_type": "code",
   "execution_count": null,
   "id": "53b492d6-0e39-4e9e-812c-8da8f109355a",
   "metadata": {},
   "outputs": [],
   "source": []
  },
  {
   "cell_type": "code",
   "execution_count": null,
   "id": "2283484d-ff44-4bbc-b90e-0189f74c8b3e",
   "metadata": {},
   "outputs": [],
   "source": []
  },
  {
   "cell_type": "code",
   "execution_count": null,
   "id": "c610adf7-0185-4080-bee6-1bf5fc16b6d7",
   "metadata": {},
   "outputs": [],
   "source": []
  },
  {
   "cell_type": "markdown",
   "id": "c2d356b3-a685-4c94-8d59-78f70c1d9683",
   "metadata": {},
   "source": [
    "---\n",
    "### Exercise 3.3.6(b) (Paritcular Solutions for a Variant of the Original IBVP)\n",
    "---\n",
    "\n",
    "Derive the particular solutions to the problem \n",
    "\n",
    "$$\n",
    "\\left\\{\\begin{array}{rcl}\n",
    "    u_t &=& u_{xx}-u, \\ 0<x<1, t>0, \\\\\n",
    "    u(0,t)=u(1,t) &=& 0,  \\ t>0.\n",
    "\\end{array}\\right.\n",
    "$$\n",
    "\n",
    "*(While not required, it is also a good idea to plot these functions and verify they are solutions by plugging them directly into the problem.)*"
   ]
  },
  {
   "cell_type": "code",
   "execution_count": null,
   "id": "784f891b-c8d5-4ceb-9bb5-9742d8d457a0",
   "metadata": {},
   "outputs": [],
   "source": []
  },
  {
   "cell_type": "code",
   "execution_count": null,
   "id": "268fc31f-deed-4b69-a24d-05bc7f46ae4f",
   "metadata": {},
   "outputs": [],
   "source": []
  },
  {
   "cell_type": "markdown",
   "id": "0c4df051-d1fd-4740-8719-50c038f129e5",
   "metadata": {},
   "source": [
    "---\n",
    "### Exercise 3.3.7 (Non-homogeneity in BVs for the IBVP)\n",
    "---\n",
    "\n",
    "Find a solution to the problem\n",
    "\n",
    "$$\n",
    "\\left\\{\\begin{array}{rcl}\n",
    "    u_t &=& u_{xx}, \\ 0<x<1, t>0, \\\\\n",
    "    u(0,t)&=&a, \\ t>0 \\\\\n",
    "    u(1,t)&=&b, \\  t>0, \\\\\n",
    "    u(x,0) &=& f(x), \\ 0<x<1.\n",
    "\\end{array}\\right.\n",
    "$$\n",
    "\n",
    "Create some plots of solutions for various choices of $a$ and $b$ and $f(x)$.\n",
    "\n",
    "*Hint: Define a line $\\ell(x)$.*"
   ]
  },
  {
   "cell_type": "code",
   "execution_count": null,
   "id": "1643e632-fc18-447a-b323-bcdf52265128",
   "metadata": {},
   "outputs": [],
   "source": []
  },
  {
   "cell_type": "code",
   "execution_count": null,
   "id": "78f91ed7-fcd1-44e7-87f8-e43e59260b89",
   "metadata": {},
   "outputs": [],
   "source": []
  },
  {
   "cell_type": "code",
   "execution_count": null,
   "id": "11d7f6e6-a16e-4a60-bf57-00ca90213049",
   "metadata": {},
   "outputs": [],
   "source": []
  },
  {
   "cell_type": "markdown",
   "id": "6b8641c0-7d37-41b3-bb98-5049d7b376e1",
   "metadata": {},
   "source": [
    "---\n",
    "### Exercise 3.3.8 (Non-homogeneity in the PDE for the IBVP)\n",
    "---\n",
    "\n",
    "Consider the IBVP\n",
    "\n",
    "$$\n",
    "\\left\\{\\begin{array}{rcl}\n",
    "    u_t &=& u_{xx} + g, \\ 0<x<1, t>0, \\\\\n",
    "    u(0,t)&=&0, \\ t>0 \\\\\n",
    "    u(1,t)&=&0, \\  t>0, \\\\\n",
    "    u(x,0) &=& f(x), \\ 0<x<1.\n",
    "\\end{array}\\right.\n",
    "$$\n",
    "\n",
    "Here, $g=g(x,t)$ is a source term appearing in the PDE. Assume \n",
    "\n",
    "$$\n",
    "    f(x) = \\sum_{k=1}^\\infty a_k\\sin(k\\pi x), \\ \\text{ and } \\ g(x,t) = \\sum_{k=1}^\\infty b_k(t)\\sin(k\\pi x).\n",
    "$$\n",
    "\n",
    "The goal is to find a solution $u(x,t)$ of the form\n",
    "\n",
    "$$\n",
    "    u(x,t) = \\sum_{k=1}^\\infty T_k(t)\\sin(k\\pi x).\n",
    "$$\n",
    "\n",
    "1. Use these expansions of $f$, $g$, and $u$ to derive and solve the ODE that $T_k(t)$ must satisfy. *Hint: Integrating factor.*\n",
    "\n",
    "2. Suppose $f(x)=x(1-x)$ and $g(x,t)=t x(1-x)$, determine $a_k$, $b_k(t)$ and $T_k(t)$. Create plots to illustrate truncated approximations of $u(x,t)$ at $t=0.01, 0.1,$ and $1$."
   ]
  },
  {
   "cell_type": "code",
   "execution_count": null,
   "id": "b1784d47-20b8-40d1-9932-d952aec0b20c",
   "metadata": {},
   "outputs": [],
   "source": []
  },
  {
   "cell_type": "code",
   "execution_count": null,
   "id": "09c4ebb0-66f7-4ccd-b3d4-ba56e8df4f42",
   "metadata": {},
   "outputs": [],
   "source": []
  },
  {
   "cell_type": "code",
   "execution_count": null,
   "id": "be67001f-61ca-4bfe-a115-266d0ff3a4ec",
   "metadata": {},
   "outputs": [],
   "source": []
  },
  {
   "cell_type": "code",
   "execution_count": null,
   "id": "4b209973-2cd1-419b-ab5d-040a094e6597",
   "metadata": {},
   "outputs": [],
   "source": []
  }
 ],
 "metadata": {
  "kernelspec": {
   "display_name": "Python 3",
   "language": "python",
   "name": "python3"
  },
  "language_info": {
   "codemirror_mode": {
    "name": "ipython",
    "version": 3
   },
   "file_extension": ".py",
   "mimetype": "text/x-python",
   "name": "python",
   "nbconvert_exporter": "python",
   "pygments_lexer": "ipython3",
   "version": "3.8.8"
  }
 },
 "nbformat": 4,
 "nbformat_minor": 5
}

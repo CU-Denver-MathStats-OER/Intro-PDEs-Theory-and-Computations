{
 "cells": [
  {
   "cell_type": "markdown",
   "id": "1f9635e7-ad96-4198-8fc2-24cc54f16d19",
   "metadata": {},
   "source": [
    "# Introduction to Partial Differential Equations\n",
    "---"
   ]
  },
  {
   "cell_type": "markdown",
   "id": "56b758cd-892a-4cfb-b449-2a7ecac99bab",
   "metadata": {},
   "source": [
    "## Chapter 3: Parabolic PDEs, the Heat Equation, and a Deep Dive into Fourier Series \n",
    "---"
   ]
  },
  {
   "cell_type": "markdown",
   "id": "5642ec73-909b-43f6-a3b1-0c8751cecdd1",
   "metadata": {},
   "source": [
    "## Want to use Colab? [![Open in Colab](https://colab.research.google.com/assets/colab-badge.svg)](https://githubtocolab.com/CU-Denver-MathStats-OER/Intro-PDEs-Theory-and-Computations/blob/main/Chp3/Chp3Sec4.ipynb)\n",
    "\n",
    "---"
   ]
  },
  {
   "cell_type": "markdown",
   "id": "558f8b6c-11b5-44f0-a718-909cf2d5544d",
   "metadata": {},
   "source": [
    "## Prepping the environment for interactive plots in Colab\n",
    "---"
   ]
  },
  {
   "cell_type": "code",
   "execution_count": null,
   "id": "301a0a39-9fe4-43cc-87c0-4bd8c72e44ff",
   "metadata": {},
   "outputs": [],
   "source": [
    "if 'google.colab' in str(get_ipython()):\n",
    "    print('Running on CoLab - installing missing packages')\n",
    "    !pip install ipympl\n",
    "    from IPython.display import clear_output\n",
    "    clear_output()\n",
    "    exit()\n",
    "else:\n",
    "    print('Not running on CoLab - assuming environment has necessary packages')"
   ]
  },
  {
   "cell_type": "code",
   "execution_count": null,
   "id": "bb380f9c-49c2-4cd7-9d45-bd7ccee49a98",
   "metadata": {},
   "outputs": [],
   "source": [
    "%matplotlib widget\n",
    "if 'google.colab' in str(get_ipython()):\n",
    "    from google.colab import output\n",
    "    output.enable_custom_widget_manager()"
   ]
  },
  {
   "cell_type": "markdown",
   "id": "579973d0-82be-43b7-b912-c351d720f055",
   "metadata": {
    "tags": []
   },
   "source": [
    "## Creative Commons License Information\n",
    "<a rel=\"license\" href=\"http://creativecommons.org/licenses/by-nc/4.0/\"><img alt=\"Creative Commons License\" style=\"border-width:0\" src=\"https://i.creativecommons.org/l/by-nc/4.0/80x15.png\" /></a><br /><span xmlns:dct=\"http://purl.org/dc/terms/\" property=\"dct:title\">Introduction to Partial Differential Equations: Theory and Computations</span> by <a xmlns:cc=\"http://creativecommons.org/ns#\" href=\"https://github.com/CU-Denver-MathStats-OER/Intro-PDEs-Theory-and-Computations\" property=\"cc:attributionName\" rel=\"cc:attributionURL\">Troy Butler</a> is licensed under a <a rel=\"license\" href=\"http://creativecommons.org/licenses/by-nc/4.0/\">Creative Commons Attribution-NonCommercial 4.0 International License</a>.<br />Based on a work at <a xmlns:dct=\"http://purl.org/dc/terms/\" href=\"https://github.com/CU-Denver-MathStats-OER/Intro-PDEs-Theory-and-Computations\" rel=\"dct:source\">https://github.com/CU-Denver-MathStats-OER/Intro-PDEs-Theory-and-Computations</a>."
   ]
  },
  {
   "cell_type": "code",
   "execution_count": null,
   "id": "6ad480a6-2421-4bc7-9320-9a151a93607f",
   "metadata": {},
   "outputs": [],
   "source": [
    "import numpy as np\n",
    "%matplotlib widget \n",
    "import matplotlib.pyplot as plt\n",
    "\n",
    "from ipywidgets import interact, interactive, fixed, interact_manual\n",
    "import ipywidgets as widgets"
   ]
  },
  {
   "cell_type": "markdown",
   "id": "ef6c191c-e623-4022-a1ee-7c96f1d2b7a0",
   "metadata": {
    "tags": []
   },
   "source": [
    "---\n",
    "## Section 3.4: Finite Difference Approximations\n",
    "---\n",
    "\n",
    "We again consider the initial boundary value problem (IBVP) introduced in [Section 3.2](https://github.com/CU-Denver-MathStats-OER/Intro-PDEs-Theory-and-Computations/blob/main/Chp3/Chp3Sec2.ipynb) that models how the initial temperature in a rod of length $\\ell$ evolves over time if there is no heat source over the length of the rod and the ends are kept at an ambient temperature (denoted by $0$ for simplicity), \n",
    "\n",
    "$$\n",
    "\\left\\{\\begin{array}{rcl}\n",
    "    u_t &=& c u_{xx}, \\ 0<x<\\ell, t>0, \\\\\n",
    "    u(0,t)=u(\\ell,t) &=& 0, \\ t>0, \\\\\n",
    "    u(x,0) &=& f(x), \\ 0<x<\\ell.\n",
    "\\end{array}\\right.\n",
    "$$\n",
    "\n",
    "Recall that $c>0$ is a thermal diffusivity parameter defining the \"ease\" by which heat is diffused throughout the rod. The function $f(x)$ denotes the initial temperature distribution.\n",
    "\n",
    "In this notebook, we derive an explicit finite difference scheme to this IBVP.\n",
    "\n",
    "For reference, we consider an IC $f$ and exact solution $u$ of the form given in the code cell below."
   ]
  },
  {
   "cell_type": "code",
   "execution_count": null,
   "id": "bc1b7124-6195-4b69-a673-9e2942191685",
   "metadata": {
    "collapsed": false,
    "jupyter": {
     "outputs_hidden": false
    }
   },
   "outputs": [],
   "source": [
    "# f is an IC and u_exact is an exact solution to the IBVP \n",
    "\n",
    "def f(x, ell):\n",
    "    return np.sin(2*np.pi*x/ell)\n",
    "\n",
    "def u_exact(x, t, c, ell):\n",
    "    return np.exp(-4*np.pi**2*t * c/ell) * np.sin(2*np.pi*x/ell)"
   ]
  },
  {
   "cell_type": "markdown",
   "id": "525b6aec-9b40-4cd5-9f2d-d01c092602a1",
   "metadata": {},
   "source": [
    "---\n",
    "### Section 3.4.1:  The method of lines and a semidiscrete approximation\n",
    "---\n",
    "\n",
    "The [method of lines (MOL) discretization](https://en.wikipedia.org/wiki/Method_of_lines) is a popular way of initializing a discretization of many PDEs. From Wikipedia:\n",
    "\n",
    "> The method of lines most often refers to the construction or analysis of numerical methods for partial differential equations that proceeds by first discretizing the spatial derivatives only and leaving the time variable continuous. \n",
    "\n",
    "<mark>**As a first step, we apply the \"standard\" finite difference scheme in space.**</mark>\n",
    "\n",
    "Here, this means that we first discretize $[0,\\ell]$ with $n+2$ evenly spaced points\n",
    "\n",
    "$$\n",
    "    x_j = j\\Delta x, \\ j=0,1,\\ldots,n+1,\n",
    "$$\n",
    "\n",
    "where\n",
    "\n",
    "$$\n",
    "    \\Delta x = \\frac{\\ell}{n+1}.\n",
    "$$\n",
    "\n",
    "In Chapter 2, with $\\ell=1$, we used $h$ to denote this $\\Delta x$ term. Why use $\\Delta x$ here instead of $h$? The rationale of introducing new notation is to more easily distinguish between the discretization parameters associated with the discretization of the spatial dimension and the discretization of the time dimension (which is our second step). Compare this with the use of $\\Delta x$ and $\\Delta y$ in the discretization of the 2D Poisson equation of [Section 2.6](https://github.com/CU-Denver-MathStats-OER/Intro-PDEs-Theory-and-Computations/blob/main/Chp2Sec6.ipynb). It is then perhaps obvious that we will use $\\Delta t$ for the temporal discretization parameter, but we wait to perform that discretization. \n",
    "\n",
    "With this discretization in space, we subsequently approximate $u_{xx}$ by the finite difference scheme\n",
    "\n",
    "$$\n",
    "    u_{xx}(x_j,t) = \\frac{u(x_{j-1},t)-2u(x_j,t)+u(x_{j+1},t)}{\\Delta x^2} + {\\cal O}(\\Delta x^2).\n",
    "$$\n",
    "\n",
    "Substitution of this into the heat equation gives\n",
    "\n",
    "$$\n",
    "    u_t(x_j,t) = c\\frac{u(x_{j-1},t)-2u(x_j,t)+u(x_{j+1},t)}{\\Delta x^2} + {\\cal O}(\\Delta x^2).\n",
    "$$\n",
    "\n",
    "- Dropping the ${\\cal O}(\\Delta x^2)$ gives us the so-called MOL discretization, which is a ***semidiscrete*** approximation in the sense that we have discretized space but not time.\n",
    "\n",
    "- Notice that the above equation defines a ***first-order system of ordinary differential equations*** of dimension $n$ (since we have Dirichlet conditions)."
   ]
  },
  {
   "cell_type": "markdown",
   "id": "f9a45c9c-5177-4e39-8875-26fc8db444eb",
   "metadata": {},
   "source": [
    "---\n",
    "### Section 3.4.2: A fully discrete system\n",
    "---\n",
    "\n",
    "<mark>**The second step is to discretize in time.**</mark>\n",
    "\n",
    "We now use a finite difference scheme to approximate $u_t(x_j,t)$ in the semidiscrete approximation, which means that we arrive at a ***fully discrete*** approximation.\n",
    "\n",
    "- The choice of finite difference scheme we use to approximate $u_t$ is typically tied to a particular numerical method for solving ODEs based on the perspective of a MOL discretization.\n",
    "\n",
    "- A one-sided difference that approximates $u_t$ will produce either the (explicit) forward or (implicit) backward Euler methods. Students may want to review [Section 1.3](https://github.com/CU-Denver-MathStats-OER/Intro-PDEs-Theory-and-Computations/blob/main/Chp1/Chp1Sec3.ipynb).\n",
    "\n",
    "- Initially, we use the forward Euler method since it gives an ***explicit*** method, which means it is easy to implement even though it is otherwise pretty awful."
   ]
  },
  {
   "cell_type": "markdown",
   "id": "cec8bc36-aa6a-465e-8a08-a79b3b9365f3",
   "metadata": {},
   "source": [
    "---\n",
    "#### Consider uniform time steps of length $\\Delta t$\n",
    "---\n",
    "\n",
    "For each $m\\in\\mathbb{N}$, define\n",
    "\n",
    "$$\n",
    "    t_m := m\\Delta t\n",
    "$$\n",
    "\n",
    "and\n",
    "\n",
    "$$\n",
    "    u_t(x_j,t_{m}) = \\frac{u_t(x_j,t_{m+1})-u_t(x_j,t_m)}{\\Delta t} + {\\cal O}(\\Delta t).\n",
    "$$\n",
    "\n",
    "If we plug this into the MOL discretization above, drop the ${\\cal O}(\\Delta t)$ (recall that we previously dropped a ${\\cal O}(\\Delta x^2)$ term to create the MOL discretization), and let $v_j^m$ denote the resulting approximation to $u(x_j,t_m)$, then we arrive at\n",
    "\n",
    "$$\n",
    "\\large \\boxed{    \\frac{v_j^{m+1}-v_j^m}{\\Delta t} = \\frac{v_{j-1}^m - 2v_j^m+v_{j+1}^m}{\\Delta x^2}, \\ j=1,\\ldots, n, \\ m\\geq 0.  }\n",
    "$$\n",
    "\n",
    "This now defines a ***fully discrete*** system of equations that we solve to obtain an approximation to $u(x_j, t_m)$ for $j=0,\\ldots, n+1$ and $m\\geq 0$."
   ]
  },
  {
   "cell_type": "markdown",
   "id": "29aac65a-560e-4b11-b81f-2a3d8cdc85a6",
   "metadata": {},
   "source": [
    "---\n",
    "#### The initial condition and the first time step\n",
    "---\n",
    "\n",
    "For $m=0$, which corresponds to $t=0$, we have that\n",
    "\n",
    "$$\n",
    "    v_j^0 = f(x_j), \\ j=1,\\ldots, n.\n",
    "$$\n",
    "\n",
    "Thus, for $m=0$, we use the initial condition in the above equation to determine $v_j^{1}$ for each $j=1,\\ldots, n$.\n",
    "\n",
    "***Note that we use the BCs to set $v_0^0=0$ and $v_{n+1}^0=0$.***"
   ]
  },
  {
   "cell_type": "markdown",
   "id": "2d854116-be5c-4077-897b-2ee7917918e4",
   "metadata": {},
   "source": [
    "---\n",
    "#### An **explicit** formula for $v_j^{m+1}$\n",
    "---\n",
    "\n",
    "We now solve for $v_j^{m+1}$ in the above discretization, where for $j=1,\\ldots, n$, and $m\\geq 0$, \n",
    "\n",
    "$$\n",
    "\\begin{align}\n",
    "    \\frac{v_j^{m+1}-v_j^m}{\\Delta t} &= \\frac{v_{j-1}^m - 2v_j^m+v_{j+1}^m}{\\Delta x^2} \\\\ \\\\\n",
    "    \\Rightarrow v_j^{m+1} - v_j^m    &= \\underbrace{\\frac{c\\Delta t}{\\Delta x^2}}_{=:r} \\left(v_{j-1}^m - 2v_j^m+v_{j+1}^m\\right) \\\\ \\\\\n",
    "    \\Rightarrow v_j^{m+1} - v_j^m    &= rv_{j-1}^m - 2rv_j^m + rv_{j+1}^m \\\\ \\\\\n",
    "    \\Rightarrow v_j^{m+1}            &= rv_{j-1}^m + (1-2r)v_j^m + rv_{j+1}^m\n",
    "\\end{align}\n",
    "$$\n",
    "\n",
    "In summary, the scheme for obtaining $v_j^{m+1}$ is rewritten as\n",
    "\n",
    "$$\n",
    "    \\boxed{v_j^{m+1} = rv_{j-1}^m + (1-2r)v_j^m + rv_{j+1}^m, \\qquad j=1,\\ldots, n, \\qquad m\\geq 0,}\n",
    "$$\n",
    "\n",
    "where $r=c\\Delta t/\\Delta x^2$. The ratio, $r$, of discretization parameters is ***key*** to the stability and accuracy of the scheme."
   ]
  },
  {
   "cell_type": "markdown",
   "id": "cef9684c-f4e9-4c2a-adb5-9b2148a5fa88",
   "metadata": {},
   "source": [
    "---\n",
    "#### Stability requirements\n",
    "---\n",
    "\n",
    "We require\n",
    "\n",
    "$$\n",
    "    r \\leq \\frac{1}{2}\n",
    "$$\n",
    "\n",
    "in order to ensure ***stability*** in the numerical solution. We discuss this below and refer to the source text for more information.\n",
    "\n",
    "Stability in the numerical solution is essentially stating that the numerical solution behaves ***qualitatively*** like the exact solution.\n",
    "Since it makes no sense to ask how accurate a numerical solution is that behaves completely differently from the exact solution, we see that prior to establishing stability, it makes no sense to ask questions about accuracy.\n",
    "\n",
    "In this new form, it should be pretty clear why we call this scheme ***explicit*** since computing the approximation at time $t_{m+1}$ only uses information available at time $t_m$."
   ]
  },
  {
   "cell_type": "code",
   "execution_count": null,
   "id": "107ef163-fa68-47ad-90c6-66df0825d0dd",
   "metadata": {
    "collapsed": false,
    "jupyter": {
     "outputs_hidden": false
    }
   },
   "outputs": [],
   "source": [
    "# An explicit method based on first form of the method\n",
    "\n",
    "def explicit_heat_v1(n, f, r, T=1, ell=1, c=1):\n",
    "    \n",
    "    # Setup discretization\n",
    "    x = np.linspace(0, ell, n+2)\n",
    "    dx = x[1]-x[0]\n",
    "    \n",
    "    dt = r*dx**2 / c\n",
    "    \n",
    "    M = int(T/dt)  # The number of time steps to take M with a final time T and time step dt\n",
    "    \n",
    "    # The actual method is below\n",
    "    \n",
    "    # Setup the initial v using f and BCs\n",
    "    v = f(x, ell)  # IC\n",
    "    v[0], v[-1] = 0, 0  # Impose the BCs\n",
    "\n",
    "    for i in range(1,M+1):\n",
    "        v[1:-1] = r*v[0:-2] + (1-2*r)*v[1:-1] + r*v[2:]\n",
    "        \n",
    "    return v"
   ]
  },
  {
   "cell_type": "code",
   "execution_count": null,
   "id": "07d55b71-af79-4ae5-bebc-6da209d5b060",
   "metadata": {},
   "outputs": [],
   "source": [
    "def plot_u_and_v(u, method, n, f, r, T=1, ell=1, c=1, fignum=0):\n",
    "    # This function allows various methods for computing the\n",
    "    # numerical solution to be passed to it as the method parameter.\n",
    "    \n",
    "    plt.figure(num=fignum)\n",
    "    plt.clf()\n",
    "    \n",
    "    x = np.linspace(0, ell, n+2)\n",
    "    \n",
    "    plt.plot(x, u(x,T,c,ell), ls=':', c='b', label=\"exact $u$\")\n",
    "    \n",
    "    v = method(n, f, r, T, ell, c)  # Use the method to compute numerical solution v\n",
    "    \n",
    "    plt.plot(x, v, ls='-.', c='r', label=r\"v $\\approx$ $u$\")\n",
    "    plt.legend()\n",
    "    plt.show()"
   ]
  },
  {
   "cell_type": "code",
   "execution_count": null,
   "id": "2564301b-4dfc-4928-9583-84cfb1a9cbe9",
   "metadata": {},
   "outputs": [],
   "source": [
    "%matplotlib widget\n",
    "\n",
    "%reset -f out \n",
    "\n",
    "interact_manual(plot_u_and_v, \n",
    "            u = fixed(u_exact),\n",
    "            method = fixed(explicit_heat_v1),\n",
    "            n = widgets.IntSlider(value=5, min=5, max=100, step=1),\n",
    "            f = fixed(f),\n",
    "            r = widgets.BoundedFloatText(value=0.5, min=0.01, max=0.6, step=0.01),\n",
    "            T = widgets.FloatSlider(value=0.1, min=0.05, max=0.5, step=0.01),\n",
    "            ell = widgets.FloatSlider(value=1, min=0.5, max=2, step=0.1),\n",
    "            c = widgets.FloatSlider(value=1, min=0.5, max=2, step=0.1),\n",
    "            fignum = fixed(0))"
   ]
  },
  {
   "cell_type": "markdown",
   "id": "2e05e3ad-d687-4a16-a6c2-6dc6e7421cc5",
   "metadata": {},
   "source": [
    "---\n",
    "#### A matrix-vector representation\n",
    "---\n",
    "\n",
    "The above scheme can also be rewritten using matrix-vector notation as\n",
    "\n",
    "$$\n",
    "    v^{m+1} = (I-rA)v^m.\n",
    "$$\n",
    "\n",
    "Here, $v^{m+1}$ and $v^m$ denote the $n$-dimensional vectors whose $j$th components are given by $v_j^{m+1}$ and $v_j^m$, respectively, and $A$ is the usual tri-diagonal matrix\n",
    "\n",
    "$$\n",
    "A = \\begin{pmatrix}\n",
    "        2 & -1 & 0 & \\cdots & 0 \\\\\n",
    "        -1 & 2 & -1 & \\ddots & \\vdots \\\\\n",
    "        0 & \\ddots & \\ddots & \\ddots & 0 \\\\\n",
    "        \\vdots & \\ddots & -1 & 2 & -1 \\\\\n",
    "        0 & \\cdots & 0 & -1 & 2\n",
    "    \\end{pmatrix}\n",
    "$$\n",
    "\n",
    "The matrix-vector form is particularly useful for comparing to the implicit scheme we derive below."
   ]
  },
  {
   "cell_type": "code",
   "execution_count": null,
   "id": "19042d80-21c2-47ac-9c71-c700584ca94e",
   "metadata": {},
   "outputs": [],
   "source": [
    "def make_A(n):\n",
    "    A = np.zeros((n,n))\n",
    "    np.fill_diagonal(A,2)\n",
    "    A += np.diag(-np.ones(n-1),k=1)\n",
    "    A += np.diag(-np.ones(n-1),k=-1)\n",
    "    return A"
   ]
  },
  {
   "cell_type": "code",
   "execution_count": null,
   "id": "788cef6d-4a20-485c-9170-e5348c161c82",
   "metadata": {},
   "outputs": [],
   "source": [
    "# An explicit method based on second matrix-vector form of the method\n",
    "\n",
    "def explicit_heat_v2(n, f, r, T=1, ell=1, c=1):\n",
    "    \n",
    "    # Setup discretization\n",
    "    x = np.linspace(0, ell, n+2)\n",
    "    dx = x[1]-x[0]\n",
    "    \n",
    "    dt = r*dx**2 / c\n",
    "    \n",
    "    M = int(T/dt)  # The number of time steps to take M with a final time T and time step dt\n",
    "    \n",
    "    A = make_A(n)\n",
    "    I = np.eye(n)\n",
    "    \n",
    "    # The actual method is below\n",
    "    \n",
    "    # Setup the initial v using f and BCs\n",
    "    v = f(x, ell)  # IC\n",
    "    v[0], v[-1] = 0, 0  # Impose the BCs\n",
    "\n",
    "    for i in range(1,M+1):\n",
    "        v[1:-1] = (I - r*A).dot(v[1:-1])\n",
    "        \n",
    "    return v"
   ]
  },
  {
   "cell_type": "code",
   "execution_count": null,
   "id": "e6495beb-a2f6-4807-9c97-76dc2445ffdd",
   "metadata": {},
   "outputs": [],
   "source": [
    "%matplotlib widget\n",
    "\n",
    "%reset -f out \n",
    "\n",
    "interact_manual(plot_u_and_v, \n",
    "            u = fixed(u_exact),\n",
    "            method = fixed(explicit_heat_v2),\n",
    "            n = widgets.IntSlider(value=5, min=5, max=100, step=1),\n",
    "            f = fixed(f),\n",
    "            r = widgets.BoundedFloatText(value=0.5, min=0.01, max=0.6, step=0.01),\n",
    "            T = widgets.FloatSlider(value=0.1, min=0.05, max=0.5, step=0.01),\n",
    "            ell = widgets.FloatSlider(value=1, min=0.5, max=2, step=0.1),\n",
    "            c = widgets.FloatSlider(value=1, min=0.5, max=2, step=0.1),\n",
    "            fignum = fixed(1))"
   ]
  },
  {
   "cell_type": "markdown",
   "id": "61137c71-15e2-41d3-9534-a09ddfe7c16b",
   "metadata": {},
   "source": [
    "---\n",
    "### Section 3.4.2: An Implicit Scheme\n",
    "---\n",
    "\n",
    "If we return to the MOL discretization from above and instead choose to use the following finite difference scheme in time\n",
    "\n",
    "$$\n",
    "    u_t(x_j,t_{m+1}) = \\frac{u(x_j,\\color{red}{t_{m+1}})-u(x_j,t_m)}{\\Delta t} + O(\\Delta t),\n",
    "$$\n",
    "\n",
    "<mark>and also use values of $u$ at time $t_{m+1}$ in the spatial discretization</mark>, then we end up with an ***implicit scheme where we are using backward Euler in time.***\n",
    "\n",
    "The scheme can be written as\n",
    "\n",
    "$$\n",
    "    \\left( I + r A\\right) v^{m+1} = v^m, \\quad m\\geq 0,\n",
    "$$\n",
    "\n",
    "where $A$ is the same matrix as above.\n",
    "\n",
    "This may seem somewhat annoying since solving for $v^{m+1}$ requires inverting the matrix $I+\\Delta t A$.\n",
    "\n",
    "- However, we observe that this matrix is temporally invariant, so we can \"invert once\" and store the result to be used at each time step to compute $v^{m+1}$.\n",
    "\n",
    "- Or, for large matrices, we never invert but rather apply the process of approximating solutions to the linear problem at each time step.\n",
    "\n",
    "This method is ***unconditionally stable***, which means we can choose any discretization we wish and the behavior of the numerical solution to the heat equation is qualitatively correct (even if it is complete garbage in terms of accuracy)."
   ]
  },
  {
   "cell_type": "code",
   "execution_count": null,
   "id": "81d623de-98d9-43ad-a2a8-0a6bdb6df318",
   "metadata": {},
   "outputs": [],
   "source": [
    "def implicit_heat(n, f, r, T=1, ell=1, c=1):\n",
    "    \n",
    "    # Setup discretization\n",
    "    x = np.linspace(0, ell, n+2)\n",
    "    dx = x[1]-x[0]\n",
    "    \n",
    "    dt = r*dx**2 / c\n",
    "    \n",
    "    M = int(T/dt)  # The number of time steps to take M with a final time T and time step dt\n",
    "    \n",
    "    # The actual method is below\n",
    "    A = make_A(n)\n",
    "    I = np.eye(n)\n",
    "    discrete_soln_operator = np.linalg.inv(I+r*A)\n",
    "    \n",
    "    # Setup the initial v using f and BCs\n",
    "    v = f(x, ell)  # IC\n",
    "    v[0], v[-1] = 0, 0  # Impose the BCs\n",
    "\n",
    "    for i in range(1,M+1):\n",
    "        v[1:-1] = discrete_soln_operator.dot(v[1:-1])\n",
    "        \n",
    "    return v"
   ]
  },
  {
   "cell_type": "code",
   "execution_count": null,
   "id": "bdbd8010-1b7e-4bcb-a189-923672e78f5f",
   "metadata": {},
   "outputs": [],
   "source": [
    "%matplotlib widget\n",
    "\n",
    "%reset -f out \n",
    "\n",
    "interact_manual(plot_u_and_v, \n",
    "            u = fixed(u_exact),\n",
    "            method = fixed(implicit_heat),\n",
    "            n = widgets.IntSlider(value=5, min=5, max=100, step=1),\n",
    "            f = fixed(f),\n",
    "            r = widgets.BoundedFloatText(value=0.5, min=0.01, max=0.6, step=0.01),\n",
    "            T = widgets.FloatSlider(value=0.1, min=0.05, max=0.5, step=0.01),\n",
    "            ell = widgets.FloatSlider(value=1, min=0.5, max=2, step=0.1),\n",
    "            c = widgets.FloatSlider(value=1, min=0.5, max=2, step=0.1),\n",
    "            fignum = fixed(2))"
   ]
  },
  {
   "cell_type": "markdown",
   "id": "1c4ce87e-622b-4ad9-b54e-b585eaf1bcd0",
   "metadata": {},
   "source": [
    "---\n",
    "## Navigation\n",
    "\n",
    "- [Previous](https://github.com/CU-Denver-MathStats-OER/Intro-PDEs-Theory-and-Computations/blob/main/Chp3/Chp3Sec3.ipynb)\n",
    "\n",
    "- [Next](https://github.com/CU-Denver-MathStats-OER/Intro-PDEs-Theory-and-Computations/blob/main/Chp3/Chp3Sec5.ipynb)\n",
    "\n",
    "---"
   ]
  }
 ],
 "metadata": {
  "kernelspec": {
   "display_name": "Python 3",
   "language": "python",
   "name": "python3"
  },
  "language_info": {
   "codemirror_mode": {
    "name": "ipython",
    "version": 3
   },
   "file_extension": ".py",
   "mimetype": "text/x-python",
   "name": "python",
   "nbconvert_exporter": "python",
   "pygments_lexer": "ipython3",
   "version": "3.8.8"
  }
 },
 "nbformat": 4,
 "nbformat_minor": 5
}

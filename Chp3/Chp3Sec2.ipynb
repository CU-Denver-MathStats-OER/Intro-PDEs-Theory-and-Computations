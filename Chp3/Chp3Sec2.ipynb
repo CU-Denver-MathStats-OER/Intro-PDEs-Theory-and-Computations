{
 "cells": [
  {
   "cell_type": "markdown",
   "id": "f840070e-1add-44fc-8318-d12cb4a648f8",
   "metadata": {},
   "source": [
    "# Introduction to Partial Differential Equations\n",
    "---"
   ]
  },
  {
   "cell_type": "markdown",
   "id": "04228246-e4e5-47a7-922b-96881ee0a1cd",
   "metadata": {},
   "source": [
    "## Chapter 3: Parabolic PDEs, the Heat Equation, and a Deep Dive into Fourier Series \n",
    "---"
   ]
  },
  {
   "cell_type": "markdown",
   "id": "b0601aa3-06e0-4139-b45f-db569797d88e",
   "metadata": {},
   "source": [
    "## Want to use Colab? [![Open in Colab](https://colab.research.google.com/assets/colab-badge.svg)](https://githubtocolab.com/CU-Denver-MathStats-OER/Intro-PDEs-Theory-and-Computations/blob/main/Chp3/Chp3Sec2.ipynb)\n",
    "\n",
    "---"
   ]
  },
  {
   "cell_type": "markdown",
   "id": "1bdbf783-8179-48fc-ab51-afbb021bf06a",
   "metadata": {},
   "source": [
    "## Prepping the environment for interactive plots in Colab\n",
    "---"
   ]
  },
  {
   "cell_type": "code",
   "execution_count": null,
   "id": "c23e618e-1e09-40ca-abe6-7dffbfd90190",
   "metadata": {},
   "outputs": [],
   "source": [
    "if 'google.colab' in str(get_ipython()):\n",
    "    print('Running on CoLab - installing missing packages')\n",
    "    !pip install ipympl\n",
    "    from IPython.display import clear_output\n",
    "    clear_output()\n",
    "    exit()\n",
    "else:\n",
    "    print('Not running on CoLab - assuming environment has necessary packages')"
   ]
  },
  {
   "cell_type": "code",
   "execution_count": null,
   "id": "473e52ef-25b1-4be6-8043-d7f99537b438",
   "metadata": {},
   "outputs": [],
   "source": [
    "%matplotlib widget\n",
    "if 'google.colab' in str(get_ipython()):\n",
    "    from google.colab import output\n",
    "    output.enable_custom_widget_manager()"
   ]
  },
  {
   "cell_type": "markdown",
   "id": "1ea69c23-ac94-44ce-a9e1-717308b5fcce",
   "metadata": {
    "tags": []
   },
   "source": [
    "## Creative Commons License Information\n",
    "<a rel=\"license\" href=\"http://creativecommons.org/licenses/by-nc/4.0/\"><img alt=\"Creative Commons License\" style=\"border-width:0\" src=\"https://i.creativecommons.org/l/by-nc/4.0/80x15.png\" /></a><br /><span xmlns:dct=\"http://purl.org/dc/terms/\" property=\"dct:title\">Introduction to Partial Differential Equations: Theory and Computations</span> by <a xmlns:cc=\"http://creativecommons.org/ns#\" href=\"https://github.com/CU-Denver-MathStats-OER/Intro-PDEs-Theory-and-Computations\" property=\"cc:attributionName\" rel=\"cc:attributionURL\">Troy Butler</a> is licensed under a <a rel=\"license\" href=\"http://creativecommons.org/licenses/by-nc/4.0/\">Creative Commons Attribution-NonCommercial 4.0 International License</a>.<br />Based on a work at <a xmlns:dct=\"http://purl.org/dc/terms/\" href=\"https://github.com/CU-Denver-MathStats-OER/Intro-PDEs-Theory-and-Computations\" rel=\"dct:source\">https://github.com/CU-Denver-MathStats-OER/Intro-PDEs-Theory-and-Computations</a>.\n",
    "\n",
    "\n",
    "***This particular notebook is motivated in large part by the Chapter 3 presentation in the OER textbook [Partial Differential Equations by Victor Ivrii](http://www.math.toronto.edu/ivrii/PDE-textbook/PDE-textbook.pdf) released under a Creative Commons Attribution-ShareAlike 4.0 International License.***"
   ]
  },
  {
   "cell_type": "code",
   "execution_count": null,
   "id": "7158dff0-a450-41ea-9af3-84159474759f",
   "metadata": {},
   "outputs": [],
   "source": [
    "import numpy as np\n",
    "%matplotlib widget \n",
    "import matplotlib.pyplot as plt\n",
    "\n",
    "from ipywidgets import interact, interactive, fixed, interact_manual\n",
    "import ipywidgets as widgets"
   ]
  },
  {
   "cell_type": "markdown",
   "id": "ad357c56-93ba-458b-be81-d04cb672f30f",
   "metadata": {
    "tags": []
   },
   "source": [
    "---\n",
    "## Section 3.2: The Heat Equation on a Bounded Interval and Formal Solutions\n",
    "---\n",
    "\n",
    "Consider the initial boundary value problem (IBVP) used to model how the initial temperature in a rod of length $\\ell$ evolves over time if there is no heat source over the length of the rod and the ends are kept at an ambient temperature (denoted by $0$ for simplicity), \n",
    "\n",
    "$$\n",
    "\\left\\{\\begin{array}{rl}\n",
    "    u_t = c u_{xx}, & 0<x<\\ell, t>0, \\\\\n",
    "    u(0,t)=u(\\ell,t)=0, & t>0, \\\\\n",
    "    u(x,0) = f(x), & 0<x<\\ell.\n",
    "\\end{array}\\right.\n",
    "$$\n",
    "\n",
    "Here, $c>0$ is a thermal diffusivity parameter defining the \"ease\" by which heat is diffused throughout the rod. The function $f(x)$ denotes the initial temperature distribution.\n",
    "\n",
    "In this notebook, we analyze:\n",
    "\n",
    "- Properties of solutions to this IBVP\n",
    "\n",
    "- Formal solution techniques to this IBVP and its variants (when the BCs are altered)"
   ]
  },
  {
   "cell_type": "markdown",
   "id": "cd1cddd5-c5b5-4ff6-b4cc-f84b998ca3b2",
   "metadata": {},
   "source": [
    "---\n",
    "### Section 3.2.1: Decreasing Energy Over Time\n",
    "---\n",
    "\n",
    "Assume that $u(x,t)$ solves the above IBVP and that this function and its derivatives $u_t(x,t)$ and $u_{xx}(x,t)$ all belong to the class of functions defined by $\\mathcal{C}([0,\\ell]\\times[0,\\infty))$, i.e., they are continuous for $x\\in[0,\\ell]$ and $t\\in[0,\\infty)$.\n",
    "\n",
    "Define the energy $E(t)$ for $t\\geq 0$ as\n",
    "\n",
    "$$\n",
    "    E(t):=\\int_0^\\ell u^2(x,t)\\, dx.\n",
    "$$\n",
    "\n",
    "Notice that $E$ is a scalar function of time $t$. We differentiate with respect to $t$ to give, for $t>0$, \n",
    "\n",
    "$$\n",
    "   \\begin{align}\n",
    "       E'(t) &= \\frac{d}{dt}\\int_0^\\ell u^2(x, t)\\, dx \\\\\n",
    "             \\\\\n",
    "             &= \\int_0^\\ell \\frac{\\partial}{\\partial t} u^2(x,t)\\, dx \\qquad \\text{ (smooth $u$ allows us to interchange limits)} \\\\\n",
    "             \\\\\n",
    "             &= 2\\int_0^\\ell u(x,t)u_t(x,t)\\, dx \\qquad \\text{ (chain rule)} \\\\\n",
    "             \\\\\n",
    "             &= 2c \\int_0^\\ell u(x,t)u_{xx}\\, dx \\qquad \\text{ ($u_t=cu_{xx}$)} \\\\\n",
    "             \\\\\n",
    "             &= 2c\\underbrace{\\left[u(x,t)u_x(x,t)\\right]_0^\\ell}_{=0 \\text{ because of BCs}} - 2c\\int_0^\\ell (u_x(x,t))^2 \\, dx \\qquad \\text{ (integration by parts)} \\\\\n",
    "             \\\\\n",
    "             &= - 2c\\int_0^\\ell (u_x(x,t))^2 \\, dx\\\\\n",
    "             \\\\\n",
    "             &\\leq 0.\n",
    "   \\end{align}\n",
    "$$\n",
    "\n",
    "This implies that $E(t)$ is a (not necessarily strictly) decreasing function so that $E(t)\\leq E(0)$. This immediately implies that for all $t\\geq 0$, \n",
    "\n",
    "$$\n",
    "    \\int_0^\\ell u^2(x,t)\\, dx \\leq \\int_0^\\ell f^2(x)\\, dx.\n",
    "$$"
   ]
  },
  {
   "cell_type": "code",
   "execution_count": null,
   "id": "fcdf7177-4ce0-4d43-83fd-737228bccbb8",
   "metadata": {},
   "outputs": [],
   "source": [
    "from scipy.integrate import quad"
   ]
  },
  {
   "cell_type": "code",
   "execution_count": null,
   "id": "ad9eba68-58aa-4ccd-a792-ebb13a899934",
   "metadata": {},
   "outputs": [],
   "source": [
    "# Once we figure out what u is, we can use this function to compute \n",
    "# the energy of u as a function of time\n",
    "def energy(u, ell, t):\n",
    "    return quad(lambda x, t: u(x,t)**2, 0, ell, args=(t,))[0]"
   ]
  },
  {
   "cell_type": "markdown",
   "id": "a83d05b8-da66-4de8-8eef-2d4b70936ae0",
   "metadata": {},
   "source": [
    "---\n",
    "#### Student Activity\n",
    "---\n",
    "\n",
    "Use the above property that energy is decreasing to prove that\n",
    "\n",
    "- the IBVP is stable with respect to perturbations in the IC, \n",
    "\n",
    "- and that solutions, if they exist, are unique.\n",
    "\n",
    "(We will discuss the actual form of solutions below.)"
   ]
  },
  {
   "cell_type": "markdown",
   "id": "d845e6ed-c9ee-4ddd-a8d4-a5fda301a706",
   "metadata": {},
   "source": [
    "<mark>Student proof of stability goes below.</mark>"
   ]
  },
  {
   "cell_type": "markdown",
   "id": "4dbe77a5-5d5f-400c-821e-2f6318fa6fc1",
   "metadata": {},
   "source": [
    "<mark>Student proof of uniqueness of solutions goes below.</mark>"
   ]
  },
  {
   "cell_type": "markdown",
   "id": "dc53b2c4-0418-48fb-b8b5-d6bd666a4757",
   "metadata": {},
   "source": [
    "### Section 3.2.2: A 3-Step Process to Formally Solve the Heat Equation\n",
    "---\n",
    "We formally solve this IBVP using a 3-step process. <mark>***Students should review the similar approach taken in [Section 2.6](../Chp2/Chp2Sec6.ipynb) to solve the 2D Poisson equation on a rectangular domain.***</mark>\n",
    "\n",
    "1. **Apply separation of variables**. \n",
    "\n",
    "   We first ignore the IC $u(x,0)=f(x)$ and find a family of functions $\\{u_k(x,t)\\}_{k=1}^\\infty$ of the form $\\{X_k(x)T_k(t)\\}_{k=1}^\\infty$ satisfying the differential equation and BCs. \n",
    "   \n",
    "   Writing a potential solution as $X(x)T(t)$ is referred to as a separation of variables. \n",
    "\n",
    "2. **Apply the principle of superposition**. \n",
    "\n",
    "   We demonstrate (not rigorously as that will come later) that for any \"appropriate\" sequence of real numbers $\\{c_k\\}_{k=1}^\\infty\\subset\\mathbb{R}$ that $u(x,t) = \\sum_{k=1}^\\infty c_k u_k(x,t)$ also satisfies the differential equation and BCs. \n",
    "\n",
    "3. **Use the Fourier coefficients of $f(x)$ to determine the coefficients $\\{c_k\\}_{k=1}^\\infty$**. \n",
    "\n",
    "   Write $f(x)=\\sum_{k=1}^\\infty c_k u_k(x,0)$ and exploit orthogonality of the $X_k$ functions to determine $c_k$ for each $k\\in\\mathbb{N}$. \n",
    "\n",
    "This is a ***formal*** process because there is plenty of justification missing. We will fill in the much of the missing justification in [Section 3.3](https://github.com/CU-Denver-MathStats-OER/Intro-PDEs-Theory-and-Computations/blob/main/Chp3/Chp3Sec3.ipynb)."
   ]
  },
  {
   "cell_type": "markdown",
   "id": "ac94c1c4-afa1-4d1a-bf8f-bc4073f3c815",
   "metadata": {},
   "source": [
    "---\n",
    "### Section 3.2.3: Separation of variables</a>\n",
    "---\n",
    "\n",
    "We ignore the IC and make the [ansatz](https://en.wikipedia.org/wiki/Ansatz) that a function of the form\n",
    "\n",
    "$$\n",
    "    u(x,t) = X(x)T(t)\n",
    "$$\n",
    "\n",
    "satisfies the differential equation and BCs. *By comparison, in [Section 2.6](https://github.com/CU-Denver-MathStats-OER/Intro-PDEs-Theory-and-Computations/blob/main/Chp2/Chp2Sec6.ipynb), we assumed solutions took the form $X(x)Y(y)$ for the 2D Poisson equation on the rectangle.*\n",
    "\n",
    "Inserting this ansatz into the differential equation gives\n",
    "\n",
    "$$\n",
    "    X(x)T'(t) = cX''(x)T(t).   \n",
    "$$\n",
    "\n",
    "Since we are interested in non-trivial solutions, we are not interested in cases where $u(x,t)=X(x)T(t)$ is identically zero, which also means that we are not interested in cases where either $X(x)$ or $T(t)$ are identically zero. Thus, we divide through by $X(x)$ and $T(t)$ to get\n",
    "\n",
    "$$\n",
    "    \\frac{T'(t)}{T(t)} = c\\frac{X''(x)}{X(x)}.\n",
    "$$\n",
    "\n",
    "The left-hand side depends only on $t$ whereas the right-hand side depends only on $x$. Thus, if we kept $t$ fixed and varied $x$, we see that $\\frac{X''(x)}{X(x)}$ is constant and vice versa. It follows that both expressions are equal to the same constant, which (with some mathematical foresight) we denote by $-c\\lambda$ so that\n",
    "\n",
    "$$\n",
    "    \\frac{T'(t)}{T(t)} = c\\frac{X''(x)}{X(x)} = -c\\lambda.\n",
    "$$\n",
    "\n",
    "This defines the following two ODEs:\n",
    "\n",
    "$$\n",
    "\\begin{align}\n",
    "    X''(x) + \\lambda X(x) &= 0, \\\\ \\\\\n",
    "    T'(t) +c\\lambda T(t)  &= 0.\n",
    "\\end{align}\n",
    "$$\n",
    "\n",
    "Since we are assuming the BCs are satisfied, this means that $X(0)=X(\\ell)=0$. By a straightforward modification of the domain of the problem used to construct eigenfunctions derived in [Section 2.5](https://github.com/CU-Denver-MathStats-OER/Intro-PDEs-Theory-and-Computations/blob/main/Chp2/Chp2Sec5.ipynb), we have that for any $k\\in\\mathbb{N}$ that the pair $(X_k, \\lambda_k)$ defined by\n",
    "\n",
    "$$\n",
    "    \\lambda_k = \\frac{(k\\pi)^2}{\\ell^2}\n",
    "$$\n",
    "\n",
    "and\n",
    "\n",
    "$$\n",
    "    X_k(x) = \\sin\\left(\\frac{k\\pi x}{\\ell}\\right)\n",
    "$$\n",
    "\n",
    "satisfies $X_k''(x)+\\lambda_k X_k(x) = 0$ and the BCs.\n",
    "\n",
    "For such a $\\lambda_k=\\frac{(k\\pi)^2}{\\ell^2}$, we have that \n",
    "\n",
    "$$\n",
    "    T_k(t) = T_k(0)\\exp\\left(-c\\frac{(k\\pi)^2}{\\ell^2} t\\right)\n",
    "$$\n",
    "\n",
    "satisfies $T_k'(t)+c\\lambda_k T_k(t)$ where $T_k(0)$ is some unspecified IC. Since we are not initially concerned with any initial condition in particular, we might as well choose $T_k(0)=1$ for simplicity so that\n",
    "\n",
    "$$\n",
    "    T_k(t) = \\exp\\left(-c\\frac{(k\\pi)^2}{\\ell^2} t\\right). \n",
    "$$\n",
    "\n",
    "This implies that for each $k\\in\\mathbb{N}$, \n",
    "\n",
    "$$\n",
    "    u_k(x,t) = \\exp\\left(-c\\frac{(k\\pi)^2}{\\ell^2} t\\right) \\sin\\left(\\frac{k\\pi x}{\\ell}\\right)\n",
    "$$\n",
    "\n",
    "satisfies the differential equation and BCs.\n",
    "\n",
    "**Remarks:**\n",
    "\n",
    "- For each $k$, the choice of $T_k(0)=1$ implies $u_k(x,0)=X_k(x)=\\sin\\left(\\frac{k\\pi x}{\\ell}\\right)$. Thus, while each $u_k$ satisfies the same differential equation and BCs, they all satisfy different ICs. We return to this below.\n",
    "\n",
    "   - The $u_k$ above are sometimes called *particular solutions*, which can be confusing since they have nothing to do with how this term is used in ODEs.\n",
    "\n",
    "\n",
    "- It is clear that $c>0$ implies that for each $x\\in(0,\\ell)$ that $u_k(x,t)\\to 0$ as $t\\to\\infty$ and that larger $c$ imply a faster rate of decay. In other words, a larger thermal diffusivity implies the temperature changes faster (no surprise there).\n",
    "\n",
    "- If the rod is made longer (so $\\ell$ increases) this makes $c/\\ell$ smaller. It takes longer for the temperature to decay to zero for a longer rod. \n",
    "\n",
    "  - Does this make sense? Suppose $\\ell_1>\\ell_2$ denotes the lengths of two rods of the same material. If we consider the midpoint of each rod, the midpoint of the first rod is *farther* away from the endpoints where temperature is kept at $0$. Think of the endpoint values as a forcing term at the ends of the rods. It makes sense that it takes longer for this force to be \"felt\" at the midpoint of the first, longer rod compared to the second, shorter rod. "
   ]
  },
  {
   "cell_type": "code",
   "execution_count": null,
   "id": "0b9725ec-a491-45b7-b657-1bbcb44242f3",
   "metadata": {},
   "outputs": [],
   "source": [
    "def X_k(x, ell, k):\n",
    "    return np.sin(np.pi*k*x/ell)\n",
    "\n",
    "def T_k(t, c, ell, k):\n",
    "    return np.exp(-c*(k*np.pi/ell)**2*t)\n",
    "\n",
    "def u_k(x, t, c, ell, k):\n",
    "    return T_k(t, c, ell, k)*X_k(x, ell, k)"
   ]
  },
  {
   "cell_type": "code",
   "execution_count": null,
   "id": "6cc66cd6-cb87-4052-b586-76fc15af1bad",
   "metadata": {},
   "outputs": [],
   "source": [
    "def plot_u_k(t, c, ell, k):\n",
    "    \n",
    "    x = np.linspace(0, ell, 200)\n",
    "    \n",
    "    plt.figure(0, figsize=(4,2))\n",
    "    plt.clf()\n",
    "    plt.plot(x, u_k(x, t, c, ell, k))\n",
    "    plt.axhline(c='k', ls=':')\n",
    "    plt.ylim([-1, 1])\n",
    "    plt.show()"
   ]
  },
  {
   "cell_type": "code",
   "execution_count": null,
   "id": "210229ec-e492-4cd8-9c12-ec0164d59941",
   "metadata": {},
   "outputs": [],
   "source": [
    "%reset -f out \n",
    "\n",
    "%matplotlib widget\n",
    "interact(plot_u_k, \n",
    "            t = widgets.FloatSlider(value=0, min=0, max=5, step=0.1, continuous_update=False),\n",
    "            c = widgets.FloatSlider(value=0.1, min=0.01, max=1, step=0.01, continuous_update=False),\n",
    "            ell = widgets.FloatSlider(value=1, min=0.5, max=2, step=0.1, continuous_update=False),\n",
    "            k = widgets.IntSlider(value=1, min=1, max=10, step=1, continuous_update=False)\n",
    "        )"
   ]
  },
  {
   "cell_type": "code",
   "execution_count": null,
   "id": "09f34eb6-28fd-4c6f-9fa3-60874a430bfe",
   "metadata": {},
   "outputs": [],
   "source": [
    "ell = 10  # Rod of length ell\n",
    "c = 1\n",
    "k = 3\n",
    "\n",
    "u = lambda x, t: u_k(x, t, c, ell, k)"
   ]
  },
  {
   "cell_type": "code",
   "execution_count": null,
   "id": "1a7a3fb7-398a-4868-a545-7743cba99f9f",
   "metadata": {},
   "outputs": [],
   "source": [
    "# Let's plot the energy of these particular solutions\n",
    "\n",
    "num_t = 100\n",
    "\n",
    "t = np.linspace(0, 5, num_t)\n",
    "\n",
    "E = np.zeros(num_t)\n",
    "for i in range(num_t):\n",
    "    E[i] = energy(u, ell, t[i])\n",
    "\n",
    "%matplotlib widget\n",
    "plt.figure(1)\n",
    "plt.plot(t, E)\n",
    "plt.title('$E(t)$ vs. $t$')\n",
    "plt.show()"
   ]
  },
  {
   "cell_type": "markdown",
   "id": "0a5e6906-fdb8-4ceb-b2e9-69bc93764154",
   "metadata": {},
   "source": [
    "---\n",
    "### Section 3.2.4: Principle of Superposition</a>\n",
    "---\n",
    "\n",
    "\n",
    "As discussed above, for a given $k\\in\\mathbb{N}$, the function\n",
    "\n",
    "$$\n",
    "    u_k(x,t) = \\exp\\left(-c\\frac{(k\\pi)^2}{\\ell^2} t\\right) \\sin\\left(\\frac{k\\pi x}{\\ell}\\right)\n",
    "$$\n",
    "\n",
    "satisfies the IBVP if $f(x)$ is chosen to be $\\sin\\left(\\frac{k\\pi x}{\\ell}\\right)$.\n",
    "\n",
    "It is straightforward to show that if there exists constants $N$ constants, denoted by $c_1, \\ldots, c_N$, such that\n",
    "\n",
    "$$\n",
    "    f(x) = \\sum_{k=1}^N c_k \\sin\\left(\\frac{k\\pi x}{\\ell}\\right),\n",
    "$$\n",
    "\n",
    "then\n",
    "\n",
    "$$\n",
    "    u(x,t) = \\sum_{k=1}^N c_k u_k(x,t)\n",
    "$$\n",
    "\n",
    "satisfies the IBVP with this choice of $f(x)$."
   ]
  },
  {
   "cell_type": "markdown",
   "id": "c8d42434-1588-4de3-a728-fc04721f81eb",
   "metadata": {},
   "source": [
    "----\n",
    "#### Two wishes\n",
    "---\n",
    "\n",
    "We have but two simple wishes:\n",
    "\n",
    "1. Understand what it means if $N=\\infty$ in the above summations.\n",
    "\n",
    "2. Given a more general function $f(x)$, figure out how to determine the associated $c_k$ values even if it means that $N$ may need to be infinite.\n",
    "\n",
    "While we address the second wish in Section 3.2.5 below, we only provide some hint as to the first wish in the motivation below. We will address this first wish in more detail in [Section 3.3](https://github.com/CU-Denver-MathStats-OER/Intro-PDEs-Theory-and-Computations/blob/main/Chp3/Chp3Sec3.ipynb).\n",
    "\n",
    "***Some motivation for these wishes.***\n",
    "\n",
    "The reason we wish to understand what is meant if $N$ is infinite is because even simple choices of $f(x)$ may be impossible to represent as finite linear combinations of sine functions. For instance, consider $f(x)\\equiv 1$ on a rod of unit length. \n",
    "\n",
    "However, if we allow infinite linear combinations, then as we will see, we have that\n",
    "\n",
    "$$\n",
    "    \\large 1 = \\frac{4}{\\pi} \\sum_{k=1}^\\infty \\frac{1}{2k-1}\\sin((2k-1)\\pi x).\n",
    "$$\n",
    "\n",
    "Let $S_N(x)$ denote a partial sum where the first $N$ terms are taken. \n",
    "\n",
    "We make some plots below to show that $S_N(x)$ does converge, in a sense, to $1$. However, it is more complicated as it initially appears (we will see this by taking the discretization of $[0,1]$ to be very fine to demonstrate that there is fact no pointwise convergence at the endpoints as is suggested when the discretization is \"coarse\" relative to the size of $N$ used). "
   ]
  },
  {
   "cell_type": "code",
   "execution_count": null,
   "id": "6f033ac1-8c75-4087-9d8a-9d753116427c",
   "metadata": {},
   "outputs": [],
   "source": [
    "Ns = np.array([3, 10, 100]) \n",
    "\n",
    "# The use of 2*Ns.max() below ensures that we resolve oscillations\n",
    "# that are ALWAYS present as N increases. \n",
    "# Try x=np.linspace(0, 1, 100) instead and observe how the converges\n",
    "# appears pointwise, but this is just a resolution error.\n",
    "x = np.linspace(0, 1, 2*Ns.max())  \n",
    "\n",
    "%matplotlib widget\n",
    "plt.figure(1)\n",
    "for N in Ns:\n",
    "    S_N = 0*x\n",
    "    for k in range(1,N+1):\n",
    "        S_N += 1./(2*k-1)*np.sin((2*k-1)*np.pi*x)\n",
    "    S_N *= 4/np.pi\n",
    "    plt.plot(x,S_N, label='N='+str(N))\n",
    "\n",
    "plt.legend(loc='lower center', shadow=True)"
   ]
  },
  {
   "cell_type": "markdown",
   "id": "7acff9c7-a8f4-4c21-bb06-efc565eafe2c",
   "metadata": {},
   "source": [
    "---\n",
    "#### Motivating a different notion of converence\n",
    "---\n",
    "\n",
    "It appears that the error in the $\\sup$-norm is about $0.2$ on $(0,1)$ for just about every function in the partial sum! \n",
    "In other words, it seems like if we let $f(x)=1$ and $S_N(x)$ be defined as above, then it appears (at least in the eye-ball norm) that \n",
    "\n",
    "$$\n",
    "    \\large \\sup_{x\\in[0,1]} | f(x) - S_N(x) | \\approx 0.2\n",
    "$$\n",
    "\n",
    "seems to be true for an infinite number of $N$ values. (In fact, the actual distance is $1$ because of the discrepancy at the endpoints.)\n",
    "\n",
    "We recall from basic calculus/analysis that for a sequence of real numbers $(a_n)$ and real number $a$ that if there exists an $\\epsilon>0$ such that no matter what $N$ is chosen there is always an $n>N$ such that $|a_n-a|\\geq \\epsilon$, then $(a_n)$ does **not** converge to $a$. \n",
    "\n",
    "We clearly need a different notion of convergence if we are to understand what is meant by $\\lim_{N\\to\\infty} S_N(x)$."
   ]
  },
  {
   "cell_type": "markdown",
   "id": "d56ad10b-0427-4790-a578-0bae21334262",
   "metadata": {},
   "source": [
    "---\n",
    "#### A different notion of convergence\n",
    "---\n",
    "\n",
    "Suppose that instead of defining the error in the partial sum approximation as $e_N = \\sup_{x\\in[0,1]} |f(x)-S_N(x)|$, we decided to measure the <mark>***mean square error (MSE)***</mark>, i.e., we define the square of the error in an ***average*** sense as\n",
    "\n",
    "$$\n",
    "    \\large e_N := \\int_0^1 |f(x)-S_N(x)|^2\\, dx.\n",
    "$$\n",
    "\n",
    "If this $e_N\\to 0$ as $N\\to\\infty$, then we say that the sequence of partial sums converges in mean square (or we say that it converges in $L^2$ if we have taken measure theory/functional analysis). "
   ]
  },
  {
   "cell_type": "markdown",
   "id": "35cef55a-7cac-41a7-a279-463b8b5f2124",
   "metadata": {},
   "source": [
    "---\n",
    "#### Approximating the integrals defining the MSE\n",
    "---\n",
    "\n",
    "Since the integrand involved in computing $e_N$ looks annoying/irritating to compute, we use [Monte Carlo (MC)](https://en.wikipedia.org/wiki/Monte_Carlo_integration) approximations because they are incredibly simple to implement.\n",
    "\n",
    "MC approximations will generally vary from sample set to sample set, but the variance can be made sufficiently small if a sufficiently large number of samples are used thanks to the [Central Limit Theorem](https://en.wikipedia.org/wiki/Central_limit_theorem). "
   ]
  },
  {
   "cell_type": "code",
   "execution_count": null,
   "id": "9e5fc633-6ad4-4bed-9c50-350138c1ee9c",
   "metadata": {},
   "outputs": [],
   "source": [
    "M = 1E6  # Number of MC sample points\n",
    "\n",
    "x = np.random.random(int(M))\n",
    "\n",
    "for N in Ns:\n",
    "    S_N = 0*x\n",
    "    for k in range(1,N+1):\n",
    "        S_N += 1./(2*k-1)*np.sin((2*k-1)*np.pi*x)\n",
    "    S_N *= 4/np.pi\n",
    "    e_N = 1/M * np.sum((1-S_N)**2)\n",
    "    print(e_N)"
   ]
  },
  {
   "cell_type": "markdown",
   "id": "27bf12d5-7bb2-44a4-9619-8ab22c5bb66e",
   "metadata": {},
   "source": [
    "---\n",
    "#### The smoothing effect of the heat equation\n",
    "---\n",
    "\n",
    "Below, we show the solution (or at least a truncated version) of the IBVP at various times with this initial condition of $f(x)\\equiv 1$.\n",
    "\n",
    "***Note that within $t=1E-5$ that the oscillations are already removed.***\n",
    "\n",
    "The heat equation *smooths* rough data very quickly (something we already knew from [Section 3.1](https://github.com/CU-Denver-MathStats-OER/Intro-PDEs-Theory-and-Computations/blob/main/Chp3/Chp3Sec1.ipynb)). This is good news for us considering that $f(x)\\equiv 1$ is not rough but our approximations to it are.\n",
    "\n",
    "Why do the \"rough\" parts of our truncation get smoothed out so quickly? Well, they are due to the \"large\" $k$ terms showing up in the summation, and a quick glance at the time component of the solution shows that larger values of $k$ (which correspond to the \"faster oscillation\" parts in space) are damped in time very quickly."
   ]
  },
  {
   "cell_type": "code",
   "execution_count": null,
   "id": "797c0444-5270-48b9-980a-14e46b0a3a6e",
   "metadata": {},
   "outputs": [],
   "source": [
    "N = 100  # Specify the truncation\n",
    "ts = [0.00001, 0.01, 0.1]  # Specify the times to plot the solution\n",
    "x = np.linspace(0, 1, 2*N)\n",
    "\n",
    "%matplotlib widget\n",
    "plt.figure(2)\n",
    "for t in ts:\n",
    "    u_N = 0*x\n",
    "    for k in range(1,N+1):\n",
    "        u_N += 1./(2*k-1)*np.sin((2*k-1)*np.pi*x) * \\\n",
    "                    np.exp(-((2*k-1)*np.pi)**2*t)\n",
    "    u_N *= 4/np.pi\n",
    "    plt.plot(x,u_N, label='t='+str(t))\n",
    "\n",
    "plt.legend(loc='lower center', shadow=True)"
   ]
  },
  {
   "cell_type": "markdown",
   "id": "352a3837-1508-4a38-b780-5f20079bc173",
   "metadata": {},
   "source": [
    "---\n",
    "### Section 3.2.5: Fourier Coefficients\n",
    "---\n",
    "\n",
    "We follow the process that was first described in [Section 2.5](https://github.com/CU-Denver-MathStats-OER/Intro-PDEs-Theory-and-Computations/blob/main/Chp2/Chp2Sec5.ipynb) with a few adjustments.\n",
    "\n",
    "First, we adjust the continuous inner product, denoted by $\\langle \\cdot, \\cdot \\rangle$, to be defined as an integral over $[0,\\ell]$.\n",
    "\n",
    "We then recognize that for $k, m\\in\\mathbb{N}$, \n",
    "\n",
    "$$\n",
    "    \\langle X_k(x), X_m(x)\\rangle = \\left\\langle \\sin\\left(\\frac{k\\pi x}{\\ell}\\right), \\sin\\left(\\frac{m\\pi x}{\\ell}\\right) \\right\\rangle \n",
    "                                  =\\begin{cases}\n",
    "                                        0, & k\\neq m, \\\\\n",
    "                                        \\ell/2, & k=m.\n",
    "                                    \\end{cases}\n",
    "$$\n",
    "\n",
    "It follows that if\n",
    "\n",
    "$$\n",
    "    f(x) = \\sum_{k=1}^\\infty c_k\\sin\\left(\\frac{k\\pi x}{\\ell}\\right), \n",
    "$$\n",
    "\n",
    "then for each $k\\in\\mathbb{N}$, \n",
    "\n",
    "$$\n",
    "    c_k := \\frac{2}{\\ell}\\left\\langle f(x), \\sin\\left(\\frac{k\\pi x}{\\ell}\\right)\\right\\rangle = \\frac{2}{\\ell}\\int_0^\\ell f(x) \\sin\\left(\\frac{k\\pi x}{\\ell}\\right)\\, dx.\n",
    "$$\n",
    "\n",
    "The coefficients $c_k$ are referred to as **Fourier coefficients** and the corresponding series is called a **Fourier series** (although in this case it is more precise to say **Fourier sine series**).\n",
    "\n",
    "We then set the formal solution to the IBVP as\n",
    "\n",
    "$$\n",
    "    u(x,t) = \\sum_{k=1}^\\infty c_k  \\exp\\left(-c\\frac{(k\\pi)^2}{\\ell^2} t\\right) \\sin\\left(\\frac{k\\pi x}{\\ell}\\right)\n",
    "$$\n",
    "\n",
    "with the $c_k$ values as defined above."
   ]
  },
  {
   "cell_type": "markdown",
   "id": "695d8233-8614-41c7-9023-af3191a41d58",
   "metadata": {},
   "source": [
    "---\n",
    "#### Student Activity\n",
    "---\n",
    "\n",
    "*This activity goes into the details of a result studied above.* \n",
    "\n",
    "Show that if $f(x)=1$ and $\\ell=1$, then\n",
    "\n",
    "$$\n",
    "    c_k = \\begin{cases}\n",
    "            \\frac{4}{k\\pi}, & k=1, 3, 5,\\ldots, \\\\\n",
    "            0, & k=2, 4, 6, \\ldots, \n",
    "          \\end{cases}\n",
    "$$\n",
    "\n",
    "so that\n",
    "\n",
    "$$\n",
    "    1 = \\frac{4}{\\pi} \\sum_{k=1}^\\infty \\frac{1}{2k-1}\\sin((2k-1)\\pi x).\n",
    "$$\n",
    "\n",
    "Plot some partial Fourier sums for this function as well as an approximation to the solution of the IBVP at $t=0.001, 0.01$, and $0.1$ by truncating the series at $N=10, 50$ and $100$."
   ]
  },
  {
   "cell_type": "markdown",
   "id": "8858b138-cab1-4dd3-a2a9-20081bf15f00",
   "metadata": {},
   "source": [
    "**Activity Solution - Unhide the cells below to see the solution (students should attempt this on their own before referring to the solutions to check their work)**"
   ]
  },
  {
   "cell_type": "markdown",
   "id": "c8fd9806-2177-4902-aa47-bf81bfad4ca1",
   "metadata": {
    "jupyter": {
     "source_hidden": true
    },
    "tags": []
   },
   "source": [
    "Since $f(x)=1$ and $\\ell=1$, for any $n\\in\\mathbb{N}$ (the use of $n$ as an index provides a more straightforward change of index to $k$ later), \n",
    "\n",
    "$$\n",
    "\\begin{align}\n",
    "    c_n &= 2\\int_0^1 \\sin(n\\pi x)\\, dx \\\\ \\\\\n",
    "        &= -\\frac{2}{n\\pi} \\big[\\cos(n\\pi x)\\big]_0^1 \\\\ \\\\ \n",
    "        &= -\\frac{2}{n\\pi} \\left[\\cos(n\\pi) - \\cos(0)\\right] \\\\ \\\\\n",
    "        &= -\\frac{2}{n\\pi} \\left[\\cos(n\\pi) - 1 \\right]\n",
    "\\end{align}\n",
    "$$"
   ]
  },
  {
   "cell_type": "markdown",
   "id": "f59967f6-63f4-422c-a3df-fcfd36dc0a99",
   "metadata": {
    "jupyter": {
     "source_hidden": true
    },
    "tags": []
   },
   "source": [
    "If $n$ is even, then $n=2k$ for some $k\\in\\mathbb{N}$, and $\\cos(2k\\pi)=1$. This implies that $c_{2k}=0$. \n",
    "\n",
    "Otherwise, $n$ is odd, so $n=2k-1$ for some $k\\in\\mathbb{N}$, and $\\cos((2k-1)\\pi)=-1$. This implies that\n",
    "\n",
    "$$\n",
    "    c_{2k-1} = -\\frac{2}{(2k-1)\\pi}[-2] = \\frac{4}{\\pi}\\frac{1}{2k-1}.\n",
    "$$\n",
    "\n",
    "Thus, \n",
    "\n",
    "$$\n",
    "    1 = \\frac{4}{\\pi} \\sum_{k=1}^\\infty \\frac{1}{2k-1}\\sin((2k-1)\\pi x).\n",
    "$$"
   ]
  },
  {
   "cell_type": "code",
   "execution_count": null,
   "id": "0e7a0ba6-4045-408c-b07c-e3f6cbeb691c",
   "metadata": {
    "jupyter": {
     "source_hidden": true
    },
    "tags": []
   },
   "outputs": [],
   "source": [
    "# We now plot some partial Fourier sums for this function\n",
    "\n",
    "Ns = np.array([10, 50, 100]) \n",
    "\n",
    "# The use of 2*Ns.max() below ensures that we resolve oscillations\n",
    "# that are ALWAYS present as N increases. \n",
    "# Try x=np.linspace(0, 1, 100) instead and observe how the converges\n",
    "# appears pointwise, but this is just a resolution error.\n",
    "x = np.linspace(0, 1, 2*Ns.max())  \n",
    "\n",
    "%matplotlib widget\n",
    "plt.figure(1)\n",
    "for N in Ns:\n",
    "    S_N = 0*x\n",
    "    for k in range(1,N+1):\n",
    "        S_N += 1/(2*k-1)*np.sin((2*k-1)*np.pi*x)\n",
    "    S_N *= 4/np.pi\n",
    "    plt.plot(x,S_N, label='N='+str(N))\n",
    "\n",
    "plt.legend(loc='lower center', shadow=True)"
   ]
  },
  {
   "cell_type": "code",
   "execution_count": null,
   "id": "a9a84a04-7d83-4a4d-abbe-34579a225392",
   "metadata": {
    "jupyter": {
     "source_hidden": true
    },
    "tags": []
   },
   "outputs": [],
   "source": [
    "# We now plot the solution to the IBVP using N=10 terms to approximate the IC\n",
    "\n",
    "N = 10  # Specify the truncation\n",
    "ts = [0.001, 0.01, 0.1]  # Specify the times to plot the solution\n",
    "x = np.linspace(0, 1, 200)\n",
    "\n",
    "%matplotlib widget\n",
    "plt.figure(2)\n",
    "for t in ts:\n",
    "    u_N = 0*x\n",
    "    for k in range(1,N+1):\n",
    "        u_N += 1./(2*k-1)*np.sin((2*k-1)*np.pi*x) * \\\n",
    "                    np.exp(-((2*k-1)*np.pi)**2*t)\n",
    "    u_N *= 4/np.pi\n",
    "    plt.plot(x,u_N, label='t='+str(t))\n",
    "\n",
    "plt.legend(loc='lower center', shadow=True)"
   ]
  },
  {
   "cell_type": "code",
   "execution_count": null,
   "id": "a3916836-c434-445c-9848-6663cc97d29c",
   "metadata": {
    "jupyter": {
     "source_hidden": true
    },
    "tags": []
   },
   "outputs": [],
   "source": [
    "# We now plot the solution to the IBVP using N=50 terms to approximate the IC\n",
    "\n",
    "N = 50  # Specify the truncation\n",
    "ts = [0.001, 0.01, 0.1]  # Specify the times to plot the solution\n",
    "x = np.linspace(0, 1, 200)\n",
    "\n",
    "%matplotlib widget\n",
    "plt.figure(2)\n",
    "for t in ts:\n",
    "    u_N = 0*x\n",
    "    for k in range(1,N+1):\n",
    "        u_N += 1./(2*k-1)*np.sin((2*k-1)*np.pi*x) * \\\n",
    "                    np.exp(-((2*k-1)*np.pi)**2*t)\n",
    "    u_N *= 4/np.pi\n",
    "    plt.plot(x,u_N, label='t='+str(t))\n",
    "\n",
    "plt.legend(loc='lower center', shadow=True)"
   ]
  },
  {
   "cell_type": "code",
   "execution_count": null,
   "id": "8bada688-0045-4e68-9551-1a86ab88fa6d",
   "metadata": {
    "tags": []
   },
   "outputs": [],
   "source": [
    "# We now plot the solution to the IBVP using N=100 terms to approximate the IC\n",
    "\n",
    "N = 100  # Specify the truncation\n",
    "ts = [0.001, 0.01, 0.1]  # Specify the times to plot the solution\n",
    "x = np.linspace(0, 1, 200)\n",
    "\n",
    "%matplotlib widget\n",
    "plt.figure(2)\n",
    "for t in ts:\n",
    "    u_N = 0*x\n",
    "    for k in range(1,N+1):\n",
    "        u_N += 1./(2*k-1)*np.sin((2*k-1)*np.pi*x) * \\\n",
    "                    np.exp(-((2*k-1)*np.pi)**2*t)\n",
    "    u_N *= 4/np.pi\n",
    "    plt.plot(x,u_N, label='t='+str(t))\n",
    "\n",
    "plt.legend(loc='lower center', shadow=True)"
   ]
  },
  {
   "cell_type": "code",
   "execution_count": null,
   "id": "ebce2da0-c19c-4d73-b8b9-319567d9b6f9",
   "metadata": {
    "tags": []
   },
   "outputs": [],
   "source": [
    "# We now plot the difference in solutions to the IBVP using N=50 and 100 terms to approximate the IC\n",
    "\n",
    "Ns = [50, 100]  # Specify the truncations\n",
    "ts = [0.00001, 0.001]  # Specify the times to plot the differences in solutions\n",
    "x = np.linspace(0, 1, 200)\n",
    "\n",
    "%matplotlib widget\n",
    "plt.figure(2)\n",
    "for t in ts:\n",
    "    u_Ns0 = 0*x\n",
    "    for k in range(1,Ns[0]):\n",
    "        u_Ns0 += 1./(2*k-1)*np.sin((2*k-1)*np.pi*x) * \\\n",
    "                    np.exp(-((2*k-1)*np.pi)**2*t)\n",
    "    u_Ns0 *= 4/np.pi\n",
    "    \n",
    "    u_Ns1 = 0*x\n",
    "    for k in range(1,Ns[1]):\n",
    "        u_Ns1 += 1./(2*k-1)*np.sin((2*k-1)*np.pi*x) * \\\n",
    "                    np.exp(-((2*k-1)*np.pi)**2*t)\n",
    "    u_Ns1 *= 4/np.pi\n",
    "    \n",
    "    plt.plot(x, u_Ns0-u_Ns1, label='t='+str(t))\n",
    "\n",
    "plt.legend(loc='lower center', shadow=True)"
   ]
  },
  {
   "cell_type": "markdown",
   "id": "385122b6-3afe-4c22-911c-298d5c27631a",
   "metadata": {},
   "source": [
    "---\n",
    "#### Student Activity\n",
    "---\n",
    "\n",
    "Show that if $f(x)=x$ and $\\ell=1$, then\n",
    "\n",
    "$$\n",
    "    c_k = \\frac{2}{k\\pi}(-1)^{k+1}. \n",
    "$$\n",
    "\n",
    "Plot some partial Fourier sums for this function as well as an approximation to the solution of the IBVP at $t=0.001, 0.01$, and $0.1$ by truncating the series at $N=10, 50$ and $100$."
   ]
  },
  {
   "cell_type": "markdown",
   "id": "1ffa855b-2b42-4f52-aa42-9f05a5d70f35",
   "metadata": {},
   "source": [
    "**Activity Solution - Unhide the cells below to see the solution (students should attempt this on their own before referring to the solutions to check their work)**"
   ]
  },
  {
   "cell_type": "markdown",
   "id": "b1495b86-e443-432b-937e-0bf5b7e055bb",
   "metadata": {
    "jupyter": {
     "source_hidden": true
    },
    "tags": []
   },
   "source": [
    "Since $f(x)=x$ and $\\ell=1$, for any $k\\in\\mathbb{N}$, \n",
    "\n",
    "$$\n",
    "\\begin{align}\n",
    "    c_k &= 2\\underbrace{\\int_0^1 x\\sin(k\\pi x)\\, dx}_{\\text{integrate by parts}} \\\\ \\\\\n",
    "        &= \\frac{2}{k\\pi}\\left\\{ \\underbrace{\\big[-x\\cos(k\\pi x)\\big]_0^1}_{=-\\cos(k\\pi)=(-1)^{k+1}} + \\underbrace{\\int_0^1 \\cos(k\\pi x)\\, dx}_{=0 \\text{ b/c } \\sin(k\\pi)=\\sin(0)=0}  \\right\\} \\\\ \\\\\n",
    "        &= \\frac{2}{k\\pi} (-1)^{k+1}\n",
    "\\end{align}\n",
    "$$"
   ]
  },
  {
   "cell_type": "code",
   "execution_count": null,
   "id": "9b6cf23b-2515-4607-aa94-c868f9ceed41",
   "metadata": {
    "jupyter": {
     "source_hidden": true
    },
    "tags": []
   },
   "outputs": [],
   "source": [
    "# We now plot some partial Fourier sums for this function\n",
    "\n",
    "Ns = np.array([10, 50, 100]) \n",
    "\n",
    "# The use of 2*Ns.max() below ensures that we resolve oscillations\n",
    "# that are ALWAYS present as N increases. \n",
    "# Try x=np.linspace(0, 1, 100) instead and observe how the converges\n",
    "# appears pointwise, but this is just a resolution error.\n",
    "x = np.linspace(0, 1, 2*Ns.max())  \n",
    "\n",
    "%matplotlib widget\n",
    "plt.figure(1)\n",
    "for N in Ns:\n",
    "    S_N = 0*x\n",
    "    for k in range(1,N+1):\n",
    "        S_N += 2/k * (-1)**(k+1) * np.sin(k*np.pi*x)\n",
    "    S_N *= 1/np.pi\n",
    "    plt.plot(x,S_N, label='N='+str(N))\n",
    "\n",
    "plt.legend(loc='lower center', shadow=True)"
   ]
  },
  {
   "cell_type": "markdown",
   "id": "1adcbc10-c42c-4f98-b9cf-05d867ed4f24",
   "metadata": {
    "jupyter": {
     "source_hidden": true
    },
    "tags": []
   },
   "source": [
    "Students should create code cells to plot the various approximations to the solution at the specified times using different truncation values"
   ]
  },
  {
   "cell_type": "code",
   "execution_count": null,
   "id": "19a133a8-1d86-43ef-9de9-b5f71409bbaf",
   "metadata": {},
   "outputs": [],
   "source": []
  },
  {
   "cell_type": "code",
   "execution_count": null,
   "id": "f3d16dda-c01e-4216-8d4f-2337875444b9",
   "metadata": {},
   "outputs": [],
   "source": []
  },
  {
   "cell_type": "markdown",
   "id": "5cf687bd-d421-48f9-bb0e-8ec8fb9a913a",
   "metadata": {
    "jp-MarkdownHeadingCollapsed": true,
    "tags": []
   },
   "source": [
    "---\n",
    "### Section 3.2.6: Other Boundary Conditions\n",
    "---\n",
    "\n",
    "Here, we rewrite the IBVP as\n",
    "\n",
    "$$\n",
    "\\left\\{\\begin{array}{rl}\n",
    "    u_t = c u_{xx}, & 0<x<\\ell, t>0, \\\\\n",
    "    BCs = BVs, & t>0, \\\\\n",
    "    u(x,0) = f(x), & 0<x<\\ell.\n",
    "\\end{array}\\right.\n",
    "$$\n",
    "\n",
    "Above, BCs represent the Boundary Conditions and BVs represent the Boundary Values applied at $x=0$ and $x=\\ell$.\n",
    "\n",
    "There are four main types of BCs and two-subtypes of BVs for three of the BC types.\n",
    "\n",
    "- **Dirichlet.** \n",
    "\n",
    "  Specifies the values at the boundary. Models a way of controlling the value. For the heat equation, these are fairly unrealistic models of reality.\n",
    "\n",
    "    - Homogeneous Dirichlet: $u(0,t)=0$ and $u(\\ell,t)=0$.\n",
    "    <br><br>\n",
    "    \n",
    "    - Inhomogeneous Dirichlet: $u(0,t)=a(t)$ and $u(\\ell,t)=b(t)$.\n",
    "\n",
    "\n",
    "- **Neumann.** \n",
    "\n",
    "  Specifies the flux at the boundary. Models some measure of insulation/control of heat flux of the boundary. A more realistic model of reality than Dirichlet. \n",
    "\n",
    "    - Homogeneous Neumann: $u_x(0,t)=0$ and $u_x(\\ell,t)=0$.\n",
    "    <br><br>\n",
    "    \n",
    "    - Inhomogeneous Neumann: $u_x(0,t)=a(t)$, and $u_x(\\ell,t)=b(t)$.\n",
    "\n",
    "\n",
    "- **Robin (pronounced \"Row-ban\").** \n",
    "\n",
    "  A weighted combination of Neumann and Dirichlet that is perhaps a more realistic model than either by themselves.\n",
    "\n",
    "    - Homogeneous Robin: $au_x(0,t) + bu(0,t)=0$ and $au_x(\\ell, t) + bu_x(\\ell,t)=0$ (here $a$ and $b$ are numbers defining the linear combination of the Dirichlet and Neumann conditions).\n",
    "    <br><br>\n",
    "    \n",
    "    - Inhomogeneous Neumann: $au_x(0,t) + bu(0,t)=\\alpha(t)$ and $au_x(\\ell, t) + bu_x(\\ell,t)=\\beta(t)$.\n",
    "\n",
    "\n",
    "- **Periodic.** \n",
    "\n",
    "  Models situations where behavior is repeated and we have identified a length scale, $\\ell$, containing some integer multiple of periods of the behavior.\n",
    "\n",
    "    - There is only one representation of this: $u(0,t)=u(\\ell,t)$ and $u_x(0,t)=u_x(\\ell,t)$."
   ]
  },
  {
   "cell_type": "markdown",
   "id": "2e585ae0-97c9-40fe-941d-1ebe1713f4bb",
   "metadata": {},
   "source": [
    "---\n",
    "### Section 3.2.7: The Homogeneous Neumann Case and Cosine Functions\n",
    "---\n",
    "\n",
    "Following the same steps as above for separation of variables yields:\n",
    "\n",
    "$$\n",
    "\\begin{align}\n",
    "    X_k''(x) + \\lambda_k X_k(x) &= 0, \\\\ \\\\\n",
    "    T_k'(t) +c\\lambda_k T_k(t)  &= 0.\n",
    "\\end{align}\n",
    "$$\n",
    "\n",
    "The difference is in the boundary conditions for the $X_k$ functions which are now $X_k'(0)=X_k'(\\ell)=0$.\n",
    "\n",
    "As we again expect from [Section 2.5](https://github.com/CU-Denver-MathStats-OER/Intro-PDEs-Theory-and-Computations/blob/main/Chp2/Chp2Sec5.ipynb), the eigenvalues are of the form $\\lambda_k=\\beta_k^2$ for some nonnegative $\\beta_k$ and eigenfunctions are of the form\n",
    "\n",
    "$$\n",
    "    X_k = c_1\\cos(\\beta_k x) + c_2\\sin(\\beta_k x).\n",
    "$$\n",
    "\n",
    "However, unlike the results above, the boundary conditions now give that $c_2=0$, we choose $c_1=1$ and $\\beta_k=k\\pi/\\ell$ where $k=\\mathbb{N}\\cup\\{0\\}$ (i.e., $0$ is now an allowable eigenvalue). \n",
    "\n",
    "<br><br>\n",
    "\n",
    "---\n",
    "#### Lemma 3.2.1: Eigenvalues and Eigenfunctions for the Homogeneous Neumann Case\n",
    "\n",
    "For the ODE $ X_k''(x) + \\lambda_k X_k(x)=0$ with homogeneous Neumann boundary conditions, the eigenvalues are $\\lambda_k=(k\\pi/\\ell)^2$ and the eigenfunctions are $X_k(x) = \\cos(k\\pi x/\\ell)$ for $k=\\mathbb{N}\\cup\\{0\\}$.  \n",
    "\n",
    "---\n",
    "\n",
    "<br><br>\n",
    "\n",
    "Just as we saw in Section 2.5 for the inner products of sine functions, we have the following result for inner products of cosine functions.\n",
    "\n",
    "<br><br>\n",
    "\n",
    "---\n",
    "#### Lemma 3.2.2: Inner products of Eigenfunctions for the Homogeneous Neumann Case\n",
    "\n",
    "$$\n",
    "    \\langle \\cos(k\\pi x/\\ell), \\cos(m\\pi x/\\ell) \\rangle = \\begin{cases} \n",
    "                                                               0, & k\\neq m, \\\\\n",
    "                                                               \\ell/2, & k=m>0, \\\\\n",
    "                                                               \\ell, & k=m=0.\n",
    "                                                           \\end{cases}\n",
    "$$\n",
    "\n",
    "---\n",
    "\n",
    "<br><br>"
   ]
  },
  {
   "cell_type": "markdown",
   "id": "318fcd6e-c10d-458b-ad57-1cea167f850b",
   "metadata": {},
   "source": [
    "Now that we see that $X_k$ has the form above for a given $\\lambda_k=(k\\pi/\\ell)^2$, we also have that\n",
    "\n",
    "$$\n",
    "    T_k(t) = T_k(0)\\exp\\left(-c\\frac{(k\\pi)^2}{\\ell^2} t\\right)\n",
    "$$\n",
    "\n",
    "with the only difference from before being that this is for $k\\in\\mathbb{N}\\cup\\{0\\}$ instead of just $k\\in\\mathbb{N}$ as in the Dirichlet case shown at the top of this notebook.\n",
    "\n",
    "Thus, functions of the form\n",
    "\n",
    "$$\n",
    "    u_k(x,t) = \\exp\\left(-c\\frac{(k\\pi)^2}{\\ell^2} t\\right) \\cos\\left(\\frac{k\\pi x}{\\ell}\\right)\n",
    "$$\n",
    "\n",
    "satisfies the differential equation and (now homogeneous Neumann) BCs."
   ]
  },
  {
   "cell_type": "markdown",
   "id": "b75cc692-0437-4017-866b-712d47d5cc1a",
   "metadata": {},
   "source": [
    "---\n",
    "### Section 3.2.8: Solving the Homogeneous Neumann Heat Equation\n",
    "---\n",
    "\n",
    "For a given IC, we write its Fourier cosine expansion as\n",
    "\n",
    "$$\n",
    "    f(x) = \\frac{c_0}{2} + \\sum_{k=1}^\\infty c_k \\cos\\left(\\frac{k\\pi x}{\\ell}\\right),\n",
    "$$\n",
    "\n",
    "and the corresponding solution to the IBVP as\n",
    "\n",
    "$$\n",
    "    u(x,t) = \\frac{c_0}{2}+ \\sum_{k=1}^\\infty c_k u_k(x,t).\n",
    "$$\n",
    "\n",
    "The game is now to determine $c_k$ for $k=0,1,2,\\ldots$ for a given $f$, and it should come as almost no surprise that these are now given by\n",
    "\n",
    "$$\n",
    "    c_k := \\frac{2}{\\ell}\\left\\langle f(x), \\cos\\left(\\frac{k\\pi x}{\\ell}\\right)\\right\\rangle = \\frac{2}{\\ell}\\int_0^\\ell f(x) \\cos\\left(\\frac{k\\pi x}{\\ell}\\right)\\, dx.\n",
    "$$"
   ]
  },
  {
   "cell_type": "markdown",
   "id": "788dc5ea-06be-4f24-b2e9-ceb893cbbffe",
   "metadata": {},
   "source": [
    "---\n",
    "#### Student Activity\n",
    "---\n",
    "\n",
    "- Determine the Fourier cosine expansions of $f(x)=1$ and $f(x)=x$ on $[0,\\ell]$. Compare to the Fourier sine expansions of these functions previously determined in this notebook.\n",
    "\n",
    "- Plot several partial sum approximations to these Fourier cosine expansions for various choices of $N$.\n",
    "\n",
    "- Determine the formal solutions to the homogeneous Neumann heat equation with IC given by $f(x)=1$ and $f(x)=x$.\n",
    "\n",
    "- Plot several of the partial sum approximations to these formal solutions for various $0<t<1$ and plot the energy of these approximations for $0\\leq t\\leq 1$. Comment on these plots."
   ]
  },
  {
   "cell_type": "code",
   "execution_count": null,
   "id": "50d19cb8-3ed3-4ef7-97ed-39b6759f0c83",
   "metadata": {},
   "outputs": [],
   "source": []
  },
  {
   "cell_type": "code",
   "execution_count": null,
   "id": "609e05b7-1c9d-4030-a780-d697cf1fd618",
   "metadata": {},
   "outputs": [],
   "source": []
  },
  {
   "cell_type": "code",
   "execution_count": null,
   "id": "cefec432-384f-4602-b09d-142a9ee9b0aa",
   "metadata": {},
   "outputs": [],
   "source": []
  },
  {
   "cell_type": "markdown",
   "id": "823bfde4-12f8-4b5e-9b76-c376dffebbc3",
   "metadata": {},
   "source": [
    "---\n",
    "## Navigation\n",
    "\n",
    "- [Previous](https://github.com/CU-Denver-MathStats-OER/Intro-PDEs-Theory-and-Computations/blob/main/Chp3/Chp3Sec1.ipynb)\n",
    "\n",
    "- [Next](https://github.com/CU-Denver-MathStats-OER/Intro-PDEs-Theory-and-Computations/blob/main/Chp3/Chp3Sec3.ipynb)\n",
    "\n",
    "---"
   ]
  }
 ],
 "metadata": {
  "kernelspec": {
   "display_name": "Python 3",
   "language": "python",
   "name": "python3"
  },
  "language_info": {
   "codemirror_mode": {
    "name": "ipython",
    "version": 3
   },
   "file_extension": ".py",
   "mimetype": "text/x-python",
   "name": "python",
   "nbconvert_exporter": "python",
   "pygments_lexer": "ipython3",
   "version": "3.8.8"
  }
 },
 "nbformat": 4,
 "nbformat_minor": 5
}

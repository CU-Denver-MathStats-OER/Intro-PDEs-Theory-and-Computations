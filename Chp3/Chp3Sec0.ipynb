{
 "cells": [
  {
   "cell_type": "markdown",
   "id": "1cd8c95f-51f1-4cfd-8506-8964ffb76637",
   "metadata": {},
   "source": [
    "# Introduction to Partial Differential Equations\n",
    "---"
   ]
  },
  {
   "cell_type": "markdown",
   "id": "3d9b1e14-fd44-4a22-ba36-f3870112e13c",
   "metadata": {
    "tags": []
   },
   "source": [
    "## Chapter 3: Parabolic PDEs, the Heat Equation, and a Deep Dive into Fourier Series \n",
    "---"
   ]
  },
  {
   "cell_type": "markdown",
   "id": "70f1ecf6-56fb-414c-b741-e2cac68f173d",
   "metadata": {},
   "source": [
    "## Want to use Colab? [![Open in Colab](https://colab.research.google.com/assets/colab-badge.svg)](https://githubtocolab.com/CU-Denver-MathStats-OER/Intro-PDEs-Theory-and-Computations/blob/main/Chp3/Chp3Sec0.ipynb)\n",
    "\n",
    "---"
   ]
  },
  {
   "cell_type": "markdown",
   "id": "3226e16d-dc32-481b-81c8-cb7e7190cd88",
   "metadata": {
    "jp-MarkdownHeadingCollapsed": true,
    "tags": []
   },
   "source": [
    "## Creative Commons License Information\n",
    "<a rel=\"license\" href=\"http://creativecommons.org/licenses/by-nc/4.0/\"><img alt=\"Creative Commons License\" style=\"border-width:0\" src=\"https://i.creativecommons.org/l/by-nc/4.0/80x15.png\" /></a><br /><span xmlns:dct=\"http://purl.org/dc/terms/\" property=\"dct:title\">Introduction to Partial Differential Equations: Theory and Computations</span> by <a xmlns:cc=\"http://creativecommons.org/ns#\" href=\"https://github.com/CU-Denver-MathStats-OER/Intro-PDEs-Theory-and-Computations\" property=\"cc:attributionName\" rel=\"cc:attributionURL\">Troy Butler</a> is licensed under a <a rel=\"license\" href=\"http://creativecommons.org/licenses/by-nc/4.0/\">Creative Commons Attribution-NonCommercial 4.0 International License</a>.<br />Based on a work at <a xmlns:dct=\"http://purl.org/dc/terms/\" href=\"https://github.com/CU-Denver-MathStats-OER/Intro-PDEs-Theory-and-Computations\" rel=\"dct:source\">https://github.com/CU-Denver-MathStats-OER/Intro-PDEs-Theory-and-Computations</a>."
   ]
  },
  {
   "cell_type": "markdown",
   "id": "afa7979d-e5a2-4939-99c5-e1885c53197f",
   "metadata": {
    "tags": []
   },
   "source": [
    "---\n",
    "## Section 3.0: Overview/Table of Contents for Chapter\n",
    "---\n",
    "\n",
    "A [parabolic PDE](https://en.wikipedia.org/wiki/Parabolic_partial_differential_equation) is a type of PDE used to describe spatial-temporal varying phenomena. Perhaps the simplest example of a parabolic PDE is the \"1-D heat equation\" given by\n",
    "\n",
    "$$\n",
    "    \\begin{cases} \n",
    "        u_t = c u_{xx}, & t>0, \\\\ \n",
    "        u(x,0) = f(x), & x\\in\\Omega\\subseteq\\mathbb{R}\n",
    "    \\end{cases}\n",
    "$$\n",
    "\n",
    "modeling the evolution of a temperature, given by $u(x,t)$, at points $x\\in\\Omega$ associated with a \"thin rod\" (so $\\Omega$ denotes the domain of the rod). We are ignoring BCs for now because we will consider two cases in this chapter: (i) \"short\" rods of length $\\ell\\in(0,\\infty)$ where the impact of the BCs \"matter\" at most points within the rod, and (ii) \"long\" rods of length $\\ell=\\infty$ defining a type of \"Cauchy IVP\" where the BCs can \"safely be ignored\" at most points within the rod. The value $c>0$ is a thermal diffusivity constant used to denote a material property of the rod related to how well it \"conducts heat.\" \n",
    "\n",
    "Note that we could consider a rod composed of different materials welded together or with more complex material properties necessitating us to write $u_t=c(x) u_{xx}$ to denote the spatial dependence of the thermal diffusivity parameter. This, of course, complicates our initial studies, so we ignore it for now. This can be made even more complex if the material properties change over the space and time (e.g., due to degradation over time) *and* also change due to temperature (which is actually expected if the temperature varies significantly) resulting in $u_t = c(x,t,u)u_{xx}$ defining a nonlinear heat equation. We will *not* study this here as this is a topic better left for a more advanced course on PDEs.\n",
    "\n",
    "In two or more spatial dimensions (i.e., $\\Omega\\subseteq\\mathbb{R}^n$ for $n\\geq 2$), the PDE for the heat equation is often written either as $u_t = c\\Delta u$ for a constant $c>0$ or $u_t = \\nabla \\cdot (A\\nabla u)$ where $A\\in\\mathbb{R}^{n\\times n}$ denotes a diffusivity tensor (as a symmetric positive definite matrix) if the diffusion is [anisotropic](https://en.wikipedia.org/wiki/Isotropy) meaning that it is not the same in all directions.\n",
    "\n",
    "At any rate, the 1-D heat equation is very much an extension of the 2-pt BVP studied in Chapter 2 when $\\Omega=(0,\\ell)$ for some $\\ell\\in(0,\\infty)$. In fact, the solution methodology we pursue for this case in [Section 3.2](https://github.com/CU-Denver-MathStats-OER/Intro-PDEs-Theory-and-Computations/blob/main/Chp3/Chp3Sec2.ipynb) shares many features with the formal Fourier series approach taken in [Section 2.6](https://github.com/CU-Denver-MathStats-OER/Intro-PDEs-Theory-and-Computations/blob/main/Chp2/Chp2Sec6.ipynb) that generalized the 2-pt BVP to Poisson's equation in 2-D. For that reason, we devote a significant amount of time to analyzing Fourier series in [Section 3.3](https://github.com/CU-Denver-MathStats-OER/Intro-PDEs-Theory-and-Computations/blob/main/Chp3/Chp3Sec3.ipynb). However, to first build intuition about the heat equation and its solution, we begin in [Section 3.1](https://github.com/CU-Denver-MathStats-OER/Intro-PDEs-Theory-and-Computations/blob/main/Chp3/Chp3Sec1.ipynb) with a discussion of the heat equation on the \"real line\" which defines our first Cauchy problem."
   ]
  },
  {
   "cell_type": "markdown",
   "id": "aca35b98-71a0-4173-b57e-7f671f5f6337",
   "metadata": {},
   "source": [
    "### Chapter Contents\n",
    "---\n",
    "\n",
    "- [Section 3.1: The Heat Equation on the Real Line](https://github.com/CU-Denver-MathStats-OER/Intro-PDEs-Theory-and-Computations/blob/main/Chp3/Chp3Sec1.ipynb)\n",
    "\n",
    "- [Section 3.2: The Heat Equation on a Bounded Interval and Formal Solutions](https://github.com/CU-Denver-MathStats-OER/Intro-PDEs-Theory-and-Computations/blob/main/Chp3/Chp3Sec2.ipynb)\n",
    "\n",
    "- [Section 3.3: Fourier Series (A Rite of Passage)](https://github.com/CU-Denver-MathStats-OER/Intro-PDEs-Theory-and-Computations/blob/main/Chp3/Chp3Sec3.ipynb)\n",
    "\n",
    "- [Section 3.4: Finite Difference Approximations](https://github.com/CU-Denver-MathStats-OER/Intro-PDEs-Theory-and-Computations/blob/main/Chp3/Chp3Sec4.ipynb)\n",
    "\n",
    "- [Section 3.5: Exercises](https://github.com/CU-Denver-MathStats-OER/Intro-PDEs-Theory-and-Computations/blob/main/Chp3/Chp3Sec5.ipynb)"
   ]
  },
  {
   "cell_type": "markdown",
   "id": "0f4ae460-624d-4399-ac7f-7f76a6f0c348",
   "metadata": {},
   "source": [
    "**About this material:**\n",
    "\n",
    "The purpose of these notebooks is multifaceted.\n",
    "\n",
    "- First, these notebooks provide a narrative of each chapter that guides students through their initial studies of partial differential equations.\n",
    "\n",
    "- Second, it is often very easy when reading mathematical texts to get lost in the details. These notebooks are intended to keep you centered on the take home messages and the big picture while you work through the details.\n",
    "\n",
    "- Third, these notebooks will help guide our in-class discussions. We use these to provide structure and guidance on which ideas, techniques, and problems we will explore in more detail in a class.\n",
    "\n",
    "- Fourth, these notebooks are also intended to help solidify the connections between chapters, ideas, techniques, and problems that may be easily overlooked.\n",
    "\n",
    "- Fifth, and finally, these notebooks are intended to bridge the divide between the theoretical concepts and the practical implementation/numerical approximations by interweaving live code within the narrative text. \n",
    "\n",
    "I make no claim of originality in these notes. The field of partial differential equations is vast and there are many texts and other resources on the subject matter. These simply represent my attempt at presenting a coherent narrative that students find useful, informative, and, perhaps above all else, practical."
   ]
  },
  {
   "cell_type": "markdown",
   "id": "3a3ae35f-f72b-40ae-89bc-ee9a16a2f792",
   "metadata": {
    "jp-MarkdownHeadingCollapsed": true,
    "tags": []
   },
   "source": [
    "---\n",
    "## Navigation:\n",
    "\n",
    "- [Next](https://github.com/CU-Denver-MathStats-OER/Intro-PDEs-Theory-and-Computations/blob/main/Chp3/Chp3Sec1.ipynb)\n",
    "---"
   ]
  }
 ],
 "metadata": {
  "kernelspec": {
   "display_name": "Python 3",
   "language": "python",
   "name": "python3"
  },
  "language_info": {
   "codemirror_mode": {
    "name": "ipython",
    "version": 3
   },
   "file_extension": ".py",
   "mimetype": "text/x-python",
   "name": "python",
   "nbconvert_exporter": "python",
   "pygments_lexer": "ipython3",
   "version": "3.8.8"
  }
 },
 "nbformat": 4,
 "nbformat_minor": 5
}

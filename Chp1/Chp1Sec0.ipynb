{
 "cells": [
  {
   "cell_type": "markdown",
   "id": "6f47ee0a-d674-4ce2-a30a-96330d5b4b40",
   "metadata": {},
   "source": [
    "# Introduction to Partial Differential Equations\n",
    "---\n",
    "\n",
    "## Chapter 1: Preliminaries (Calculus, Linear Algebra, ODEs, and Python)\n",
    "---"
   ]
  },
  {
   "cell_type": "markdown",
   "id": "2f668f0e-2770-48d6-8a6b-ec5bb70bcc3d",
   "metadata": {},
   "source": [
    "## Section 1.0: Overview/Table of Contents for Chapter\n",
    "---\n",
    "\n",
    "This chapter has a few basic goals:\n",
    "\n",
    "- To review some notation, terminology and prerequisite knowledge useful for the study of partial differential equations (PDEs).\n",
    "\n",
    "- To introduce various Python packages, tools, and techniques for investigating solutions (numerical or closed-form) on a computer.\n",
    "\n",
    "- To introduce concepts such as stability and numerical discretization on simple problems that set the stage for more complicated problems we see later in the course.\n",
    "\n",
    "This chapter not only *sets the stage* for the rest of the course it also *buys students time* in getting up to speed on prerequisite material and Python programming required to do well in this course."
   ]
  },
  {
   "cell_type": "markdown",
   "id": "0164f207-fc04-473d-9e42-68b5a91ab79d",
   "metadata": {},
   "source": [
    "### Chapter contents \n",
    "---\n",
    "\n",
    "- [Section 1.1: Calculus, Symbolic Computations, and Manufactured Solutions](Chp1Sec1.ipynb)\n",
    "\n",
    "- [Section 1.2: Approximations and Rates of Convergence](Chp1Sec2.ipynb)\n",
    "\n",
    "- [Section 1.3: Numerical Estimation of an ODE](Chp1Sec3.ipynb)\n",
    "\n",
    "- [Section 1.4: Stability of a Differential Equation](Chp1Sec4.ipynb)\n",
    "\n",
    "- [Section 1.5: Linear Algebra](Chp1Sec5.ipynb)\n",
    "\n",
    "- [Section 1.6: Exercises](Chp1Sec6.ipynb)\n",
    "\n",
    "---"
   ]
  },
  {
   "cell_type": "markdown",
   "id": "a38497ec-9e30-468a-b82d-1c6230f8e10e",
   "metadata": {},
   "source": [
    "**About this material:**\n",
    "\n",
    "The purpose of these notebooks is multifaceted.\n",
    "\n",
    "- First, these notebooks provide a narrative of each chapter that guides students through their initial studies of partial differential equations.\n",
    "\n",
    "- Second, it is often very easy when reading mathematical texts to get lost in the details. These notebooks are intended to keep you centered on the take home messages and the big picture while you work through the details.\n",
    "\n",
    "- Third, these notebooks will help guide our in-class discussions. We use these to provide structure and guidance on which ideas, techniques, and problems we will explore in more detail in a class.\n",
    "\n",
    "- Fourth, these notebooks are also intended to help solidify the connections between chapters, ideas, techniques, and problems that may be easily overlooked.\n",
    "\n",
    "- Fifth, and finally, these notebooks are intended to bridge the divide between the theoretical concepts and the practical implementation/numerical approximations by interweaving live code within the narrative text. \n",
    "\n",
    "I make no claim of originality in these notes. The field of partial differential equations is vast and there are many texts and other resources on the subject matter. These simply represent my attempt at presenting a coherent narrative that students find useful, informative, and, perhaps above all else, practical."
   ]
  },
  {
   "cell_type": "markdown",
   "id": "658618fe-09b3-43a0-81ab-24220b9f6ef7",
   "metadata": {},
   "source": [
    "## Creative Commons License Information\n",
    "<a rel=\"license\" href=\"http://creativecommons.org/licenses/by-nc/4.0/\"><img alt=\"Creative Commons License\" style=\"border-width:0\" src=\"https://i.creativecommons.org/l/by-nc/4.0/80x15.png\" /></a><br /><span xmlns:dct=\"http://purl.org/dc/terms/\" property=\"dct:title\">Introduction to Partial Differential Equations: Theory and Computations</span> by <a xmlns:cc=\"http://creativecommons.org/ns#\" href=\"https://github.com/CU-Denver-MathStats-OER/Intro-PDEs-Theory-and-Computations\" property=\"cc:attributionName\" rel=\"cc:attributionURL\">Troy Butler</a> is licensed under a <a rel=\"license\" href=\"http://creativecommons.org/licenses/by-nc/4.0/\">Creative Commons Attribution-NonCommercial 4.0 International License</a>.<br />Based on a work at <a xmlns:dct=\"http://purl.org/dc/terms/\" href=\"https://github.com/CU-Denver-MathStats-OER/Intro-PDEs-Theory-and-Computations\" rel=\"dct:source\">https://github.com/CU-Denver-MathStats-OER/Intro-PDEs-Theory-and-Computations</a>."
   ]
  }
 ],
 "metadata": {
  "kernelspec": {
   "display_name": "Python 3",
   "language": "python",
   "name": "python3"
  },
  "language_info": {
   "codemirror_mode": {
    "name": "ipython",
    "version": 3
   },
   "file_extension": ".py",
   "mimetype": "text/x-python",
   "name": "python",
   "nbconvert_exporter": "python",
   "pygments_lexer": "ipython3",
   "version": "3.8.8"
  }
 },
 "nbformat": 4,
 "nbformat_minor": 5
}

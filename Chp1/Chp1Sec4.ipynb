{
 "cells": [
  {
   "cell_type": "markdown",
   "id": "074302e6-a198-42e9-917c-4f09e24ea5fe",
   "metadata": {},
   "source": [
    "# Introduction to Partial Differential Equations\n",
    "---\n",
    "\n",
    "## Chapter 1: Preliminaries (Calculus, Linear Algebra, ODEs, and Python)\n",
    "---"
   ]
  },
  {
   "cell_type": "markdown",
   "id": "294dc230-7b6b-4110-91bc-2ce686d43715",
   "metadata": {},
   "source": [
    "## Want to use Colab? [![Open in Colab](https://colab.research.google.com/assets/colab-badge.svg)](https://githubtocolab.com/CU-Denver-MathStats-OER/Intro-PDEs-Theory-and-Computations/blob/main/Chp1/Chp1Sec4.ipynb)\n",
    "\n",
    "---"
   ]
  },
  {
   "cell_type": "markdown",
   "id": "0b92e1e9-58de-4cd3-bd9d-d1e114776563",
   "metadata": {},
   "source": [
    "## Prepping the environment for interactive plots in Colab\n",
    "---"
   ]
  },
  {
   "cell_type": "code",
   "execution_count": null,
   "id": "d99e4db5-d3b7-46e3-ab7e-d76157350b36",
   "metadata": {},
   "outputs": [],
   "source": [
    "if 'google.colab' in str(get_ipython()):\n",
    "    print('Running on CoLab - installing missing packages')\n",
    "    !pip install ipympl\n",
    "    from IPython.display import clear_output\n",
    "    clear_output()\n",
    "    exit()\n",
    "else:\n",
    "    print('Not running on CoLab - assuming environment has necessary packages')"
   ]
  },
  {
   "cell_type": "code",
   "execution_count": null,
   "id": "8f76926d-a60b-4c72-bc4d-a2a713ad0ad8",
   "metadata": {},
   "outputs": [],
   "source": [
    "%matplotlib widget\n",
    "if 'google.colab' in str(get_ipython()):\n",
    "    from google.colab import output\n",
    "    output.enable_custom_widget_manager()"
   ]
  },
  {
   "cell_type": "markdown",
   "id": "ad7a4e42-6b75-49b9-be20-1007f663a92c",
   "metadata": {},
   "source": [
    "## Creative Commons License Information\n",
    "---\n",
    "\n",
    "<a rel=\"license\" href=\"http://creativecommons.org/licenses/by-nc/4.0/\"><img alt=\"Creative Commons License\" style=\"border-width:0\" src=\"https://i.creativecommons.org/l/by-nc/4.0/80x15.png\" /></a><br /><span xmlns:dct=\"http://purl.org/dc/terms/\" property=\"dct:title\">Introduction to Partial Differential Equations: Theory and Computations</span> by <a xmlns:cc=\"http://creativecommons.org/ns#\" href=\"https://github.com/CU-Denver-MathStats-OER/Intro-PDEs-Theory-and-Computations\" property=\"cc:attributionName\" rel=\"cc:attributionURL\">Troy Butler</a> is licensed under a <a rel=\"license\" href=\"http://creativecommons.org/licenses/by-nc/4.0/\">Creative Commons Attribution-NonCommercial 4.0 International License</a>.<br />Based on a work at <a xmlns:dct=\"http://purl.org/dc/terms/\" href=\"https://github.com/CU-Denver-MathStats-OER/Intro-PDEs-Theory-and-Computations\" rel=\"dct:source\">https://github.com/CU-Denver-MathStats-OER/Intro-PDEs-Theory-and-Computations</a>."
   ]
  },
  {
   "cell_type": "markdown",
   "id": "5859dc4f-8d40-4d86-a5d0-2d806db10c93",
   "metadata": {},
   "source": [
    "## Section 1.4: Stability of a Differential Equation\n",
    "---\n",
    "\n",
    "The issue of stability of a solution is very important and is the focus of this notebook in the context of [differential equations](https://en.wikipedia.org/wiki/Stability_theory).\n",
    "This is conceptually related to the concept of stability of a numerical method, which is something we will study in more detail later in the semester.\n",
    "\n",
    "We can pose many questions regarding stability, but conceptually it almost always boils down to the following type of question\n",
    "> If quantity $X$ in the differential equation/data is perturbed by a small amount $\\epsilon$, does the perturbation to the solution also become small if we wait long enough?\n",
    "\n",
    "You may recall such questions arise when studying the [stability of equilibrium solutions/fixed points](https://en.wikipedia.org/wiki/Stability_theory#Linear_autonomous_systems) to first-order autonomous ODEs. \n",
    "Here, we briefly describe the stability of a solution with respect to perturbations of an initial condition, which is a common stability problem of interest. \n",
    "\n",
    "Another way to conceptualize stability is through the lens of continuity. This has some particular advantages in terms of how we go about proving stability. \n",
    "\n",
    "We first explore this with some plots."
   ]
  },
  {
   "cell_type": "code",
   "execution_count": null,
   "id": "b6d79a36-6672-4cf3-bf9a-df5bb221cb2a",
   "metadata": {},
   "outputs": [],
   "source": [
    "import numpy as np\n",
    "import matplotlib.pyplot as plt"
   ]
  },
  {
   "cell_type": "code",
   "execution_count": null,
   "id": "53cf7cd3-4bc3-460f-b79a-b06f38255aef",
   "metadata": {},
   "outputs": [],
   "source": [
    "# Consider solutions to $u'(t)=-u(t)$ with IC $u(0)=u_0$\n",
    "\n",
    "def simple_solution(t, u_0):\n",
    "    return u_0 * np.exp(-t)"
   ]
  },
  {
   "cell_type": "code",
   "execution_count": null,
   "id": "52722947-de87-4b10-bbcc-63afbf36d255",
   "metadata": {},
   "outputs": [],
   "source": [
    "# Define an IC\n",
    "u_0 = 1\n",
    "\n",
    "# Define a \"small\" perturbation\n",
    "delta = 0.1\n",
    "\n",
    "# Define the perturbed IC, $v_0 = u_0+\\delta $, call solution $v(t)$\n",
    "v_0 = u_0 + delta"
   ]
  },
  {
   "cell_type": "code",
   "execution_count": null,
   "id": "c1b31cbb-0f36-464d-a734-6131f5267ae4",
   "metadata": {},
   "outputs": [],
   "source": [
    "%matplotlib widget\n",
    "\n",
    "t = np.linspace(0, 2, 50)\n",
    "\n",
    "plt.figure(0)\n",
    "# Plot the solutions using the original IC and its perturbed value\n",
    "plt.plot(t, simple_solution(t, u_0), 'b', label='IC: $u_0$')\n",
    "plt.plot(t, simple_solution(t, v_0), 'r:', label='IC: $v_0$')\n",
    "plt.legend(fontsize=12)\n",
    "\n",
    "plt.figure(1)\n",
    "# Plot the absolute value of the difference in solutions to observe stability.\n",
    "# Stability here is interpreted as meaning that the difference in solutions \n",
    "# will become smaller than any particular tolerance if we just wait long enough. \n",
    "plt.plot(t, np.abs(simple_solution(t, u_0)-simple_solution(t, v_0)))\n",
    "plt.title('$|u(t)-v(t)|$')"
   ]
  },
  {
   "cell_type": "markdown",
   "id": "d0be2c5c-f57b-4167-af4f-44d296a37300",
   "metadata": {},
   "source": [
    "---\n",
    "### Section 1.4.1: Defining stability with respect to an initial condition\n",
    "---\n",
    "\n",
    "**What do we observe in the plots above?**\n",
    "\n",
    "We observe ***stability with respect to an initial conditions (IC)*** defined, conceptually, as follows for IVPs.\n",
    "\n",
    "> If small perturbations of the IC imply *eventually* small perturbations of the solution, then we have a ***stable*** IVP. Otherwise, the problem is unstable.\n",
    "\n",
    "Before we give a more rigorous mathematical definition, we write down the general form of an IVP considered here as\n",
    "\n",
    "$$\n",
    "    \\begin{cases}\n",
    "        u'(t) &= f(t, u(t)), \\ t>t_0 \\\\\n",
    "        u(t_0) &= u_0,\n",
    "    \\end{cases}\n",
    "$$\n",
    "\n",
    "A more rigorous mathematical definition of stability with respect to an IC is: \n",
    "\n",
    "> For an IVP with IC $u_0$ and solution $u(t)$, we call the IVP stable with respect to perturbations in the IC if for all $T, \\epsilon>0$ there exists an $\\delta>0$ such that $|u_0-v_0|<\\delta$ implies $|u(t)-v(t)|<\\epsilon$ for all $t\\geq T$. Here, $v(t)$ denotes the solution to the IVP with IC $v_0$.\n",
    "\n",
    "The choices of $\\epsilon$ and $\\delta$ in the above definition are meant to explicitly evoke memories of definitions of continuity."
   ]
  },
  {
   "cell_type": "markdown",
   "id": "a20868fd-fc4b-43e5-9431-f765c3c65a29",
   "metadata": {},
   "source": [
    "---\n",
    "#### Interpreting this definition\n",
    "---\n",
    "\n",
    "- The $T>0$ is used to quantify what we mean by \"eventually.\"\n",
    "\n",
    "- The $\\epsilon>0$ is used to quantify what we mean by \"small perturbations of the solution.\"\n",
    "\n",
    "- The $\\delta>0$ is used to quantify what we mean by \"small perturbations of the IC.\"\n",
    "\n",
    "- The definition is pointwise in the sense that an IVP may be stable for some choices of $u_0$ but not others. This is similar to how continuity of a function is defined. Continuity is a pointwise property for a function. A function may be continuous at one point but discontinuous at other points (e.g., consider the [Heaviside function](https://en.wikipedia.org/wiki/Heaviside_step_function) that is continuous at all but one point in its domain).\n",
    "\n",
    "  - Even if an IVP is stable with respect to all ICs, this does not mean that the stability is uniform meaning that for a given choice of $T,\\epsilon>0$, the $\\delta>0$ we have to choose in a proof of stability is likely to depend upon the particular choice of $u_0$. A uniform stability would mean that a single $\\delta>0$ can work for all choices of $u_0$. \n",
    "  \n",
    "    This is very much like the difference between functions that are continuous (in a pointwise sense) compared to uniformly continuous. For example, $f:\\mathbb{R}\\to\\mathbb{R}$ defined by $f(x)=x^2$ is continuous but not uniformly continuous whereas $f(x)=x$ and $f(x)=\\sqrt{x}$ are both uniformly continuous on $\\mathbb{R}$. Of course, any continuous real-valued function restricted to a closed-bounded interval $[a,b]$ is uniformly continuous on $[a,b]$. The issues arise when asymptotic growth rates \"get out of hand\" (so to speak). Since the temporal domain of dynamical systems is often taken to be $[t_0,\\infty)$ for some initial time $t_0$, the asymptotics play a large role, which is why the rigorous mathematical definition of stability requires the solutions to stay close for all $t\\geq T$. \n",
    "\n",
    "- We will generally say that an IVP is stable with respect to perturbations in ICs if it is stable *for all* ICs. \n",
    "\n",
    "  While we may also say that an IVP is unstable with respect to perturbations in ICs if it is unstable at any particular IC, it is important to keep in mind that the IVP may actually be stable to many choices of the IC and only unstable for a relatively small number of ICs. We will explore this below.\n",
    "  \n",
    "- If we identify a set, $\\mathcal{S}\\subset\\mathbb{R}$, of ICs for which the IVP is stable for any IC in this set, then we will generally say that the IVP is stable with respect to perturbations in ICs chosen from $\\mathcal{S}$. "
   ]
  },
  {
   "cell_type": "markdown",
   "id": "a8fd473c-94f9-4b60-b3ef-3426f90f4d56",
   "metadata": {},
   "source": [
    "---\n",
    "#### Other useful remarks\n",
    "---\n",
    "\n",
    "- We can define stability with respect to parameters (i.e., perturbations to coefficients in the differential equation) or any other quantity that we may perturb in the problem definition in similar ways. It is best to start with a conceptual definition like above that makes qualitative sense for what we want to mean by stability and then make it rigorous.\n",
    "\n",
    "- Notice that we define stability for all $t\\geq T$ to ensure that solutions \"eventually\" become *and* stay \"close\" (within an $\\epsilon$ distance) to each other starting at some time $T$. The $\\delta$ we may need to choose to \"control\" the perturbations in the IC is likely to change depending on how quickly we want solutions to become close to each other (i.e., on the value of $T$). \n",
    "\n",
    "  One would expect that if $u_0$ and $\\epsilon>0$ for $T_1$ and $T_2$ with $t_0<T_1 < T_2$, then the $\\delta$ needed for $T_1$ is likely going to be smaller than then $\\delta$ needed for $T_2$. After all, $[T_2,\\infty)\\subset [T_1,\\infty)$ meaning that if $T_1<T_2$, then we are requiring the solutions to become and stay close *sooner* when considering $T_1$ compared to $T_2$. \n",
    "\n",
    "  Similarly, if we consider $0<\\epsilon_1<\\epsilon_2$ but leave $u_0$ and $T$ fixed, then we also expect to need $\\delta$ to be smaller for $\\epsilon_1$ than for $\\epsilon_2$.\n",
    "  \n",
    "  <mark>**The takeaway is that $\\delta>0$ is, in general, a function of $u_0$, $T$, and $\\epsilon>0$. It is sometimes useful to explicitly write $\\delta$ as $\\delta(u_0, T, \\epsilon)$ to make it clear all the factors that shape the choice of this critical \"control\" parameter.**</mark>\n",
    "\n",
    "\n",
    "\n",
    "Now let's look at an example of a nonlinear IVP that is unstable at some ICs. "
   ]
  },
  {
   "cell_type": "code",
   "execution_count": null,
   "id": "e150fa73-53b1-47ef-ad8b-c03c62a89fcb",
   "metadata": {},
   "outputs": [],
   "source": [
    "# Define solutions to $u'(t) = tu(t)(u(t)-2)$\n",
    "\n",
    "def nonlinear_solution(t, u_0):\n",
    "    return 2*u_0 / (u_0 + (2-u_0)*np.exp(t**2))"
   ]
  },
  {
   "cell_type": "code",
   "execution_count": null,
   "id": "ba7cd76b-53e3-41aa-81da-8872328588a3",
   "metadata": {},
   "outputs": [],
   "source": [
    "# Define ICs and perturbed ICs\n",
    "\n",
    "# The IVP has a fixed point/equilibrium at $u_0=2$ but this is an unstable IC.\n",
    "u_0 = 2\n",
    "\n",
    "delta = 0.0001\n",
    "\n",
    "v_0 = u_0 + delta \n",
    "w_0 = u_0 - delta"
   ]
  },
  {
   "cell_type": "code",
   "execution_count": null,
   "id": "46109e0e-36a9-4f65-b0ea-8962932ce188",
   "metadata": {},
   "outputs": [],
   "source": [
    "%matplotlib widget\n",
    "\n",
    "t = np.linspace(0, 3, 50)\n",
    "\n",
    "plt.figure(2)\n",
    "plt.plot(t, nonlinear_solution(t, u_0), 'b', label='IC: $u_0$')\n",
    "plt.plot(t, nonlinear_solution(t, v_0), 'r:', label='IC: $v_0$')\n",
    "plt.plot(t, nonlinear_solution(t, w_0), 'g-.', label='IC: $w_0$')\n",
    "plt.legend(fontsize=12)\n",
    "\n",
    "plt.title('Unstable at $u_0=2$')"
   ]
  },
  {
   "cell_type": "code",
   "execution_count": null,
   "id": "0992c4f6-b977-4549-9155-c3fa0fdd967a",
   "metadata": {},
   "outputs": [],
   "source": [
    "# Define ICs and perturbed ICs\n",
    "\n",
    "u_0 = 1.99  # Try 1.99 and 2.01\n",
    "\n",
    "delta = 0.001\n",
    "\n",
    "v_0 = u_0 + delta \n",
    "w_0 = u_0 - delta"
   ]
  },
  {
   "cell_type": "code",
   "execution_count": null,
   "id": "ede6fd70-1bbd-4558-a1cd-f57b219e9011",
   "metadata": {},
   "outputs": [],
   "source": [
    "%matplotlib widget\n",
    "\n",
    "t = np.linspace(0, 3, 50)  # Try different final times\n",
    "\n",
    "plt.figure(3)\n",
    "plt.plot(t, nonlinear_solution(t, u_0), 'b', label='IC: $u_0$')\n",
    "plt.plot(t, nonlinear_solution(t, v_0), 'r:', label='IC: $v_0$')\n",
    "plt.plot(t, nonlinear_solution(t, w_0), 'g-.', label='IC: $w_0$')\n",
    "plt.legend(fontsize=12)\n",
    "\n",
    "plt.title(r'Stable at $u_0\\neq 2$? Consider $u_0<2$ and $u_0>2$ separately.')"
   ]
  },
  {
   "cell_type": "markdown",
   "id": "9a71bee0-2bf7-4af3-aedf-c60ed95a9e89",
   "metadata": {},
   "source": [
    "---\n",
    "#### Writing proofs of stability of an IVP for any $u_0\\in\\mathcal{S}\\subset\\mathbb{R}$.\n",
    "---\n",
    "\n",
    "The following steps are a guide for how to write a proper proof based on the above stability definition to show stability for ICs $u_0$ chosen from some set $\\mathcal{S}\\subset\\mathbb{R}$.\n",
    "\n",
    "**Step 1:** Let $u_0\\in\\mathcal{S}$, $T>0$, and $\\epsilon>0$. \n",
    "\n",
    "**Step 2:** Explain how to choose $\\delta>0$. \n",
    "\n",
    "**Step 3:** Let $v_0\\in\\mathbb{R}$ such that $|u_0-v_0|<\\delta$.\n",
    "\n",
    "**Step 4:** Let $t\\geq T$.\n",
    "\n",
    "**Step 5:** Show the desired conclusion follows that $|u(t)-v(t)|<\\epsilon$. \n",
    "\n",
    "The concentration of effort is in determining how to choose $\\delta>0$ in Step 2 (the \"there exists\" parts of definitions always correspond to the hardest parts of a proof). The way in which we do this is through \"scratch work\" where we start with the desired conclusion (i.e., that $|u(t)-v(t)|<\\epsilon$ for all $t\\geq T$) and work to get the term $|u_0-v_0|$ isolated on one side of this inequality. What is on the other side of the inequality should correspond to what we choose for $\\delta$ in Step 2 with certain details of our scratch work showing up in Step 5.\n",
    "\n",
    "In the end, we can write Steps 1, 3, and 4 exactly as given above for *every* proof of stability with respect to ICs and only the details of Steps 2 and 5 change as we consider different IVPs."
   ]
  },
  {
   "cell_type": "markdown",
   "id": "4ff23528-458e-42a3-befe-b4e7607eaf84",
   "metadata": {},
   "source": [
    "---\n",
    "#### Example proof of stability of an IVP with respect to $u_0\\in\\mathcal{S}\\subset\\mathbb{R}$\n",
    "---\n",
    "\n",
    "Consider the IVP\n",
    "\n",
    "$$\n",
    "    \\begin{cases}\n",
    "        u'(t) &= -u(t), \\ t>0 \\\\\n",
    "        u(0) &= u_0.\n",
    "    \\end{cases}\n",
    "$$\n",
    "\n",
    "Prove this IVP is stable with respect to any IC $u_0\\in\\mathbb{R}$.\n",
    "\n",
    "***Scratch work:***\n",
    "\n",
    "Note that the solutions to this IVP are given by $u(t)=u_0e^{-t}$, so we let $v(t)=v_0e^{-t}$ denote the solution with respect to perturbed IC. Then, we get to work by supposing we \"get what we want\" which is the conclusion:\n",
    "\n",
    "$$\n",
    "    \\begin{align*}\n",
    "        |u(t)-v(t)| &= |u_0e^{-t} - v_0e^{-t}| \\\\ \\\\\n",
    "                    &= |u_0 - v_0|e^{-t}\\\\ \\\\ \n",
    "                    &\\leq |u_0 - v_0|e^{-T}  \\ \\text{ (because $t\\geq T$ implies $e^{-t}\\leq e^{-T}$)}\n",
    "    \\end{align*}\n",
    "$$\n",
    "\n",
    "If we we can make $|u_0-v_0|e^{-T}<\\epsilon$, then it follows that $|u(t)-v(t)|<\\epsilon$. We observe that $|u_0-v_0|e^{-T}<\\epsilon$ implies $|u_0-v_0| < \\epsilon e^T$. It is then clear that if we choose $\\delta = \\epsilon e^T$ and consider $v_0$ such that $|u_0-v_0|<\\delta$, then everything will work out. \n",
    "\n",
    "Note that $\\delta$ is a function of $\\epsilon$ and $T$ but is not dependent upon the choice of $u_0$. In general, we expect $\\delta$ to be a function of all three of these terms.\n",
    "\n",
    "\n",
    "***Proof:***\n",
    "\n",
    "\n",
    "**Step 1:** Let $u_0\\in\\mathbb{R}$, $T>0$, and $\\epsilon>0$. \n",
    "\n",
    "**Step 2:** Choose $\\delta = \\epsilon e^T>0$. \n",
    "\n",
    "**Step 3:** Let $v_0\\in\\mathbb{R}$ such that $|u_0-v_0|<\\delta$.\n",
    "\n",
    "**Step 4:** Let $t\\geq T$.\n",
    "\n",
    "**Step 5:** Then, \n",
    "$$\n",
    "    \\begin{align*}\n",
    "        |u(t)-v(t)| &= |u_0e^{-t} - v_0e^{-t}|\\\\ \\\\ \n",
    "                    &= |u_0 - v_0|e^{-t} \\\\ \\\\\n",
    "                    &\\leq |u_0 - v_0|e^{-T} \\ \\text{ (because $t\\geq T$ implies $e^{-t}\\leq e^{-T}$)} \\\\ \\\\\n",
    "                    &< \\delta e^{-T} \\\\ \\\\\n",
    "                    &= \\epsilon. \\ \\Box\n",
    "    \\end{align*}\n",
    "$$\n",
    "\n",
    "We demonstrate the elements of this proof in code below."
   ]
  },
  {
   "cell_type": "code",
   "execution_count": null,
   "id": "64ad7e27-e801-44bd-9e94-66ed4e053f2e",
   "metadata": {},
   "outputs": [],
   "source": [
    "# Define an IC\n",
    "u_0 = 1\n",
    "\n",
    "# Give a T and epsilon\n",
    "T = 1\n",
    "epsilon = 0.1\n",
    "\n",
    "# Choose the delta\n",
    "delta = epsilon * np.exp(T)\n",
    "\n",
    "# Choose $r\\in(0,1)$ such that $|u_0-v_0|=r\\delta < \\delta$.\n",
    "r = 0.99\n",
    "\n",
    "# Define the perturbed IC, $v_0 = u_0+\\epsilon$, call solution $v(t)$\n",
    "v_0 = u_0 + r*delta"
   ]
  },
  {
   "cell_type": "code",
   "execution_count": null,
   "id": "deae4c84-3abf-4cbc-bfc2-9efa8a34abb0",
   "metadata": {},
   "outputs": [],
   "source": [
    "%matplotlib widget\n",
    "\n",
    "t = np.linspace(0, 2, 50)\n",
    "\n",
    "plt.figure(4)\n",
    "# Plot the solutions using the original IC and its perturbed value\n",
    "plt.plot(t, simple_solution(t, u_0), 'b', label='IC: $u_0$')\n",
    "plt.plot(t, simple_solution(t, v_0), 'r:', label='IC: $v_0$')\n",
    "plt.legend(fontsize=12)\n",
    "\n",
    "plt.figure(5)\n",
    "# Plot the absolute value of the difference in solutions to observe stability.\n",
    "plt.plot(t, np.abs(simple_solution(t, u_0)-simple_solution(t, v_0)))\n",
    "plt.axhline(epsilon, ls=':', c='k', label=r'$\\epsilon$')\n",
    "plt.axvline(T, ls='-.', c='k', label=r'$T$')\n",
    "plt.title(r'$|u_0-v_0| = ${:.5f}$< \\delta =${:.5f} '.format(r*delta, delta) +\\\n",
    "          '\\n'+\\\n",
    "          r'$\\Rightarrow |u(t)-v(t)| < \\epsilon=${:.2f} $\\ \\forall t\\geq T=${:.2f}'.format(epsilon, T))\n",
    "plt.legend()"
   ]
  },
  {
   "cell_type": "markdown",
   "id": "68dcfd32-169a-42a9-a91f-7c5fb3032070",
   "metadata": {},
   "source": [
    "---\n",
    "### Section 1.4.2: Exploring generalizations of stability through activities\n",
    "---"
   ]
  },
  {
   "cell_type": "markdown",
   "id": "c48fc6ec-fa66-4d0e-acd3-0227c72e9227",
   "metadata": {},
   "source": [
    "---\n",
    "#### Student Activity\n",
    "---\n",
    "\n",
    "Consider the IVP:\n",
    "\n",
    "$$\n",
    "    \\begin{cases}\n",
    "        u'(t) &= -\\alpha u(t), \\ t>0 \\\\\n",
    "        u(0) &= u_0,\n",
    "    \\end{cases}\n",
    "$$\n",
    "\n",
    "for a given $\\alpha>0$.\n",
    "\n",
    "1. Prove that the IVP is stable with respect to perturbations in $u_0$. Generate plots that demonstrate this stability.\n",
    "\n",
    "*Hint: The `simple_solution` function from above needs to be generalized to account for an `alpha` parameter in the code.*"
   ]
  },
  {
   "cell_type": "code",
   "execution_count": null,
   "id": "bddc5032-d7d3-4e77-a0a8-1791b730e51a",
   "metadata": {},
   "outputs": [],
   "source": []
  },
  {
   "cell_type": "code",
   "execution_count": null,
   "id": "a1370c98-5e1e-4b6a-8b2a-b7762ed4535a",
   "metadata": {},
   "outputs": [],
   "source": []
  },
  {
   "cell_type": "markdown",
   "id": "1c55b098-d09c-4cd2-896c-71fa839a96fe",
   "metadata": {},
   "source": [
    "We define stability of the above IVP with respect to perturbations in parameter $\\alpha$ as follows:\n",
    "\n",
    "> For the above IVP with parameter $\\alpha$ and solution $u(t)$, we call the IVP stable with respect to perturbations in $\\alpha$ if for all $T, \\epsilon>0$ there exists an $\\delta>0$ such that $|\\alpha-\\beta|<\\delta$ implies $|u(t)-v(t)|<\\epsilon$ for all $t\\geq T$. Here, $v(t)$ denotes the solution to the IVP with parameter $\\beta$.\n",
    "\n",
    "2. Prove the IVP is stable with respect to perturbations for all parameters $\\alpha>0$. Separately prove that the IVP is not stable with respect to perturbations of parameters $\\alpha\\leq 0$. In other words, the set $\\mathcal{S}$ of parameter values for which the IVP is stable is $\\mathcal{S}=(0,\\infty)$. Generate plots that demonstrate the stability for $\\alpha>0$ and instability for $\\alpha\\leq 0$."
   ]
  },
  {
   "cell_type": "code",
   "execution_count": null,
   "id": "664d240c-202c-417c-8338-3301698b4b72",
   "metadata": {},
   "outputs": [],
   "source": []
  },
  {
   "cell_type": "code",
   "execution_count": null,
   "id": "01daf567-af13-4f42-b2f9-90772949fdff",
   "metadata": {},
   "outputs": [],
   "source": []
  },
  {
   "cell_type": "markdown",
   "id": "8d6214c4-2f49-4c20-b668-e7d374d5c9d7",
   "metadata": {},
   "source": [
    "We define stability of the above IVP with respect to *joint* perturbations in IC $u_0$ and parameter $\\alpha$ as follows:\n",
    "\n",
    "> For the above IVP with IC $u_0$, parameter $\\alpha$ and solution $u(t)$, we call the IVP stable with respect to perturbations in $(u_0, \\alpha)\\in\\mathbb{R}^2$ if for all $T, \\epsilon>0$ there exists an $\\delta>0$ such that $\\|(u_0,\\alpha)-(v_0,\\beta)\\|<\\delta$ implies $|u(t)-v(t)|<\\epsilon$ for all $t\\geq T$. Here, $v(t)$ denotes the solution to the IVP with IC $v_0$ and parameter $\\beta$ and $\\| \\cdot \\|$ denotes a norm on $\\mathbb{R}^2$. \n",
    "\n",
    "*Since all norms are equivalent on $\\mathbb{R}^2$, we are free to choose whichever we please. The $\\sup$-norm metric is by far the easiest one to work with in the proofs.*\n",
    "\n",
    "3. Prove stability with respect to joint perturbations in the IC and parameter on $\\mathcal{S}=\\mathbb{R}\\times (0,\\infty)\\subset\\mathbb{R}^2$. Generate plots that demonstrate the stability for certain choices of $(\\alpha, u_0)\\in\\mathbb{R}^2$ and instability for other choices."
   ]
  },
  {
   "cell_type": "code",
   "execution_count": null,
   "id": "6d3f5fb4-44ce-4198-974f-011de733dc3b",
   "metadata": {},
   "outputs": [],
   "source": []
  },
  {
   "cell_type": "code",
   "execution_count": null,
   "id": "29f9d832-ddd3-4310-9ec0-f76c7c6fb392",
   "metadata": {},
   "outputs": [],
   "source": []
  },
  {
   "cell_type": "markdown",
   "id": "fe7b0c15-8327-40a1-9805-c99e5ef6752e",
   "metadata": {},
   "source": [
    "---\n",
    "#### Student Activity\n",
    "---\n",
    "\n",
    "Consider the nonlinear IVP:\n",
    "\n",
    "$$\n",
    "    \\begin{cases}\n",
    "        u'(t) &= tu(t)(u(t)-2), \\\\\n",
    "        u(0) &= u_0.\n",
    "    \\end{cases}\n",
    "$$\n",
    "\n",
    "We use `sympy` to verify that\n",
    "<br><br>\n",
    "$$\n",
    "    u(t) = \\frac{2u_0}{u_0+(2-u_0)e^{t^2}}\n",
    "$$\n",
    "<br><br>\n",
    "solves this IVP for all $u_0$.\n",
    "\n"
   ]
  },
  {
   "cell_type": "code",
   "execution_count": null,
   "id": "5593f259-6e2c-4b0b-b610-71cf8779bc8c",
   "metadata": {},
   "outputs": [],
   "source": [
    "import sympy as sym"
   ]
  },
  {
   "cell_type": "code",
   "execution_count": null,
   "id": "49849b50-3749-4e7e-814a-1bf7bd3403fa",
   "metadata": {},
   "outputs": [],
   "source": [
    "t, u0 = sym.symbols('t, u_0')"
   ]
  },
  {
   "cell_type": "code",
   "execution_count": null,
   "id": "9ee73803-4835-456a-aa5a-f8e8082f5f5a",
   "metadata": {},
   "outputs": [],
   "source": [
    "u0  # Subscripts appear as expected"
   ]
  },
  {
   "cell_type": "code",
   "execution_count": null,
   "id": "56a89145-e4d6-49ee-bf66-be6479fda4a3",
   "metadata": {},
   "outputs": [],
   "source": [
    "u = 2*u0 / (u0 + (2-u0)*sym.exp(t**2))\n",
    "u"
   ]
  },
  {
   "cell_type": "markdown",
   "id": "02ddfc2d-d08d-4acf-bd3b-4c8fb50f4198",
   "metadata": {},
   "source": [
    "First, we verify the IC holds."
   ]
  },
  {
   "cell_type": "code",
   "execution_count": null,
   "id": "46edc4ab-6daf-43f8-a123-5c845f827055",
   "metadata": {},
   "outputs": [],
   "source": [
    "u.subs(t, 0)  # This should be $u_0$"
   ]
  },
  {
   "cell_type": "markdown",
   "id": "d1a7b862-4da5-42c8-99ab-0aca84435198",
   "metadata": {},
   "source": [
    "Next, we verify ODE is satisfies by computing the left- and right-hand sides of the ODE for the given $u(t)$ and checking to see if they are the same (which is equivalent to checking if their difference is zero)."
   ]
  },
  {
   "cell_type": "code",
   "execution_count": null,
   "id": "b890af00-c8fa-4173-a458-c52efef45b90",
   "metadata": {},
   "outputs": [],
   "source": [
    "lhs = u.diff(t, 1)  # left-hand side (lhs) of ODE\n",
    "lhs"
   ]
  },
  {
   "cell_type": "code",
   "execution_count": null,
   "id": "fc3e5cf4-8384-4459-9aee-b2f7cfef1d14",
   "metadata": {},
   "outputs": [],
   "source": [
    "rhs = t*u*(u-2)  # right-hand side (rhs) of ODE\n",
    "rhs"
   ]
  },
  {
   "cell_type": "code",
   "execution_count": null,
   "id": "226d0333-4ed2-49c7-b77a-8627b73b668a",
   "metadata": {},
   "outputs": [],
   "source": [
    "lhs - rhs"
   ]
  },
  {
   "cell_type": "code",
   "execution_count": null,
   "id": "2845a364-5cac-4752-bf01-119ec280afc5",
   "metadata": {},
   "outputs": [],
   "source": [
    "sym.simplify(lhs - rhs)"
   ]
  },
  {
   "cell_type": "markdown",
   "id": "5256b4dd-920d-4c02-858d-cdb363e2c305",
   "metadata": {},
   "source": [
    "1. Prove that if $0\\leq u_0\\leq 2$, then $0\\leq u(t)\\leq 2$ for all $t\\geq 0$. Generate plots to demonstrate this."
   ]
  },
  {
   "cell_type": "code",
   "execution_count": null,
   "id": "f1252cfa-b1a0-42e6-8a02-9b28df8b5e6c",
   "metadata": {},
   "outputs": [],
   "source": []
  },
  {
   "cell_type": "markdown",
   "id": "3f30abfc-48f8-46b5-afe7-7f95df3ab45b",
   "metadata": {},
   "source": [
    "2. Prove that if $u_0>2$, then $u(t)\\to \\infty$ as \n",
    "$$\n",
    "    t\\to \\left(\\ln\\left(\\frac{u_0}{u_0-2}\\right)\\right)^{1/2}. \n",
    "$$\n",
    "Generate plots that demonstrate this."
   ]
  },
  {
   "cell_type": "code",
   "execution_count": null,
   "id": "b0734c2f-175c-4944-a572-5fc666126537",
   "metadata": {},
   "outputs": [],
   "source": []
  },
  {
   "cell_type": "markdown",
   "id": "8eae23cd-fdfe-41c2-b746-9473d6074477",
   "metadata": {},
   "source": [
    "3. Use the closed-form solution of $u(t)$ given in 1. along with 2. and 3. to make conclusions about the stability properties of $u(t)$ with respect to perturbations in $u_0$ for $0\\leq u_0\\leq 2$ and for $u_0>2$. Generate plots to support your conclusions. "
   ]
  },
  {
   "cell_type": "code",
   "execution_count": null,
   "id": "c9f55eac-0379-4f03-b683-cd80d76ff3e1",
   "metadata": {},
   "outputs": [],
   "source": []
  },
  {
   "cell_type": "code",
   "execution_count": null,
   "id": "e884f814-7476-4ec9-ac7e-f6a95687c6d9",
   "metadata": {},
   "outputs": [],
   "source": []
  },
  {
   "cell_type": "markdown",
   "id": "6658426b-d9c6-4e60-b021-011910ded367",
   "metadata": {},
   "source": [
    "---\n",
    "### Section 1.4.3: Stability of Numerical Methods\n",
    "---\n",
    "\n",
    "[Numerical stability](https://en.wikipedia.org/wiki/Numerical_stability) is an important topic in numerical analysis. Questions of numerical stability are particularly relevant in the study of numerical estimation of solutions to differential equations.\n",
    "\n",
    "A [**stiff equation**](https://en.wikipedia.org/wiki/Stiff_equation) is somewhat of a \"catch-all\" term for any differential equation for which certain numerical methods become unstable unless the step size is controlled. \n",
    "\n",
    "The prototypical stiff equation for which we study stability is $u'(t) = \\alpha u$ subject to the initial condition $u(0)=1$ (compare this to the IVP considered in the first activity from above). The $\\alpha$ parameter is allowed to be complex-valued. We refer to this as the **test equation** in the stability analysis."
   ]
  },
  {
   "cell_type": "markdown",
   "id": "4228e295-2968-4e55-9629-046b6e6a04c0",
   "metadata": {},
   "source": [
    "---\n",
    "#### Three notions of stability for numerical solution to ODEs\n",
    "---\n",
    "\n",
    "We present the notions of stability quite generally where it is assumed that whatever numerical method we use is governed by a particular step size denoted by $\\Delta t>0$.\n",
    "\n",
    "1. **Zero Stability.** This just means that perturbations remain bounded in the limit as $\\Delta t\\to 0$. \n",
    "\n",
    "Thus, zero stability, at a conceptual level, is very much like the stability we have seen above in the context of exact solutions to an IVP. \n",
    "\n",
    "This is rather a weak form of stability. For instance, we can prove convergence of a zero-stable method but then easily come up with examples where the exact solution converges to zero while the numerical solution oscillates with increasing amplitudes. Below, we consider the test problem with negative $\\alpha$ and get bad numerical results unless we make the step size very small using the common Forward Euler method studied in the [previous notebook](Chp1Sec3.ipynb).\n",
    "\n",
    "2. **Absolute (or Unconditional) Stability.** This is also called **A-stability** for short. This means that applying the numerical method to the test problem with $\\operatorname{Re}(\\alpha)<0$ gives numerical solutions with the correct numerical behavior (i.e., the solutions should tend towards zero). The problem here is that we can have absolutely stable methods that damp rapidly decaying components only slightly, and small time steps might have to be used causing unnecessary computational burden.\n",
    "\n",
    "3. **L-Stability.** This is a method with *strong decay* for the test problem (with negative real-part of $\\alpha$), and we should be able to use larger time steps to get good results.\n",
    "\n",
    "***We will only examine (briefly) the zero and A-stability criteria in the context of the Forward Euler method.***"
   ]
  },
  {
   "cell_type": "markdown",
   "id": "6b0dcb81-042b-445b-b806-a477a897965e",
   "metadata": {},
   "source": [
    "---\n",
    "#### Unstable computations with the Forward Euler (FE) method - motivation for Absolute Stability:\n",
    "---\n",
    "\n",
    "The exact solutions to a simple problem can have extremely nice behavior, yet the numerical solution can be awful. The main problem is that the step size $\\Delta t$ may just be too large. Applying the FE method to the test problem, we can rewrite the numerical solution $v_m$ (using the notation from the previous notebook where $v_m\\approx u(t_m)=u(m\\Delta t)$) as\n",
    "\n",
    "$$\n",
    "    v_m = (1+\\alpha \\Delta t)^m.\n",
    "$$\n",
    "\n",
    "- If $\\alpha$ is real and $\\alpha<0$, then the exact solution decays to zero *exponentially*. \n",
    "\n",
    "- Ideally, we would like to take *large time steps* to approximate such a simple solution. Unfortunately, if $\\alpha = -10$ and $\\Delta t=1$, then $v_m = (-9)^m$ which blows up and oscillates (behaviors that are not present in the exact solution). \n",
    "\n",
    "- We need $|1+\\alpha \\Delta t|\\leq 1$ in order for the numerical solution to not blow up.\n",
    "\n",
    "  For real $\\alpha$, we are simply saying that this will hold for $\\alpha<0$ if and only if $\\Delta t$ is less than or equal to $1/|\\alpha|$. \n",
    "  \n",
    "We are focusing on solving IVPs for now. Sometimes an IVP is written as a system of ODEs. Linear real-valued systems of first-order ODEs have solutions written in terms of eigenvalues of the matrix used to describe the system. Eigenvalues can be complex. Thus, we replace $\\alpha\\Delta t$ with complex variable $z$, and we are looking for the $z$ values such that $|1+z|\\leq 1$. These are the values such that $-2\\leq z \\leq 0$, which is the disk of radius 1 centered at $(-1,0)$ in the complex plane. \n",
    "\n",
    "Given a particular complex valued $\\alpha$ with negative real-part, we need to choose $\\Delta t$ sufficiently small so that $z=\\alpha \\Delta t$ is in the disk to ensure that the numerical solution qualitatively behaves similarly to the exact solution (i.e., that the numerical solution decays as it should). We call the disk in the complex plain the **region of absolute stability** since absolute stability is simply referring to the fact that we asymptotically get the correct numerical solution."
   ]
  },
  {
   "cell_type": "code",
   "execution_count": null,
   "id": "07899c41-674b-45b8-beac-a0b3bea79455",
   "metadata": {},
   "outputs": [],
   "source": [
    "def forward_Euler(f, Delta_t, n, u_0):\n",
    "    # Assuming f is passed as a function of (t,u)\n",
    "    v = np.zeros(n)\n",
    "    v[0] = u_0\n",
    "    for i in range(1,n):\n",
    "        v[i] = v[i-1] + Delta_t * f(i*Delta_t, v[i-1])\n",
    "    return v"
   ]
  },
  {
   "cell_type": "code",
   "execution_count": null,
   "id": "ad7b587c-3073-45ac-b157-9505c6ba9d1c",
   "metadata": {},
   "outputs": [],
   "source": [
    "def plot_forward_Euler_test(t_f, Delta_t, alpha=-10, num=1):\n",
    "    plt.figure(num)\n",
    "    plt.clf()\n",
    "    \n",
    "    n = int(t_f/Delta_t)\n",
    "    t = np.linspace(0, t_f, n+1)\n",
    "    \n",
    "    f_alpha = lambda t, u: alpha * u\n",
    "\n",
    "    plt.plot(t, forward_Euler(f_alpha, t[1]-t[0], n+1, 1), \n",
    "             'r:', marker='s', label='Approx. soln')\n",
    "    \n",
    "    u_alpha = lambda t: np.exp(alpha*t)\n",
    "    \n",
    "    plt.plot(t, u_alpha(t), 'b', label='Exact soln')\n",
    "    \n",
    "    plt.title(r'$1+\\alpha\\Delta t$={:.2e}'.format(1+alpha*Delta_t) +\\\n",
    "              '\\nThis should be in $[-1,1]$ to not blow up,'+\\\n",
    "              '\\nand be in $[0,1]$ to not have oscillations.')\n",
    "    plt.legend()\n",
    "    plt.show()\n",
    "    plt.tight_layout()"
   ]
  },
  {
   "cell_type": "code",
   "execution_count": null,
   "id": "00c8eea9-2d4e-4ba4-852f-3c73cdc78668",
   "metadata": {},
   "outputs": [],
   "source": [
    "from ipywidgets import interact, interactive, fixed, interact_manual\n",
    "import ipywidgets as widgets"
   ]
  },
  {
   "cell_type": "code",
   "execution_count": null,
   "id": "c2c65b80-4662-49ee-9dc4-4735528a5582",
   "metadata": {},
   "outputs": [],
   "source": [
    "%reset -f out \n",
    "\n",
    "%matplotlib widget\n",
    "interact_manual(plot_forward_Euler_test, \n",
    "            t_f = fixed(1),\n",
    "            Delta_t = widgets.FloatText(value=0.2, step=0.01),\n",
    "            alpha = widgets.FloatText(value=-10, step=1),\n",
    "            num = fixed(20))"
   ]
  },
  {
   "cell_type": "markdown",
   "id": "a29f2f81-ade2-453e-aa3e-5c5dcabf284c",
   "metadata": {},
   "source": [
    "---\n",
    "## Navigation:\n",
    "\n",
    "- [Previous](https://github.com/CU-Denver-MathStats-OER/Intro-PDEs-Theory-and-Computations/blob/main/Chp1/Chp1Sec3.ipynb)\n",
    "\n",
    "- [Next](https://github.com/CU-Denver-MathStats-OER/Intro-PDEs-Theory-and-Computations/blob/main/Chp1/Chp1Sec5.ipynb)\n",
    "---"
   ]
  }
 ],
 "metadata": {
  "kernelspec": {
   "display_name": "Python 3",
   "language": "python",
   "name": "python3"
  },
  "language_info": {
   "codemirror_mode": {
    "name": "ipython",
    "version": 3
   },
   "file_extension": ".py",
   "mimetype": "text/x-python",
   "name": "python",
   "nbconvert_exporter": "python",
   "pygments_lexer": "ipython3",
   "version": "3.8.8"
  }
 },
 "nbformat": 4,
 "nbformat_minor": 5
}

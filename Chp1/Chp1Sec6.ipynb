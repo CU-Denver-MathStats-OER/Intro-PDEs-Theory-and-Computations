{
 "cells": [
  {
   "cell_type": "markdown",
   "id": "2850b396-05d9-4b4b-8fcb-1c4b6218b033",
   "metadata": {},
   "source": [
    "# Introduction to Partial Differential Equations\n",
    "---\n",
    "\n",
    "## Chapter 1: Preliminaries (Calculus, Linear Algebra, ODEs, and Python)\n",
    "---"
   ]
  },
  {
   "cell_type": "markdown",
   "id": "043bf213-b8b3-4a4d-860b-cc93da048428",
   "metadata": {},
   "source": [
    "## Want to use Colab? [![Open in Colab](https://colab.research.google.com/assets/colab-badge.svg)](https://githubtocolab.com/CU-Denver-MathStats-OER/Intro-PDEs-Theory-and-Computations/blob/main/Chp1/Chp1Sec6.ipynb)\n",
    "\n",
    "---"
   ]
  },
  {
   "cell_type": "markdown",
   "id": "be5b1fa3-e61d-4b33-99ca-71b2ddb6fc3f",
   "metadata": {},
   "source": [
    "## Prepping the environment for interactive plots in Colab\n",
    "---"
   ]
  },
  {
   "cell_type": "code",
   "execution_count": null,
   "id": "c4bc6a33-3d0b-46ed-834d-183b87835f23",
   "metadata": {},
   "outputs": [],
   "source": [
    "if 'google.colab' in str(get_ipython()):\n",
    "    print('Running on CoLab - installing missing packages')\n",
    "    !pip install ipympl\n",
    "    from IPython.display import clear_output\n",
    "    clear_output()\n",
    "    exit()\n",
    "else:\n",
    "    print('Not running on CoLab - assuming environment has necessary packages')"
   ]
  },
  {
   "cell_type": "code",
   "execution_count": null,
   "id": "46ca3793-207f-4847-8151-f365558625ff",
   "metadata": {},
   "outputs": [],
   "source": [
    "%matplotlib widget\n",
    "if 'google.colab' in str(get_ipython()):\n",
    "    from google.colab import output\n",
    "    output.enable_custom_widget_manager()"
   ]
  },
  {
   "cell_type": "markdown",
   "id": "692b556f-da92-485a-bcab-33b2d7078726",
   "metadata": {},
   "source": [
    "## Creative Commons License Information\n",
    "---\n",
    "\n",
    "<a rel=\"license\" href=\"http://creativecommons.org/licenses/by-nc/4.0/\"><img alt=\"Creative Commons License\" style=\"border-width:0\" src=\"https://i.creativecommons.org/l/by-nc/4.0/80x15.png\" /></a><br /><span xmlns:dct=\"http://purl.org/dc/terms/\" property=\"dct:title\">Introduction to Partial Differential Equations: Theory and Computations</span> by <a xmlns:cc=\"http://creativecommons.org/ns#\" href=\"https://github.com/CU-Denver-MathStats-OER/Intro-PDEs-Theory-and-Computations\" property=\"cc:attributionName\" rel=\"cc:attributionURL\">Troy Butler</a> is licensed under a <a rel=\"license\" href=\"http://creativecommons.org/licenses/by-nc/4.0/\">Creative Commons Attribution-NonCommercial 4.0 International License</a>.<br />Based on a work at <a xmlns:dct=\"http://purl.org/dc/terms/\" href=\"https://github.com/CU-Denver-MathStats-OER/Intro-PDEs-Theory-and-Computations\" rel=\"dct:source\">https://github.com/CU-Denver-MathStats-OER/Intro-PDEs-Theory-and-Computations</a>."
   ]
  },
  {
   "cell_type": "markdown",
   "id": "9a5faef0-3686-4e14-b8bd-38f4bdfa2ce2",
   "metadata": {},
   "source": [
    "## Section 1.6: Exercises\n",
    "---\n",
    "\n",
    "The exercises below are organized in terms of the notebooks that they are most closely associated with in terms of content. Since the material is cumulative in nature, an exercise that is most closely associated with, say Section 1.4, may also require the use of knowledge from Sections 1.1 through 1.3.\n",
    "\n",
    "**Suggested assignment structure.**\n",
    "\n",
    "- Chapter 1 assignment 1 (due end of Week 2): \n",
    "\n",
    "    - Exercises for everyone: 1.1.1, 1.1.2\n",
    "\n",
    "    - Exercises for grad students: 1.1.3\n",
    "\n",
    "- Chapter 1 assignment 2 (due end of Week 3):\n",
    "\n",
    "    - Exercises for everyone: 1.2.1\n",
    "\n",
    "    - Exercises for grad students: 1.2.2\n",
    "\n",
    "- Chapter 1 assignment 3 (due end of Week 4):\n",
    "\n",
    "    - Exercises for everyone: 1.3.1 and coding part of 1.4.1\n",
    "\n",
    "    - Exercises for grad students: proofs of 1.4.1"
   ]
  },
  {
   "cell_type": "code",
   "execution_count": null,
   "id": "7246be01-13c5-42da-9a01-d9daa2cb00a5",
   "metadata": {},
   "outputs": [],
   "source": [
    "# import libraries/useful content here"
   ]
  },
  {
   "cell_type": "markdown",
   "id": "935ce5f6-18b7-4da9-b2ef-f2865978a453",
   "metadata": {},
   "source": [
    "---\n",
    "### Exercises for Section 1.1\n",
    "---"
   ]
  },
  {
   "cell_type": "markdown",
   "id": "cec61537-9a9f-4ea4-b4a7-4eadc6456456",
   "metadata": {},
   "source": [
    "---\n",
    "#### Exercise 1.1.1\n",
    "---\n",
    "\n",
    "Use `sympy` to compute the \"standard\" Laplacians of \n",
    "\n",
    "$$\n",
    "    f(x,y,z) = xe^{\\alpha y}\\cos(2\\pi z) \\ \\text{ and } \\ g(x,y,z) = \\alpha x^3 + \\beta y^4 - \\gamma z^3.\n",
    "$$\n",
    "\n",
    "By standard, we mean with respect to the usual variables $x, y$, and $z$ defining the familiar $\\mathbb{R}^3$ space. Greek letters refer to some unspecified real-valued parameter that is assumed fixed. "
   ]
  },
  {
   "cell_type": "code",
   "execution_count": null,
   "id": "a3b4044c-90df-4d81-bb84-174b846dc8fb",
   "metadata": {},
   "outputs": [],
   "source": []
  },
  {
   "cell_type": "code",
   "execution_count": null,
   "id": "c88ae0df-ae63-454e-bd39-68cb0d92ddd5",
   "metadata": {},
   "outputs": [],
   "source": []
  },
  {
   "cell_type": "markdown",
   "id": "ae74515c-2b86-4b1c-999c-d258144d7cab",
   "metadata": {},
   "source": []
  },
  {
   "cell_type": "markdown",
   "id": "4eb487cb-4d8d-41e8-bda4-8a838ad72c2d",
   "metadata": {},
   "source": [
    "---\n",
    "#### Exercise 1.1.2\n",
    "---\n",
    "\n",
    "The following IVP is both linear and separable. \n",
    "\n",
    "$$\n",
    "    \\frac{du}{dx} = (1.5\\sqrt{x})u-1.5\\sqrt{x}, \\ u(0)=1.5.\n",
    "$$\n",
    "\n",
    "- Use `sympy` to help solve the problem in two different ways. \n",
    "\n",
    "- Verify your solution is correct via direct substitution.\n",
    "\n",
    "- For *2 points extra credit*: Explain how to solve this problem *by inspection* if $u(0)=1$. \n",
    "\n",
    "- For *5 points extra credit*: \n",
    "\n",
    "    - Summarize both the [Peano theorem](https://en.wikipedia.org/wiki/Peano_existence_theorem) and [Picard-Lindeloff theorem](https://en.wikipedia.org/wiki/Picard%E2%80%93Lindel%C3%B6f_theorem). \n",
    "    \n",
    "    - Explain why neither theorem applies to the above problem. (This should only be a sentence or two.) \n",
    "    \n",
    "    - Explain why the existence of a solution to this problem does not contradict either theorem. (This should only be a sentence or two.)"
   ]
  },
  {
   "cell_type": "code",
   "execution_count": null,
   "id": "41f079c7-f53b-4a7c-b751-028277a6277d",
   "metadata": {},
   "outputs": [],
   "source": []
  },
  {
   "cell_type": "code",
   "execution_count": null,
   "id": "31291776-eda0-4801-92c0-b445e8621203",
   "metadata": {},
   "outputs": [],
   "source": []
  },
  {
   "cell_type": "code",
   "execution_count": null,
   "id": "22960d0e-4458-4596-ac9e-38c0ae92eb5f",
   "metadata": {},
   "outputs": [],
   "source": []
  },
  {
   "cell_type": "markdown",
   "id": "8251ce0b-4f15-4a65-adc2-66cdd897b244",
   "metadata": {},
   "source": [
    "---\n",
    "#### Exercise 1.1.3\n",
    "---\n",
    "\n",
    "You are hosting a party and discover that your hot tub is unplugged at midnight. The temperature sensor in the water is reporting 30 degrees Celsius. After one hour of interrogating your guests to see who unplugged the hot tub to no avail, you re-check the temperature, and it is now at 25 degrees Celsius. Assume that the surrounding air temperature has remained constant at 20 degrees Celsius since the hot tub was unplugged. \n",
    "\n",
    "[Newton's law of cooling](https://en.wikipedia.org/wiki/Newton%27s_law_of_cooling) states $T'=-k(T-A)$ where $A$ is the ambient temperature and $k$ is a heat transfer coefficient.\n",
    "\n",
    "- In a Markdown cell below, state a generic IVP based on Newton's law of cooling with ambient temperature $A$, heat transfer coefficient $k$, and initial temperature $T_0$ at $t=0$.\n",
    "\n",
    "- Use `sympy` to solve this generic IVP and also verify your solution is correct via direct substitution.\n",
    "\n",
    "- Use your solution to the generic IVP along with the specific data described above to determine at what time your hot tub was unplugged assuming that the hot tub operates at 40 degrees Celsius."
   ]
  },
  {
   "cell_type": "markdown",
   "id": "855698f3-3ce0-44f0-ad36-a97e8962b0d6",
   "metadata": {},
   "source": []
  },
  {
   "cell_type": "code",
   "execution_count": null,
   "id": "9ff2f03f-b49c-4c17-bb23-c2cf7eb8fd13",
   "metadata": {},
   "outputs": [],
   "source": []
  },
  {
   "cell_type": "code",
   "execution_count": null,
   "id": "89cd1689-d037-47f6-8a77-87af8fbb3088",
   "metadata": {},
   "outputs": [],
   "source": []
  },
  {
   "cell_type": "code",
   "execution_count": null,
   "id": "999a8e0c-6bea-48c5-8b27-f698965a02cd",
   "metadata": {},
   "outputs": [],
   "source": []
  },
  {
   "cell_type": "markdown",
   "id": "fffb76e6-30aa-4a24-90b7-8bd7e53f5939",
   "metadata": {},
   "source": [
    "---\n",
    "#### Exercise 1.1.4\n",
    "---\n",
    "\n",
    "Gregor Clegane (a.k.a. The Mountain) hurls a grand piano directly over his head with an initial velocity, $v_0$, of 20 m/s. Suppose the grand piano has a mass, $m$, of 800 kg, and air resistance is proportional to velocity (with a constant of proportionality $k$), then\n",
    "$$ \n",
    "m\\frac{dv}{dt} = -kv - mg, \\ v(0)=v_0\n",
    "$$\n",
    "defines the IVP for the velocity of the grand piano (where $g=10$ m/s$^2$ is the gravitational acceleration we use to make our computations easier).\n",
    "\n",
    "- Use `sympy` to solve for $v(t)$ (note that $k$ is an unknown constant, so it should simply remain as $k$ in the solution).\n",
    "\n",
    "- The **terminal velocity** is defined by $v_{\\tau}=\\lim_{t\\to\\infty} v(t)$ and should be a finite real number (i.e., when accounting for air resistance the speed of a falling body does not increase indefinitely). Assume the terminal velocity is $-40$ m/s. Use `sympy` to find $k$.\n",
    "\n",
    "- Let $y(0)=2$ m denote Gregor's height (i.e., the height at which the grand piano is initially hurled vertically upward). Use `sympy` to and the fact that $y'=v$ to determine $y(t)$."
   ]
  },
  {
   "cell_type": "code",
   "execution_count": null,
   "id": "d7804d39-3b98-484b-b53a-cd3cd0cfce23",
   "metadata": {},
   "outputs": [],
   "source": []
  },
  {
   "cell_type": "code",
   "execution_count": null,
   "id": "fe955104-a5ef-446a-b637-6d78fac82b81",
   "metadata": {},
   "outputs": [],
   "source": []
  },
  {
   "cell_type": "code",
   "execution_count": null,
   "id": "ae469c5a-cb41-43da-bbd4-918edbaaf266",
   "metadata": {},
   "outputs": [],
   "source": []
  },
  {
   "cell_type": "markdown",
   "id": "7e159e08-f69b-409c-946a-25daa9c56e43",
   "metadata": {
    "tags": []
   },
   "source": [
    "---\n",
    "### Exercises for Section 1.2\n",
    "---"
   ]
  },
  {
   "cell_type": "markdown",
   "id": "7e3db981-b261-4525-b9c1-aa81ed2ff3c7",
   "metadata": {},
   "source": [
    "---\n",
    "#### Exercise 1.2.1\n",
    "---\n",
    "\n",
    "1. Numerically demonstrate that $\\displaystyle \\sum_{k=0}^n \\dfrac{(-1)^k}{(2k+1)!}x^{2k+1} \\to \\sin x$ as $n\\to\\infty$ for any $x\\in\\mathbb{R}$ by showing that $\\displaystyle \\left|\\left(\\sum_{k=0}^n \\dfrac{(-1)^k}{(2k+1)!}x^{2k+1}\\right) - \\sin x\\right|$ appears to converge to $0$ for any fixed $x\\in\\mathbb{R}$ as $n$ increases. \n",
    "\n",
    "\n",
    "2. Numerically estimate the ROC for $x=0, 2$, and $\\pi$. Comment on the results in a Markdown cell."
   ]
  },
  {
   "cell_type": "code",
   "execution_count": null,
   "id": "3ecbbf34-1227-4bbb-bd42-4e18d371a7ee",
   "metadata": {},
   "outputs": [],
   "source": []
  },
  {
   "cell_type": "code",
   "execution_count": null,
   "id": "80f37da5-4e17-4d3b-8a74-dd3112998ea6",
   "metadata": {},
   "outputs": [],
   "source": []
  },
  {
   "cell_type": "code",
   "execution_count": null,
   "id": "913217b7-61a1-4609-ba2b-a3e9bf22f803",
   "metadata": {},
   "outputs": [],
   "source": []
  },
  {
   "cell_type": "code",
   "execution_count": null,
   "id": "3324ec55-93e0-444e-ae6b-4b08265eade7",
   "metadata": {},
   "outputs": [],
   "source": []
  },
  {
   "cell_type": "markdown",
   "id": "627a0a90-88bd-4fbf-824e-8d42bd21abf7",
   "metadata": {},
   "source": []
  },
  {
   "cell_type": "markdown",
   "id": "cd7b49f9-ad78-45b2-aba4-4b0b8b2649c5",
   "metadata": {},
   "source": [
    "---\n",
    "#### Exercise 1.2.2\n",
    "---\n",
    "\n",
    "1. Prove that $x_n = \\dfrac{2n -1}{3n+6}\\to \\dfrac{2}{3}$.\n",
    "\n",
    "2. Numerically estimate the ROC of this sequence. Explain what step in your proof for Part 1 illustrates what we expect to see for this ROC."
   ]
  },
  {
   "cell_type": "code",
   "execution_count": null,
   "id": "a7dd35be-47d3-4994-ac82-2ef34e4afe96",
   "metadata": {},
   "outputs": [],
   "source": []
  },
  {
   "cell_type": "code",
   "execution_count": null,
   "id": "96921cae-9013-4783-a12d-589845ac39a4",
   "metadata": {},
   "outputs": [],
   "source": []
  },
  {
   "cell_type": "code",
   "execution_count": null,
   "id": "5e00d17e-5a78-465f-a573-ca91253b8044",
   "metadata": {},
   "outputs": [],
   "source": []
  },
  {
   "cell_type": "markdown",
   "id": "b37c7588-9784-4e33-83f0-a36742ceedaf",
   "metadata": {},
   "source": [
    "---\n",
    "### Exercises for Section 1.3\n",
    "---"
   ]
  },
  {
   "cell_type": "markdown",
   "id": "2149ac6e-2106-47ba-acfe-c05f53a331b6",
   "metadata": {},
   "source": [
    "---\n",
    "#### Exercise 1.3.1\n",
    "---\n",
    "\n",
    "This exercise illustrates that there is more to life than forward Euler. \n",
    "While numerical methods for ODEs is a vast subject, we focus on a subset of methods applied in that field within this course.\n",
    "This exercise presents them in a simple framework.\n",
    "\n",
    "We derive methods for the general IVP of the form\n",
    "\n",
    "$$\n",
    "    \\begin{cases}\n",
    "        u'(t) &= f(t, u(t)), \\ t>t_0 \\\\\n",
    "        u(t_0) &= u_0,\n",
    "    \\end{cases}\n",
    "$$\n",
    "\n",
    "while also considering the specific numerical solutions obtained by these methods applied to the the simple problem\n",
    "\n",
    "$$ u{'}(t) = −u(t),\\quad u(0) = 1, $$\n",
    "\n",
    "which we know has the analytical solution $u(t) = e^{−t}$. \n",
    "\n",
    "Recall that the forward Euler method is givne by \n",
    "\n",
    "$$\n",
    "    v_{m+1} = v_m + \\Delta t f(t_m, v_m).\n",
    "$$\n",
    "\n",
    "and that the specific numerical solution computed by the forward Euler for the simple problem is given by\n",
    "<br><br>\n",
    "$$ v_m = (1 − \\Delta t)^m, \\quad m= 0, 1, . . . $$\n",
    "<br><br>\n",
    "and that $v_M$ for $M=1/\\Delta t$ (assuming $\\Delta t$ always divides into 1) converges to $u(1)=e^{-1}$ as $\\Delta t\\downarrow 0$."
   ]
  },
  {
   "cell_type": "markdown",
   "id": "8d50aff6-7e04-497c-8e00-60b831468416",
   "metadata": {},
   "source": [
    "1. Use a Taylor series to justify the backward time difference approximation\n",
    "<br><br>\n",
    "$$\n",
    "    \\frac{u(t_{m+1})-u(t_m)}{\\Delta t} \\approx u'(t_{m+1}) = f(t_{m+1}, u(t_{m+1})).\n",
    "$$\n",
    "<br><br>\n",
    "Then, use this to derive the Backward Euler (BE) method (which is just a re-arrangement of the above with $v_m\\approx u(t_m)$ denoting the numerical approximation of $u$ at time $t_m$) and show that for the simple problem\n",
    "<br><br>\n",
    "$$\n",
    "    v_M = \\frac{1}{(1+\\Delta t)^M} \\to u(1)=e^{-1} \\ \\text{ as } \\Delta t \\downarrow 0.\n",
    "$$\n",
    "<br><br>\n",
    "Here, for the sake of simplicity, we assume $t_f=1$ is a multiple of $\\Delta_t$, i.e., $t_f=M\\Delta t$ for some $M\\in\\mathbb{N}$."
   ]
  },
  {
   "cell_type": "markdown",
   "id": "698afe0b-ab39-4930-8dca-4efd76aa03d3",
   "metadata": {},
   "source": [
    "<mark>**Put solution to Part 1 in this Markdown cell.**</mark>"
   ]
  },
  {
   "cell_type": "markdown",
   "id": "c104fadc-086a-400f-807b-8d2a054ecb67",
   "metadata": {},
   "source": [
    "2.  Use two different Taylor series to justify the following difference approximation\n",
    "<br><br>\n",
    "$$ \n",
    "\\frac{u(t_{m+1}) − u(t_m)}{\\Delta t} \\approx \\frac{1}{2}\\left(f(t_{m+1}, u(t_{m+1})) + f(t_m, u(t_m))\\right) \n",
    "$$\n",
    "<br><br>\n",
    "and use this to derive the half-method\n",
    "<br><br>\n",
    "$$ \n",
    "v_{m+1} − \\frac{1}{2}\\Delta tf(t_{m+1}, v_{m+1}) = v_m + \\frac{1}{2}\\Delta tf(t_m, v_m),\\quad m= 0, 1,\\ldots \n",
    "$$\n",
    "<br><br>\n",
    "and show that for the simple problem that\n",
    "<br><br>\n",
    "$$ \n",
    "v_M = \\left( \\frac{2 - \\Delta t}{2 + \\Delta t} \\right)^M. \n",
    "$$"
   ]
  },
  {
   "cell_type": "markdown",
   "id": "6fa81d4a-5750-4fc5-9410-76f1c5d1053f",
   "metadata": {},
   "source": [
    "<mark>**Put solution to Part 2 in this Markdown cell.**</mark>"
   ]
  },
  {
   "cell_type": "markdown",
   "id": "dc8ce189-1065-4c78-bf91-3a1f6c527954",
   "metadata": {},
   "source": [
    "3. Code up the three general methods (forward Euler, backward Euler, and half-method) as functions `FE_method` (you can use the code found in [Section 1.3](Chp1Sec3.ipynb), `BE_method` (motivated and given below), and `half_method` (this is really what you need to do on your own using the perspective outlined below for re-arranging it as a root-problem) and demonstrate that they work on both the simple problem and the nonlinear problem given by $u'(t)=-u^2(t)$ with $u(0)=1$ up to $t=1$."
   ]
  },
  {
   "cell_type": "markdown",
   "id": "94ed90e8-84ad-4867-883e-89d58251d0ff",
   "metadata": {},
   "source": [
    "**Comments/motivation on the Backward Euler Method.**\n",
    "\n",
    "In general, the ODE is $u'=f(t,u)$, and the backward Euler method is based upon the following approximation, \n",
    "\n",
    "$$\n",
    "    \\frac{u(t_{m+1})-u(t_m)}{\\Delta t} \\approx u'(t_{m+1}) = f(t_{m+1}, u(t_{m+1})).\n",
    "$$\n",
    "\n",
    "By letting $v_m$ denote the numerical approximation to $u(t_m)$, we have that the backward Euler method is to solve\n",
    "\n",
    "$$\n",
    "    \\frac{v_{m+1}-v_m}{\\Delta t} = f(t_{m+1}, v_{m+1}).\n",
    "$$\n",
    "\n",
    "By re-arranging terms, we have that\n",
    "\n",
    "$$\n",
    "    \\Delta tf(t_{m+1}, v_{m+1}) - \\left(v_{m+1}-v_m\\right) =0.\n",
    "$$\n",
    "\n",
    "In other words, we can view the backward Euler method being applied at time $t_{m+1}$ as equivalent to a root-problem where we seek the root to the function defined by \n",
    "\n",
    "$$\n",
    "    R_m(x) := \\Delta tf(t_{m+1}, x) - \\left(x-v_m\\right),\n",
    "$$\n",
    "\n",
    "where we may refer to $R(x)$ as the residual of the backward Euler method and its associated root is the sought after $v_{m+1}$ value. \n",
    "\n",
    "If $f(t, u)=-u$, as in the simple problem, then we can solve this root problem easily by applying algebra (as you were asked to do above). However, when $f$ is more complicated (e.g., nonlinear), then\n",
    "\n",
    "$$\n",
    "    \\Delta t f(t_{m+1}, v_{m+1}) - \\left(v_{m+1}-v_m\\right) =0\n",
    "$$\n",
    "\n",
    "requires us to do some more work. If $f(t,u)=-u^2$, then we can use the quadratic formula because the root-problem is nothing more than a root-problem for a quadratic polynomial. In general, we are unlikely to have a simple and well-known formula handy for describing the root to the problem. \n",
    "\n",
    "In the code below, we use the [fsolve](https://docs.scipy.org/doc/scipy/reference/generated/scipy.optimize.fsolve.html) function within `scipy.optimize` to do the root-finding for us!\n",
    "\n",
    "You should manipulate the half-method to make it look like a root-problem as was done above and code up the approach in a similar way as is done below for the `BE_method` function."
   ]
  },
  {
   "cell_type": "code",
   "execution_count": null,
   "id": "3ef67325-3b30-45a0-89f4-b2ace3b6375c",
   "metadata": {},
   "outputs": [],
   "source": [
    "import numpy as np\n",
    "import matplotlib.pyplot as plt\n",
    "\n",
    "from ipywidgets import interact, interactive, fixed, interact_manual\n",
    "import ipywidgets as widgets"
   ]
  },
  {
   "cell_type": "code",
   "execution_count": null,
   "id": "873e30f4-6c12-463b-8fd1-7e0864d4535c",
   "metadata": {},
   "outputs": [],
   "source": [
    "from scipy.optimize import fsolve"
   ]
  },
  {
   "cell_type": "code",
   "execution_count": null,
   "id": "0412aec1-eebf-472e-9efc-97fa9c133185",
   "metadata": {},
   "outputs": [],
   "source": [
    "def BE_method(f, Delta_t, n, u_0):\n",
    "    v = np.zeros(n)\n",
    "    v[0] = u_0\n",
    "    BE_residual = lambda v_new, v_old, Delta_t, i: Delta_t*f(i*Delta_t, v_new) - (v_new-v_old)\n",
    "    for i in range(1, n):\n",
    "        v[i] = fsolve(BE_residual, v[i-1], args=(v[i-1], Delta_t, i))\n",
    "    return v"
   ]
  },
  {
   "cell_type": "code",
   "execution_count": null,
   "id": "2ab2835a-f61e-48b4-a9c2-4024f1399b15",
   "metadata": {},
   "outputs": [],
   "source": [
    "# A \"trivial\" example for u'=-u, so f(t,u)=-u\n",
    "f = lambda t, u: -u  \n",
    "\n",
    "u_0 = 1\n",
    "\n",
    "u = lambda t: u_0*np.exp(-t)"
   ]
  },
  {
   "cell_type": "code",
   "execution_count": null,
   "id": "58dd371f-4094-43b5-a757-efcd2dcfe6bc",
   "metadata": {},
   "outputs": [],
   "source": [
    "def plot_backward_Euler(f, u, t_f, Delta_t, num=1):\n",
    "    # Assuming f is a function of (u,t) and u is a function of t\n",
    "    \n",
    "    plt.figure(num)\n",
    "    plt.clf()\n",
    "    \n",
    "    n = int(t_f/Delta_t)\n",
    "    t = np.linspace(0, t_f, n+1)\n",
    "    \n",
    "    plt.plot(t, BE_method(f, t[1]-t[0], n+1, u(0)), 'r:', \n",
    "             marker='s', label='Approx. soln')\n",
    "    \n",
    "    plt.plot(t, u(t), 'b', label='Exact soln')\n",
    "    \n",
    "    plt.legend()\n",
    "    plt.show()"
   ]
  },
  {
   "cell_type": "code",
   "execution_count": null,
   "id": "66877717-9bff-4492-b366-1cf7ccee2bc1",
   "metadata": {},
   "outputs": [],
   "source": [
    "%reset -f out \n",
    "\n",
    "%matplotlib widget\n",
    "interact_manual(plot_backward_Euler, \n",
    "            f = fixed(f),\n",
    "            u = fixed(u),\n",
    "            t_f = fixed(1),\n",
    "            Delta_t = widgets.FloatText(value=0.1),\n",
    "            num = fixed(1))"
   ]
  },
  {
   "cell_type": "code",
   "execution_count": null,
   "id": "9978b074-df21-4ff6-8aa3-285a87e1080c",
   "metadata": {},
   "outputs": [],
   "source": []
  },
  {
   "cell_type": "code",
   "execution_count": null,
   "id": "15e77d52-9267-4f45-900a-a10cc90939a7",
   "metadata": {},
   "outputs": [],
   "source": []
  },
  {
   "cell_type": "code",
   "execution_count": null,
   "id": "94c49bc6-06b2-4eb7-a34e-ca07158ca044",
   "metadata": {},
   "outputs": [],
   "source": []
  },
  {
   "cell_type": "code",
   "execution_count": null,
   "id": "5b33b175-ee46-43a4-99be-9ced06ad518f",
   "metadata": {},
   "outputs": [],
   "source": []
  },
  {
   "cell_type": "markdown",
   "id": "730e91a9-1343-44f8-89de-488909cb6fbe",
   "metadata": {},
   "source": [
    "4. Numerically investigate the ROC for all methods on both the simple problem and also the nonlinear problem  $u'(t)=-u^2(t)$ with $u(0)=1$ at $t_f=1$. "
   ]
  },
  {
   "cell_type": "code",
   "execution_count": null,
   "id": "8d48087d-89ed-4faf-8e81-faccd0b1c553",
   "metadata": {},
   "outputs": [],
   "source": []
  },
  {
   "cell_type": "code",
   "execution_count": null,
   "id": "1ef4d1a1-609c-4a9f-8beb-670e5c6952ed",
   "metadata": {},
   "outputs": [],
   "source": []
  },
  {
   "cell_type": "code",
   "execution_count": null,
   "id": "caf2b450-2e92-439e-be9b-94b5c6f811b7",
   "metadata": {},
   "outputs": [],
   "source": []
  },
  {
   "cell_type": "code",
   "execution_count": null,
   "id": "a052cd1c-f3b5-4963-a3a4-46820be276dc",
   "metadata": {},
   "outputs": [],
   "source": []
  },
  {
   "cell_type": "code",
   "execution_count": null,
   "id": "3e8d3ea2-c825-44e9-b01f-90e7c3c1d449",
   "metadata": {},
   "outputs": [],
   "source": []
  },
  {
   "cell_type": "markdown",
   "id": "15ec75be-a23d-45e0-a325-e6b57ef0c9a5",
   "metadata": {},
   "source": [
    "---\n",
    "### Exercises for Section 1.4\n",
    "---"
   ]
  },
  {
   "cell_type": "markdown",
   "id": "e12eaeb6-0da4-4405-9f13-15c4363b7d27",
   "metadata": {},
   "source": [
    "---\n",
    "#### Exercise 1.4.1\n",
    "---\n",
    "\n",
    "Recall from Exercise 1.1.3 that [Newton's law of cooling](https://en.wikipedia.org/wiki/Newton%27s_law_of_cooling) states $T'=-k(T-A)$ where $A$ is the ambient temperature and $k$ is the heat transfer coefficient.\n",
    "\n",
    "- Prove that $T(t)$ is stable with respect to perturbations in the IC, $T(0)=T_0$.\n",
    "\n",
    "- Prove that $T(t)$ is stable with respect to perturbations in parameter $k$.\n",
    "\n",
    "- Prove that $T(t)$ is stable with respect to perturbations in parameter $A$.\n",
    "\n",
    "- Prove that $T(t)$ is stable with respect to joint perturbations in the IC and parameters $k$ and $A$.\n",
    "\n",
    "- Use an interactive widget along with a plotting function that illustrates the stability of $T(t)$ with respect to joint perturbations in the IC and parameters $k$ and $A$."
   ]
  },
  {
   "cell_type": "markdown",
   "id": "1b93d331-9612-495a-a49b-362264855f30",
   "metadata": {
    "tags": []
   },
   "source": []
  },
  {
   "cell_type": "markdown",
   "id": "ba831854-b877-4bdf-a50e-42741eb066da",
   "metadata": {},
   "source": []
  },
  {
   "cell_type": "markdown",
   "id": "0f03a5cc-fc07-4eb6-8353-b21d6d03d74e",
   "metadata": {},
   "source": []
  },
  {
   "cell_type": "markdown",
   "id": "03095539-ac91-4466-a352-a23cdd34cc30",
   "metadata": {},
   "source": []
  },
  {
   "cell_type": "code",
   "execution_count": null,
   "id": "b505edb8-e1fe-4757-acba-80e7b5da184e",
   "metadata": {},
   "outputs": [],
   "source": []
  },
  {
   "cell_type": "code",
   "execution_count": null,
   "id": "92a48df9-be16-4ee0-af69-0f4b390bdaee",
   "metadata": {},
   "outputs": [],
   "source": []
  },
  {
   "cell_type": "code",
   "execution_count": null,
   "id": "4c46ea94-765e-4b74-809d-36d47b827e2b",
   "metadata": {},
   "outputs": [],
   "source": []
  },
  {
   "cell_type": "markdown",
   "id": "63a76acd-9300-4220-900a-9e9c81f2576b",
   "metadata": {},
   "source": [
    "---\n",
    "### Exercises for Section 1.5\n",
    "---"
   ]
  },
  {
   "cell_type": "markdown",
   "id": "319213a9-66d5-4a2c-b296-f747b593e916",
   "metadata": {},
   "source": [
    "A system of equations is given with an unknown constant $c$.\n",
    "\n",
    "$$\n",
    "    \\begin{array}{rcr}\n",
    "        3x_1 + 2x_2 - x_3 &=& 4 \\\\\n",
    "        x_1 + 2x_2 + x_3 &=& 4 \\\\\n",
    "        -2x_1  + 2x_3 &=& c\n",
    "    \\end{array}\n",
    "$$\n",
    "\n",
    "- Use `sympy` to form the associated [augmented matrix](https://en.wikipedia.org/wiki/Augmented_matrix). In other words, rewrite the system of equations as $Ax=b$ and form the matrix $[A | b]$.\n",
    "\n",
    "- Use `sympy` to obtain the row-echelon form of the augmented matrix. \n",
    "\n",
    "- Under what conditions of $c$ is the system [inconsistent](https://en.wikipedia.org/wiki/System_of_linear_equations#Consistency) (meaning no solutions exist)? \n",
    "\n",
    "- Under what conditions of $c$ is the system only degenerate (meaning non-unique solutions exist)?\n",
    "\n",
    "- In the case where the system is only degenerate, what are the solutions? Verify your answer using `sympy`.\n",
    "\n",
    "- Use an interactive widget along with a user-defined function to explore the eigenvalues of the matrix $A$ from above as a function of $c$.\n"
   ]
  },
  {
   "cell_type": "code",
   "execution_count": null,
   "id": "c110cf32-3773-4923-b5d4-f75337da23e1",
   "metadata": {},
   "outputs": [],
   "source": []
  },
  {
   "cell_type": "code",
   "execution_count": null,
   "id": "218b449b-644a-43a5-b935-e8abf83fe0c4",
   "metadata": {},
   "outputs": [],
   "source": []
  },
  {
   "cell_type": "code",
   "execution_count": null,
   "id": "14a3b78c-9e83-4808-9d0e-22ec170209f4",
   "metadata": {},
   "outputs": [],
   "source": []
  },
  {
   "cell_type": "markdown",
   "id": "77565d5a-9ba9-4d3a-a9d9-f2c1ce572e65",
   "metadata": {
    "jp-MarkdownHeadingCollapsed": true,
    "tags": []
   },
   "source": [
    "---\n",
    "## Navigation:\n",
    "\n",
    "- [Previous](https://github.com/CU-Denver-MathStats-OER/Intro-PDEs-Theory-and-Computations/blob/main/Chp1/Chp1Sec5.ipynb)\n",
    "\n",
    "- [Next](https://github.com/CU-Denver-MathStats-OER/Intro-PDEs-Theory-and-Computations/blob/main/Chp2/Chp2Sec0.ipynb)\n",
    "---"
   ]
  }
 ],
 "metadata": {
  "kernelspec": {
   "display_name": "Python 3 (ipykernel)",
   "language": "python",
   "name": "python3"
  },
  "language_info": {
   "codemirror_mode": {
    "name": "ipython",
    "version": 3
   },
   "file_extension": ".py",
   "mimetype": "text/x-python",
   "name": "python",
   "nbconvert_exporter": "python",
   "pygments_lexer": "ipython3",
   "version": "3.9.13"
  }
 },
 "nbformat": 4,
 "nbformat_minor": 5
}
